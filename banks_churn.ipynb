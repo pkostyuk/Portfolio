{
 "cells": [
  {
   "cell_type": "markdown",
   "metadata": {},
   "source": [
    "# Анализ оттока клиентов банка \"Метанпромбанк\""
   ]
  },
  {
   "cell_type": "markdown",
   "metadata": {},
   "source": [
    "<p>Датасет содержит данные о клиентах банка «Метанпром». Банк располагает филиалами в\n",
    "Ярославле и двух областных городах: Ростов Великий и Рыбинск. Заказчиком данного исследования является отдел маркетинга банка.\n",
    "\n",
    "<p><b>Цель исследования</b> - проанализировать клиентов регионального банка и выделить сегменты, которые склонны уходить из банка.\n",
    "\n",
    "<p><b>Задачи</b>\n",
    "    <ol>\n",
    "        <li>Провести исследовательский анализ данных, определите все значимые признаки отточности (интервалы значений характеристик, которые связаны с повышенным оттоком, сравнить портреты типичных клиентов, которые склонны и не склонны уходить из банка и т.п)\n",
    "        <li>Сформулировать и проверить статистические гипотезы. Проверьте гипотезу различия дохода между теми клиентами, которые ушли и теми, которые остались. Сформулировать и проверить статистическую гипотезу относительно представленных данных, которая поможет внести ясность в исследование\n",
    "        <li>Cформировать сегменты, отобрать из них наиболее \"отточные\"\n",
    "        <li>Сформулировать общие выводы и рекомендации\n",
    "    </ol>            \n",
    "<p><b>Декомпозиция</b>\n",
    "<ol>\n",
    "    <li>Загрузка и знакомство с данными:\n",
    "        <ul>\n",
    "            <li>Импорт библиотек;\n",
    "            <li>Загрузка датасета;\n",
    "            <li>Вывод описательной статистики.        \n",
    "        </ul>\n",
    "    <li>Предобработка для дальнейшего анализа:\n",
    "        <ul>\n",
    "            <li>Проверка заголовков;\n",
    "            <li>Изменение типов данных (при необходимости);\n",
    "            <li>Поиск и обработка дубликатов;\n",
    "            <li>Работа с пропусками.\n",
    "        </ul>\n",
    "    <li>Исследовательский анализ (EDA):\n",
    "        <ul>\n",
    "            <li>Построение графиков для обнаружения выбросов в данных;\n",
    "            <li>Визуализация распределения основных признаков по оттоку;\n",
    "            <li>Определение признаков наиболее влияющих на отток;\n",
    "            <li>Сегментация клиентов на основе полученных закономерностей.\n",
    "        </ul>\n",
    "    <li>Формулировка и проверка гипотез.\n",
    "    <li>Общие выводы и рекомендации.    \n",
    "</ol>"
   ]
  },
  {
   "cell_type": "markdown",
   "metadata": {},
   "source": [
    "## Загрузка и знакомство с данными"
   ]
  },
  {
   "cell_type": "code",
   "execution_count": 1,
   "metadata": {},
   "outputs": [],
   "source": [
    "import pandas as pd\n",
    "import numpy as np\n",
    "\n",
    "import seaborn as sns\n",
    "import matplotlib.pyplot as plt\n",
    "\n",
    "from scipy import stats as st"
   ]
  },
  {
   "cell_type": "code",
   "execution_count": 2,
   "metadata": {},
   "outputs": [
    {
     "data": {
      "text/html": [
       "<div>\n",
       "<style scoped>\n",
       "    .dataframe tbody tr th:only-of-type {\n",
       "        vertical-align: middle;\n",
       "    }\n",
       "\n",
       "    .dataframe tbody tr th {\n",
       "        vertical-align: top;\n",
       "    }\n",
       "\n",
       "    .dataframe thead th {\n",
       "        text-align: right;\n",
       "    }\n",
       "</style>\n",
       "<table border=\"1\" class=\"dataframe\">\n",
       "  <thead>\n",
       "    <tr style=\"text-align: right;\">\n",
       "      <th></th>\n",
       "      <th>USERID</th>\n",
       "      <th>score</th>\n",
       "      <th>city</th>\n",
       "      <th>gender</th>\n",
       "      <th>age</th>\n",
       "      <th>equity</th>\n",
       "      <th>balance</th>\n",
       "      <th>products</th>\n",
       "      <th>credit_card</th>\n",
       "      <th>last_activity</th>\n",
       "      <th>EST_SALARY</th>\n",
       "      <th>churn</th>\n",
       "    </tr>\n",
       "  </thead>\n",
       "  <tbody>\n",
       "    <tr>\n",
       "      <th>0</th>\n",
       "      <td>183012</td>\n",
       "      <td>850.0</td>\n",
       "      <td>Рыбинск</td>\n",
       "      <td>Ж</td>\n",
       "      <td>25.0</td>\n",
       "      <td>1</td>\n",
       "      <td>59214.82</td>\n",
       "      <td>2</td>\n",
       "      <td>0</td>\n",
       "      <td>1</td>\n",
       "      <td>75719.14</td>\n",
       "      <td>1</td>\n",
       "    </tr>\n",
       "    <tr>\n",
       "      <th>1</th>\n",
       "      <td>146556</td>\n",
       "      <td>861.0</td>\n",
       "      <td>Рыбинск</td>\n",
       "      <td>Ж</td>\n",
       "      <td>37.0</td>\n",
       "      <td>5</td>\n",
       "      <td>850594.33</td>\n",
       "      <td>3</td>\n",
       "      <td>1</td>\n",
       "      <td>0</td>\n",
       "      <td>86621.77</td>\n",
       "      <td>0</td>\n",
       "    </tr>\n",
       "    <tr>\n",
       "      <th>2</th>\n",
       "      <td>120722</td>\n",
       "      <td>892.0</td>\n",
       "      <td>Рыбинск</td>\n",
       "      <td>Ж</td>\n",
       "      <td>30.0</td>\n",
       "      <td>0</td>\n",
       "      <td>NaN</td>\n",
       "      <td>1</td>\n",
       "      <td>1</td>\n",
       "      <td>1</td>\n",
       "      <td>107683.34</td>\n",
       "      <td>0</td>\n",
       "    </tr>\n",
       "    <tr>\n",
       "      <th>3</th>\n",
       "      <td>225363</td>\n",
       "      <td>866.0</td>\n",
       "      <td>Ярославль</td>\n",
       "      <td>Ж</td>\n",
       "      <td>51.0</td>\n",
       "      <td>5</td>\n",
       "      <td>1524746.26</td>\n",
       "      <td>2</td>\n",
       "      <td>0</td>\n",
       "      <td>1</td>\n",
       "      <td>174423.53</td>\n",
       "      <td>1</td>\n",
       "    </tr>\n",
       "    <tr>\n",
       "      <th>4</th>\n",
       "      <td>157978</td>\n",
       "      <td>730.0</td>\n",
       "      <td>Ярославль</td>\n",
       "      <td>М</td>\n",
       "      <td>34.0</td>\n",
       "      <td>5</td>\n",
       "      <td>174.00</td>\n",
       "      <td>1</td>\n",
       "      <td>1</td>\n",
       "      <td>0</td>\n",
       "      <td>67353.16</td>\n",
       "      <td>1</td>\n",
       "    </tr>\n",
       "  </tbody>\n",
       "</table>\n",
       "</div>"
      ],
      "text/plain": [
       "   USERID  score       city gender   age  equity     balance  products  \\\n",
       "0  183012  850.0    Рыбинск      Ж  25.0       1    59214.82         2   \n",
       "1  146556  861.0    Рыбинск      Ж  37.0       5   850594.33         3   \n",
       "2  120722  892.0    Рыбинск      Ж  30.0       0         NaN         1   \n",
       "3  225363  866.0  Ярославль      Ж  51.0       5  1524746.26         2   \n",
       "4  157978  730.0  Ярославль      М  34.0       5      174.00         1   \n",
       "\n",
       "   credit_card  last_activity  EST_SALARY  churn  \n",
       "0            0              1    75719.14      1  \n",
       "1            1              0    86621.77      0  \n",
       "2            1              1   107683.34      0  \n",
       "3            0              1   174423.53      1  \n",
       "4            1              0    67353.16      1  "
      ]
     },
     "execution_count": 2,
     "metadata": {},
     "output_type": "execute_result"
    }
   ],
   "source": [
    "# путь к файлу\n",
    "path = 'https://code.s3.yandex.net/datasets/bank_scrooge.csv'\n",
    "\n",
    "# пробуем прочесть содержимое файла\n",
    "try:\n",
    "    df = pd.read_csv(path)\n",
    "except FileNotFoundError:\n",
    "    print('Невозможно открыть файл!')\n",
    "df.head()"
   ]
  },
  {
   "cell_type": "code",
   "execution_count": 3,
   "metadata": {},
   "outputs": [
    {
     "name": "stdout",
     "output_type": "stream",
     "text": [
      "<class 'pandas.core.frame.DataFrame'>\n",
      "RangeIndex: 10000 entries, 0 to 9999\n",
      "Data columns (total 12 columns):\n",
      " #   Column         Non-Null Count  Dtype  \n",
      "---  ------         --------------  -----  \n",
      " 0   USERID         10000 non-null  int64  \n",
      " 1   score          10000 non-null  float64\n",
      " 2   city           10000 non-null  object \n",
      " 3   gender         10000 non-null  object \n",
      " 4   age            9974 non-null   float64\n",
      " 5   equity         10000 non-null  int64  \n",
      " 6   balance        7705 non-null   float64\n",
      " 7   products       10000 non-null  int64  \n",
      " 8   credit_card    10000 non-null  int64  \n",
      " 9   last_activity  10000 non-null  int64  \n",
      " 10  EST_SALARY     10000 non-null  float64\n",
      " 11  churn          10000 non-null  int64  \n",
      "dtypes: float64(4), int64(6), object(2)\n",
      "memory usage: 937.6+ KB\n"
     ]
    }
   ],
   "source": [
    "df.info()"
   ]
  },
  {
   "cell_type": "markdown",
   "metadata": {},
   "source": [
    "<p>Вывод: Датасет состоит из 10 тыс. записей. В полях \"age\" и \"balance\" обнаружены пропущенные значения."
   ]
  },
  {
   "cell_type": "code",
   "execution_count": 4,
   "metadata": {},
   "outputs": [
    {
     "data": {
      "text/html": [
       "<div>\n",
       "<style scoped>\n",
       "    .dataframe tbody tr th:only-of-type {\n",
       "        vertical-align: middle;\n",
       "    }\n",
       "\n",
       "    .dataframe tbody tr th {\n",
       "        vertical-align: top;\n",
       "    }\n",
       "\n",
       "    .dataframe thead th {\n",
       "        text-align: right;\n",
       "    }\n",
       "</style>\n",
       "<table border=\"1\" class=\"dataframe\">\n",
       "  <thead>\n",
       "    <tr style=\"text-align: right;\">\n",
       "      <th></th>\n",
       "      <th>USERID</th>\n",
       "      <th>score</th>\n",
       "      <th>age</th>\n",
       "      <th>equity</th>\n",
       "      <th>balance</th>\n",
       "      <th>products</th>\n",
       "      <th>credit_card</th>\n",
       "      <th>last_activity</th>\n",
       "      <th>EST_SALARY</th>\n",
       "      <th>churn</th>\n",
       "    </tr>\n",
       "  </thead>\n",
       "  <tbody>\n",
       "    <tr>\n",
       "      <th>count</th>\n",
       "      <td>10000</td>\n",
       "      <td>10000</td>\n",
       "      <td>9974</td>\n",
       "      <td>10000</td>\n",
       "      <td>7705</td>\n",
       "      <td>10000</td>\n",
       "      <td>10000</td>\n",
       "      <td>10000</td>\n",
       "      <td>10000</td>\n",
       "      <td>10000</td>\n",
       "    </tr>\n",
       "    <tr>\n",
       "      <th>mean</th>\n",
       "      <td>171815</td>\n",
       "      <td>849</td>\n",
       "      <td>43</td>\n",
       "      <td>3</td>\n",
       "      <td>827794</td>\n",
       "      <td>2</td>\n",
       "      <td>1</td>\n",
       "      <td>1</td>\n",
       "      <td>147867</td>\n",
       "      <td>0</td>\n",
       "    </tr>\n",
       "    <tr>\n",
       "      <th>std</th>\n",
       "      <td>33708</td>\n",
       "      <td>65</td>\n",
       "      <td>12</td>\n",
       "      <td>2</td>\n",
       "      <td>1980614</td>\n",
       "      <td>1</td>\n",
       "      <td>0</td>\n",
       "      <td>0</td>\n",
       "      <td>139389</td>\n",
       "      <td>0</td>\n",
       "    </tr>\n",
       "    <tr>\n",
       "      <th>min</th>\n",
       "      <td>94561</td>\n",
       "      <td>642</td>\n",
       "      <td>18</td>\n",
       "      <td>0</td>\n",
       "      <td>0</td>\n",
       "      <td>0</td>\n",
       "      <td>0</td>\n",
       "      <td>0</td>\n",
       "      <td>2546</td>\n",
       "      <td>0</td>\n",
       "    </tr>\n",
       "    <tr>\n",
       "      <th>25%</th>\n",
       "      <td>142810</td>\n",
       "      <td>802</td>\n",
       "      <td>33</td>\n",
       "      <td>0</td>\n",
       "      <td>295554</td>\n",
       "      <td>1</td>\n",
       "      <td>0</td>\n",
       "      <td>0</td>\n",
       "      <td>75252</td>\n",
       "      <td>0</td>\n",
       "    </tr>\n",
       "    <tr>\n",
       "      <th>50%</th>\n",
       "      <td>172728</td>\n",
       "      <td>853</td>\n",
       "      <td>40</td>\n",
       "      <td>3</td>\n",
       "      <td>524272</td>\n",
       "      <td>2</td>\n",
       "      <td>1</td>\n",
       "      <td>1</td>\n",
       "      <td>119658</td>\n",
       "      <td>0</td>\n",
       "    </tr>\n",
       "    <tr>\n",
       "      <th>75%</th>\n",
       "      <td>201262</td>\n",
       "      <td>900</td>\n",
       "      <td>51</td>\n",
       "      <td>4</td>\n",
       "      <td>980706</td>\n",
       "      <td>2</td>\n",
       "      <td>1</td>\n",
       "      <td>1</td>\n",
       "      <td>174501</td>\n",
       "      <td>0</td>\n",
       "    </tr>\n",
       "    <tr>\n",
       "      <th>max</th>\n",
       "      <td>229145</td>\n",
       "      <td>1000</td>\n",
       "      <td>86</td>\n",
       "      <td>9</td>\n",
       "      <td>119113552</td>\n",
       "      <td>5</td>\n",
       "      <td>1</td>\n",
       "      <td>1</td>\n",
       "      <td>1395064</td>\n",
       "      <td>1</td>\n",
       "    </tr>\n",
       "  </tbody>\n",
       "</table>\n",
       "</div>"
      ],
      "text/plain": [
       "       USERID  score   age equity    balance products credit_card  \\\n",
       "count   10000  10000  9974  10000       7705    10000       10000   \n",
       "mean   171815    849    43      3     827794        2           1   \n",
       "std     33708     65    12      2    1980614        1           0   \n",
       "min     94561    642    18      0          0        0           0   \n",
       "25%    142810    802    33      0     295554        1           0   \n",
       "50%    172728    853    40      3     524272        2           1   \n",
       "75%    201262    900    51      4     980706        2           1   \n",
       "max    229145   1000    86      9  119113552        5           1   \n",
       "\n",
       "      last_activity EST_SALARY  churn  \n",
       "count         10000      10000  10000  \n",
       "mean              1     147867      0  \n",
       "std               0     139389      0  \n",
       "min               0       2546      0  \n",
       "25%               0      75252      0  \n",
       "50%               1     119658      0  \n",
       "75%               1     174501      0  \n",
       "max               1    1395064      1  "
      ]
     },
     "execution_count": 4,
     "metadata": {},
     "output_type": "execute_result"
    }
   ],
   "source": [
    "# описательная статистика для количественных полей датасета\n",
    "df.describe().applymap(lambda x: f\"{x:.0f}\")"
   ]
  },
  {
   "cell_type": "code",
   "execution_count": 5,
   "metadata": {
    "scrolled": true
   },
   "outputs": [
    {
     "data": {
      "text/plain": [
       "equity      10\n",
       "products     6\n",
       "city         3\n",
       "gender       2\n",
       "dtype: int64"
      ]
     },
     "execution_count": 5,
     "metadata": {},
     "output_type": "execute_result"
    }
   ],
   "source": [
    "# уникальные значения категориальных полей\n",
    "df[['equity', 'products', 'city', 'gender']].nunique()"
   ]
  },
  {
   "cell_type": "markdown",
   "metadata": {},
   "source": [
    "<div class=\"alert alert-info\">Данные содержат записи о 10 тыс клиентах.\n",
    "<ul>Поля с количественными значениями:\n",
    "    <li>score\n",
    "    <li>age\n",
    "    <li>balance\n",
    "    <li>est_salary\n",
    "</ul>\n",
    "<ul>Поля с категориальными:\n",
    "    <li>equity\n",
    "    <li>products\n",
    "    <li>credit_card\n",
    "    <li>last_activity\n",
    "    <li>churn    \n",
    "</ul>\n",
    "Метод <i>describe</i> дает нам общее представление о том как распределены значения количественных полей. Так score имеет размах от 642 до 1000 баллов. Возраст представлен диапазоном от 18 до 86 лет. Также мы предполагаем, что значения баланса и дохода имеют выбросы, так как экстремумы очень далеки от среднего значения.  \n",
    "    \n",
    "</div>    "
   ]
  },
  {
   "cell_type": "markdown",
   "metadata": {},
   "source": [
    "## Предобработка"
   ]
  },
  {
   "cell_type": "markdown",
   "metadata": {},
   "source": [
    "### Заголовки"
   ]
  },
  {
   "cell_type": "code",
   "execution_count": 6,
   "metadata": {},
   "outputs": [
    {
     "data": {
      "text/plain": [
       "Index(['userid', 'score', 'city', 'gender', 'age', 'equity', 'balance',\n",
       "       'products', 'credit_card', 'last_activity', 'est_salary', 'churn'],\n",
       "      dtype='object')"
      ]
     },
     "execution_count": 6,
     "metadata": {},
     "output_type": "execute_result"
    }
   ],
   "source": [
    "# приводим заголовки к нижнему регистру\n",
    "df.columns = [i.lower() for i in df.columns]\n",
    "# проверка изменений\n",
    "df.columns"
   ]
  },
  {
   "cell_type": "markdown",
   "metadata": {},
   "source": [
    "### Дубликаты"
   ]
  },
  {
   "cell_type": "code",
   "execution_count": 7,
   "metadata": {
    "scrolled": true
   },
   "outputs": [
    {
     "data": {
      "text/html": [
       "<div>\n",
       "<style scoped>\n",
       "    .dataframe tbody tr th:only-of-type {\n",
       "        vertical-align: middle;\n",
       "    }\n",
       "\n",
       "    .dataframe tbody tr th {\n",
       "        vertical-align: top;\n",
       "    }\n",
       "\n",
       "    .dataframe thead th {\n",
       "        text-align: right;\n",
       "    }\n",
       "</style>\n",
       "<table border=\"1\" class=\"dataframe\">\n",
       "  <thead>\n",
       "    <tr style=\"text-align: right;\">\n",
       "      <th></th>\n",
       "      <th>userid</th>\n",
       "      <th>score</th>\n",
       "      <th>city</th>\n",
       "      <th>gender</th>\n",
       "      <th>age</th>\n",
       "      <th>equity</th>\n",
       "      <th>balance</th>\n",
       "      <th>products</th>\n",
       "      <th>credit_card</th>\n",
       "      <th>last_activity</th>\n",
       "      <th>est_salary</th>\n",
       "      <th>churn</th>\n",
       "    </tr>\n",
       "    <tr>\n",
       "      <th>idx_number</th>\n",
       "      <th></th>\n",
       "      <th></th>\n",
       "      <th></th>\n",
       "      <th></th>\n",
       "      <th></th>\n",
       "      <th></th>\n",
       "      <th></th>\n",
       "      <th></th>\n",
       "      <th></th>\n",
       "      <th></th>\n",
       "      <th></th>\n",
       "      <th></th>\n",
       "    </tr>\n",
       "  </thead>\n",
       "  <tbody>\n",
       "    <tr>\n",
       "      <th>1893</th>\n",
       "      <td>116540</td>\n",
       "      <td>883.0</td>\n",
       "      <td>Рыбинск</td>\n",
       "      <td>Ж</td>\n",
       "      <td>55.0</td>\n",
       "      <td>1</td>\n",
       "      <td>362756.49</td>\n",
       "      <td>3</td>\n",
       "      <td>0</td>\n",
       "      <td>1</td>\n",
       "      <td>175920.48</td>\n",
       "      <td>1</td>\n",
       "    </tr>\n",
       "    <tr>\n",
       "      <th>7694</th>\n",
       "      <td>116540</td>\n",
       "      <td>887.0</td>\n",
       "      <td>Ярославль</td>\n",
       "      <td>Ж</td>\n",
       "      <td>38.0</td>\n",
       "      <td>0</td>\n",
       "      <td>NaN</td>\n",
       "      <td>1</td>\n",
       "      <td>0</td>\n",
       "      <td>1</td>\n",
       "      <td>119247.61</td>\n",
       "      <td>0</td>\n",
       "    </tr>\n",
       "    <tr>\n",
       "      <th>4866</th>\n",
       "      <td>117943</td>\n",
       "      <td>855.0</td>\n",
       "      <td>Рыбинск</td>\n",
       "      <td>Ж</td>\n",
       "      <td>32.0</td>\n",
       "      <td>6</td>\n",
       "      <td>1036832.93</td>\n",
       "      <td>4</td>\n",
       "      <td>1</td>\n",
       "      <td>1</td>\n",
       "      <td>107792.71</td>\n",
       "      <td>1</td>\n",
       "    </tr>\n",
       "    <tr>\n",
       "      <th>7542</th>\n",
       "      <td>117943</td>\n",
       "      <td>880.0</td>\n",
       "      <td>Ярославль</td>\n",
       "      <td>Ж</td>\n",
       "      <td>40.0</td>\n",
       "      <td>0</td>\n",
       "      <td>NaN</td>\n",
       "      <td>1</td>\n",
       "      <td>1</td>\n",
       "      <td>0</td>\n",
       "      <td>137718.93</td>\n",
       "      <td>0</td>\n",
       "    </tr>\n",
       "    <tr>\n",
       "      <th>5863</th>\n",
       "      <td>120258</td>\n",
       "      <td>908.0</td>\n",
       "      <td>Рыбинск</td>\n",
       "      <td>Ж</td>\n",
       "      <td>38.0</td>\n",
       "      <td>4</td>\n",
       "      <td>2213581.63</td>\n",
       "      <td>2</td>\n",
       "      <td>0</td>\n",
       "      <td>1</td>\n",
       "      <td>160327.77</td>\n",
       "      <td>1</td>\n",
       "    </tr>\n",
       "    <tr>\n",
       "      <th>5896</th>\n",
       "      <td>120258</td>\n",
       "      <td>905.0</td>\n",
       "      <td>Ярославль</td>\n",
       "      <td>М</td>\n",
       "      <td>30.0</td>\n",
       "      <td>0</td>\n",
       "      <td>NaN</td>\n",
       "      <td>1</td>\n",
       "      <td>1</td>\n",
       "      <td>1</td>\n",
       "      <td>146427.96</td>\n",
       "      <td>0</td>\n",
       "    </tr>\n",
       "    <tr>\n",
       "      <th>1411</th>\n",
       "      <td>123461</td>\n",
       "      <td>829.0</td>\n",
       "      <td>Ярославль</td>\n",
       "      <td>Ж</td>\n",
       "      <td>59.0</td>\n",
       "      <td>0</td>\n",
       "      <td>96222.44</td>\n",
       "      <td>2</td>\n",
       "      <td>0</td>\n",
       "      <td>1</td>\n",
       "      <td>102771.55</td>\n",
       "      <td>1</td>\n",
       "    </tr>\n",
       "    <tr>\n",
       "      <th>8638</th>\n",
       "      <td>123461</td>\n",
       "      <td>934.0</td>\n",
       "      <td>Рыбинск</td>\n",
       "      <td>М</td>\n",
       "      <td>34.0</td>\n",
       "      <td>0</td>\n",
       "      <td>NaN</td>\n",
       "      <td>2</td>\n",
       "      <td>1</td>\n",
       "      <td>0</td>\n",
       "      <td>291619.27</td>\n",
       "      <td>0</td>\n",
       "    </tr>\n",
       "    <tr>\n",
       "      <th>8164</th>\n",
       "      <td>124450</td>\n",
       "      <td>859.0</td>\n",
       "      <td>Ярославль</td>\n",
       "      <td>Ж</td>\n",
       "      <td>38.0</td>\n",
       "      <td>6</td>\n",
       "      <td>516811.20</td>\n",
       "      <td>1</td>\n",
       "      <td>1</td>\n",
       "      <td>1</td>\n",
       "      <td>95144.63</td>\n",
       "      <td>1</td>\n",
       "    </tr>\n",
       "    <tr>\n",
       "      <th>9775</th>\n",
       "      <td>124450</td>\n",
       "      <td>758.0</td>\n",
       "      <td>Рыбинск</td>\n",
       "      <td>Ж</td>\n",
       "      <td>36.0</td>\n",
       "      <td>0</td>\n",
       "      <td>73574.07</td>\n",
       "      <td>2</td>\n",
       "      <td>0</td>\n",
       "      <td>1</td>\n",
       "      <td>79963.59</td>\n",
       "      <td>0</td>\n",
       "    </tr>\n",
       "    <tr>\n",
       "      <th>4850</th>\n",
       "      <td>126368</td>\n",
       "      <td>909.0</td>\n",
       "      <td>Ярославль</td>\n",
       "      <td>Ж</td>\n",
       "      <td>30.0</td>\n",
       "      <td>4</td>\n",
       "      <td>1322623.29</td>\n",
       "      <td>2</td>\n",
       "      <td>0</td>\n",
       "      <td>1</td>\n",
       "      <td>140675.66</td>\n",
       "      <td>1</td>\n",
       "    </tr>\n",
       "    <tr>\n",
       "      <th>5420</th>\n",
       "      <td>126368</td>\n",
       "      <td>832.0</td>\n",
       "      <td>Рыбинск</td>\n",
       "      <td>Ж</td>\n",
       "      <td>33.0</td>\n",
       "      <td>0</td>\n",
       "      <td>NaN</td>\n",
       "      <td>1</td>\n",
       "      <td>0</td>\n",
       "      <td>0</td>\n",
       "      <td>118465.34</td>\n",
       "      <td>0</td>\n",
       "    </tr>\n",
       "    <tr>\n",
       "      <th>4443</th>\n",
       "      <td>127440</td>\n",
       "      <td>846.0</td>\n",
       "      <td>Рыбинск</td>\n",
       "      <td>М</td>\n",
       "      <td>66.0</td>\n",
       "      <td>1</td>\n",
       "      <td>57405.67</td>\n",
       "      <td>2</td>\n",
       "      <td>0</td>\n",
       "      <td>1</td>\n",
       "      <td>17831.63</td>\n",
       "      <td>0</td>\n",
       "    </tr>\n",
       "    <tr>\n",
       "      <th>8785</th>\n",
       "      <td>127440</td>\n",
       "      <td>663.0</td>\n",
       "      <td>Ярославль</td>\n",
       "      <td>М</td>\n",
       "      <td>NaN</td>\n",
       "      <td>0</td>\n",
       "      <td>NaN</td>\n",
       "      <td>1</td>\n",
       "      <td>1</td>\n",
       "      <td>1</td>\n",
       "      <td>117197.56</td>\n",
       "      <td>0</td>\n",
       "    </tr>\n",
       "  </tbody>\n",
       "</table>\n",
       "</div>"
      ],
      "text/plain": [
       "            userid  score       city gender   age  equity     balance  \\\n",
       "idx_number                                                              \n",
       "1893        116540  883.0    Рыбинск      Ж  55.0       1   362756.49   \n",
       "7694        116540  887.0  Ярославль      Ж  38.0       0         NaN   \n",
       "4866        117943  855.0    Рыбинск      Ж  32.0       6  1036832.93   \n",
       "7542        117943  880.0  Ярославль      Ж  40.0       0         NaN   \n",
       "5863        120258  908.0    Рыбинск      Ж  38.0       4  2213581.63   \n",
       "5896        120258  905.0  Ярославль      М  30.0       0         NaN   \n",
       "1411        123461  829.0  Ярославль      Ж  59.0       0    96222.44   \n",
       "8638        123461  934.0    Рыбинск      М  34.0       0         NaN   \n",
       "8164        124450  859.0  Ярославль      Ж  38.0       6   516811.20   \n",
       "9775        124450  758.0    Рыбинск      Ж  36.0       0    73574.07   \n",
       "4850        126368  909.0  Ярославль      Ж  30.0       4  1322623.29   \n",
       "5420        126368  832.0    Рыбинск      Ж  33.0       0         NaN   \n",
       "4443        127440  846.0    Рыбинск      М  66.0       1    57405.67   \n",
       "8785        127440  663.0  Ярославль      М   NaN       0         NaN   \n",
       "\n",
       "            products  credit_card  last_activity  est_salary  churn  \n",
       "idx_number                                                           \n",
       "1893               3            0              1   175920.48      1  \n",
       "7694               1            0              1   119247.61      0  \n",
       "4866               4            1              1   107792.71      1  \n",
       "7542               1            1              0   137718.93      0  \n",
       "5863               2            0              1   160327.77      1  \n",
       "5896               1            1              1   146427.96      0  \n",
       "1411               2            0              1   102771.55      1  \n",
       "8638               2            1              0   291619.27      0  \n",
       "8164               1            1              1    95144.63      1  \n",
       "9775               2            0              1    79963.59      0  \n",
       "4850               2            0              1   140675.66      1  \n",
       "5420               1            0              0   118465.34      0  \n",
       "4443               2            0              1    17831.63      0  \n",
       "8785               1            1              1   117197.56      0  "
      ]
     },
     "execution_count": 7,
     "metadata": {},
     "output_type": "execute_result"
    }
   ],
   "source": [
    "# список дубликатов\n",
    "list_of_duplicates = df[df['userid'].duplicated() == True]['userid'].to_list()\n",
    "\n",
    "# отбор дублирующих записей\n",
    "duplicates = df.query('userid in @list_of_duplicates')\n",
    "\n",
    "# присвоение имени индексу для дальнейшей сортировки\n",
    "duplicates.index.name = 'idx_number'\n",
    "\n",
    "# первые 7 дублирующих записей таблицы\n",
    "duplicates.sort_values(by=['userid', 'idx_number'])[:14]"
   ]
  },
  {
   "cell_type": "code",
   "execution_count": 8,
   "metadata": {},
   "outputs": [
    {
     "name": "stdout",
     "output_type": "stream",
     "text": [
      "Доля записей с дубликатами: 1.46%\n"
     ]
    }
   ],
   "source": [
    "print(f'Доля записей с дубликатами: {duplicates.shape[0] / df.shape[0]:.2%}')"
   ]
  },
  {
   "cell_type": "code",
   "execution_count": 9,
   "metadata": {},
   "outputs": [
    {
     "name": "stdout",
     "output_type": "stream",
     "text": [
      "Колличество отточных клиентов среди дубликатов в филиалах (Рыбинск и Ростов Великий):\n",
      "21\n",
      "       \n"
     ]
    }
   ],
   "source": [
    "print(f\"\"\"Колличество отточных клиентов среди дубликатов в филиалах (Рыбинск и Ростов Великий):\n",
    "{duplicates.query('city != \"Ярославль\"')['churn'].sum()}\n",
    "       \"\"\")"
   ]
  },
  {
   "cell_type": "markdown",
   "metadata": {},
   "source": [
    "*Вывод: Обнаружены 73 дублирующих строки. Не удалось выяснить причину их происхождения, предположение о верности выбора в пользу новейшей записи (больший индекс) не подтвердилось. Пример <b>userid 120258</b>: первая строчка говорит о том, что клиент женского пола 38 лет, а следующая (более свежая) уже указывает на мужчину 30 лет. Даже если предположить смену пола (что более чем вероятно), то сокращение возраста никак не согласуется с логикой. Если принять во внимание только записи относящиеся к центру (город Ярославль) будет потеряна информация об 21-ом клиенте отказавшемся от услуг банка. Общая доля всех дубликатов составляет около 1.5 процентов, что говорит о том, что данными можно пренебречь.*"
   ]
  },
  {
   "cell_type": "code",
   "execution_count": 10,
   "metadata": {},
   "outputs": [
    {
     "name": "stdout",
     "output_type": "stream",
     "text": [
      "Количество записей после удаления: 9854\n"
     ]
    }
   ],
   "source": [
    "# создадим копию датасета во избежание потери данных\n",
    "bank_scrooge = df.copy()\n",
    "\n",
    "# исключим все дубликаты из данных\n",
    "bank_scrooge = bank_scrooge.query('userid not in @list_of_duplicates')\n",
    "\n",
    "# проверка\n",
    "print(f\"Количество записей после удаления: {bank_scrooge.shape[0]}\")"
   ]
  },
  {
   "cell_type": "markdown",
   "metadata": {},
   "source": [
    "### Данные противоречащие логике"
   ]
  },
  {
   "cell_type": "code",
   "execution_count": 11,
   "metadata": {},
   "outputs": [
    {
     "data": {
      "text/plain": [
       "2    5070\n",
       "1    3287\n",
       "3    1021\n",
       "4     457\n",
       "5      18\n",
       "0       1\n",
       "Name: products, dtype: int64"
      ]
     },
     "execution_count": 11,
     "metadata": {},
     "output_type": "execute_result"
    }
   ],
   "source": [
    "# распределение клиентов по количеству банковских продуктов\n",
    "bank_scrooge['products'].value_counts()"
   ]
  },
  {
   "cell_type": "markdown",
   "metadata": {},
   "source": [
    "<p>Последняя строчка противоречит логике - лицо банка не пользующееся ни одним из продуктов не может быть клиентом банка. Исключим данную запись из данных."
   ]
  },
  {
   "cell_type": "code",
   "execution_count": 12,
   "metadata": {},
   "outputs": [
    {
     "name": "stdout",
     "output_type": "stream",
     "text": [
      "Количество записей после удаления: 9853\n"
     ]
    }
   ],
   "source": [
    "# исключим строчку с нулевым кол-ом продуктов\n",
    "bank_scrooge = bank_scrooge[bank_scrooge['products'] > 0]\n",
    "\n",
    "# проверка\n",
    "print(f\"Количество записей после удаления: {bank_scrooge.shape[0]}\")"
   ]
  },
  {
   "cell_type": "code",
   "execution_count": 13,
   "metadata": {},
   "outputs": [
    {
     "data": {
      "text/plain": [
       "userid              0\n",
       "score               0\n",
       "city                0\n",
       "gender              0\n",
       "age                 3\n",
       "equity              0\n",
       "balance          2245\n",
       "products            0\n",
       "credit_card         0\n",
       "last_activity       0\n",
       "est_salary          0\n",
       "churn               0\n",
       "dtype: int64"
      ]
     },
     "execution_count": 13,
     "metadata": {},
     "output_type": "execute_result"
    }
   ],
   "source": [
    "# снова взглянем на пропуски\n",
    "bank_scrooge.isna().sum()"
   ]
  },
  {
   "cell_type": "markdown",
   "metadata": {},
   "source": [
    "После исключения дубликатов существенно уменьшилось число пропусков в поле age - с 26 до 3. Количество пропусков в ячейках баланса остается высоким, 2245. Ручное заполнение может привести к искажению результатов, поэтому принимаем решение оставить ячейки не тронутыми. Вернемся к пропускам в исследовательской части проекта и посмотрим насколько они важны для результатов."
   ]
  },
  {
   "cell_type": "markdown",
   "metadata": {},
   "source": [
    "### Пропущенные значения  "
   ]
  },
  {
   "cell_type": "code",
   "execution_count": 14,
   "metadata": {
    "scrolled": true
   },
   "outputs": [
    {
     "data": {
      "text/html": [
       "<div>\n",
       "<style scoped>\n",
       "    .dataframe tbody tr th:only-of-type {\n",
       "        vertical-align: middle;\n",
       "    }\n",
       "\n",
       "    .dataframe tbody tr th {\n",
       "        vertical-align: top;\n",
       "    }\n",
       "\n",
       "    .dataframe thead th {\n",
       "        text-align: right;\n",
       "    }\n",
       "</style>\n",
       "<table border=\"1\" class=\"dataframe\">\n",
       "  <thead>\n",
       "    <tr style=\"text-align: right;\">\n",
       "      <th></th>\n",
       "      <th>userid</th>\n",
       "      <th>score</th>\n",
       "      <th>city</th>\n",
       "      <th>gender</th>\n",
       "      <th>age</th>\n",
       "      <th>equity</th>\n",
       "      <th>balance</th>\n",
       "      <th>products</th>\n",
       "      <th>credit_card</th>\n",
       "      <th>last_activity</th>\n",
       "      <th>est_salary</th>\n",
       "      <th>churn</th>\n",
       "    </tr>\n",
       "  </thead>\n",
       "  <tbody>\n",
       "    <tr>\n",
       "      <th>2</th>\n",
       "      <td>120722</td>\n",
       "      <td>892.0</td>\n",
       "      <td>Рыбинск</td>\n",
       "      <td>Ж</td>\n",
       "      <td>30.0</td>\n",
       "      <td>0</td>\n",
       "      <td>NaN</td>\n",
       "      <td>1</td>\n",
       "      <td>1</td>\n",
       "      <td>1</td>\n",
       "      <td>107683.34</td>\n",
       "      <td>0</td>\n",
       "    </tr>\n",
       "    <tr>\n",
       "      <th>9</th>\n",
       "      <td>133130</td>\n",
       "      <td>906.0</td>\n",
       "      <td>Ярославль</td>\n",
       "      <td>Ж</td>\n",
       "      <td>67.0</td>\n",
       "      <td>0</td>\n",
       "      <td>NaN</td>\n",
       "      <td>1</td>\n",
       "      <td>0</td>\n",
       "      <td>1</td>\n",
       "      <td>238055.53</td>\n",
       "      <td>0</td>\n",
       "    </tr>\n",
       "    <tr>\n",
       "      <th>10</th>\n",
       "      <td>148929</td>\n",
       "      <td>927.0</td>\n",
       "      <td>Ростов</td>\n",
       "      <td>М</td>\n",
       "      <td>52.0</td>\n",
       "      <td>0</td>\n",
       "      <td>NaN</td>\n",
       "      <td>1</td>\n",
       "      <td>1</td>\n",
       "      <td>1</td>\n",
       "      <td>196820.07</td>\n",
       "      <td>0</td>\n",
       "    </tr>\n",
       "    <tr>\n",
       "      <th>11</th>\n",
       "      <td>172184</td>\n",
       "      <td>921.0</td>\n",
       "      <td>Ростов</td>\n",
       "      <td>М</td>\n",
       "      <td>41.0</td>\n",
       "      <td>0</td>\n",
       "      <td>NaN</td>\n",
       "      <td>1</td>\n",
       "      <td>1</td>\n",
       "      <td>1</td>\n",
       "      <td>217469.48</td>\n",
       "      <td>0</td>\n",
       "    </tr>\n",
       "    <tr>\n",
       "      <th>19</th>\n",
       "      <td>127034</td>\n",
       "      <td>922.0</td>\n",
       "      <td>Рыбинск</td>\n",
       "      <td>Ж</td>\n",
       "      <td>53.0</td>\n",
       "      <td>0</td>\n",
       "      <td>NaN</td>\n",
       "      <td>1</td>\n",
       "      <td>0</td>\n",
       "      <td>0</td>\n",
       "      <td>147094.82</td>\n",
       "      <td>0</td>\n",
       "    </tr>\n",
       "  </tbody>\n",
       "</table>\n",
       "</div>"
      ],
      "text/plain": [
       "    userid  score       city gender   age  equity  balance  products  \\\n",
       "2   120722  892.0    Рыбинск      Ж  30.0       0      NaN         1   \n",
       "9   133130  906.0  Ярославль      Ж  67.0       0      NaN         1   \n",
       "10  148929  927.0     Ростов      М  52.0       0      NaN         1   \n",
       "11  172184  921.0     Ростов      М  41.0       0      NaN         1   \n",
       "19  127034  922.0    Рыбинск      Ж  53.0       0      NaN         1   \n",
       "\n",
       "    credit_card  last_activity  est_salary  churn  \n",
       "2             1              1   107683.34      0  \n",
       "9             0              1   238055.53      0  \n",
       "10            1              1   196820.07      0  \n",
       "11            1              1   217469.48      0  \n",
       "19            0              0   147094.82      0  "
      ]
     },
     "execution_count": 14,
     "metadata": {},
     "output_type": "execute_result"
    }
   ],
   "source": [
    "# датасет с пропусками\n",
    "df_nan = bank_scrooge[(bank_scrooge['age'].isna()) | (bank_scrooge['balance'].isna())]\n",
    "df_nan.head()"
   ]
  },
  {
   "cell_type": "code",
   "execution_count": 15,
   "metadata": {},
   "outputs": [
    {
     "name": "stdout",
     "output_type": "stream",
     "text": [
      "Доля пропусков: 22.8%\n"
     ]
    }
   ],
   "source": [
    "print(f'Доля пропусков: {df_nan.shape[0] / bank_scrooge.shape[0]:.1%}')\n"
   ]
  },
  {
   "cell_type": "code",
   "execution_count": 16,
   "metadata": {},
   "outputs": [
    {
     "data": {
      "text/plain": [
       "9853"
      ]
     },
     "execution_count": 16,
     "metadata": {},
     "output_type": "execute_result"
    }
   ],
   "source": [
    "bank_scrooge.shape[0]"
   ]
  },
  {
   "cell_type": "code",
   "execution_count": 17,
   "metadata": {},
   "outputs": [
    {
     "data": {
      "text/plain": [
       "churn\n",
       "0    99.42\n",
       "1     0.58\n",
       "dtype: float64"
      ]
     },
     "execution_count": 17,
     "metadata": {},
     "output_type": "execute_result"
    }
   ],
   "source": [
    "df_nan.value_counts('churn', normalize=True).mul(100).round(2)"
   ]
  },
  {
   "cell_type": "markdown",
   "metadata": {},
   "source": [
    "Меньше одного процента клиентов из датасета с пропусками являются отточными."
   ]
  },
  {
   "cell_type": "code",
   "execution_count": 18,
   "metadata": {
    "scrolled": true
   },
   "outputs": [
    {
     "data": {
      "text/plain": [
       "''"
      ]
     },
     "execution_count": 18,
     "metadata": {},
     "output_type": "execute_result"
    },
    {
     "data": {
      "image/png": "[encoded data removed]",
      "text/plain": [
       "<Figure size 432x288 with 1 Axes>"
      ]
     },
     "metadata": {
      "needs_background": "light"
     },
     "output_type": "display_data"
    }
   ],
   "source": [
    "sns.histplot(data=df_nan, \n",
    "             stat=\"density\", \n",
    "             common_norm=False, \n",
    "             bins=30, x='score'\n",
    "             )\n",
    "plt.title('Распределение клиентов по значению \"score\"')\n",
    ";"
   ]
  },
  {
   "cell_type": "code",
   "execution_count": 19,
   "metadata": {},
   "outputs": [
    {
     "name": "stderr",
     "output_type": "stream",
     "text": [
      "/tmp/ipykernel_122/1370139394.py:2: SettingWithCopyWarning: \n",
      "A value is trying to be set on a copy of a slice from a DataFrame.\n",
      "Try using .loc[row_indexer,col_indexer] = value instead\n",
      "\n",
      "See the caveats in the documentation: https://pandas.pydata.org/pandas-docs/stable/user_guide/indexing.html#returning-a-view-versus-a-copy\n",
      "  df_nan['label'] = (\n"
     ]
    }
   ],
   "source": [
    "# присвоим найденным группам label \n",
    "df_nan['label'] = (\n",
    "    np.where(df_nan['score'].between(700, 750), \"low_score\",\n",
    "    np.where(df_nan['score'].between(870, 950), \"high_score\", \n",
    "    'other'\n",
    "        )\n",
    "    )\n",
    ")    "
   ]
  },
  {
   "cell_type": "code",
   "execution_count": 20,
   "metadata": {
    "scrolled": true
   },
   "outputs": [
    {
     "data": {
      "image/png": "[encoded data removed]",
      "text/plain": [
       "<Figure size 432x288 with 1 Axes>"
      ]
     },
     "metadata": {},
     "output_type": "display_data"
    }
   ],
   "source": [
    "df_nan.value_counts('label', normalize=True) \\\n",
    "      .plot(kind='pie', \n",
    "            title='Распределение клиентов по группам', \n",
    "            ylabel='',\n",
    "            autopct='%1.0f%%'\n",
    "           );"
   ]
  },
  {
   "cell_type": "markdown",
   "metadata": {},
   "source": [
    "Заметно разделение клиентов на группу с низким рейтингом (от 700 до 750 баллов) и высоким (от 870 до 950). Около 70% всех пропущенных значений имеют высокий рейтинг."
   ]
  },
  {
   "cell_type": "code",
   "execution_count": 21,
   "metadata": {},
   "outputs": [
    {
     "data": {
      "image/png": "[encoded data removed]",
      "text/plain": [
       "<Figure size 432x288 with 1 Axes>"
      ]
     },
     "metadata": {},
     "output_type": "display_data"
    }
   ],
   "source": [
    "df_nan.value_counts('city', normalize=True) \\\n",
    "      .plot(kind='pie', \n",
    "            title='Распределение клиентов в разрезе городов', \n",
    "            ylabel='',\n",
    "            autopct='%1.1f%%'\n",
    "           );"
   ]
  },
  {
   "cell_type": "markdown",
   "metadata": {},
   "source": [
    "Среди проопущенных значений \"львиную долю\" составляет Ярославль с 64.2%, затем идет Рыбинск - 25.3% и Ростов Великий - 10.5%."
   ]
  },
  {
   "cell_type": "code",
   "execution_count": 22,
   "metadata": {
    "scrolled": true
   },
   "outputs": [
    {
     "data": {
      "image/png": "[encoded data removed]",
      "text/plain": [
       "<Figure size 432x288 with 1 Axes>"
      ]
     },
     "metadata": {},
     "output_type": "display_data"
    }
   ],
   "source": [
    "df_nan.value_counts('gender', normalize=True) \\\n",
    "      .plot(kind='pie', \n",
    "            title='Распределение клиентов по полу', \n",
    "            ylabel='',\n",
    "            autopct='%1.0f%%'\n",
    "           );"
   ]
  },
  {
   "cell_type": "markdown",
   "metadata": {},
   "source": [
    "Незначительный перевес имеют клиенты мужского пола: 56% против 44%."
   ]
  },
  {
   "cell_type": "code",
   "execution_count": 23,
   "metadata": {
    "scrolled": true
   },
   "outputs": [
    {
     "data": {
      "text/plain": [
       "''"
      ]
     },
     "execution_count": 23,
     "metadata": {},
     "output_type": "execute_result"
    },
    {
     "data": {
      "image/png": "[encoded data removed]",
      "text/plain": [
       "<Figure size 432x288 with 1 Axes>"
      ]
     },
     "metadata": {
      "needs_background": "light"
     },
     "output_type": "display_data"
    }
   ],
   "source": [
    "sns.histplot(data=df_nan, \n",
    "             stat=\"density\", \n",
    "             common_norm=False, \n",
    "             bins=30, x='age'\n",
    "             )\n",
    "plt.title('Распределение клиентов по возрасту')\n",
    ";"
   ]
  },
  {
   "cell_type": "code",
   "execution_count": 24,
   "metadata": {},
   "outputs": [
    {
     "name": "stdout",
     "output_type": "stream",
     "text": [
      "Средний возраст клиентов 42\n",
      "Медианный возраст записей с пропусками 40\n",
      "\n"
     ]
    }
   ],
   "source": [
    "print(f\"\"\"Средний возраст клиентов {df_nan['age'].mean():.0f}\n",
    "Медианный возраст записей с пропусками {df_nan['age'].median():.0f}\n",
    "\"\"\")"
   ]
  },
  {
   "cell_type": "markdown",
   "metadata": {},
   "source": [
    "Визуально распределение напоминает нормальное распределение с небольшой правосторонней скошенностью. Большая часть наблюдений сосредоточена между 30 и 45 годами."
   ]
  },
  {
   "cell_type": "code",
   "execution_count": 25,
   "metadata": {},
   "outputs": [
    {
     "data": {
      "text/plain": [
       "equity\n",
       "0    94.80\n",
       "1     5.12\n",
       "3     0.04\n",
       "5     0.04\n",
       "dtype: float64"
      ]
     },
     "execution_count": 25,
     "metadata": {},
     "output_type": "execute_result"
    }
   ],
   "source": [
    "# распределение по equity\n",
    "df_nan.value_counts('equity', normalize=True).mul(100).round(2)    "
   ]
  },
  {
   "cell_type": "markdown",
   "metadata": {},
   "source": [
    "**Только 5% из тех кто не имеет записи в графе баланс имеет 1 балл/объект недвижимости. У остальных клиентов банка баллов/объектов нет.**"
   ]
  },
  {
   "cell_type": "code",
   "execution_count": 26,
   "metadata": {},
   "outputs": [
    {
     "data": {
      "text/plain": [
       "''"
      ]
     },
     "execution_count": 26,
     "metadata": {},
     "output_type": "execute_result"
    },
    {
     "data": {
      "image/png": "[encoded data removed]",
      "text/plain": [
       "<Figure size 360x504 with 1 Axes>"
      ]
     },
     "metadata": {},
     "output_type": "display_data"
    }
   ],
   "source": [
    "explode = (0.05, 0.05, 0.1)\n",
    "df_nan.value_counts('products', normalize=True) \\\n",
    "      .plot(kind='pie', \n",
    "            title='Распределение клиентов по кол-ву продуктов', \n",
    "            ylabel='',\n",
    "            autopct='%1.1f%%',\n",
    "            figsize=(5, 7),\n",
    "            explode=explode\n",
    "           )\n",
    ";"
   ]
  },
  {
   "cell_type": "markdown",
   "metadata": {},
   "source": [
    "<ul>\n",
    "    <li>~ 85% - пользуются одним продуктом\n",
    "    <li>~ 14% - двумя\n",
    "    <li>1% - тремя\n",
    "</ul>    "
   ]
  },
  {
   "cell_type": "code",
   "execution_count": 27,
   "metadata": {
    "scrolled": true
   },
   "outputs": [
    {
     "data": {
      "image/png": "[encoded data removed]",
      "text/plain": [
       "<Figure size 360x504 with 1 Axes>"
      ]
     },
     "metadata": {},
     "output_type": "display_data"
    }
   ],
   "source": [
    "df_nan.value_counts('credit_card', normalize=True) \\\n",
    "      .plot(kind='pie', \n",
    "            title='Распределение клиентов по наличию кредитки', \n",
    "            ylabel='',\n",
    "            autopct='%1.0f%%',\n",
    "            figsize=(5, 7),\n",
    "           );"
   ]
  },
  {
   "cell_type": "markdown",
   "metadata": {},
   "source": [
    "<ul>\n",
    "    <li> ~ 81% имею кредитную карту банка\n",
    "    <li> ~ 19% не имеют\n",
    "</ul>    "
   ]
  },
  {
   "cell_type": "code",
   "execution_count": 28,
   "metadata": {
    "scrolled": false
   },
   "outputs": [
    {
     "data": {
      "image/png": "[encoded data removed]",
      "text/plain": [
       "<Figure size 360x504 with 1 Axes>"
      ]
     },
     "metadata": {},
     "output_type": "display_data"
    }
   ],
   "source": [
    "df_nan.value_counts('last_activity', normalize=True) \\\n",
    "      .plot(kind='pie', \n",
    "            title='Распределение клиентов по активности', \n",
    "            ylabel='',\n",
    "            autopct='%1.0f%%',\n",
    "            figsize=(5, 7),\n",
    "           );"
   ]
  },
  {
   "cell_type": "code",
   "execution_count": 29,
   "metadata": {},
   "outputs": [
    {
     "data": {
      "text/plain": [
       "20274.03"
      ]
     },
     "execution_count": 29,
     "metadata": {},
     "output_type": "execute_result"
    }
   ],
   "source": [
    "df_nan['est_salary'].min()"
   ]
  },
  {
   "cell_type": "markdown",
   "metadata": {},
   "source": [
    "Активных клиентов (обращение в течение последнего месяца) среди тех у кого не указан баланс чуть больше - 55%."
   ]
  },
  {
   "cell_type": "code",
   "execution_count": 30,
   "metadata": {},
   "outputs": [
    {
     "data": {
      "text/plain": [
       "''"
      ]
     },
     "execution_count": 30,
     "metadata": {},
     "output_type": "execute_result"
    },
    {
     "data": {
      "image/png": "[encoded data removed]",
      "text/plain": [
       "<Figure size 1080x360 with 1 Axes>"
      ]
     },
     "metadata": {
      "needs_background": "light"
     },
     "output_type": "display_data"
    }
   ],
   "source": [
    "plt.figure(figsize=(15, 5))\n",
    "\n",
    "sns.histplot(data=df_nan, \n",
    "             stat=\"density\", \n",
    "             bins=100, x='est_salary'\n",
    "             )\n",
    "plt.grid(True)\n",
    "plt.title('Распределение клиентов по доходу')\n",
    "plt.ticklabel_format(style='plain')\n",
    "plt.xticks(rotation=45)\n",
    ";"
   ]
  },
  {
   "cell_type": "markdown",
   "metadata": {},
   "source": [
    "График имеет длинный \"хвост\" с правой стороны что говорит о асимметрии распределения. Для определения ядра уменьшим диапазон дохода до 300 т.р. и посмотрим на то, как распределились клиенты."
   ]
  },
  {
   "cell_type": "code",
   "execution_count": 31,
   "metadata": {},
   "outputs": [
    {
     "data": {
      "text/plain": [
       "''"
      ]
     },
     "execution_count": 31,
     "metadata": {},
     "output_type": "execute_result"
    },
    {
     "data": {
      "image/png": "[encoded data removed]",
      "text/plain": [
       "<Figure size 720x360 with 1 Axes>"
      ]
     },
     "metadata": {
      "needs_background": "light"
     },
     "output_type": "display_data"
    }
   ],
   "source": [
    "plt.figure(figsize=(10, 5))\n",
    "\n",
    "ax = sns.histplot(data=df_nan, \n",
    "             stat=\"density\", \n",
    "             bins=100, x='est_salary'\n",
    "             )\n",
    "ax.set_xlim(20000, 300000)\n",
    "plt.grid(True)\n",
    "plt.title('Распределение клиентов по доходу')\n",
    "plt.ticklabel_format(style='plain')\n",
    ";"
   ]
  },
  {
   "cell_type": "markdown",
   "metadata": {},
   "source": [
    "Большинство клиентов с пропуском в графе 'баланс' имеют доход от 70 до 250 тыс.руб."
   ]
  },
  {
   "cell_type": "code",
   "execution_count": 32,
   "metadata": {},
   "outputs": [
    {
     "name": "stderr",
     "output_type": "stream",
     "text": [
      "/tmp/ipykernel_122/4179323719.py:2: SettingWithCopyWarning: \n",
      "A value is trying to be set on a copy of a slice from a DataFrame.\n",
      "Try using .loc[row_indexer,col_indexer] = value instead\n",
      "\n",
      "See the caveats in the documentation: https://pandas.pydata.org/pandas-docs/stable/user_guide/indexing.html#returning-a-view-versus-a-copy\n",
      "  df_nan['salary_level'] = (\n"
     ]
    },
    {
     "data": {
      "image/png": "[encoded data removed]",
      "text/plain": [
       "<Figure size 432x288 with 1 Axes>"
      ]
     },
     "metadata": {},
     "output_type": "display_data"
    }
   ],
   "source": [
    "# присвоим найденным группам label \n",
    "df_nan['salary_level'] = (\n",
    "    np.where(df_nan['est_salary'].between(70000, 250000), \"medium_sal\", 'other'\n",
    "    )\n",
    ")\n",
    "df_nan.value_counts('salary_level', normalize=True) \\\n",
    "      .plot(kind='pie', \n",
    "            title='Распределение клиентов по группам', \n",
    "            ylabel='',\n",
    "            autopct='%1.0f%%'\n",
    "           );"
   ]
  },
  {
   "cell_type": "markdown",
   "metadata": {},
   "source": [
    "Более 70% клиентов с пропусками имеют средний доход."
   ]
  },
  {
   "cell_type": "markdown",
   "metadata": {},
   "source": [
    "\n",
    "**Вывод: Почти 23% записей оказались с пропущенными значениями в графах age (3) и balance (2245). Эти данные характеризуются минимальным процентом оттока (меньше 1%). Возрастное ядро представлено клиентами от 30 до 45 лет. Это в основном (95%) клиенты не имеющие объектов недвижимости, использующие 1 либо 2 банковских продукта с ежемесячным доходом 70 - 250 тыс. руб., более 80% которых имеют кредитную карту. В ходе рассмотрения данных имеющих пропуски не удалось установить окончательную прчину отсутствия пропусков, предположим, какой-то системный сбой в результате которого данные были утеряны.**  "
   ]
  },
  {
   "cell_type": "markdown",
   "metadata": {},
   "source": [
    "### Бинарное кодирование категориальных полей: gender, city, equity и products"
   ]
  },
  {
   "cell_type": "markdown",
   "metadata": {},
   "source": [
    "*Чтобы рассчитать корреляцию применим методы бинарного кодирования к некоторым столбцам датасета*"
   ]
  },
  {
   "cell_type": "code",
   "execution_count": 33,
   "metadata": {},
   "outputs": [],
   "source": [
    "banks_data = pd.get_dummies(bank_scrooge, columns=['gender', 'city', 'equity', 'products'], drop_first=False)"
   ]
  },
  {
   "cell_type": "code",
   "execution_count": 34,
   "metadata": {},
   "outputs": [],
   "source": [
    "# вернем прежние колонки в новый датасет\n",
    "return_cols = ['gender', 'city', 'equity', 'products']\n",
    "\n",
    "for col in return_cols:\n",
    "    banks_data[col] = bank_scrooge[col]"
   ]
  },
  {
   "cell_type": "markdown",
   "metadata": {},
   "source": [
    "## Исследовательский анализ данных (EDA)"
   ]
  },
  {
   "cell_type": "markdown",
   "metadata": {},
   "source": [
    "Для начала рассчитаем общий процент оттока по банку"
   ]
  },
  {
   "cell_type": "code",
   "execution_count": 35,
   "metadata": {
    "scrolled": true
   },
   "outputs": [
    {
     "data": {
      "image/png": "[encoded data removed]",
      "text/plain": [
       "<Figure size 432x288 with 1 Axes>"
      ]
     },
     "metadata": {
      "needs_background": "light"
     },
     "output_type": "display_data"
    }
   ],
   "source": [
    "# распределение клиентов банка\n",
    "sns.countplot(y='churn', data=banks_data, palette='colorblind')\n",
    "plt.title('Распределение клиентов на отточных и пролонгированных')\n",
    "plt.show()"
   ]
  },
  {
   "cell_type": "code",
   "execution_count": 36,
   "metadata": {},
   "outputs": [
    {
     "name": "stdout",
     "output_type": "stream",
     "text": [
      "Процент оттока по банку: 17.95%\n"
     ]
    }
   ],
   "source": [
    "# рассчитаем общий процент отточных клиентов в целом\n",
    "total_churn = banks_data['churn'].sum() / banks_data.shape[0]\n",
    "print(f'Процент оттока по банку: {total_churn:.2%}')"
   ]
  },
  {
   "cell_type": "markdown",
   "metadata": {},
   "source": [
    "### Проверка на выбросы в данных"
   ]
  },
  {
   "cell_type": "code",
   "execution_count": 37,
   "metadata": {
    "scrolled": false
   },
   "outputs": [
    {
     "data": {
      "image/png": "[encoded data removed]",
      "text/plain": [
       "<Figure size 720x720 with 4 Axes>"
      ]
     },
     "metadata": {
      "needs_background": "light"
     },
     "output_type": "display_data"
    }
   ],
   "source": [
    "# Взглянем на поля датасета которые могут содержать выбросы\n",
    "cols = ['score', 'age', 'balance', 'est_salary']\n",
    "fig, axes = plt.subplots(nrows=2, ncols=2, figsize=(10, 10))\n",
    "\n",
    "for cnt, col in enumerate(cols):\n",
    "    banks_data.boxplot(column=col, \n",
    "                         ax=axes.flat[cnt],\n",
    "                         grid=True\n",
    "                        ) "
   ]
  },
  {
   "cell_type": "markdown",
   "metadata": {},
   "source": [
    "**По двум первым графикам (score и age) можно утверждать об отсутствии явных выбросов в данных. Для определенния верхних границ значений двух оставшихся можно использовать персентили и межквартильный размах.**"
   ]
  },
  {
   "cell_type": "code",
   "execution_count": 38,
   "metadata": {},
   "outputs": [
    {
     "name": "stdout",
     "output_type": "stream",
     "text": [
      "\n",
      "    Верхняя граница баланса: 1996926.03 руб.\n",
      "\n"
     ]
    }
   ],
   "source": [
    "# найдем границу для баланса\n",
    "q1_b = banks_data['balance'].quantile(0.25)\n",
    "q3_b = banks_data['balance'].quantile(0.75)\n",
    "iqr_b = q3_b - q1_b\n",
    "\n",
    "top_limit_b = q3_b + (1.5 * iqr_b)\n",
    "\n",
    "print(f\"\"\"\n",
    "    Верхняя граница баланса: {top_limit_b:.2f} руб.\n",
    "\"\"\")\n",
    "# ограничим данные найденной границей в 2 млн. руб.\n",
    "filtered_balance = banks_data.query('balance < @top_limit_b')"
   ]
  },
  {
   "cell_type": "code",
   "execution_count": 39,
   "metadata": {},
   "outputs": [
    {
     "data": {
      "image/png": "[encoded data removed]",
      "text/plain": [
       "<Figure size 720x72 with 1 Axes>"
      ]
     },
     "metadata": {
      "needs_background": "light"
     },
     "output_type": "display_data"
    }
   ],
   "source": [
    "filtered_balance.boxplot(column='balance', vert=False, figsize=(10, 1));"
   ]
  },
  {
   "cell_type": "code",
   "execution_count": 40,
   "metadata": {},
   "outputs": [
    {
     "name": "stdout",
     "output_type": "stream",
     "text": [
      "\n",
      "    Верхняя граница дохода: 323591.59 руб.\n",
      "    \n"
     ]
    }
   ],
   "source": [
    "# найдем границу для дохода\n",
    "q1_s = banks_data['est_salary'].quantile(0.25)\n",
    "q3_s = banks_data['est_salary'].quantile(0.75)\n",
    "iqr_s = q3_s - q1_s\n",
    "\n",
    "top_limit_s = q3_s + (1.5 * iqr_s)\n",
    "\n",
    "print(f\"\"\"\n",
    "    Верхняя граница дохода: {top_limit_s:.2f} руб.\n",
    "    \"\"\")"
   ]
  },
  {
   "cell_type": "code",
   "execution_count": 41,
   "metadata": {
    "scrolled": true
   },
   "outputs": [
    {
     "data": {
      "image/png": "[encoded data removed]",
      "text/plain": [
       "<Figure size 720x72 with 1 Axes>"
      ]
     },
     "metadata": {
      "needs_background": "light"
     },
     "output_type": "display_data"
    }
   ],
   "source": [
    "filtered_salary = banks_data.query('est_salary < @top_limit_s')\n",
    "filtered_salary.boxplot(column='est_salary', vert=False, figsize=(10, 1));"
   ]
  },
  {
   "cell_type": "markdown",
   "metadata": {},
   "source": [
    "*Используя обе границы ограничим значения обоих полей*\n"
   ]
  },
  {
   "cell_type": "code",
   "execution_count": 42,
   "metadata": {},
   "outputs": [
    {
     "name": "stdout",
     "output_type": "stream",
     "text": [
      "Процент потери данных при ограничении 27.66%\n"
     ]
    }
   ],
   "source": [
    "filtered_all = banks_data.query('balance < @top_limit_b & est_salary < @top_limit_s')\n",
    "print(f'Процент потери данных при ограничении {1 - (filtered_all.shape[0] / banks_data.shape[0]):.2%}')"
   ]
  },
  {
   "cell_type": "code",
   "execution_count": 43,
   "metadata": {},
   "outputs": [],
   "source": [
    "def relation_func(feature, df=filtered_all):\n",
    "    # функция для расчета и вывода процентного соотношения    \n",
    "    print(f'{df.value_counts(feature, normalize=True).mul(100).round(2)}')"
   ]
  },
  {
   "cell_type": "markdown",
   "metadata": {},
   "source": [
    "### Корреляция с оттоком"
   ]
  },
  {
   "cell_type": "code",
   "execution_count": 44,
   "metadata": {
    "scrolled": false
   },
   "outputs": [
    {
     "name": "stdout",
     "output_type": "stream",
     "text": [
      "Корреляция между score и оттоком 0.17\n",
      "\n",
      "Корреляция между age и оттоком -0.07\n",
      "\n",
      "Корреляция между balance и оттоком 0.18\n",
      "\n",
      "Корреляция между credit_card и оттоком -0.09\n",
      "\n",
      "Корреляция между last_activity и оттоком 0.20\n",
      "\n",
      "Корреляция между est_salary и оттоком 0.11\n",
      "\n",
      "Корреляция между gender_Ж и оттоком -0.17\n",
      "\n",
      "Корреляция между gender_М и оттоком 0.17\n",
      "\n",
      "Корреляция между city_Ростов и оттоком -0.00\n",
      "\n",
      "Корреляция между city_Рыбинск и оттоком -0.04\n",
      "\n",
      "Корреляция между city_Ярославль и оттоком 0.04\n",
      "\n",
      "Корреляция между equity_0 и оттоком -0.02\n",
      "\n",
      "Корреляция между equity_1 и оттоком -0.06\n",
      "\n",
      "Корреляция между equity_2 и оттоком -0.06\n",
      "\n",
      "Корреляция между equity_3 и оттоком -0.02\n",
      "\n",
      "Корреляция между equity_4 и оттоком 0.01\n",
      "\n",
      "Корреляция между equity_5 и оттоком 0.09\n",
      "\n",
      "Корреляция между equity_6 и оттоком 0.03\n",
      "\n",
      "Корреляция между equity_7 и оттоком 0.05\n",
      "\n",
      "Корреляция между equity_8 и оттоком 0.01\n",
      "\n",
      "Корреляция между equity_9 и оттоком 0.03\n",
      "\n",
      "Корреляция между products_1 и оттоком -0.06\n",
      "\n",
      "Корреляция между products_2 и оттоком -0.09\n",
      "\n",
      "Корреляция между products_3 и оттоком 0.05\n",
      "\n",
      "Корреляция между products_4 и оттоком 0.21\n",
      "\n",
      "Корреляция между products_5 и оттоком 0.02\n",
      "\n"
     ]
    }
   ],
   "source": [
    "# фильтрующий список\n",
    "filtered_list = ['userid', 'gender', 'city', 'equity', 'products', 'churn']\n",
    "\n",
    "# отфильтрованный список\n",
    "features = list(filter(lambda x: x not in filtered_list, banks_data.columns))\n",
    "\n",
    "# выведем последовательно коэффициент корреляции для всех признаков\n",
    "for feature in features:\n",
    "    print(f'Корреляция между {feature} и оттоком {filtered_all[feature].corr(filtered_all[\"churn\"]):.2f}\\n')"
   ]
  },
  {
   "cell_type": "markdown",
   "metadata": {},
   "source": [
    "<div class=\"alert alert-info\">Расчитанные коэффициенты говорят о незначительной корреляции оттока с некоторыми характеристиками. Среди которых:\n",
    "    <li>products_4 (клиенты с 4-мя продуктами) - 0.21\n",
    "    <li>last_activity (взаимодействие с банком в течение последнего месяца) - 0.20\n",
    "    <li>balance (баланс счета) - 0.18\n",
    "    <li>score (Баллы кредитного скорринга) - 0.17\n",
    "    <li>gender_М (мужчины) - 0.17\n",
    "    <li>gender_Ж (женщины) - отрицательная корреляция 0.17    \n",
    "    "
   ]
  },
  {
   "cell_type": "markdown",
   "metadata": {},
   "source": [
    "### Распределение признаков"
   ]
  },
  {
   "cell_type": "markdown",
   "metadata": {},
   "source": [
    "#### Баллы кредитного скорринга"
   ]
  },
  {
   "cell_type": "code",
   "execution_count": 45,
   "metadata": {
    "scrolled": false
   },
   "outputs": [
    {
     "data": {
      "image/png": "[encoded data removed]",
      "text/plain": [
       "<Figure size 652.963x360 with 1 Axes>"
      ]
     },
     "metadata": {
      "needs_background": "light"
     },
     "output_type": "display_data"
    }
   ],
   "source": [
    "# Плотность распределения пролонгированных и отточных клиентов\n",
    "sns.displot(data=filtered_all, \n",
    "            x='score', \n",
    "            hue='churn', \n",
    "            kind='hist',\n",
    "            kde=True,\n",
    "            fill=True,\n",
    "            palette=sns.color_palette('bright')[:2], \n",
    "            legend=False,\n",
    "            aspect=15/8.27\n",
    ")\n",
    "plt.title('Рапределение клиентов по баллам кредитного скорринга')\n",
    "plt.legend(loc=1, labels=['отточные', 'пролонгированные'])\n",
    "plt.xlabel('Баллы скорринга')\n",
    "plt.ylabel('Количество')\n",
    "plt.show()"
   ]
  },
  {
   "cell_type": "markdown",
   "metadata": {},
   "source": [
    "**Как видно из графика, наибольшее число \"отточных\" клиентов с рейтингом от 850 до 900.**"
   ]
  },
  {
   "cell_type": "markdown",
   "metadata": {},
   "source": [
    "#### Возраст"
   ]
  },
  {
   "cell_type": "code",
   "execution_count": 46,
   "metadata": {
    "scrolled": false
   },
   "outputs": [
    {
     "data": {
      "image/png": "[encoded data removed]",
      "text/plain": [
       "<Figure size 652.963x360 with 1 Axes>"
      ]
     },
     "metadata": {
      "needs_background": "light"
     },
     "output_type": "display_data"
    }
   ],
   "source": [
    "sns.displot(data=filtered_all, \n",
    "            x='age', \n",
    "            hue='churn', \n",
    "            kind='hist',\n",
    "            kde=True,\n",
    "            fill=True,\n",
    "            palette=sns.color_palette('bright')[:2], \n",
    "            legend=False,\n",
    "            aspect=15/8.27\n",
    ")\n",
    "plt.title('Рапределение клиентов по возрасту')\n",
    "plt.legend(loc=1, labels=['отточные', 'пролонгированные'])\n",
    "plt.xlabel('Возраст')\n",
    "plt.ylabel('Количество')\n",
    "plt.show()"
   ]
  },
  {
   "cell_type": "markdown",
   "metadata": {},
   "source": [
    "<p><b>Распределение оттока имеет две небольших вершины:\n",
    "    <ul>\n",
    "        <li>от 30 - 35 лет\n",
    "        <li>от 53 - 57 лет   \n",
    "    </ul>"
   ]
  },
  {
   "cell_type": "markdown",
   "metadata": {},
   "source": [
    "#### Локация"
   ]
  },
  {
   "cell_type": "code",
   "execution_count": 47,
   "metadata": {
    "scrolled": false
   },
   "outputs": [
    {
     "data": {
      "image/png": "[encoded data removed]",
      "text/plain": [
       "<Figure size 432x288 with 1 Axes>"
      ]
     },
     "metadata": {
      "needs_background": "light"
     },
     "output_type": "display_data"
    }
   ],
   "source": [
    "sns.countplot(x=filtered_all.query('churn == 1')['city'], \n",
    "              palette=sns.color_palette('bright')[:3]\n",
    "             )\n",
    "plt.title('Рапределение клиентов по городу')\n",
    "plt.xlabel('Город')\n",
    "plt.ylabel('Количество')\n",
    "plt.show()"
   ]
  },
  {
   "cell_type": "code",
   "execution_count": 48,
   "metadata": {},
   "outputs": [
    {
     "name": "stdout",
     "output_type": "stream",
     "text": [
      "city\n",
      "Ярославль    56.41\n",
      "Рыбинск      27.51\n",
      "Ростов       16.08\n",
      "dtype: float64\n"
     ]
    }
   ],
   "source": [
    "# процентное соотношение клиентов банка\n",
    "relation_func('city')"
   ]
  },
  {
   "cell_type": "markdown",
   "metadata": {},
   "source": [
    "**Наибольшее кол-во отточных клиентов принадлежат центральному офису, затем идет Рыбинск и Ростов Великий. Ничего удивительного, так более половины клиентов (~ 58.5 %) относяться к Ярославлю.**"
   ]
  },
  {
   "cell_type": "markdown",
   "metadata": {},
   "source": [
    "#### Баланс на счёте"
   ]
  },
  {
   "cell_type": "code",
   "execution_count": 49,
   "metadata": {
    "scrolled": false
   },
   "outputs": [
    {
     "data": {
      "image/png": "[encoded data removed]",
      "text/plain": [
       "<Figure size 652.963x360 with 1 Axes>"
      ]
     },
     "metadata": {
      "needs_background": "light"
     },
     "output_type": "display_data"
    }
   ],
   "source": [
    "sns.displot(data=filtered_all, \n",
    "            x='balance', \n",
    "            hue='churn', \n",
    "            kind='hist',\n",
    "            bins=100,\n",
    "            kde=True,\n",
    "            fill=True,\n",
    "            palette=sns.color_palette('bright')[:2], \n",
    "            legend=False,\n",
    "            aspect=15/8.27\n",
    ")\n",
    "plt.title('Рапределение клиентов по балансу')\n",
    "plt.legend(loc=1, labels=['отточные', 'пролонгированные'])\n",
    "plt.xlabel('Баланс')\n",
    "plt.ylabel('Количество')\n",
    "plt.xlim(100000, 2000000)\n",
    "plt.show()"
   ]
  },
  {
   "cell_type": "code",
   "execution_count": 50,
   "metadata": {},
   "outputs": [
    {
     "name": "stdout",
     "output_type": "stream",
     "text": [
      "churn\n",
      "0    85.22\n",
      "1    14.78\n",
      "dtype: float64\n"
     ]
    }
   ],
   "source": [
    "relation_func('churn', filtered_all[filtered_all['balance']<100000])"
   ]
  },
  {
   "cell_type": "markdown",
   "metadata": {},
   "source": [
    "**Распределение клиентов по балансу не позволяет выделить отличительные сегменты - кривые схожи по своему характеру.**"
   ]
  },
  {
   "cell_type": "markdown",
   "metadata": {},
   "source": [
    "#### Наличие кредитной карты"
   ]
  },
  {
   "cell_type": "code",
   "execution_count": 51,
   "metadata": {
    "scrolled": true
   },
   "outputs": [
    {
     "data": {
      "image/png": "[encoded data removed]",
      "text/plain": [
       "<Figure size 432x288 with 1 Axes>"
      ]
     },
     "metadata": {
      "needs_background": "light"
     },
     "output_type": "display_data"
    }
   ],
   "source": [
    "sns.countplot(data=filtered_all, \n",
    "              x='credit_card', \n",
    "              hue='churn', \n",
    "              palette=sns.color_palette('bright')[:2])\n",
    "plt.title('Рапределение клиентов по наличию кредитки')\n",
    "plt.xlabel('Наличие-1/Отсутствие-0')\n",
    "plt.ylabel('Количество')\n",
    "plt.show()"
   ]
  },
  {
   "cell_type": "code",
   "execution_count": 52,
   "metadata": {},
   "outputs": [
    {
     "name": "stdout",
     "output_type": "stream",
     "text": [
      "credit_card\n",
      "1    65.17\n",
      "0    34.83\n",
      "dtype: float64\n"
     ]
    }
   ],
   "source": [
    "relation_func('credit_card')"
   ]
  },
  {
   "cell_type": "markdown",
   "metadata": {},
   "source": [
    "**Чуть больший отток наблюдается среди владельцев кредитной карты.**"
   ]
  },
  {
   "cell_type": "markdown",
   "metadata": {},
   "source": [
    "#### Пол"
   ]
  },
  {
   "cell_type": "code",
   "execution_count": 53,
   "metadata": {
    "scrolled": false
   },
   "outputs": [
    {
     "data": {
      "image/png": "[encoded data removed]",
      "text/plain": [
       "<Figure size 432x288 with 1 Axes>"
      ]
     },
     "metadata": {
      "needs_background": "light"
     },
     "output_type": "display_data"
    }
   ],
   "source": [
    "sns.countplot(data=filtered_all, \n",
    "              x='gender', \n",
    "              hue='churn', \n",
    "              palette=sns.color_palette('bright')[:2])\n",
    "plt.title('Рапределение клиентов по полу')\n",
    "plt.xlabel('Пол')\n",
    "plt.ylabel('Количество')\n",
    "plt.show()"
   ]
  },
  {
   "cell_type": "code",
   "execution_count": 54,
   "metadata": {},
   "outputs": [
    {
     "name": "stdout",
     "output_type": "stream",
     "text": [
      "gender\n",
      "Ж    52.69\n",
      "М    47.31\n",
      "dtype: float64\n"
     ]
    }
   ],
   "source": [
    "relation_func('gender')"
   ]
  },
  {
   "cell_type": "markdown",
   "metadata": {},
   "source": [
    "**Мужчины более подвержены оттоку нежели женщины, несмотря на то, что количественно уступают - 47% против 53%.**"
   ]
  },
  {
   "cell_type": "markdown",
   "metadata": {},
   "source": [
    "#### Активность"
   ]
  },
  {
   "cell_type": "code",
   "execution_count": 55,
   "metadata": {
    "scrolled": false
   },
   "outputs": [
    {
     "data": {
      "image/png": "[encoded data removed]",
      "text/plain": [
       "<Figure size 432x288 with 1 Axes>"
      ]
     },
     "metadata": {
      "needs_background": "light"
     },
     "output_type": "display_data"
    }
   ],
   "source": [
    "sns.countplot(data=filtered_all, \n",
    "              x='last_activity', \n",
    "              hue='churn', \n",
    "              palette=sns.color_palette('bright')[:2])\n",
    "plt.title('Рапределение клиентов по активности')\n",
    "plt.xlabel('Активность')\n",
    "plt.ylabel('Количество')\n",
    "plt.show()"
   ]
  },
  {
   "cell_type": "code",
   "execution_count": 56,
   "metadata": {},
   "outputs": [
    {
     "name": "stdout",
     "output_type": "stream",
     "text": [
      "last_activity\n",
      "1    70.17\n",
      "0    29.83\n",
      "dtype: float64\n"
     ]
    }
   ],
   "source": [
    "# соотношение отточных клиентов среди активных\n",
    "relation_func('last_activity', filtered_all[filtered_all['churn']==1])"
   ]
  },
  {
   "cell_type": "markdown",
   "metadata": {},
   "source": [
    "**Процент оттока среди активных клиентов (тех кто взаимодействовал с банком в течение последнего месяца) гораздо выше всех остальных, свыше 70 процентов.**"
   ]
  },
  {
   "cell_type": "markdown",
   "metadata": {},
   "source": [
    "#### Месячный доход"
   ]
  },
  {
   "cell_type": "code",
   "execution_count": 57,
   "metadata": {
    "scrolled": false
   },
   "outputs": [
    {
     "data": {
      "image/png": "[encoded data removed]",
      "text/plain": [
       "<Figure size 652.963x360 with 1 Axes>"
      ]
     },
     "metadata": {
      "needs_background": "light"
     },
     "output_type": "display_data"
    }
   ],
   "source": [
    "sns.displot(data=filtered_all, \n",
    "            x='est_salary', \n",
    "            hue='churn', \n",
    "            kind='hist',\n",
    "            kde=True,\n",
    "            fill=True,\n",
    "            palette=sns.color_palette('bright')[:2], legend=False, \n",
    "            aspect=15/8.27\n",
    ")\n",
    "plt.title('Рапределение клиентов по доходу')\n",
    "plt.legend(loc=1, labels=['отточные', 'пролонгированные'])\n",
    "plt.xlabel('Доход')\n",
    "plt.ylabel('Количество')\n",
    "plt.show()"
   ]
  },
  {
   "cell_type": "markdown",
   "metadata": {},
   "source": [
    "**Исходя из графика распределения можно выделить группу оттока с доходом от 75 тыс. до 150 тыс.**"
   ]
  },
  {
   "cell_type": "markdown",
   "metadata": {},
   "source": [
    "#### Кол-во баллов/объектов собственности"
   ]
  },
  {
   "cell_type": "code",
   "execution_count": 58,
   "metadata": {},
   "outputs": [
    {
     "data": {
      "image/png": "[encoded data removed]",
      "text/plain": [
       "<Figure size 432x288 with 1 Axes>"
      ]
     },
     "metadata": {
      "needs_background": "light"
     },
     "output_type": "display_data"
    }
   ],
   "source": [
    "sns.countplot(data=filtered_all, \n",
    "              x='equity', \n",
    "              hue='churn', \n",
    "              palette=sns.color_palette('bright')[:2],\n",
    "              )\n",
    "plt.title('Рапределение клиентов по баллам/объектам собственности')\n",
    "plt.xlabel('Кол-во')\n",
    "plt.ylabel('Количество')\n",
    "plt.show()"
   ]
  },
  {
   "cell_type": "markdown",
   "metadata": {},
   "source": [
    "<p><b>График говорит нам о двух сегментах:\n",
    "<ul>\n",
    "    <li>от 0 до 5-ти баллов - здесь сосредоточена \"львиная доля\" всех клиентов;\n",
    "    <li>более 5-ти баллов - гораздо меньший по объему, но с высоким уровнем оттока.\n",
    "</ul>        \n",
    "</b>    "
   ]
  },
  {
   "cell_type": "code",
   "execution_count": 59,
   "metadata": {},
   "outputs": [
    {
     "name": "stdout",
     "output_type": "stream",
     "text": [
      "churn\n",
      "0    78.99\n",
      "1    21.01\n",
      "dtype: float64\n"
     ]
    }
   ],
   "source": [
    "# процентное соотношение клиентов до 5-ти баллов (включительно)\n",
    "relation_func('churn', filtered_all[filtered_all['equity'] < 6])"
   ]
  },
  {
   "cell_type": "code",
   "execution_count": 60,
   "metadata": {},
   "outputs": [
    {
     "name": "stdout",
     "output_type": "stream",
     "text": [
      "churn\n",
      "0    64.58\n",
      "1    35.42\n",
      "dtype: float64\n"
     ]
    }
   ],
   "source": [
    "# процентное соотношение клиентов свыше 5-ти баллов\n",
    "relation_func('churn', filtered_all[filtered_all['equity'] > 5])"
   ]
  },
  {
   "cell_type": "markdown",
   "metadata": {},
   "source": [
    "Отток по второй выборке составил более 35%."
   ]
  },
  {
   "cell_type": "markdown",
   "metadata": {},
   "source": [
    "#### Количество продуктов, которыми пользуется клиент"
   ]
  },
  {
   "cell_type": "code",
   "execution_count": 61,
   "metadata": {
    "scrolled": true
   },
   "outputs": [
    {
     "data": {
      "image/png": "[encoded data removed]",
      "text/plain": [
       "<Figure size 432x288 with 1 Axes>"
      ]
     },
     "metadata": {
      "needs_background": "light"
     },
     "output_type": "display_data"
    }
   ],
   "source": [
    "sns.countplot(data=filtered_all, \n",
    "              x='products', \n",
    "              hue='churn', \n",
    "              palette=sns.color_palette('bright')[:2],\n",
    "              )\n",
    "plt.title('Рапределение клиентов по кол-ву продуктов')\n",
    "plt.xlabel('Кол-во продуктов')\n",
    "plt.ylabel('Количество')\n",
    "plt.show()"
   ]
  },
  {
   "cell_type": "code",
   "execution_count": 62,
   "metadata": {
    "scrolled": true
   },
   "outputs": [
    {
     "name": "stdout",
     "output_type": "stream",
     "text": [
      "products\n",
      "2    62.98\n",
      "1    18.74\n",
      "3    12.72\n",
      "4     5.30\n",
      "5     0.25\n",
      "dtype: float64\n"
     ]
    }
   ],
   "source": [
    "# соотношение клиентов по кол-ву продуктов\n",
    "relation_func('products')"
   ]
  },
  {
   "cell_type": "code",
   "execution_count": 63,
   "metadata": {},
   "outputs": [
    {
     "name": "stdout",
     "output_type": "stream",
     "text": [
      "churn\n",
      "1    58.47\n",
      "0    41.53\n",
      "dtype: float64\n"
     ]
    }
   ],
   "source": [
    "# соотношение отточных клиентов пользующихся 4-мя продуктами\n",
    "relation_func('churn', filtered_all[filtered_all['products']==4])"
   ]
  },
  {
   "cell_type": "markdown",
   "metadata": {},
   "source": [
    "**Наибольшее кол-во клиентов пользуется двумя продуктами банка - 63%. Среди тех кто использует 4 продукта отток составил больше 58%.**"
   ]
  },
  {
   "cell_type": "markdown",
   "metadata": {},
   "source": [
    "<font color=\"maroon\"><b>Вывод:</b> На основе проделанного анализа можно выделить несколько факторов наиболее влияющих на отток:\n",
    "    <ul>\n",
    "        <li>балл кредитного скорринга\n",
    "        <li>пол\n",
    "        <li>возраст\n",
    "        <li>кол-во баллов/объектов собственности\n",
    "        <li>кол-во используемых продуктов банка    \n",
    "    </ul>    \n",
    "        Превалируют клиенты мужского пола, в возрасте от 30 до 35 или 53 - 57 лет, относящиеся к Ярославлю, взаимодействовашие с банком за последний месяц, имеющие больше 5-ти объектов собственности, с 3-мя или 4-мя продуктами.    "
   ]
  },
  {
   "cell_type": "markdown",
   "metadata": {},
   "source": [
    "<p><b>Факторы по которым группы клиентов (отточные/пролонгированные) имеют отличия:</b>\n",
    "    <ul>\n",
    "        <li><i>пол</i>, кленты мужского пола имеют больший отток;\n",
    "        <li><i>наличие кредитной карты</i>, среди держателей отток ниже;\n",
    "        <li><i>активность за последний месяц</i>, отток больше среди тех, кто недавно обращался в банк;\n",
    "        <li><i>количество баллов/объектов недвижимости</i>, наблюдается высокий процент оттока среди владельце 6-ти и более объектов недвижимости;\n",
    "        <li><i>количество используемых продуктов</i>, значительный отток наблюдается у клиентов от 3-ёх и выше.    \n",
    "    </ul>  "
   ]
  },
  {
   "cell_type": "markdown",
   "metadata": {},
   "source": [
    "### Сегментация клиентов"
   ]
  },
  {
   "cell_type": "code",
   "execution_count": 64,
   "metadata": {
    "scrolled": false
   },
   "outputs": [
    {
     "data": {
      "image/png": "[encoded data removed]",
      "text/plain": [
       "<Figure size 652.963x360 with 1 Axes>"
      ]
     },
     "metadata": {
      "needs_background": "light"
     },
     "output_type": "display_data"
    }
   ],
   "source": [
    "# выделим в отдельный датасет мужскую часть клиентов\n",
    "male = filtered_all[filtered_all['gender']=='М']\n",
    "sns.displot(data=male, \n",
    "            x='age', \n",
    "            hue='churn', \n",
    "            kind='hist',\n",
    "            kde=True,\n",
    "            fill=True,\n",
    "            palette=sns.color_palette('bright')[:2], \n",
    "            legend=False,\n",
    "            aspect=15/8.27\n",
    ")\n",
    "plt.title('Рапределение клиентов по возрасту')\n",
    "plt.legend(loc=1, labels=['отточные', 'пролонгированные'])\n",
    "plt.xlabel('Возраст')\n",
    "plt.ylabel('Количество')\n",
    "plt.show()"
   ]
  },
  {
   "cell_type": "markdown",
   "metadata": {},
   "source": [
    "#### Сегмент A (segment_A)"
   ]
  },
  {
   "cell_type": "code",
   "execution_count": 65,
   "metadata": {},
   "outputs": [
    {
     "name": "stdout",
     "output_type": "stream",
     "text": [
      "Процент мужчин, в возрасте от 30 - 55 лет от общего числа клиентов банка: \n",
      "    35%\n",
      "\n"
     ]
    }
   ],
   "source": [
    "# отфильтруем мужчин по возрасту\n",
    "age_list = [i for i in range(30, 56)]\n",
    "segment_A = male.query('age in @age_list')\n",
    "print(f\"\"\"Процент мужчин, в возрасте от 30 - 55 лет от общего числа клиентов банка: \n",
    "    {segment_A.shape[0] / filtered_all.shape[0]:.0%}\n",
    "\"\"\"\n",
    ")"
   ]
  },
  {
   "cell_type": "code",
   "execution_count": 66,
   "metadata": {
    "scrolled": true
   },
   "outputs": [],
   "source": [
    "ratio_segmentA = segment_A.value_counts('churn', normalize=True).mul(100).round().iloc[1]"
   ]
  },
  {
   "cell_type": "markdown",
   "metadata": {},
   "source": [
    "#### Сегмент В (segment_B)"
   ]
  },
  {
   "cell_type": "code",
   "execution_count": 67,
   "metadata": {},
   "outputs": [],
   "source": [
    "segment_B = filtered_all.query('equity > 5 | products > 2')"
   ]
  },
  {
   "cell_type": "code",
   "execution_count": 68,
   "metadata": {},
   "outputs": [
    {
     "name": "stdout",
     "output_type": "stream",
     "text": [
      "Процент клиентов с баллами выше 5-ти или больше 2-ух продуктов от общего числа клиентов банка: \n",
      "    21%\n",
      "\n"
     ]
    }
   ],
   "source": [
    "print(f\"\"\"Процент клиентов с баллами выше 5-ти или больше 2-ух продуктов от общего числа клиентов банка: \n",
    "    {segment_B.shape[0] / filtered_all.shape[0]:.0%}\n",
    "\"\"\"\n",
    ")"
   ]
  },
  {
   "cell_type": "code",
   "execution_count": 69,
   "metadata": {
    "scrolled": true
   },
   "outputs": [],
   "source": [
    "ratio_segmentB = segment_B.value_counts('churn', normalize=True).mul(100).round().iloc[1]"
   ]
  },
  {
   "cell_type": "markdown",
   "metadata": {},
   "source": [
    "#### Сегмент С (segment_C)"
   ]
  },
  {
   "cell_type": "code",
   "execution_count": 70,
   "metadata": {},
   "outputs": [
    {
     "name": "stdout",
     "output_type": "stream",
     "text": [
      "Процент мужчин с баллами скорринга от 800 до 900 от общего числа клиентов банка: \n",
      "    28%\n",
      "\n"
     ]
    }
   ],
   "source": [
    "segment_C = male.query('800 < score < 900')\n",
    "print(f\"\"\"Процент мужчин с баллами скорринга от 800 до 900 от общего числа клиентов банка: \n",
    "    {segment_C.shape[0] / filtered_all.shape[0]:.0%}\n",
    "\"\"\"\n",
    ")"
   ]
  },
  {
   "cell_type": "code",
   "execution_count": 71,
   "metadata": {
    "scrolled": true
   },
   "outputs": [],
   "source": [
    "ratio_segmentC = segment_C.value_counts('churn', normalize=True).mul(100).round().iloc[1]"
   ]
  },
  {
   "cell_type": "code",
   "execution_count": 72,
   "metadata": {},
   "outputs": [
    {
     "data": {
      "text/html": [
       "<div>\n",
       "<style scoped>\n",
       "    .dataframe tbody tr th:only-of-type {\n",
       "        vertical-align: middle;\n",
       "    }\n",
       "\n",
       "    .dataframe tbody tr th {\n",
       "        vertical-align: top;\n",
       "    }\n",
       "\n",
       "    .dataframe thead th {\n",
       "        text-align: right;\n",
       "    }\n",
       "</style>\n",
       "<table border=\"1\" class=\"dataframe\">\n",
       "  <thead>\n",
       "    <tr style=\"text-align: right;\">\n",
       "      <th></th>\n",
       "      <th>segment_name</th>\n",
       "      <th>volume</th>\n",
       "      <th>churn_quntity</th>\n",
       "      <th>churn_percent</th>\n",
       "    </tr>\n",
       "  </thead>\n",
       "  <tbody>\n",
       "    <tr>\n",
       "      <th>0</th>\n",
       "      <td>A</td>\n",
       "      <td>2490</td>\n",
       "      <td>679</td>\n",
       "      <td>27.0</td>\n",
       "    </tr>\n",
       "    <tr>\n",
       "      <th>1</th>\n",
       "      <td>B</td>\n",
       "      <td>1473</td>\n",
       "      <td>527</td>\n",
       "      <td>36.0</td>\n",
       "    </tr>\n",
       "    <tr>\n",
       "      <th>2</th>\n",
       "      <td>C</td>\n",
       "      <td>2016</td>\n",
       "      <td>663</td>\n",
       "      <td>33.0</td>\n",
       "    </tr>\n",
       "  </tbody>\n",
       "</table>\n",
       "</div>"
      ],
      "text/plain": [
       "  segment_name  volume  churn_quntity  churn_percent\n",
       "0            A    2490            679           27.0\n",
       "1            B    1473            527           36.0\n",
       "2            C    2016            663           33.0"
      ]
     },
     "metadata": {},
     "output_type": "display_data"
    }
   ],
   "source": [
    "# соберем все показатели сегментов в одну таблицу\n",
    "data = {\n",
    "    'segment_name': ['A', 'B', 'C'],\n",
    "    'volume': [segment_A.shape[0], segment_B.shape[0], segment_C.shape[0]],\n",
    "    'churn_quntity': [segment_A['churn'].sum(), segment_B['churn'].sum(), segment_C['churn'].sum()],\n",
    "    'churn_percent': [ratio_segmentA, ratio_segmentB, ratio_segmentC]                                           \n",
    "       }\n",
    "\n",
    "agg_data = pd.DataFrame(data=data)\n",
    "display(agg_data)                                               "
   ]
  },
  {
   "cell_type": "markdown",
   "metadata": {},
   "source": [
    "<i>Приоретизация выделенных сегментов:</i>\n",
    "<li>на первое место выходит сегмент <b>С</b> с <b>охватом более 2 тыс.</b> клиентов и уровнем <b>оттока в 33%</b>;\n",
    "<li>на второе место сегмент <b>B</b> с самым высоким показателем <b>оттока 36%</b> и охватом <b>около 1.5 тыс</b> клиентов;\n",
    "<li>на третье место оставшийся сегмент <b>A</b> c наибольшим охватом <b>около 2.5 тыс</b>, но с самым низким уровнем <b>оттока 27%</b>. "
   ]
  },
  {
   "cell_type": "markdown",
   "metadata": {},
   "source": [
    "**Визуализации сегментов**"
   ]
  },
  {
   "cell_type": "code",
   "execution_count": 73,
   "metadata": {},
   "outputs": [
    {
     "data": {
      "image/png": "[encoded data removed]",
      "text/plain": [
       "<Figure size 936x360 with 3 Axes>"
      ]
     },
     "metadata": {},
     "output_type": "display_data"
    }
   ],
   "source": [
    "labelsA = 'Segment A', 'Other'\n",
    "valuesA = [ratio_segmentA, 100 - ratio_segmentA]\n",
    "\n",
    "labelsB = 'Segment B', 'Other'\n",
    "valuesB = [ratio_segmentA, 100 - ratio_segmentB]\n",
    "\n",
    "labelsC = 'Segment C', 'Other'\n",
    "valuesC = [ratio_segmentA, 100 - ratio_segmentC]\n",
    "\n",
    "plt.figure(figsize=[13, 5])\n",
    "\n",
    "# сегмент C\n",
    "plt.subplot(1, 3, 1)\n",
    "plt.pie(valuesC, labels=labelsC, autopct='%1.1f%%');\n",
    "\n",
    "# сегмент B\n",
    "plt.subplot(1, 3, 2)\n",
    "plt.pie(valuesB, labels=labelsB, autopct='%1.1f%%');\n",
    "\n",
    "# сегмент А\n",
    "plt.subplot(1, 3, 3)\n",
    "plt.pie(valuesA, labels=labelsA, autopct='%1.1f%%');"
   ]
  },
  {
   "cell_type": "markdown",
   "metadata": {},
   "source": [
    "Уровень оттока всех сегментов превышает процент по банку в целом, около 18-ти процентов."
   ]
  },
  {
   "cell_type": "markdown",
   "metadata": {},
   "source": [
    "## Формулирование и проверка гипотез"
   ]
  },
  {
   "cell_type": "markdown",
   "metadata": {},
   "source": [
    "<p><b>Первая гипотеза:</b>\n",
    "\n",
    "H<sub>0</sub>: Средний доход отточных и пролонгированных клиентов одинаков.\n",
    "\n",
    "H<sub>1</sub>: Средний доход отточных и пролонгированных клиентов различается.\n",
    "    \n",
    "**Для проверки воспользуемся обычным t-тестом для двух независимых генеральных совокупностей.**    "
   ]
  },
  {
   "cell_type": "code",
   "execution_count": 74,
   "metadata": {},
   "outputs": [
    {
     "name": "stdout",
     "output_type": "stream",
     "text": [
      "Отвергаем нулевую гипотезу: между средними доходами есть различия: p-value 8.763471246474145e-20\n"
     ]
    }
   ],
   "source": [
    "churn_salary = filtered_all[filtered_all['churn']==1]['est_salary']\n",
    "prolong_salary = filtered_all[filtered_all['churn']==0]['est_salary']\n",
    "\n",
    "results1 = st.ttest_ind(churn_salary, prolong_salary)\n",
    "\n",
    "alpha = 0.05 / 2 # по причине двусторонней проверки\n",
    "\n",
    "if results1.pvalue < alpha:\n",
    "    print(f'Отвергаем нулевую гипотезу: между средними доходами есть различия: p-value {results1.pvalue}')\n",
    "else:\n",
    "    print(f'Не получилось отвергнуть нулевую гипотезу, нет оснований считать средние доходы разными: p-value {results1.pvalue}')"
   ]
  },
  {
   "cell_type": "markdown",
   "metadata": {},
   "source": [
    "<p><b>Вторая гипотеза:</b>\n",
    "\n",
    "H<sub>0</sub>: Средний возраст отточных и пролонгированных клиентов одинаков.\n",
    "\n",
    "H<sub>1</sub>: Средний возраст отточных и пролонгированных клиентов различается.\n",
    "    \n",
    "**Для проверки воспользуемся все тем же t-тестом для двух независимых генеральных совокупностей.** "
   ]
  },
  {
   "cell_type": "code",
   "execution_count": 75,
   "metadata": {},
   "outputs": [
    {
     "name": "stdout",
     "output_type": "stream",
     "text": [
      "Отвергаем нулевую гипотезу: средний возраст групп имеет различия: p-value 3.561697324428033e-08\n"
     ]
    }
   ],
   "source": [
    "churn_age = filtered_all[filtered_all['churn']==1]['age'].dropna()\n",
    "prolong_age = filtered_all[filtered_all['churn']==0]['age'].dropna()\n",
    "\n",
    "results2 = st.ttest_ind(churn_age, prolong_age)\n",
    "\n",
    "alpha = 0.05 / 2 # по причине двусторонней проверки\n",
    "\n",
    "if results2.pvalue < alpha:\n",
    "    print(f'Отвергаем нулевую гипотезу: средний возраст групп имеет различия: p-value {results2.pvalue}')\n",
    "else:\n",
    "    print(f'Не получилось отвергнуть нулевую гипотезу, нет оснований считать возраст групп различным: p-value {results2.pvalue}')"
   ]
  },
  {
   "cell_type": "markdown",
   "metadata": {},
   "source": [
    "<font color='maroon'><b>На основе проведенных проверок обеих гипотез есть основания утверждать о том что возраст и доход различен между теми кто ушел и оставшимися клиентами.</b>"
   ]
  },
  {
   "cell_type": "markdown",
   "metadata": {},
   "source": [
    "## Общие выводы и рекомендации"
   ]
  },
  {
   "cell_type": "markdown",
   "metadata": {},
   "source": [
    "<p><b>ВЫВОД:</b>\n",
    "    В результате исследовния удалось установить факторы наиболее влияющие на отток\n",
    "    <ul>\n",
    "        <li>балл кредитного скорринга\n",
    "        <li>пол\n",
    "        <li>возраст\n",
    "        <li>кол-во баллов/объектов собственности\n",
    "        <li>кол-во используемых продуктов банка\n",
    "    </ul>        \n",
    "<p>Именно сегмент состоящий из мужчин с баллами скорринга от 800 до 900 имеет наибольший приоритет по причине высокого процента оттока - 33% и охвата более 2-ух тысяч клиентов.\n",
    "<p>Проверка гипотез о равенстве средних возраста и дохода утвердила различие показателей этих групп.    "
   ]
  },
  {
   "cell_type": "markdown",
   "metadata": {},
   "source": [
    "<ol>\n",
    "    <li><b>Сегмент А</b> - клиенты мужского пола в возрасте от 30 до 55 лет. Рекомендуется провести опрос удовлетворенности услугами банка с целью выявления \"узких мест\" в обслуживании.\n",
    "    <li><b>Сегмент В</b> - клиенты имеющие более 5-ти баллов/объектов недвижимости либо пользующиеся более 2-мя продуктами. Рекомендуется пересмотр требований при выдаче кредита под залог имущества в сторону их смягчения.\n",
    "    <li><b>Сегмент C</b> - клиенты мужского пола с баллами кредитного скорринга от 800 до 900. Рекомендуется проведение более детального исследования данной группы клиентов с целью выявления ключевых факторов влияющих на решение отказаться от услуг банка.  "
   ]
  }
 ],
 "metadata": {
  "ExecuteTimeLog": [
   {
    "duration": 183,
    "start_time": "2023-08-31T06:41:17.008Z"
   },
   {
    "duration": 1383,
    "start_time": "2023-08-31T06:48:03.497Z"
   },
   {
    "duration": 121,
    "start_time": "2023-08-31T06:48:14.288Z"
   },
   {
    "duration": 83,
    "start_time": "2023-08-31T06:48:15.216Z"
   },
   {
    "duration": 13,
    "start_time": "2023-08-31T06:48:28.148Z"
   },
   {
    "duration": 37,
    "start_time": "2023-08-31T06:49:17.561Z"
   },
   {
    "duration": 9,
    "start_time": "2023-08-31T06:49:36.671Z"
   },
   {
    "duration": 10,
    "start_time": "2023-08-31T06:49:38.892Z"
   },
   {
    "duration": 5,
    "start_time": "2023-08-31T06:53:30.694Z"
   },
   {
    "duration": 5,
    "start_time": "2023-08-31T06:53:33.398Z"
   },
   {
    "duration": 23,
    "start_time": "2023-08-31T06:58:49.362Z"
   },
   {
    "duration": 21,
    "start_time": "2023-08-31T06:58:51.683Z"
   },
   {
    "duration": 7,
    "start_time": "2023-08-31T06:59:24.375Z"
   },
   {
    "duration": 8,
    "start_time": "2023-08-31T06:59:56.541Z"
   },
   {
    "duration": 20,
    "start_time": "2023-08-31T07:06:18.373Z"
   },
   {
    "duration": 6,
    "start_time": "2023-08-31T07:06:48.665Z"
   },
   {
    "duration": 6,
    "start_time": "2023-08-31T07:07:37.144Z"
   },
   {
    "duration": 12,
    "start_time": "2023-08-31T07:07:47.719Z"
   },
   {
    "duration": 7,
    "start_time": "2023-08-31T07:09:48.458Z"
   },
   {
    "duration": 21,
    "start_time": "2023-08-31T07:11:27.640Z"
   },
   {
    "duration": 13,
    "start_time": "2023-08-31T07:11:32.428Z"
   },
   {
    "duration": 3,
    "start_time": "2023-08-31T07:11:39.578Z"
   },
   {
    "duration": 7,
    "start_time": "2023-08-31T07:16:03.306Z"
   },
   {
    "duration": 127,
    "start_time": "2023-08-31T07:17:07.963Z"
   },
   {
    "duration": 9,
    "start_time": "2023-08-31T07:17:37.755Z"
   },
   {
    "duration": 5,
    "start_time": "2023-08-31T07:17:46.799Z"
   },
   {
    "duration": 115,
    "start_time": "2023-08-31T07:18:04.289Z"
   },
   {
    "duration": 263,
    "start_time": "2023-08-31T07:18:31.217Z"
   },
   {
    "duration": 168,
    "start_time": "2023-08-31T07:18:39.560Z"
   },
   {
    "duration": 116,
    "start_time": "2023-08-31T07:18:47.167Z"
   },
   {
    "duration": 7,
    "start_time": "2023-08-31T07:19:08.874Z"
   },
   {
    "duration": 7,
    "start_time": "2023-08-31T07:20:07.561Z"
   },
   {
    "duration": 8,
    "start_time": "2023-08-31T07:21:03.280Z"
   },
   {
    "duration": 6,
    "start_time": "2023-08-31T07:21:48.654Z"
   },
   {
    "duration": 4,
    "start_time": "2023-08-31T07:26:51.538Z"
   },
   {
    "duration": 3,
    "start_time": "2023-08-31T07:26:59.387Z"
   },
   {
    "duration": 9,
    "start_time": "2023-08-31T07:27:28.422Z"
   },
   {
    "duration": 5,
    "start_time": "2023-08-31T07:27:45.185Z"
   },
   {
    "duration": 6,
    "start_time": "2023-08-31T07:27:58.237Z"
   },
   {
    "duration": 6,
    "start_time": "2023-08-31T07:28:01.346Z"
   },
   {
    "duration": 2012,
    "start_time": "2023-08-31T07:28:18.100Z"
   },
   {
    "duration": 5,
    "start_time": "2023-08-31T07:28:28.358Z"
   },
   {
    "duration": 7,
    "start_time": "2023-08-31T07:30:06.025Z"
   },
   {
    "duration": 7,
    "start_time": "2023-08-31T07:30:48.359Z"
   },
   {
    "duration": 104,
    "start_time": "2023-08-31T07:31:39.853Z"
   },
   {
    "duration": 7,
    "start_time": "2023-08-31T07:31:44.973Z"
   },
   {
    "duration": 7,
    "start_time": "2023-08-31T07:31:53.206Z"
   },
   {
    "duration": 5,
    "start_time": "2023-08-31T07:32:01.447Z"
   },
   {
    "duration": 11,
    "start_time": "2023-08-31T07:34:31.865Z"
   },
   {
    "duration": 7,
    "start_time": "2023-08-31T07:35:46.778Z"
   },
   {
    "duration": 7,
    "start_time": "2023-08-31T07:37:36.863Z"
   },
   {
    "duration": 110,
    "start_time": "2023-08-31T07:45:33.215Z"
   },
   {
    "duration": 29,
    "start_time": "2023-08-31T07:48:02.528Z"
   },
   {
    "duration": 32,
    "start_time": "2023-08-31T07:48:29.540Z"
   },
   {
    "duration": 2,
    "start_time": "2023-08-31T07:52:34.360Z"
   },
   {
    "duration": 115,
    "start_time": "2023-08-31T07:53:46.904Z"
   },
   {
    "duration": 126,
    "start_time": "2023-08-31T07:54:20.636Z"
   },
   {
    "duration": 109,
    "start_time": "2023-08-31T07:54:43.080Z"
   },
   {
    "duration": 3,
    "start_time": "2023-08-31T07:58:20.663Z"
   },
   {
    "duration": 116,
    "start_time": "2023-08-31T07:58:26.817Z"
   },
   {
    "duration": 110,
    "start_time": "2023-08-31T07:58:34.993Z"
   },
   {
    "duration": 127,
    "start_time": "2023-08-31T07:59:46.577Z"
   },
   {
    "duration": 145,
    "start_time": "2023-08-31T08:00:15.768Z"
   },
   {
    "duration": 129,
    "start_time": "2023-08-31T08:00:30.591Z"
   },
   {
    "duration": 260,
    "start_time": "2023-08-31T08:04:07.441Z"
   },
   {
    "duration": 125,
    "start_time": "2023-08-31T08:04:39.138Z"
   },
   {
    "duration": 118,
    "start_time": "2023-08-31T08:05:16.520Z"
   },
   {
    "duration": 4,
    "start_time": "2023-08-31T08:05:33.418Z"
   },
   {
    "duration": 10,
    "start_time": "2023-08-31T08:11:14.048Z"
   },
   {
    "duration": 545,
    "start_time": "2023-08-31T08:14:24.569Z"
   },
   {
    "duration": 177,
    "start_time": "2023-08-31T08:14:47.260Z"
   },
   {
    "duration": 119,
    "start_time": "2023-08-31T08:41:03.602Z"
   },
   {
    "duration": 12,
    "start_time": "2023-08-31T08:43:07.098Z"
   },
   {
    "duration": 29,
    "start_time": "2023-08-31T08:43:19.263Z"
   },
   {
    "duration": 13,
    "start_time": "2023-08-31T08:48:37.794Z"
   },
   {
    "duration": 10,
    "start_time": "2023-08-31T08:49:06.484Z"
   },
   {
    "duration": 351,
    "start_time": "2023-08-31T08:49:20.589Z"
   },
   {
    "duration": 356,
    "start_time": "2023-08-31T08:50:52.112Z"
   },
   {
    "duration": 312,
    "start_time": "2023-08-31T08:53:52.754Z"
   },
   {
    "duration": 307,
    "start_time": "2023-08-31T08:54:05.153Z"
   },
   {
    "duration": 382,
    "start_time": "2023-08-31T08:55:04.363Z"
   },
   {
    "duration": 311,
    "start_time": "2023-08-31T08:55:27.968Z"
   },
   {
    "duration": 749,
    "start_time": "2023-08-31T09:01:12.547Z"
   },
   {
    "duration": 318,
    "start_time": "2023-08-31T09:01:19.334Z"
   },
   {
    "duration": 305,
    "start_time": "2023-08-31T09:01:47.664Z"
   },
   {
    "duration": 312,
    "start_time": "2023-08-31T09:01:53.234Z"
   },
   {
    "duration": 312,
    "start_time": "2023-08-31T09:03:19.905Z"
   },
   {
    "duration": 319,
    "start_time": "2023-08-31T09:03:38.924Z"
   },
   {
    "duration": 422,
    "start_time": "2023-08-31T09:05:35.557Z"
   },
   {
    "duration": 327,
    "start_time": "2023-08-31T09:06:03.141Z"
   },
   {
    "duration": 3,
    "start_time": "2023-08-31T09:06:49.505Z"
   },
   {
    "duration": 677,
    "start_time": "2023-08-31T09:07:19.087Z"
   },
   {
    "duration": 384,
    "start_time": "2023-08-31T09:08:49.756Z"
   },
   {
    "duration": 4,
    "start_time": "2023-08-31T10:12:07.316Z"
   },
   {
    "duration": 33,
    "start_time": "2023-08-31T10:21:50.825Z"
   },
   {
    "duration": 9,
    "start_time": "2023-08-31T10:22:16.807Z"
   },
   {
    "duration": 114,
    "start_time": "2023-08-31T10:24:21.249Z"
   },
   {
    "duration": 10,
    "start_time": "2023-08-31T10:27:06.050Z"
   },
   {
    "duration": 15,
    "start_time": "2023-08-31T10:36:07.120Z"
   },
   {
    "duration": 18,
    "start_time": "2023-08-31T10:37:12.043Z"
   },
   {
    "duration": 15,
    "start_time": "2023-08-31T10:54:59.820Z"
   },
   {
    "duration": 13,
    "start_time": "2023-08-31T10:55:56.243Z"
   },
   {
    "duration": 87,
    "start_time": "2023-08-31T11:40:54.280Z"
   },
   {
    "duration": 13,
    "start_time": "2023-08-31T11:41:19.391Z"
   },
   {
    "duration": 120,
    "start_time": "2023-08-31T11:41:20.857Z"
   },
   {
    "duration": 117,
    "start_time": "2023-08-31T11:46:59.563Z"
   },
   {
    "duration": 216,
    "start_time": "2023-08-31T11:47:17.413Z"
   },
   {
    "duration": 107,
    "start_time": "2023-08-31T11:47:48.360Z"
   },
   {
    "duration": 10,
    "start_time": "2023-08-31T11:49:01.290Z"
   },
   {
    "duration": 9,
    "start_time": "2023-08-31T11:49:20.580Z"
   },
   {
    "duration": 1659,
    "start_time": "2023-08-31T11:50:25.491Z"
   },
   {
    "duration": 102957,
    "start_time": "2023-08-31T11:50:39.869Z"
   },
   {
    "duration": 13,
    "start_time": "2023-08-31T11:53:01.022Z"
   },
   {
    "duration": 2,
    "start_time": "2023-08-31T11:53:16.594Z"
   },
   {
    "duration": 155,
    "start_time": "2023-08-31T11:53:16.598Z"
   },
   {
    "duration": 12,
    "start_time": "2023-08-31T11:53:16.754Z"
   },
   {
    "duration": 60,
    "start_time": "2023-08-31T11:53:16.767Z"
   },
   {
    "duration": 9,
    "start_time": "2023-08-31T11:53:16.830Z"
   },
   {
    "duration": 14,
    "start_time": "2023-08-31T11:53:16.840Z"
   },
   {
    "duration": 29,
    "start_time": "2023-08-31T11:53:16.856Z"
   },
   {
    "duration": 7,
    "start_time": "2023-08-31T11:53:16.887Z"
   },
   {
    "duration": 17,
    "start_time": "2023-08-31T11:53:16.896Z"
   },
   {
    "duration": 20,
    "start_time": "2023-08-31T11:53:16.915Z"
   },
   {
    "duration": 7,
    "start_time": "2023-08-31T11:53:16.936Z"
   },
   {
    "duration": 20,
    "start_time": "2023-08-31T11:53:16.944Z"
   },
   {
    "duration": 26,
    "start_time": "2023-08-31T11:53:16.966Z"
   },
   {
    "duration": 47,
    "start_time": "2023-08-31T11:53:16.995Z"
   },
   {
    "duration": 121,
    "start_time": "2023-08-31T11:53:17.043Z"
   },
   {
    "duration": 4,
    "start_time": "2023-08-31T11:53:17.166Z"
   },
   {
    "duration": 412,
    "start_time": "2023-08-31T11:53:17.172Z"
   },
   {
    "duration": 16,
    "start_time": "2023-08-31T11:53:17.586Z"
   },
   {
    "duration": 81,
    "start_time": "2023-08-31T12:00:44.133Z"
   },
   {
    "duration": 7,
    "start_time": "2023-08-31T12:01:03.894Z"
   },
   {
    "duration": 7,
    "start_time": "2023-08-31T12:01:35.425Z"
   },
   {
    "duration": 110,
    "start_time": "2023-08-31T12:45:55.360Z"
   },
   {
    "duration": 118,
    "start_time": "2023-08-31T12:46:22.076Z"
   },
   {
    "duration": 29,
    "start_time": "2023-08-31T12:47:29.852Z"
   },
   {
    "duration": 104,
    "start_time": "2023-08-31T12:47:45.543Z"
   },
   {
    "duration": 123,
    "start_time": "2023-08-31T12:48:02.759Z"
   },
   {
    "duration": 110,
    "start_time": "2023-08-31T12:52:03.972Z"
   },
   {
    "duration": 110,
    "start_time": "2023-08-31T12:52:09.653Z"
   },
   {
    "duration": 106,
    "start_time": "2023-08-31T12:52:51.809Z"
   },
   {
    "duration": 116,
    "start_time": "2023-08-31T12:53:27.646Z"
   },
   {
    "duration": 150,
    "start_time": "2023-08-31T12:53:35.799Z"
   },
   {
    "duration": 176,
    "start_time": "2023-08-31T12:53:40.703Z"
   },
   {
    "duration": 136,
    "start_time": "2023-08-31T12:53:45.391Z"
   },
   {
    "duration": 124,
    "start_time": "2023-08-31T12:54:01.458Z"
   },
   {
    "duration": 118,
    "start_time": "2023-08-31T12:54:45.854Z"
   },
   {
    "duration": 111,
    "start_time": "2023-08-31T12:54:52.487Z"
   },
   {
    "duration": 21,
    "start_time": "2023-08-31T12:58:04.660Z"
   },
   {
    "duration": 6,
    "start_time": "2023-08-31T12:58:16.926Z"
   },
   {
    "duration": 5,
    "start_time": "2023-08-31T12:58:47.673Z"
   },
   {
    "duration": 6,
    "start_time": "2023-08-31T12:59:25.517Z"
   },
   {
    "duration": 8,
    "start_time": "2023-08-31T13:00:42.519Z"
   },
   {
    "duration": 6,
    "start_time": "2023-08-31T13:00:55.081Z"
   },
   {
    "duration": 8,
    "start_time": "2023-08-31T13:12:31.174Z"
   },
   {
    "duration": 8,
    "start_time": "2023-08-31T13:12:44.319Z"
   },
   {
    "duration": 9,
    "start_time": "2023-08-31T13:12:54.264Z"
   },
   {
    "duration": 106,
    "start_time": "2023-08-31T13:12:56.711Z"
   },
   {
    "duration": 11,
    "start_time": "2023-08-31T13:12:57.928Z"
   },
   {
    "duration": 8,
    "start_time": "2023-08-31T13:13:07.403Z"
   },
   {
    "duration": 101,
    "start_time": "2023-08-31T13:13:10.769Z"
   },
   {
    "duration": 888,
    "start_time": "2023-08-31T13:13:13.602Z"
   },
   {
    "duration": 22,
    "start_time": "2023-08-31T13:15:03.407Z"
   },
   {
    "duration": 5,
    "start_time": "2023-08-31T13:15:31.965Z"
   },
   {
    "duration": 7,
    "start_time": "2023-08-31T13:15:47.227Z"
   },
   {
    "duration": 6,
    "start_time": "2023-08-31T13:16:52.883Z"
   },
   {
    "duration": 6,
    "start_time": "2023-08-31T13:17:08.629Z"
   },
   {
    "duration": 11,
    "start_time": "2023-08-31T13:18:58.145Z"
   },
   {
    "duration": 1881,
    "start_time": "2023-08-31T13:22:33.683Z"
   },
   {
    "duration": 5,
    "start_time": "2023-08-31T13:22:38.802Z"
   },
   {
    "duration": 132,
    "start_time": "2023-08-31T13:35:55.982Z"
   },
   {
    "duration": 114,
    "start_time": "2023-08-31T13:36:27.890Z"
   },
   {
    "duration": 4,
    "start_time": "2023-08-31T13:37:23.488Z"
   },
   {
    "duration": 4,
    "start_time": "2023-08-31T13:38:21.319Z"
   },
   {
    "duration": 4,
    "start_time": "2023-08-31T13:38:31.713Z"
   },
   {
    "duration": 4,
    "start_time": "2023-08-31T13:39:00.067Z"
   },
   {
    "duration": 3,
    "start_time": "2023-08-31T13:40:33.969Z"
   },
   {
    "duration": 357,
    "start_time": "2023-08-31T13:40:51.585Z"
   },
   {
    "duration": 922,
    "start_time": "2023-08-31T13:41:24.212Z"
   },
   {
    "duration": 11,
    "start_time": "2023-08-31T13:43:38.228Z"
   },
   {
    "duration": 106,
    "start_time": "2023-08-31T13:45:43.938Z"
   },
   {
    "duration": 3,
    "start_time": "2023-08-31T13:45:48.114Z"
   },
   {
    "duration": 134,
    "start_time": "2023-08-31T13:45:48.119Z"
   },
   {
    "duration": 11,
    "start_time": "2023-08-31T13:45:48.255Z"
   },
   {
    "duration": 51,
    "start_time": "2023-08-31T13:45:48.267Z"
   },
   {
    "duration": 16,
    "start_time": "2023-08-31T13:45:48.320Z"
   },
   {
    "duration": 7,
    "start_time": "2023-08-31T13:45:48.338Z"
   },
   {
    "duration": 22,
    "start_time": "2023-08-31T13:45:48.347Z"
   },
   {
    "duration": 4,
    "start_time": "2023-08-31T13:45:48.370Z"
   },
   {
    "duration": 12,
    "start_time": "2023-08-31T13:45:48.375Z"
   },
   {
    "duration": 13,
    "start_time": "2023-08-31T13:45:48.388Z"
   },
   {
    "duration": 5,
    "start_time": "2023-08-31T13:45:48.403Z"
   },
   {
    "duration": 41,
    "start_time": "2023-08-31T13:45:48.409Z"
   },
   {
    "duration": 27,
    "start_time": "2023-08-31T13:45:48.451Z"
   },
   {
    "duration": 36,
    "start_time": "2023-08-31T13:45:48.481Z"
   },
   {
    "duration": 147,
    "start_time": "2023-08-31T13:45:48.519Z"
   },
   {
    "duration": 116,
    "start_time": "2023-08-31T13:45:48.667Z"
   },
   {
    "duration": 0,
    "start_time": "2023-08-31T13:45:48.784Z"
   },
   {
    "duration": 0,
    "start_time": "2023-08-31T13:45:48.785Z"
   },
   {
    "duration": 0,
    "start_time": "2023-08-31T13:45:48.786Z"
   },
   {
    "duration": 0,
    "start_time": "2023-08-31T13:45:48.788Z"
   },
   {
    "duration": 0,
    "start_time": "2023-08-31T13:45:48.788Z"
   },
   {
    "duration": 0,
    "start_time": "2023-08-31T13:45:48.789Z"
   },
   {
    "duration": 0,
    "start_time": "2023-08-31T13:45:48.790Z"
   },
   {
    "duration": 0,
    "start_time": "2023-08-31T13:45:48.792Z"
   },
   {
    "duration": 4,
    "start_time": "2023-08-31T13:46:10.862Z"
   },
   {
    "duration": 4,
    "start_time": "2023-08-31T13:46:55.290Z"
   },
   {
    "duration": 382,
    "start_time": "2023-08-31T13:47:32.982Z"
   },
   {
    "duration": 11,
    "start_time": "2023-08-31T13:47:42.279Z"
   },
   {
    "duration": 7,
    "start_time": "2023-08-31T13:47:45.743Z"
   },
   {
    "duration": 130,
    "start_time": "2023-08-31T13:48:00.281Z"
   },
   {
    "duration": 7,
    "start_time": "2023-08-31T13:48:03.578Z"
   },
   {
    "duration": 6,
    "start_time": "2023-08-31T13:48:04.881Z"
   },
   {
    "duration": 13,
    "start_time": "2023-08-31T13:48:07.498Z"
   },
   {
    "duration": 13,
    "start_time": "2023-08-31T13:48:37.734Z"
   },
   {
    "duration": 17,
    "start_time": "2023-08-31T13:48:49.687Z"
   },
   {
    "duration": 28,
    "start_time": "2023-08-31T13:49:22.470Z"
   },
   {
    "duration": 5,
    "start_time": "2023-08-31T13:49:28.333Z"
   },
   {
    "duration": 12,
    "start_time": "2023-08-31T13:50:35.645Z"
   },
   {
    "duration": 12,
    "start_time": "2023-08-31T13:50:49.562Z"
   },
   {
    "duration": 12,
    "start_time": "2023-08-31T13:50:56.862Z"
   },
   {
    "duration": 4,
    "start_time": "2023-08-31T13:51:11.479Z"
   },
   {
    "duration": 4,
    "start_time": "2023-08-31T13:52:42.794Z"
   },
   {
    "duration": 116,
    "start_time": "2023-08-31T13:52:42.799Z"
   },
   {
    "duration": 11,
    "start_time": "2023-08-31T13:52:42.917Z"
   },
   {
    "duration": 53,
    "start_time": "2023-08-31T13:52:42.929Z"
   },
   {
    "duration": 10,
    "start_time": "2023-08-31T13:52:42.984Z"
   },
   {
    "duration": 23,
    "start_time": "2023-08-31T13:52:42.996Z"
   },
   {
    "duration": 46,
    "start_time": "2023-08-31T13:52:43.021Z"
   },
   {
    "duration": 3,
    "start_time": "2023-08-31T13:52:43.069Z"
   },
   {
    "duration": 22,
    "start_time": "2023-08-31T13:52:43.073Z"
   },
   {
    "duration": 41,
    "start_time": "2023-08-31T13:52:43.096Z"
   },
   {
    "duration": 6,
    "start_time": "2023-08-31T13:52:43.139Z"
   },
   {
    "duration": 35,
    "start_time": "2023-08-31T13:52:43.147Z"
   },
   {
    "duration": 22,
    "start_time": "2023-08-31T13:52:43.184Z"
   },
   {
    "duration": 17,
    "start_time": "2023-08-31T13:52:43.209Z"
   },
   {
    "duration": 119,
    "start_time": "2023-08-31T13:52:43.228Z"
   },
   {
    "duration": 4,
    "start_time": "2023-08-31T13:52:43.349Z"
   },
   {
    "duration": 407,
    "start_time": "2023-08-31T13:52:43.355Z"
   },
   {
    "duration": 12,
    "start_time": "2023-08-31T13:52:43.764Z"
   },
   {
    "duration": 127,
    "start_time": "2023-08-31T13:52:43.777Z"
   },
   {
    "duration": 6,
    "start_time": "2023-08-31T13:52:43.906Z"
   },
   {
    "duration": 114,
    "start_time": "2023-08-31T13:52:43.923Z"
   },
   {
    "duration": 7,
    "start_time": "2023-08-31T13:52:44.038Z"
   },
   {
    "duration": 6,
    "start_time": "2023-08-31T13:52:49.626Z"
   },
   {
    "duration": 4,
    "start_time": "2023-08-31T13:53:01.269Z"
   },
   {
    "duration": 4,
    "start_time": "2023-08-31T13:54:55.009Z"
   },
   {
    "duration": 16,
    "start_time": "2023-08-31T13:55:15.864Z"
   },
   {
    "duration": 13,
    "start_time": "2023-08-31T13:57:16.259Z"
   },
   {
    "duration": 13,
    "start_time": "2023-08-31T13:57:42.605Z"
   },
   {
    "duration": 5,
    "start_time": "2023-08-31T13:58:03.328Z"
   },
   {
    "duration": 13,
    "start_time": "2023-08-31T13:59:32.838Z"
   },
   {
    "duration": 14,
    "start_time": "2023-08-31T14:00:22.361Z"
   },
   {
    "duration": 11,
    "start_time": "2023-08-31T14:00:34.904Z"
   },
   {
    "duration": 18,
    "start_time": "2023-08-31T14:00:43.562Z"
   },
   {
    "duration": 14,
    "start_time": "2023-08-31T14:05:57.623Z"
   },
   {
    "duration": 13,
    "start_time": "2023-08-31T14:06:07.238Z"
   },
   {
    "duration": 14,
    "start_time": "2023-08-31T14:06:39.077Z"
   },
   {
    "duration": 12,
    "start_time": "2023-08-31T14:09:30.610Z"
   },
   {
    "duration": 17,
    "start_time": "2023-08-31T14:10:55.883Z"
   },
   {
    "duration": 1415,
    "start_time": "2023-09-01T15:29:11.719Z"
   },
   {
    "duration": 104,
    "start_time": "2023-09-01T15:29:13.136Z"
   },
   {
    "duration": 18,
    "start_time": "2023-09-01T15:29:13.242Z"
   },
   {
    "duration": 47,
    "start_time": "2023-09-01T15:29:13.263Z"
   },
   {
    "duration": 10,
    "start_time": "2023-09-01T15:29:13.312Z"
   },
   {
    "duration": 4,
    "start_time": "2023-09-01T15:29:13.324Z"
   },
   {
    "duration": 58,
    "start_time": "2023-09-01T15:29:13.330Z"
   },
   {
    "duration": 3,
    "start_time": "2023-09-01T15:29:13.391Z"
   },
   {
    "duration": 22,
    "start_time": "2023-09-01T15:29:13.396Z"
   },
   {
    "duration": 45,
    "start_time": "2023-09-01T15:29:13.421Z"
   },
   {
    "duration": 17,
    "start_time": "2023-09-01T15:29:13.468Z"
   },
   {
    "duration": 11,
    "start_time": "2023-09-01T15:29:13.487Z"
   },
   {
    "duration": 9,
    "start_time": "2023-09-01T15:29:13.500Z"
   },
   {
    "duration": 15,
    "start_time": "2023-09-01T15:29:13.511Z"
   },
   {
    "duration": 128,
    "start_time": "2023-09-01T15:29:13.528Z"
   },
   {
    "duration": 6,
    "start_time": "2023-09-01T15:29:13.659Z"
   },
   {
    "duration": 435,
    "start_time": "2023-09-01T15:29:13.667Z"
   },
   {
    "duration": 10,
    "start_time": "2023-09-01T15:29:14.104Z"
   },
   {
    "duration": 124,
    "start_time": "2023-09-01T15:29:14.116Z"
   },
   {
    "duration": 14,
    "start_time": "2023-09-01T15:29:14.241Z"
   },
   {
    "duration": 123,
    "start_time": "2023-09-01T15:29:14.256Z"
   },
   {
    "duration": 7,
    "start_time": "2023-09-01T15:29:14.382Z"
   },
   {
    "duration": 11,
    "start_time": "2023-09-01T15:29:14.390Z"
   },
   {
    "duration": 3,
    "start_time": "2023-09-01T15:29:34.232Z"
   },
   {
    "duration": 5,
    "start_time": "2023-09-01T15:31:06.587Z"
   },
   {
    "duration": 21,
    "start_time": "2023-09-01T15:32:44.182Z"
   },
   {
    "duration": 23,
    "start_time": "2023-09-01T15:33:55.560Z"
   },
   {
    "duration": 101,
    "start_time": "2023-09-01T15:42:28.548Z"
   },
   {
    "duration": 8,
    "start_time": "2023-09-01T15:42:35.013Z"
   },
   {
    "duration": 15,
    "start_time": "2023-09-01T15:50:05.187Z"
   },
   {
    "duration": 11,
    "start_time": "2023-09-01T15:50:08.532Z"
   },
   {
    "duration": 2209,
    "start_time": "2023-09-01T15:50:14.558Z"
   },
   {
    "duration": 10,
    "start_time": "2023-09-01T16:01:38.009Z"
   },
   {
    "duration": 243,
    "start_time": "2023-09-01T16:01:54.189Z"
   },
   {
    "duration": 229,
    "start_time": "2023-09-01T16:02:03.093Z"
   },
   {
    "duration": 221,
    "start_time": "2023-09-01T16:02:55.300Z"
   },
   {
    "duration": 9,
    "start_time": "2023-09-01T16:03:08.022Z"
   },
   {
    "duration": 435,
    "start_time": "2023-09-01T16:17:34.573Z"
   },
   {
    "duration": 202,
    "start_time": "2023-09-01T16:20:49.670Z"
   },
   {
    "duration": 340,
    "start_time": "2023-09-01T16:21:08.472Z"
   },
   {
    "duration": 258,
    "start_time": "2023-09-01T16:25:05.488Z"
   },
   {
    "duration": 218,
    "start_time": "2023-09-01T16:29:52.436Z"
   },
   {
    "duration": 222,
    "start_time": "2023-09-01T16:30:29.039Z"
   },
   {
    "duration": 10,
    "start_time": "2023-09-01T16:31:05.818Z"
   },
   {
    "duration": 9,
    "start_time": "2023-09-01T16:31:46.631Z"
   },
   {
    "duration": 10,
    "start_time": "2023-09-01T16:39:30.976Z"
   },
   {
    "duration": 207,
    "start_time": "2023-09-01T16:39:39.454Z"
   },
   {
    "duration": 159,
    "start_time": "2023-09-01T16:40:30.640Z"
   },
   {
    "duration": 10,
    "start_time": "2023-09-01T16:41:44.976Z"
   },
   {
    "duration": 138,
    "start_time": "2023-09-01T16:42:19.979Z"
   },
   {
    "duration": 165,
    "start_time": "2023-09-01T16:42:23.471Z"
   },
   {
    "duration": 187,
    "start_time": "2023-09-01T16:42:51.727Z"
   },
   {
    "duration": 1468,
    "start_time": "2023-09-02T09:39:44.632Z"
   },
   {
    "duration": 165,
    "start_time": "2023-09-02T09:39:46.102Z"
   },
   {
    "duration": 13,
    "start_time": "2023-09-02T09:39:46.268Z"
   },
   {
    "duration": 58,
    "start_time": "2023-09-02T09:39:46.283Z"
   },
   {
    "duration": 10,
    "start_time": "2023-09-02T09:39:46.342Z"
   },
   {
    "duration": 7,
    "start_time": "2023-09-02T09:39:46.354Z"
   },
   {
    "duration": 55,
    "start_time": "2023-09-02T09:39:46.362Z"
   },
   {
    "duration": 5,
    "start_time": "2023-09-02T09:39:46.419Z"
   },
   {
    "duration": 28,
    "start_time": "2023-09-02T09:39:46.426Z"
   },
   {
    "duration": 21,
    "start_time": "2023-09-02T09:39:46.457Z"
   },
   {
    "duration": 37,
    "start_time": "2023-09-02T09:39:46.479Z"
   },
   {
    "duration": 43,
    "start_time": "2023-09-02T09:39:46.518Z"
   },
   {
    "duration": 21,
    "start_time": "2023-09-02T09:39:46.564Z"
   },
   {
    "duration": 14,
    "start_time": "2023-09-02T09:39:46.587Z"
   },
   {
    "duration": 138,
    "start_time": "2023-09-02T09:39:46.603Z"
   },
   {
    "duration": 4,
    "start_time": "2023-09-02T09:39:46.743Z"
   },
   {
    "duration": 448,
    "start_time": "2023-09-02T09:39:46.749Z"
   },
   {
    "duration": 25,
    "start_time": "2023-09-02T09:39:47.198Z"
   },
   {
    "duration": 133,
    "start_time": "2023-09-02T09:39:47.225Z"
   },
   {
    "duration": 7,
    "start_time": "2023-09-02T09:39:47.359Z"
   },
   {
    "duration": 131,
    "start_time": "2023-09-02T09:39:47.367Z"
   },
   {
    "duration": 25,
    "start_time": "2023-09-02T09:39:47.499Z"
   },
   {
    "duration": 19,
    "start_time": "2023-09-02T09:39:47.526Z"
   },
   {
    "duration": 36,
    "start_time": "2023-09-02T09:39:47.547Z"
   },
   {
    "duration": 130,
    "start_time": "2023-09-02T09:41:32.448Z"
   },
   {
    "duration": 15,
    "start_time": "2023-09-02T09:42:00.635Z"
   },
   {
    "duration": 305,
    "start_time": "2023-09-02T09:42:47.366Z"
   },
   {
    "duration": 662,
    "start_time": "2023-09-02T09:43:02.995Z"
   },
   {
    "duration": 19,
    "start_time": "2023-09-02T09:43:26.887Z"
   },
   {
    "duration": 574,
    "start_time": "2023-09-02T09:43:37.341Z"
   },
   {
    "duration": 627,
    "start_time": "2023-09-02T09:44:09.818Z"
   },
   {
    "duration": 592,
    "start_time": "2023-09-02T09:45:30.569Z"
   },
   {
    "duration": 615,
    "start_time": "2023-09-02T09:46:38.507Z"
   },
   {
    "duration": 544,
    "start_time": "2023-09-02T09:47:32.938Z"
   },
   {
    "duration": 677,
    "start_time": "2023-09-02T09:47:48.251Z"
   },
   {
    "duration": 101,
    "start_time": "2023-09-02T09:54:01.578Z"
   },
   {
    "duration": 102,
    "start_time": "2023-09-02T09:54:10.518Z"
   },
   {
    "duration": 155,
    "start_time": "2023-09-02T09:54:16.007Z"
   },
   {
    "duration": 604,
    "start_time": "2023-09-02T09:54:22.994Z"
   },
   {
    "duration": 338,
    "start_time": "2023-09-02T09:54:46.732Z"
   },
   {
    "duration": 367,
    "start_time": "2023-09-02T09:56:54.193Z"
   },
   {
    "duration": 360,
    "start_time": "2023-09-02T09:57:19.828Z"
   },
   {
    "duration": 459,
    "start_time": "2023-09-02T09:58:47.112Z"
   },
   {
    "duration": 542,
    "start_time": "2023-09-02T09:58:58.529Z"
   },
   {
    "duration": 489,
    "start_time": "2023-09-02T09:59:43.120Z"
   },
   {
    "duration": 493,
    "start_time": "2023-09-02T10:01:16.041Z"
   },
   {
    "duration": 534,
    "start_time": "2023-09-02T10:02:23.985Z"
   },
   {
    "duration": 517,
    "start_time": "2023-09-02T10:03:28.118Z"
   },
   {
    "duration": 614,
    "start_time": "2023-09-02T10:04:11.725Z"
   },
   {
    "duration": 521,
    "start_time": "2023-09-02T10:04:18.821Z"
   },
   {
    "duration": 544,
    "start_time": "2023-09-02T10:04:31.481Z"
   },
   {
    "duration": 463,
    "start_time": "2023-09-02T10:06:33.029Z"
   },
   {
    "duration": 121,
    "start_time": "2023-09-02T10:07:47.919Z"
   },
   {
    "duration": 455,
    "start_time": "2023-09-02T10:08:18.650Z"
   },
   {
    "duration": 461,
    "start_time": "2023-09-02T10:08:31.316Z"
   },
   {
    "duration": 17,
    "start_time": "2023-09-02T10:09:26.491Z"
   },
   {
    "duration": 15,
    "start_time": "2023-09-02T10:09:59.301Z"
   },
   {
    "duration": 15,
    "start_time": "2023-09-02T10:10:08.097Z"
   },
   {
    "duration": 663,
    "start_time": "2023-09-02T10:11:02.084Z"
   },
   {
    "duration": 150,
    "start_time": "2023-09-02T10:11:11.376Z"
   },
   {
    "duration": 414,
    "start_time": "2023-09-02T10:11:15.464Z"
   },
   {
    "duration": 16,
    "start_time": "2023-09-02T10:13:24.483Z"
   },
   {
    "duration": 15,
    "start_time": "2023-09-02T10:13:55.190Z"
   },
   {
    "duration": 15,
    "start_time": "2023-09-02T10:14:02.783Z"
   },
   {
    "duration": 15,
    "start_time": "2023-09-02T10:14:16.027Z"
   },
   {
    "duration": 13,
    "start_time": "2023-09-02T10:14:27.917Z"
   },
   {
    "duration": 1300,
    "start_time": "2023-09-02T10:16:30.271Z"
   },
   {
    "duration": 105,
    "start_time": "2023-09-02T10:20:08.581Z"
   },
   {
    "duration": 2039,
    "start_time": "2023-09-02T10:20:12.829Z"
   },
   {
    "duration": 2457,
    "start_time": "2023-09-02T10:21:16.590Z"
   },
   {
    "duration": 2410,
    "start_time": "2023-09-02T10:21:22.966Z"
   },
   {
    "duration": 2043,
    "start_time": "2023-09-02T10:21:26.334Z"
   },
   {
    "duration": 357,
    "start_time": "2023-09-02T10:22:19.651Z"
   },
   {
    "duration": 2648,
    "start_time": "2023-09-02T10:22:29.020Z"
   },
   {
    "duration": 6,
    "start_time": "2023-09-02T10:22:47.590Z"
   },
   {
    "duration": 6,
    "start_time": "2023-09-02T10:26:45.358Z"
   },
   {
    "duration": 2,
    "start_time": "2023-09-02T10:28:54.594Z"
   },
   {
    "duration": 83,
    "start_time": "2023-09-02T10:28:54.599Z"
   },
   {
    "duration": 14,
    "start_time": "2023-09-02T10:28:54.684Z"
   },
   {
    "duration": 52,
    "start_time": "2023-09-02T10:28:54.700Z"
   },
   {
    "duration": 10,
    "start_time": "2023-09-02T10:28:54.754Z"
   },
   {
    "duration": 8,
    "start_time": "2023-09-02T10:28:54.766Z"
   },
   {
    "duration": 43,
    "start_time": "2023-09-02T10:28:54.776Z"
   },
   {
    "duration": 3,
    "start_time": "2023-09-02T10:28:54.822Z"
   },
   {
    "duration": 9,
    "start_time": "2023-09-02T10:28:54.827Z"
   },
   {
    "duration": 21,
    "start_time": "2023-09-02T10:28:54.838Z"
   },
   {
    "duration": 12,
    "start_time": "2023-09-02T10:28:54.861Z"
   },
   {
    "duration": 8,
    "start_time": "2023-09-02T10:28:54.875Z"
   },
   {
    "duration": 25,
    "start_time": "2023-09-02T10:28:54.885Z"
   },
   {
    "duration": 13,
    "start_time": "2023-09-02T10:29:01.987Z"
   },
   {
    "duration": 4,
    "start_time": "2023-09-02T10:29:09.836Z"
   },
   {
    "duration": 14,
    "start_time": "2023-09-02T10:29:50.120Z"
   },
   {
    "duration": 13,
    "start_time": "2023-09-02T10:30:14.210Z"
   },
   {
    "duration": 13,
    "start_time": "2023-09-02T10:31:28.997Z"
   },
   {
    "duration": 13,
    "start_time": "2023-09-02T10:33:52.926Z"
   },
   {
    "duration": 3,
    "start_time": "2023-09-02T10:34:07.823Z"
   },
   {
    "duration": 99,
    "start_time": "2023-09-02T10:34:07.828Z"
   },
   {
    "duration": 12,
    "start_time": "2023-09-02T10:34:07.929Z"
   },
   {
    "duration": 60,
    "start_time": "2023-09-02T10:34:07.943Z"
   },
   {
    "duration": 10,
    "start_time": "2023-09-02T10:34:08.005Z"
   },
   {
    "duration": 11,
    "start_time": "2023-09-02T10:34:08.017Z"
   },
   {
    "duration": 28,
    "start_time": "2023-09-02T10:34:08.030Z"
   },
   {
    "duration": 7,
    "start_time": "2023-09-02T10:34:08.060Z"
   },
   {
    "duration": 18,
    "start_time": "2023-09-02T10:34:08.069Z"
   },
   {
    "duration": 25,
    "start_time": "2023-09-02T10:34:08.090Z"
   },
   {
    "duration": 23,
    "start_time": "2023-09-02T10:34:08.116Z"
   },
   {
    "duration": 26,
    "start_time": "2023-09-02T10:34:08.141Z"
   },
   {
    "duration": 31,
    "start_time": "2023-09-02T10:34:08.169Z"
   },
   {
    "duration": 12,
    "start_time": "2023-09-02T10:34:13.838Z"
   },
   {
    "duration": 5,
    "start_time": "2023-09-02T10:34:15.422Z"
   },
   {
    "duration": 4,
    "start_time": "2023-09-02T10:42:16.637Z"
   },
   {
    "duration": 76,
    "start_time": "2023-09-02T10:42:16.643Z"
   },
   {
    "duration": 12,
    "start_time": "2023-09-02T10:42:16.721Z"
   },
   {
    "duration": 40,
    "start_time": "2023-09-02T10:42:16.735Z"
   },
   {
    "duration": 37,
    "start_time": "2023-09-02T10:42:16.777Z"
   },
   {
    "duration": 5,
    "start_time": "2023-09-02T10:42:16.816Z"
   },
   {
    "duration": 22,
    "start_time": "2023-09-02T10:42:16.823Z"
   },
   {
    "duration": 4,
    "start_time": "2023-09-02T10:42:16.847Z"
   },
   {
    "duration": 13,
    "start_time": "2023-09-02T10:42:16.853Z"
   },
   {
    "duration": 11,
    "start_time": "2023-09-02T10:42:16.868Z"
   },
   {
    "duration": 7,
    "start_time": "2023-09-02T10:42:16.910Z"
   },
   {
    "duration": 7,
    "start_time": "2023-09-02T10:42:16.919Z"
   },
   {
    "duration": 11,
    "start_time": "2023-09-02T10:42:16.927Z"
   },
   {
    "duration": 12,
    "start_time": "2023-09-02T10:42:21.831Z"
   },
   {
    "duration": 7,
    "start_time": "2023-09-02T10:42:24.415Z"
   },
   {
    "duration": 4,
    "start_time": "2023-09-02T10:42:38.146Z"
   },
   {
    "duration": 116,
    "start_time": "2023-09-02T10:45:05.532Z"
   },
   {
    "duration": 4,
    "start_time": "2023-09-02T10:45:10.678Z"
   },
   {
    "duration": 423,
    "start_time": "2023-09-02T10:45:13.715Z"
   },
   {
    "duration": 13,
    "start_time": "2023-09-02T10:45:17.443Z"
   },
   {
    "duration": 134,
    "start_time": "2023-09-02T10:45:21.203Z"
   },
   {
    "duration": 6,
    "start_time": "2023-09-02T10:45:23.383Z"
   },
   {
    "duration": 114,
    "start_time": "2023-09-02T10:46:22.283Z"
   },
   {
    "duration": 7,
    "start_time": "2023-09-02T10:46:27.984Z"
   },
   {
    "duration": 6,
    "start_time": "2023-09-02T10:46:29.707Z"
   },
   {
    "duration": 23,
    "start_time": "2023-09-02T10:46:32.085Z"
   },
   {
    "duration": 506,
    "start_time": "2023-09-02T10:46:53.184Z"
   },
   {
    "duration": 468,
    "start_time": "2023-09-02T10:46:56.855Z"
   },
   {
    "duration": 122,
    "start_time": "2023-09-02T10:47:00.866Z"
   },
   {
    "duration": 105,
    "start_time": "2023-09-02T10:47:56.391Z"
   },
   {
    "duration": 128,
    "start_time": "2023-09-02T10:48:01.431Z"
   },
   {
    "duration": 142,
    "start_time": "2023-09-02T10:48:13.625Z"
   },
   {
    "duration": 130,
    "start_time": "2023-09-02T10:48:36.643Z"
   },
   {
    "duration": 5,
    "start_time": "2023-09-02T10:50:53.642Z"
   },
   {
    "duration": 0,
    "start_time": "2023-09-02T10:53:08.596Z"
   },
   {
    "duration": 5,
    "start_time": "2023-09-02T10:57:02.984Z"
   },
   {
    "duration": 5,
    "start_time": "2023-09-02T10:57:13.015Z"
   },
   {
    "duration": 24,
    "start_time": "2023-09-02T10:58:28.456Z"
   },
   {
    "duration": 288,
    "start_time": "2023-09-02T11:03:25.532Z"
   },
   {
    "duration": 27,
    "start_time": "2023-09-02T11:03:30.549Z"
   },
   {
    "duration": 498,
    "start_time": "2023-09-02T11:05:18.472Z"
   },
   {
    "duration": 499,
    "start_time": "2023-09-02T11:06:12.480Z"
   },
   {
    "duration": 100,
    "start_time": "2023-09-02T11:08:46.218Z"
   },
   {
    "duration": 16,
    "start_time": "2023-09-02T11:09:31.855Z"
   },
   {
    "duration": 99,
    "start_time": "2023-09-02T11:10:03.043Z"
   },
   {
    "duration": 17,
    "start_time": "2023-09-02T11:10:25.317Z"
   },
   {
    "duration": 97,
    "start_time": "2023-09-02T11:10:51.536Z"
   },
   {
    "duration": 186,
    "start_time": "2023-09-02T11:13:02.399Z"
   },
   {
    "duration": 1627,
    "start_time": "2023-09-02T11:14:11.048Z"
   },
   {
    "duration": 150,
    "start_time": "2023-09-02T11:14:53.061Z"
   },
   {
    "duration": 160,
    "start_time": "2023-09-02T11:15:13.692Z"
   },
   {
    "duration": 172,
    "start_time": "2023-09-02T11:16:47.306Z"
   },
   {
    "duration": 160,
    "start_time": "2023-09-02T11:17:25.782Z"
   },
   {
    "duration": 159,
    "start_time": "2023-09-02T11:17:49.202Z"
   },
   {
    "duration": 149,
    "start_time": "2023-09-02T11:18:00.923Z"
   },
   {
    "duration": 167,
    "start_time": "2023-09-02T11:18:25.494Z"
   },
   {
    "duration": 153,
    "start_time": "2023-09-02T11:18:42.584Z"
   },
   {
    "duration": 158,
    "start_time": "2023-09-02T11:18:55.728Z"
   },
   {
    "duration": 149,
    "start_time": "2023-09-02T11:20:14.099Z"
   },
   {
    "duration": 157,
    "start_time": "2023-09-02T11:21:53.510Z"
   },
   {
    "duration": 154,
    "start_time": "2023-09-02T11:21:57.206Z"
   },
   {
    "duration": 147,
    "start_time": "2023-09-02T11:23:12.951Z"
   },
   {
    "duration": 481,
    "start_time": "2023-09-02T11:24:45.923Z"
   },
   {
    "duration": 291,
    "start_time": "2023-09-02T11:26:03.740Z"
   },
   {
    "duration": 503,
    "start_time": "2023-09-02T11:26:49.009Z"
   },
   {
    "duration": 592,
    "start_time": "2023-09-02T11:27:02.515Z"
   },
   {
    "duration": 558,
    "start_time": "2023-09-02T11:27:16.011Z"
   },
   {
    "duration": 878,
    "start_time": "2023-09-02T11:28:14.082Z"
   },
   {
    "duration": 605,
    "start_time": "2023-09-02T11:28:27.780Z"
   },
   {
    "duration": 553,
    "start_time": "2023-09-02T11:28:45.502Z"
   },
   {
    "duration": 759,
    "start_time": "2023-09-02T11:29:36.052Z"
   },
   {
    "duration": 980,
    "start_time": "2023-09-02T11:29:43.029Z"
   },
   {
    "duration": 556,
    "start_time": "2023-09-02T11:30:29.234Z"
   },
   {
    "duration": 620,
    "start_time": "2023-09-02T11:30:44.892Z"
   },
   {
    "duration": 615,
    "start_time": "2023-09-02T11:30:59.774Z"
   },
   {
    "duration": 252,
    "start_time": "2023-09-02T11:31:51.587Z"
   },
   {
    "duration": 250,
    "start_time": "2023-09-02T11:32:21.047Z"
   },
   {
    "duration": 4,
    "start_time": "2023-09-02T11:32:39.977Z"
   },
   {
    "duration": 89,
    "start_time": "2023-09-02T11:32:39.983Z"
   },
   {
    "duration": 18,
    "start_time": "2023-09-02T11:32:40.073Z"
   },
   {
    "duration": 81,
    "start_time": "2023-09-02T11:32:40.093Z"
   },
   {
    "duration": 13,
    "start_time": "2023-09-02T11:32:40.176Z"
   },
   {
    "duration": 11,
    "start_time": "2023-09-02T11:32:40.191Z"
   },
   {
    "duration": 30,
    "start_time": "2023-09-02T11:32:40.204Z"
   },
   {
    "duration": 3,
    "start_time": "2023-09-02T11:32:40.236Z"
   },
   {
    "duration": 17,
    "start_time": "2023-09-02T11:32:40.240Z"
   },
   {
    "duration": 12,
    "start_time": "2023-09-02T11:32:40.259Z"
   },
   {
    "duration": 5,
    "start_time": "2023-09-02T11:32:40.273Z"
   },
   {
    "duration": 7,
    "start_time": "2023-09-02T11:32:40.280Z"
   },
   {
    "duration": 28,
    "start_time": "2023-09-02T11:32:40.289Z"
   },
   {
    "duration": 21,
    "start_time": "2023-09-02T11:32:40.319Z"
   },
   {
    "duration": 17,
    "start_time": "2023-09-02T11:32:40.342Z"
   },
   {
    "duration": 264,
    "start_time": "2023-09-02T11:32:40.360Z"
   },
   {
    "duration": 4,
    "start_time": "2023-09-02T11:32:40.626Z"
   },
   {
    "duration": 471,
    "start_time": "2023-09-02T11:32:40.632Z"
   },
   {
    "duration": 14,
    "start_time": "2023-09-02T11:32:41.106Z"
   },
   {
    "duration": 161,
    "start_time": "2023-09-02T11:32:41.121Z"
   },
   {
    "duration": 6,
    "start_time": "2023-09-02T11:32:41.284Z"
   },
   {
    "duration": 135,
    "start_time": "2023-09-02T11:32:41.292Z"
   },
   {
    "duration": 7,
    "start_time": "2023-09-02T11:32:41.429Z"
   },
   {
    "duration": 5,
    "start_time": "2023-09-02T11:32:41.438Z"
   },
   {
    "duration": 23,
    "start_time": "2023-09-02T11:32:41.445Z"
   },
   {
    "duration": 578,
    "start_time": "2023-09-02T11:32:41.470Z"
   },
   {
    "duration": 621,
    "start_time": "2023-09-02T11:32:42.050Z"
   },
   {
    "duration": 239,
    "start_time": "2023-09-02T11:32:42.673Z"
   },
   {
    "duration": 519,
    "start_time": "2023-09-02T11:32:42.914Z"
   },
   {
    "duration": 252,
    "start_time": "2023-09-02T11:32:43.435Z"
   },
   {
    "duration": 496,
    "start_time": "2023-09-02T11:32:43.689Z"
   },
   {
    "duration": 248,
    "start_time": "2023-09-02T11:32:44.186Z"
   },
   {
    "duration": 568,
    "start_time": "2023-09-02T11:32:44.436Z"
   },
   {
    "duration": 608,
    "start_time": "2023-09-02T11:33:52.315Z"
   },
   {
    "duration": 560,
    "start_time": "2023-09-02T11:34:01.786Z"
   },
   {
    "duration": 232,
    "start_time": "2023-09-02T11:34:12.980Z"
   },
   {
    "duration": 220,
    "start_time": "2023-09-02T11:34:47.418Z"
   },
   {
    "duration": 419,
    "start_time": "2023-09-02T11:35:36.247Z"
   },
   {
    "duration": 393,
    "start_time": "2023-09-02T11:35:42.999Z"
   },
   {
    "duration": 385,
    "start_time": "2023-09-02T11:35:48.624Z"
   },
   {
    "duration": 232,
    "start_time": "2023-09-02T11:36:17.907Z"
   },
   {
    "duration": 242,
    "start_time": "2023-09-02T11:36:28.357Z"
   },
   {
    "duration": 342,
    "start_time": "2023-09-02T12:54:28.770Z"
   },
   {
    "duration": 4,
    "start_time": "2023-09-02T12:55:46.686Z"
   },
   {
    "duration": 84,
    "start_time": "2023-09-02T12:55:46.692Z"
   },
   {
    "duration": 12,
    "start_time": "2023-09-02T12:55:46.778Z"
   },
   {
    "duration": 44,
    "start_time": "2023-09-02T12:55:46.792Z"
   },
   {
    "duration": 10,
    "start_time": "2023-09-02T12:55:46.838Z"
   },
   {
    "duration": 14,
    "start_time": "2023-09-02T12:55:46.850Z"
   },
   {
    "duration": 28,
    "start_time": "2023-09-02T12:55:46.866Z"
   },
   {
    "duration": 18,
    "start_time": "2023-09-02T12:55:46.896Z"
   },
   {
    "duration": 14,
    "start_time": "2023-09-02T12:55:46.916Z"
   },
   {
    "duration": 30,
    "start_time": "2023-09-02T12:55:46.932Z"
   },
   {
    "duration": 15,
    "start_time": "2023-09-02T12:55:46.964Z"
   },
   {
    "duration": 13,
    "start_time": "2023-09-02T12:55:46.982Z"
   },
   {
    "duration": 8,
    "start_time": "2023-09-02T12:55:46.997Z"
   },
   {
    "duration": 20,
    "start_time": "2023-09-02T12:55:47.009Z"
   },
   {
    "duration": 6,
    "start_time": "2023-09-02T12:55:47.030Z"
   },
   {
    "duration": 263,
    "start_time": "2023-09-02T12:55:47.038Z"
   },
   {
    "duration": 12,
    "start_time": "2023-09-02T12:55:47.309Z"
   },
   {
    "duration": 447,
    "start_time": "2023-09-02T12:55:47.323Z"
   },
   {
    "duration": 12,
    "start_time": "2023-09-02T12:55:47.772Z"
   },
   {
    "duration": 165,
    "start_time": "2023-09-02T12:55:47.786Z"
   },
   {
    "duration": 7,
    "start_time": "2023-09-02T12:55:47.953Z"
   },
   {
    "duration": 152,
    "start_time": "2023-09-02T12:55:47.962Z"
   },
   {
    "duration": 9,
    "start_time": "2023-09-02T12:55:48.117Z"
   },
   {
    "duration": 7,
    "start_time": "2023-09-02T12:55:48.127Z"
   },
   {
    "duration": 24,
    "start_time": "2023-09-02T12:55:48.136Z"
   },
   {
    "duration": 620,
    "start_time": "2023-09-02T12:55:48.162Z"
   },
   {
    "duration": 570,
    "start_time": "2023-09-02T12:55:48.784Z"
   },
   {
    "duration": 269,
    "start_time": "2023-09-02T12:55:49.356Z"
   },
   {
    "duration": 857,
    "start_time": "2023-09-02T12:55:49.627Z"
   },
   {
    "duration": 282,
    "start_time": "2023-09-02T12:55:50.485Z"
   },
   {
    "duration": 260,
    "start_time": "2023-09-02T12:55:50.769Z"
   },
   {
    "duration": 249,
    "start_time": "2023-09-02T12:55:51.032Z"
   },
   {
    "duration": 586,
    "start_time": "2023-09-02T12:55:51.283Z"
   },
   {
    "duration": 359,
    "start_time": "2023-09-02T12:55:51.871Z"
   },
   {
    "duration": 659,
    "start_time": "2023-09-02T13:00:31.843Z"
   },
   {
    "duration": 70,
    "start_time": "2023-09-02T13:32:36.271Z"
   },
   {
    "duration": 1535,
    "start_time": "2023-09-02T13:32:54.824Z"
   },
   {
    "duration": 96,
    "start_time": "2023-09-02T13:32:56.361Z"
   },
   {
    "duration": 17,
    "start_time": "2023-09-02T13:32:56.458Z"
   },
   {
    "duration": 49,
    "start_time": "2023-09-02T13:32:56.477Z"
   },
   {
    "duration": 10,
    "start_time": "2023-09-02T13:32:56.528Z"
   },
   {
    "duration": 8,
    "start_time": "2023-09-02T13:32:56.540Z"
   },
   {
    "duration": 68,
    "start_time": "2023-09-02T13:32:56.550Z"
   },
   {
    "duration": 55,
    "start_time": "2023-09-02T13:32:56.620Z"
   },
   {
    "duration": 11,
    "start_time": "2023-09-02T13:32:56.677Z"
   },
   {
    "duration": 24,
    "start_time": "2023-09-02T13:32:56.690Z"
   },
   {
    "duration": 20,
    "start_time": "2023-09-02T13:32:56.715Z"
   },
   {
    "duration": 17,
    "start_time": "2023-09-02T13:32:56.737Z"
   },
   {
    "duration": 26,
    "start_time": "2023-09-02T13:32:56.755Z"
   },
   {
    "duration": 53,
    "start_time": "2023-09-02T13:32:56.784Z"
   },
   {
    "duration": 11,
    "start_time": "2023-09-02T13:32:56.839Z"
   },
   {
    "duration": 156,
    "start_time": "2023-09-02T13:32:56.852Z"
   },
   {
    "duration": 4,
    "start_time": "2023-09-02T13:32:57.010Z"
   },
   {
    "duration": 438,
    "start_time": "2023-09-02T13:32:57.015Z"
   },
   {
    "duration": 12,
    "start_time": "2023-09-02T13:32:57.455Z"
   },
   {
    "duration": 144,
    "start_time": "2023-09-02T13:32:57.469Z"
   },
   {
    "duration": 6,
    "start_time": "2023-09-02T13:32:57.615Z"
   },
   {
    "duration": 130,
    "start_time": "2023-09-02T13:32:57.622Z"
   },
   {
    "duration": 6,
    "start_time": "2023-09-02T13:32:57.754Z"
   },
   {
    "duration": 5,
    "start_time": "2023-09-02T13:32:57.762Z"
   },
   {
    "duration": 49,
    "start_time": "2023-09-02T13:32:57.769Z"
   },
   {
    "duration": 577,
    "start_time": "2023-09-02T13:32:57.820Z"
   },
   {
    "duration": 489,
    "start_time": "2023-09-02T13:32:58.398Z"
   },
   {
    "duration": 134,
    "start_time": "2023-09-02T13:32:58.890Z"
   },
   {
    "duration": 478,
    "start_time": "2023-09-02T13:32:59.026Z"
   },
   {
    "duration": 163,
    "start_time": "2023-09-02T13:32:59.509Z"
   },
   {
    "duration": 153,
    "start_time": "2023-09-02T13:32:59.674Z"
   },
   {
    "duration": 161,
    "start_time": "2023-09-02T13:32:59.830Z"
   },
   {
    "duration": 513,
    "start_time": "2023-09-02T13:32:59.992Z"
   },
   {
    "duration": 314,
    "start_time": "2023-09-02T13:33:00.507Z"
   },
   {
    "duration": 23,
    "start_time": "2023-09-02T13:33:00.822Z"
   },
   {
    "duration": 100,
    "start_time": "2023-09-02T13:33:00.847Z"
   },
   {
    "duration": 176,
    "start_time": "2023-09-02T13:34:58.306Z"
   },
   {
    "duration": 16,
    "start_time": "2023-09-02T13:46:14.707Z"
   },
   {
    "duration": 15,
    "start_time": "2023-09-02T13:47:01.496Z"
   },
   {
    "duration": 5035,
    "start_time": "2023-09-02T13:48:07.696Z"
   },
   {
    "duration": 164,
    "start_time": "2023-09-02T13:49:02.534Z"
   },
   {
    "duration": 4961,
    "start_time": "2023-09-02T13:49:08.311Z"
   },
   {
    "duration": 5534,
    "start_time": "2023-09-02T13:49:51.796Z"
   },
   {
    "duration": 16,
    "start_time": "2023-09-02T13:51:07.685Z"
   },
   {
    "duration": 6,
    "start_time": "2023-09-02T13:51:22.119Z"
   },
   {
    "duration": 19,
    "start_time": "2023-09-02T13:53:18.060Z"
   },
   {
    "duration": 115,
    "start_time": "2023-09-02T13:53:40.856Z"
   },
   {
    "duration": 3,
    "start_time": "2023-09-02T13:58:17.022Z"
   },
   {
    "duration": 12,
    "start_time": "2023-09-02T13:58:19.209Z"
   },
   {
    "duration": 128,
    "start_time": "2023-09-02T14:10:49.372Z"
   },
   {
    "duration": 115,
    "start_time": "2023-09-02T14:11:01.055Z"
   },
   {
    "duration": 6,
    "start_time": "2023-09-02T14:13:03.372Z"
   },
   {
    "duration": 7,
    "start_time": "2023-09-02T14:13:19.838Z"
   },
   {
    "duration": 7,
    "start_time": "2023-09-02T14:14:03.131Z"
   },
   {
    "duration": 8,
    "start_time": "2023-09-02T14:14:19.717Z"
   },
   {
    "duration": 8,
    "start_time": "2023-09-02T14:14:25.733Z"
   },
   {
    "duration": 7,
    "start_time": "2023-09-02T14:25:32.942Z"
   },
   {
    "duration": 12,
    "start_time": "2023-09-02T14:26:01.049Z"
   },
   {
    "duration": 11,
    "start_time": "2023-09-02T14:31:49.603Z"
   },
   {
    "duration": 9,
    "start_time": "2023-09-02T14:32:55.889Z"
   },
   {
    "duration": 250,
    "start_time": "2023-09-02T14:38:58.004Z"
   },
   {
    "duration": 9,
    "start_time": "2023-09-02T14:50:55.615Z"
   },
   {
    "duration": 9,
    "start_time": "2023-09-02T14:51:46.545Z"
   },
   {
    "duration": 10,
    "start_time": "2023-09-02T14:51:50.137Z"
   },
   {
    "duration": 9,
    "start_time": "2023-09-02T14:51:54.878Z"
   },
   {
    "duration": 30,
    "start_time": "2023-09-02T14:56:30.330Z"
   },
   {
    "duration": 16,
    "start_time": "2023-09-02T14:56:44.147Z"
   },
   {
    "duration": 8,
    "start_time": "2023-09-02T14:56:48.756Z"
   },
   {
    "duration": 28,
    "start_time": "2023-09-02T14:57:03.372Z"
   },
   {
    "duration": 9,
    "start_time": "2023-09-02T14:57:40.258Z"
   },
   {
    "duration": 9,
    "start_time": "2023-09-02T14:58:06.390Z"
   },
   {
    "duration": 11,
    "start_time": "2023-09-02T15:20:12.934Z"
   },
   {
    "duration": 9,
    "start_time": "2023-09-02T15:20:37.224Z"
   },
   {
    "duration": 16,
    "start_time": "2023-09-02T15:20:47.193Z"
   },
   {
    "duration": 21,
    "start_time": "2023-09-02T15:21:02.772Z"
   },
   {
    "duration": 89,
    "start_time": "2023-09-02T15:21:19.093Z"
   },
   {
    "duration": 17,
    "start_time": "2023-09-02T15:21:37.465Z"
   },
   {
    "duration": 30,
    "start_time": "2023-09-02T15:22:07.098Z"
   },
   {
    "duration": 41,
    "start_time": "2023-09-02T15:22:29.645Z"
   },
   {
    "duration": 31,
    "start_time": "2023-09-02T15:23:51.536Z"
   },
   {
    "duration": 29,
    "start_time": "2023-09-02T15:24:29.091Z"
   },
   {
    "duration": 31,
    "start_time": "2023-09-02T15:25:26.823Z"
   },
   {
    "duration": 42,
    "start_time": "2023-09-02T15:26:06.109Z"
   },
   {
    "duration": 15,
    "start_time": "2023-09-02T15:26:35.225Z"
   },
   {
    "duration": 10,
    "start_time": "2023-09-02T15:28:28.547Z"
   },
   {
    "duration": 45,
    "start_time": "2023-09-02T15:28:41.733Z"
   },
   {
    "duration": 10,
    "start_time": "2023-09-02T15:28:44.433Z"
   },
   {
    "duration": 10,
    "start_time": "2023-09-02T15:29:55.073Z"
   },
   {
    "duration": 12,
    "start_time": "2023-09-02T15:30:29.340Z"
   },
   {
    "duration": 12,
    "start_time": "2023-09-02T15:30:52.128Z"
   },
   {
    "duration": 13,
    "start_time": "2023-09-02T15:32:04.368Z"
   },
   {
    "duration": 12,
    "start_time": "2023-09-02T15:32:52.161Z"
   },
   {
    "duration": 11,
    "start_time": "2023-09-02T15:33:06.869Z"
   },
   {
    "duration": 11,
    "start_time": "2023-09-02T15:33:14.409Z"
   },
   {
    "duration": 22,
    "start_time": "2023-09-02T15:40:14.006Z"
   },
   {
    "duration": 16,
    "start_time": "2023-09-02T15:40:19.624Z"
   },
   {
    "duration": 13,
    "start_time": "2023-09-02T15:40:53.768Z"
   },
   {
    "duration": 14,
    "start_time": "2023-09-02T15:47:18.721Z"
   },
   {
    "duration": 36,
    "start_time": "2023-09-02T15:47:22.753Z"
   },
   {
    "duration": 158,
    "start_time": "2023-09-02T15:48:00.094Z"
   },
   {
    "duration": 160,
    "start_time": "2023-09-02T15:48:27.786Z"
   },
   {
    "duration": 52,
    "start_time": "2023-09-02T15:50:18.084Z"
   },
   {
    "duration": 1574,
    "start_time": "2023-09-02T15:50:27.649Z"
   },
   {
    "duration": 76,
    "start_time": "2023-09-02T15:50:29.228Z"
   },
   {
    "duration": 24,
    "start_time": "2023-09-02T15:50:29.306Z"
   },
   {
    "duration": 41,
    "start_time": "2023-09-02T15:50:29.332Z"
   },
   {
    "duration": 10,
    "start_time": "2023-09-02T15:50:29.375Z"
   },
   {
    "duration": 27,
    "start_time": "2023-09-02T15:50:29.386Z"
   },
   {
    "duration": 33,
    "start_time": "2023-09-02T15:50:29.415Z"
   },
   {
    "duration": 4,
    "start_time": "2023-09-02T15:50:29.449Z"
   },
   {
    "duration": 8,
    "start_time": "2023-09-02T15:50:29.454Z"
   },
   {
    "duration": 8,
    "start_time": "2023-09-02T15:50:29.465Z"
   },
   {
    "duration": 40,
    "start_time": "2023-09-02T15:50:29.475Z"
   },
   {
    "duration": 8,
    "start_time": "2023-09-02T15:50:29.517Z"
   },
   {
    "duration": 8,
    "start_time": "2023-09-02T15:50:29.528Z"
   },
   {
    "duration": 16,
    "start_time": "2023-09-02T15:50:29.537Z"
   },
   {
    "duration": 9,
    "start_time": "2023-09-02T15:50:29.555Z"
   },
   {
    "duration": 194,
    "start_time": "2023-09-02T15:50:29.566Z"
   },
   {
    "duration": 5,
    "start_time": "2023-09-02T15:50:29.762Z"
   },
   {
    "duration": 535,
    "start_time": "2023-09-02T15:50:29.768Z"
   },
   {
    "duration": 31,
    "start_time": "2023-09-02T15:50:30.304Z"
   },
   {
    "duration": 163,
    "start_time": "2023-09-02T15:50:30.337Z"
   },
   {
    "duration": 11,
    "start_time": "2023-09-02T15:50:30.510Z"
   },
   {
    "duration": 175,
    "start_time": "2023-09-02T15:50:30.523Z"
   },
   {
    "duration": 14,
    "start_time": "2023-09-02T15:50:30.700Z"
   },
   {
    "duration": 60,
    "start_time": "2023-09-02T15:50:30.716Z"
   },
   {
    "duration": 72,
    "start_time": "2023-09-02T15:50:30.779Z"
   },
   {
    "duration": 831,
    "start_time": "2023-09-02T15:50:30.855Z"
   },
   {
    "duration": 655,
    "start_time": "2023-09-02T15:50:31.688Z"
   },
   {
    "duration": 180,
    "start_time": "2023-09-02T15:50:32.348Z"
   },
   {
    "duration": 10,
    "start_time": "2023-09-02T15:50:32.533Z"
   },
   {
    "duration": 660,
    "start_time": "2023-09-02T15:50:32.545Z"
   },
   {
    "duration": 170,
    "start_time": "2023-09-02T15:50:33.209Z"
   },
   {
    "duration": 183,
    "start_time": "2023-09-02T15:50:33.382Z"
   },
   {
    "duration": 10,
    "start_time": "2023-09-02T15:50:33.567Z"
   },
   {
    "duration": 186,
    "start_time": "2023-09-02T15:50:33.579Z"
   },
   {
    "duration": 9,
    "start_time": "2023-09-02T15:50:33.767Z"
   },
   {
    "duration": 555,
    "start_time": "2023-09-02T15:50:33.778Z"
   },
   {
    "duration": 334,
    "start_time": "2023-09-02T15:50:34.335Z"
   },
   {
    "duration": 196,
    "start_time": "2023-09-02T15:50:34.671Z"
   },
   {
    "duration": 9,
    "start_time": "2023-09-02T15:50:34.868Z"
   },
   {
    "duration": 28,
    "start_time": "2023-09-02T15:50:34.879Z"
   },
   {
    "duration": 41,
    "start_time": "2023-09-02T15:50:51.898Z"
   },
   {
    "duration": 5,
    "start_time": "2023-09-02T15:53:09.643Z"
   },
   {
    "duration": 446,
    "start_time": "2023-09-02T15:56:26.714Z"
   },
   {
    "duration": 110,
    "start_time": "2023-09-02T15:59:27.528Z"
   },
   {
    "duration": 38,
    "start_time": "2023-09-02T16:00:00.406Z"
   },
   {
    "duration": 23,
    "start_time": "2023-09-02T16:00:56.372Z"
   },
   {
    "duration": 3,
    "start_time": "2023-09-02T16:01:30.679Z"
   },
   {
    "duration": 4,
    "start_time": "2023-09-02T16:01:35.657Z"
   },
   {
    "duration": 44,
    "start_time": "2023-09-02T16:01:57.586Z"
   },
   {
    "duration": 10,
    "start_time": "2023-09-02T16:02:30.039Z"
   },
   {
    "duration": 10,
    "start_time": "2023-09-02T16:03:00.065Z"
   },
   {
    "duration": 10,
    "start_time": "2023-09-02T16:03:13.130Z"
   },
   {
    "duration": 41,
    "start_time": "2023-09-02T16:04:33.644Z"
   },
   {
    "duration": 11,
    "start_time": "2023-09-02T16:05:01.364Z"
   },
   {
    "duration": 19,
    "start_time": "2023-09-02T16:06:06.657Z"
   },
   {
    "duration": 11,
    "start_time": "2023-09-02T16:06:21.825Z"
   },
   {
    "duration": 8,
    "start_time": "2023-09-02T16:06:39.043Z"
   },
   {
    "duration": 9,
    "start_time": "2023-09-02T16:07:04.771Z"
   },
   {
    "duration": 8,
    "start_time": "2023-09-02T16:07:23.800Z"
   },
   {
    "duration": 34,
    "start_time": "2023-09-02T17:21:07.662Z"
   },
   {
    "duration": 55,
    "start_time": "2023-09-02T17:23:06.680Z"
   },
   {
    "duration": 5,
    "start_time": "2023-09-02T18:27:10.111Z"
   },
   {
    "duration": 5,
    "start_time": "2023-09-02T18:32:57.074Z"
   },
   {
    "duration": 13,
    "start_time": "2023-09-02T18:34:26.862Z"
   },
   {
    "duration": 28,
    "start_time": "2023-09-02T18:34:33.344Z"
   },
   {
    "duration": 15,
    "start_time": "2023-09-02T18:34:48.160Z"
   },
   {
    "duration": 15,
    "start_time": "2023-09-02T20:21:59.038Z"
   },
   {
    "duration": 8,
    "start_time": "2023-09-02T20:22:09.735Z"
   },
   {
    "duration": 29,
    "start_time": "2023-09-02T20:23:27.921Z"
   },
   {
    "duration": 5,
    "start_time": "2023-09-02T20:23:41.053Z"
   },
   {
    "duration": 5836,
    "start_time": "2023-09-02T20:36:49.776Z"
   },
   {
    "duration": 5715,
    "start_time": "2023-09-02T20:37:16.763Z"
   },
   {
    "duration": 6576,
    "start_time": "2023-09-02T20:38:19.459Z"
   },
   {
    "duration": 5925,
    "start_time": "2023-09-02T20:38:59.936Z"
   },
   {
    "duration": 5821,
    "start_time": "2023-09-02T20:39:28.177Z"
   },
   {
    "duration": 6460,
    "start_time": "2023-09-02T20:39:43.587Z"
   },
   {
    "duration": 5891,
    "start_time": "2023-09-02T20:39:59.189Z"
   },
   {
    "duration": 6293,
    "start_time": "2023-09-02T20:40:58.811Z"
   },
   {
    "duration": 6493,
    "start_time": "2023-09-02T20:41:14.283Z"
   },
   {
    "duration": 6631,
    "start_time": "2023-09-02T20:45:22.086Z"
   },
   {
    "duration": 6623,
    "start_time": "2023-09-02T20:45:55.641Z"
   },
   {
    "duration": 6319,
    "start_time": "2023-09-02T20:46:04.351Z"
   },
   {
    "duration": 6192,
    "start_time": "2023-09-02T20:46:47.046Z"
   },
   {
    "duration": 6212,
    "start_time": "2023-09-02T20:48:55.252Z"
   },
   {
    "duration": 5547,
    "start_time": "2023-09-02T20:49:34.503Z"
   },
   {
    "duration": 5520,
    "start_time": "2023-09-02T20:51:21.203Z"
   },
   {
    "duration": 32,
    "start_time": "2023-09-02T20:56:49.768Z"
   },
   {
    "duration": 26,
    "start_time": "2023-09-02T21:07:20.837Z"
   },
   {
    "duration": 45,
    "start_time": "2023-09-03T10:45:14.910Z"
   },
   {
    "duration": 1556,
    "start_time": "2023-09-03T10:47:42.242Z"
   },
   {
    "duration": 73,
    "start_time": "2023-09-03T10:47:43.800Z"
   },
   {
    "duration": 13,
    "start_time": "2023-09-03T10:47:43.875Z"
   },
   {
    "duration": 37,
    "start_time": "2023-09-03T10:47:43.890Z"
   },
   {
    "duration": 8,
    "start_time": "2023-09-03T10:47:43.929Z"
   },
   {
    "duration": 25,
    "start_time": "2023-09-03T10:47:43.939Z"
   },
   {
    "duration": 31,
    "start_time": "2023-09-03T10:47:43.966Z"
   },
   {
    "duration": 3,
    "start_time": "2023-09-03T10:47:43.999Z"
   },
   {
    "duration": 20,
    "start_time": "2023-09-03T10:47:44.004Z"
   },
   {
    "duration": 6,
    "start_time": "2023-09-03T10:47:44.026Z"
   },
   {
    "duration": 6,
    "start_time": "2023-09-03T10:47:44.034Z"
   },
   {
    "duration": 5,
    "start_time": "2023-09-03T10:47:44.041Z"
   },
   {
    "duration": 6,
    "start_time": "2023-09-03T10:47:44.048Z"
   },
   {
    "duration": 9,
    "start_time": "2023-09-03T10:47:44.056Z"
   },
   {
    "duration": 69,
    "start_time": "2023-09-03T10:48:10.786Z"
   },
   {
    "duration": 138,
    "start_time": "2023-09-03T10:48:25.964Z"
   },
   {
    "duration": 105,
    "start_time": "2023-09-03T10:48:36.615Z"
   },
   {
    "duration": 4,
    "start_time": "2023-09-03T10:48:41.069Z"
   },
   {
    "duration": 535,
    "start_time": "2023-09-03T10:48:45.942Z"
   },
   {
    "duration": 12,
    "start_time": "2023-09-03T10:49:02.239Z"
   },
   {
    "duration": 111,
    "start_time": "2023-09-03T10:49:04.926Z"
   },
   {
    "duration": 12,
    "start_time": "2023-09-03T10:49:14.945Z"
   },
   {
    "duration": 172,
    "start_time": "2023-09-03T10:49:28.196Z"
   },
   {
    "duration": 17,
    "start_time": "2023-09-03T10:49:56.799Z"
   },
   {
    "duration": 6,
    "start_time": "2023-09-03T10:50:04.263Z"
   },
   {
    "duration": 94,
    "start_time": "2023-09-03T10:50:07.031Z"
   },
   {
    "duration": 98,
    "start_time": "2023-09-03T10:50:10.167Z"
   },
   {
    "duration": 6,
    "start_time": "2023-09-03T10:50:13.272Z"
   },
   {
    "duration": 3,
    "start_time": "2023-09-03T10:54:14.284Z"
   },
   {
    "duration": 3,
    "start_time": "2023-09-03T10:55:37.824Z"
   },
   {
    "duration": 28,
    "start_time": "2023-09-03T10:55:57.890Z"
   },
   {
    "duration": 476,
    "start_time": "2023-09-03T10:56:14.147Z"
   },
   {
    "duration": 1568,
    "start_time": "2023-09-03T10:56:25.565Z"
   },
   {
    "duration": 15,
    "start_time": "2023-09-03T10:57:06.521Z"
   },
   {
    "duration": 4,
    "start_time": "2023-09-03T10:58:04.190Z"
   },
   {
    "duration": 106,
    "start_time": "2023-09-03T10:58:04.196Z"
   },
   {
    "duration": 14,
    "start_time": "2023-09-03T10:58:04.305Z"
   },
   {
    "duration": 52,
    "start_time": "2023-09-03T10:58:04.321Z"
   },
   {
    "duration": 10,
    "start_time": "2023-09-03T10:58:04.375Z"
   },
   {
    "duration": 32,
    "start_time": "2023-09-03T10:58:04.387Z"
   },
   {
    "duration": 54,
    "start_time": "2023-09-03T10:58:04.421Z"
   },
   {
    "duration": 14,
    "start_time": "2023-09-03T10:58:04.476Z"
   },
   {
    "duration": 46,
    "start_time": "2023-09-03T10:58:04.492Z"
   },
   {
    "duration": 42,
    "start_time": "2023-09-03T10:58:04.541Z"
   },
   {
    "duration": 22,
    "start_time": "2023-09-03T10:58:04.585Z"
   },
   {
    "duration": 19,
    "start_time": "2023-09-03T10:58:04.609Z"
   },
   {
    "duration": 34,
    "start_time": "2023-09-03T10:58:04.630Z"
   },
   {
    "duration": 27,
    "start_time": "2023-09-03T10:58:04.666Z"
   },
   {
    "duration": 16,
    "start_time": "2023-09-03T10:58:04.695Z"
   },
   {
    "duration": 131,
    "start_time": "2023-09-03T10:58:04.712Z"
   },
   {
    "duration": 3,
    "start_time": "2023-09-03T10:58:04.845Z"
   },
   {
    "duration": 402,
    "start_time": "2023-09-03T10:58:04.849Z"
   },
   {
    "duration": 12,
    "start_time": "2023-09-03T10:58:05.253Z"
   },
   {
    "duration": 118,
    "start_time": "2023-09-03T10:58:05.267Z"
   },
   {
    "duration": 7,
    "start_time": "2023-09-03T10:58:05.387Z"
   },
   {
    "duration": 112,
    "start_time": "2023-09-03T10:58:05.395Z"
   },
   {
    "duration": 15,
    "start_time": "2023-09-03T10:58:05.509Z"
   },
   {
    "duration": 24,
    "start_time": "2023-09-03T10:58:05.525Z"
   },
   {
    "duration": 8,
    "start_time": "2023-09-03T10:58:26.467Z"
   },
   {
    "duration": 3,
    "start_time": "2023-09-03T10:58:51.311Z"
   },
   {
    "duration": 7,
    "start_time": "2023-09-03T10:58:52.686Z"
   },
   {
    "duration": 3,
    "start_time": "2023-09-03T11:00:02.023Z"
   },
   {
    "duration": 20,
    "start_time": "2023-09-03T11:00:03.408Z"
   },
   {
    "duration": 3,
    "start_time": "2023-09-03T11:00:53.821Z"
   },
   {
    "duration": 22,
    "start_time": "2023-09-03T11:00:55.254Z"
   },
   {
    "duration": 3,
    "start_time": "2023-09-03T11:02:18.671Z"
   },
   {
    "duration": 13,
    "start_time": "2023-09-03T11:02:20.023Z"
   },
   {
    "duration": 3,
    "start_time": "2023-09-03T11:02:55.156Z"
   },
   {
    "duration": 6,
    "start_time": "2023-09-03T11:02:56.268Z"
   },
   {
    "duration": 26,
    "start_time": "2023-09-03T11:03:07.141Z"
   },
   {
    "duration": 496,
    "start_time": "2023-09-03T11:03:12.381Z"
   },
   {
    "duration": 440,
    "start_time": "2023-09-03T11:03:21.862Z"
   },
   {
    "duration": 101,
    "start_time": "2023-09-03T11:03:26.559Z"
   },
   {
    "duration": 7,
    "start_time": "2023-09-03T11:03:31.936Z"
   },
   {
    "duration": 695,
    "start_time": "2023-09-03T11:03:36.808Z"
   },
   {
    "duration": 126,
    "start_time": "2023-09-03T11:03:42.649Z"
   },
   {
    "duration": 6,
    "start_time": "2023-09-03T11:04:07.869Z"
   },
   {
    "duration": 136,
    "start_time": "2023-09-03T11:04:26.734Z"
   },
   {
    "duration": 7,
    "start_time": "2023-09-03T11:04:42.600Z"
   },
   {
    "duration": 150,
    "start_time": "2023-09-03T11:05:07.508Z"
   },
   {
    "duration": 8,
    "start_time": "2023-09-03T11:05:41.424Z"
   },
   {
    "duration": 428,
    "start_time": "2023-09-03T11:06:13.938Z"
   },
   {
    "duration": 184,
    "start_time": "2023-09-03T11:06:21.004Z"
   },
   {
    "duration": 150,
    "start_time": "2023-09-03T11:06:27.789Z"
   },
   {
    "duration": 7,
    "start_time": "2023-09-03T11:07:45.590Z"
   },
   {
    "duration": 8,
    "start_time": "2023-09-03T11:07:59.384Z"
   },
   {
    "duration": 3,
    "start_time": "2023-09-03T11:09:57.358Z"
   },
   {
    "duration": 6,
    "start_time": "2023-09-03T11:10:07.464Z"
   },
   {
    "duration": 9,
    "start_time": "2023-09-03T11:10:52.670Z"
   },
   {
    "duration": 7,
    "start_time": "2023-09-03T11:11:42.523Z"
   },
   {
    "duration": 7,
    "start_time": "2023-09-03T11:12:34.857Z"
   },
   {
    "duration": 8,
    "start_time": "2023-09-03T11:12:58.012Z"
   },
   {
    "duration": 430,
    "start_time": "2023-09-03T11:16:37.574Z"
   },
   {
    "duration": 8,
    "start_time": "2023-09-03T11:16:57.105Z"
   },
   {
    "duration": 9,
    "start_time": "2023-09-03T11:20:10.151Z"
   },
   {
    "duration": 9,
    "start_time": "2023-09-03T11:20:55.101Z"
   },
   {
    "duration": 6,
    "start_time": "2023-09-03T11:56:54.853Z"
   },
   {
    "duration": 3,
    "start_time": "2023-09-03T11:56:58.539Z"
   },
   {
    "duration": 27,
    "start_time": "2023-09-03T12:02:34.339Z"
   },
   {
    "duration": 25,
    "start_time": "2023-09-03T12:02:56.951Z"
   },
   {
    "duration": 6,
    "start_time": "2023-09-03T12:03:23.613Z"
   },
   {
    "duration": 7,
    "start_time": "2023-09-03T12:03:33.877Z"
   },
   {
    "duration": 780,
    "start_time": "2023-09-03T12:05:16.018Z"
   },
   {
    "duration": 3,
    "start_time": "2023-09-03T12:05:44.248Z"
   },
   {
    "duration": 25,
    "start_time": "2023-09-03T12:05:56.470Z"
   },
   {
    "duration": 7,
    "start_time": "2023-09-03T12:06:05.841Z"
   },
   {
    "duration": 7,
    "start_time": "2023-09-03T12:08:17.551Z"
   },
   {
    "duration": 5,
    "start_time": "2023-09-03T12:08:23.679Z"
   },
   {
    "duration": 7,
    "start_time": "2023-09-03T12:09:18.687Z"
   },
   {
    "duration": 4,
    "start_time": "2023-09-03T12:13:32.081Z"
   },
   {
    "duration": 79,
    "start_time": "2023-09-03T12:13:32.086Z"
   },
   {
    "duration": 14,
    "start_time": "2023-09-03T12:13:32.167Z"
   },
   {
    "duration": 54,
    "start_time": "2023-09-03T12:13:32.183Z"
   },
   {
    "duration": 10,
    "start_time": "2023-09-03T12:13:32.239Z"
   },
   {
    "duration": 5,
    "start_time": "2023-09-03T12:13:32.251Z"
   },
   {
    "duration": 24,
    "start_time": "2023-09-03T12:13:32.258Z"
   },
   {
    "duration": 4,
    "start_time": "2023-09-03T12:13:32.284Z"
   },
   {
    "duration": 42,
    "start_time": "2023-09-03T12:13:32.290Z"
   },
   {
    "duration": 10,
    "start_time": "2023-09-03T12:13:32.334Z"
   },
   {
    "duration": 9,
    "start_time": "2023-09-03T12:13:32.346Z"
   },
   {
    "duration": 15,
    "start_time": "2023-09-03T12:13:32.356Z"
   },
   {
    "duration": 17,
    "start_time": "2023-09-03T12:13:32.374Z"
   },
   {
    "duration": 17,
    "start_time": "2023-09-03T12:13:32.393Z"
   },
   {
    "duration": 8,
    "start_time": "2023-09-03T12:13:32.424Z"
   },
   {
    "duration": 133,
    "start_time": "2023-09-03T12:13:32.435Z"
   },
   {
    "duration": 4,
    "start_time": "2023-09-03T12:13:32.569Z"
   },
   {
    "duration": 407,
    "start_time": "2023-09-03T12:13:32.575Z"
   },
   {
    "duration": 12,
    "start_time": "2023-09-03T12:13:32.983Z"
   },
   {
    "duration": 113,
    "start_time": "2023-09-03T12:13:32.997Z"
   },
   {
    "duration": 13,
    "start_time": "2023-09-03T12:13:33.112Z"
   },
   {
    "duration": 102,
    "start_time": "2023-09-03T12:13:33.127Z"
   },
   {
    "duration": 6,
    "start_time": "2023-09-03T12:13:33.230Z"
   },
   {
    "duration": 4,
    "start_time": "2023-09-03T12:13:33.238Z"
   },
   {
    "duration": 18,
    "start_time": "2023-09-03T12:13:33.243Z"
   },
   {
    "duration": 34,
    "start_time": "2023-09-03T12:13:33.263Z"
   },
   {
    "duration": 509,
    "start_time": "2023-09-03T12:13:33.299Z"
   },
   {
    "duration": 474,
    "start_time": "2023-09-03T12:13:33.810Z"
   },
   {
    "duration": 109,
    "start_time": "2023-09-03T12:13:34.286Z"
   },
   {
    "duration": 6,
    "start_time": "2023-09-03T12:13:34.397Z"
   },
   {
    "duration": 6108,
    "start_time": "2023-09-03T12:13:34.404Z"
   },
   {
    "duration": 136,
    "start_time": "2023-09-03T12:13:40.514Z"
   },
   {
    "duration": 5,
    "start_time": "2023-09-03T12:13:40.652Z"
   },
   {
    "duration": 158,
    "start_time": "2023-09-03T12:13:40.659Z"
   },
   {
    "duration": 6,
    "start_time": "2023-09-03T12:13:40.823Z"
   },
   {
    "duration": 183,
    "start_time": "2023-09-03T12:13:40.831Z"
   },
   {
    "duration": 7,
    "start_time": "2023-09-03T12:13:41.023Z"
   },
   {
    "duration": 696,
    "start_time": "2023-09-03T12:13:41.032Z"
   },
   {
    "duration": 535,
    "start_time": "2023-09-03T12:13:41.730Z"
   },
   {
    "duration": 175,
    "start_time": "2023-09-03T12:13:42.267Z"
   },
   {
    "duration": 6,
    "start_time": "2023-09-03T12:13:42.443Z"
   },
   {
    "duration": 7,
    "start_time": "2023-09-03T12:13:42.451Z"
   },
   {
    "duration": 471,
    "start_time": "2023-09-03T12:13:42.459Z"
   },
   {
    "duration": 9,
    "start_time": "2023-09-03T12:13:42.932Z"
   },
   {
    "duration": 34,
    "start_time": "2023-09-03T12:13:42.942Z"
   },
   {
    "duration": 28,
    "start_time": "2023-09-03T12:13:42.978Z"
   },
   {
    "duration": 0,
    "start_time": "2023-09-03T12:13:43.008Z"
   },
   {
    "duration": 0,
    "start_time": "2023-09-03T12:13:43.009Z"
   },
   {
    "duration": 0,
    "start_time": "2023-09-03T12:13:43.010Z"
   },
   {
    "duration": 20,
    "start_time": "2023-09-03T12:18:59.939Z"
   },
   {
    "duration": 6220,
    "start_time": "2023-09-03T12:21:36.718Z"
   },
   {
    "duration": 3,
    "start_time": "2023-09-03T12:30:41.301Z"
   },
   {
    "duration": 75,
    "start_time": "2023-09-03T12:32:59.293Z"
   },
   {
    "duration": 10,
    "start_time": "2023-09-03T12:34:53.779Z"
   },
   {
    "duration": 9,
    "start_time": "2023-09-03T12:35:09.588Z"
   },
   {
    "duration": 7,
    "start_time": "2023-09-03T12:35:28.134Z"
   },
   {
    "duration": 51,
    "start_time": "2023-09-03T12:36:02.727Z"
   },
   {
    "duration": 8,
    "start_time": "2023-09-03T12:36:25.519Z"
   },
   {
    "duration": 13,
    "start_time": "2023-09-03T12:39:22.268Z"
   },
   {
    "duration": 3,
    "start_time": "2023-09-03T12:39:39.690Z"
   },
   {
    "duration": 76,
    "start_time": "2023-09-03T12:39:39.695Z"
   },
   {
    "duration": 11,
    "start_time": "2023-09-03T12:39:39.772Z"
   },
   {
    "duration": 40,
    "start_time": "2023-09-03T12:39:39.785Z"
   },
   {
    "duration": 8,
    "start_time": "2023-09-03T12:39:39.827Z"
   },
   {
    "duration": 3,
    "start_time": "2023-09-03T12:39:39.837Z"
   },
   {
    "duration": 21,
    "start_time": "2023-09-03T12:39:39.841Z"
   },
   {
    "duration": 2,
    "start_time": "2023-09-03T12:39:39.864Z"
   },
   {
    "duration": 8,
    "start_time": "2023-09-03T12:39:39.867Z"
   },
   {
    "duration": 7,
    "start_time": "2023-09-03T12:39:39.877Z"
   },
   {
    "duration": 4,
    "start_time": "2023-09-03T12:39:39.885Z"
   },
   {
    "duration": 36,
    "start_time": "2023-09-03T12:39:39.891Z"
   },
   {
    "duration": 7,
    "start_time": "2023-09-03T12:39:39.929Z"
   },
   {
    "duration": 12,
    "start_time": "2023-09-03T12:39:39.938Z"
   },
   {
    "duration": 6,
    "start_time": "2023-09-03T12:39:39.951Z"
   },
   {
    "duration": 128,
    "start_time": "2023-09-03T12:39:39.958Z"
   },
   {
    "duration": 4,
    "start_time": "2023-09-03T12:39:40.088Z"
   },
   {
    "duration": 416,
    "start_time": "2023-09-03T12:39:40.093Z"
   },
   {
    "duration": 19,
    "start_time": "2023-09-03T12:39:40.510Z"
   },
   {
    "duration": 109,
    "start_time": "2023-09-03T12:39:40.531Z"
   },
   {
    "duration": 6,
    "start_time": "2023-09-03T12:39:40.641Z"
   },
   {
    "duration": 105,
    "start_time": "2023-09-03T12:39:40.649Z"
   },
   {
    "duration": 5,
    "start_time": "2023-09-03T12:39:40.756Z"
   },
   {
    "duration": 3,
    "start_time": "2023-09-03T12:39:40.763Z"
   },
   {
    "duration": 9,
    "start_time": "2023-09-03T12:39:40.768Z"
   },
   {
    "duration": 23,
    "start_time": "2023-09-03T12:39:40.778Z"
   },
   {
    "duration": 477,
    "start_time": "2023-09-03T12:39:40.803Z"
   },
   {
    "duration": 478,
    "start_time": "2023-09-03T12:39:41.282Z"
   },
   {
    "duration": 650,
    "start_time": "2023-09-03T12:39:41.761Z"
   },
   {
    "duration": 12,
    "start_time": "2023-09-03T12:39:42.412Z"
   },
   {
    "duration": 5388,
    "start_time": "2023-09-03T12:39:49.661Z"
   },
   {
    "duration": 6459,
    "start_time": "2023-09-03T12:40:06.847Z"
   },
   {
    "duration": 769,
    "start_time": "2023-09-03T12:41:49.729Z"
   },
   {
    "duration": 10096,
    "start_time": "2023-09-03T12:41:59.233Z"
   },
   {
    "duration": 12,
    "start_time": "2023-09-03T12:43:10.376Z"
   },
   {
    "duration": 8,
    "start_time": "2023-09-03T12:43:15.703Z"
   },
   {
    "duration": 5,
    "start_time": "2023-09-03T12:43:35.030Z"
   },
   {
    "duration": 4,
    "start_time": "2023-09-03T12:43:54.188Z"
   },
   {
    "duration": 8,
    "start_time": "2023-09-03T12:48:48.263Z"
   },
   {
    "duration": 9,
    "start_time": "2023-09-03T12:49:09.275Z"
   },
   {
    "duration": 7,
    "start_time": "2023-09-03T12:49:49.798Z"
   },
   {
    "duration": 468,
    "start_time": "2023-09-03T12:52:21.673Z"
   },
   {
    "duration": 25,
    "start_time": "2023-09-03T12:53:25.369Z"
   },
   {
    "duration": 950,
    "start_time": "2023-09-03T12:59:23.117Z"
   },
   {
    "duration": 78,
    "start_time": "2023-09-03T13:00:13.248Z"
   },
   {
    "duration": 719,
    "start_time": "2023-09-03T13:00:18.421Z"
   },
   {
    "duration": 333,
    "start_time": "2023-09-03T13:01:23.465Z"
   },
   {
    "duration": 934,
    "start_time": "2023-09-03T13:03:49.627Z"
   },
   {
    "duration": 983,
    "start_time": "2023-09-03T13:04:08.092Z"
   },
   {
    "duration": 19,
    "start_time": "2023-09-03T13:05:20.076Z"
   },
   {
    "duration": 28,
    "start_time": "2023-09-03T13:05:48.488Z"
   },
   {
    "duration": 6,
    "start_time": "2023-09-03T13:06:07.450Z"
   },
   {
    "duration": 6,
    "start_time": "2023-09-03T13:06:18.307Z"
   },
   {
    "duration": 5,
    "start_time": "2023-09-03T13:06:25.557Z"
   },
   {
    "duration": 7,
    "start_time": "2023-09-03T13:06:32.164Z"
   },
   {
    "duration": 6,
    "start_time": "2023-09-03T13:06:38.789Z"
   },
   {
    "duration": 6,
    "start_time": "2023-09-03T13:06:44.270Z"
   },
   {
    "duration": 6,
    "start_time": "2023-09-03T13:06:52.184Z"
   },
   {
    "duration": 8,
    "start_time": "2023-09-03T13:07:02.220Z"
   },
   {
    "duration": 31,
    "start_time": "2023-09-03T13:07:26.859Z"
   },
   {
    "duration": 7,
    "start_time": "2023-09-03T13:08:11.527Z"
   },
   {
    "duration": 8,
    "start_time": "2023-09-03T13:08:28.227Z"
   },
   {
    "duration": 14,
    "start_time": "2023-09-03T13:08:36.596Z"
   },
   {
    "duration": 7,
    "start_time": "2023-09-03T13:09:13.048Z"
   },
   {
    "duration": 796,
    "start_time": "2023-09-03T13:11:21.401Z"
   },
   {
    "duration": 1156,
    "start_time": "2023-09-03T13:11:38.769Z"
   },
   {
    "duration": 14,
    "start_time": "2023-09-03T13:14:09.689Z"
   },
   {
    "duration": 131,
    "start_time": "2023-09-03T13:25:57.717Z"
   },
   {
    "duration": 142,
    "start_time": "2023-09-03T13:27:49.567Z"
   },
   {
    "duration": 147,
    "start_time": "2023-09-03T13:28:15.066Z"
   },
   {
    "duration": 87,
    "start_time": "2023-09-03T13:31:18.193Z"
   },
   {
    "duration": 10,
    "start_time": "2023-09-03T13:34:55.477Z"
   },
   {
    "duration": 3,
    "start_time": "2023-09-03T13:35:00.974Z"
   },
   {
    "duration": 62,
    "start_time": "2023-09-03T13:35:07.787Z"
   },
   {
    "duration": 15,
    "start_time": "2023-09-03T13:35:54.632Z"
   },
   {
    "duration": 12,
    "start_time": "2023-09-03T13:36:08.866Z"
   },
   {
    "duration": 19,
    "start_time": "2023-09-03T13:50:57.193Z"
   },
   {
    "duration": 4,
    "start_time": "2023-09-03T13:52:13.076Z"
   },
   {
    "duration": 12,
    "start_time": "2023-09-03T13:52:15.899Z"
   },
   {
    "duration": 7,
    "start_time": "2023-09-03T13:52:30.170Z"
   },
   {
    "duration": 22,
    "start_time": "2023-09-03T13:54:00.281Z"
   },
   {
    "duration": 15,
    "start_time": "2023-09-03T13:54:08.661Z"
   },
   {
    "duration": 19,
    "start_time": "2023-09-03T13:54:59.743Z"
   },
   {
    "duration": 13,
    "start_time": "2023-09-03T14:01:34.357Z"
   },
   {
    "duration": 19,
    "start_time": "2023-09-03T14:05:11.989Z"
   },
   {
    "duration": 22,
    "start_time": "2023-09-03T14:05:41.520Z"
   },
   {
    "duration": 11,
    "start_time": "2023-09-03T14:07:39.918Z"
   },
   {
    "duration": 10,
    "start_time": "2023-09-03T14:08:04.273Z"
   },
   {
    "duration": 5,
    "start_time": "2023-09-03T14:08:17.258Z"
   },
   {
    "duration": 4,
    "start_time": "2023-09-03T14:08:38.764Z"
   },
   {
    "duration": 9,
    "start_time": "2023-09-03T14:08:56.998Z"
   },
   {
    "duration": 135,
    "start_time": "2023-09-03T15:35:41.229Z"
   },
   {
    "duration": 7,
    "start_time": "2023-09-03T15:35:41.365Z"
   },
   {
    "duration": 486,
    "start_time": "2023-09-03T15:35:41.373Z"
   },
   {
    "duration": 192,
    "start_time": "2023-09-03T15:35:41.861Z"
   },
   {
    "duration": 157,
    "start_time": "2023-09-03T15:35:42.054Z"
   },
   {
    "duration": 5,
    "start_time": "2023-09-03T15:35:42.213Z"
   },
   {
    "duration": 11,
    "start_time": "2023-09-03T15:35:42.224Z"
   },
   {
    "duration": 13,
    "start_time": "2023-09-03T15:41:53.153Z"
   },
   {
    "duration": 7,
    "start_time": "2023-09-03T15:42:17.971Z"
   },
   {
    "duration": 3,
    "start_time": "2023-09-03T15:43:48.837Z"
   },
   {
    "duration": 88,
    "start_time": "2023-09-03T15:44:01.631Z"
   },
   {
    "duration": 95,
    "start_time": "2023-09-03T15:44:17.139Z"
   },
   {
    "duration": 93,
    "start_time": "2023-09-03T15:45:03.424Z"
   },
   {
    "duration": 7,
    "start_time": "2023-09-03T15:45:12.530Z"
   },
   {
    "duration": 7,
    "start_time": "2023-09-03T15:46:16.657Z"
   },
   {
    "duration": 6,
    "start_time": "2023-09-03T15:46:43.803Z"
   },
   {
    "duration": 384,
    "start_time": "2023-09-03T15:57:51.567Z"
   },
   {
    "duration": 9,
    "start_time": "2023-09-03T15:58:14.353Z"
   },
   {
    "duration": 376,
    "start_time": "2023-09-03T15:58:28.531Z"
   },
   {
    "duration": 9,
    "start_time": "2023-09-03T15:58:31.835Z"
   },
   {
    "duration": 8,
    "start_time": "2023-09-03T16:04:30.094Z"
   },
   {
    "duration": 32,
    "start_time": "2023-09-03T16:04:40.477Z"
   },
   {
    "duration": 27,
    "start_time": "2023-09-03T16:05:11.554Z"
   },
   {
    "duration": 10,
    "start_time": "2023-09-03T16:05:26.758Z"
   },
   {
    "duration": 8,
    "start_time": "2023-09-03T16:06:07.832Z"
   },
   {
    "duration": 8,
    "start_time": "2023-09-03T16:06:42.028Z"
   },
   {
    "duration": 12,
    "start_time": "2023-09-03T16:09:23.599Z"
   },
   {
    "duration": 12,
    "start_time": "2023-09-03T16:09:40.928Z"
   },
   {
    "duration": 7,
    "start_time": "2023-09-03T16:09:50.889Z"
   },
   {
    "duration": 8,
    "start_time": "2023-09-03T16:10:04.659Z"
   },
   {
    "duration": 8,
    "start_time": "2023-09-03T16:11:44.990Z"
   },
   {
    "duration": 31,
    "start_time": "2023-09-03T16:16:04.018Z"
   },
   {
    "duration": 26,
    "start_time": "2023-09-03T16:16:36.738Z"
   },
   {
    "duration": 8,
    "start_time": "2023-09-03T16:17:06.392Z"
   },
   {
    "duration": 6,
    "start_time": "2023-09-03T16:17:44.265Z"
   },
   {
    "duration": 7,
    "start_time": "2023-09-03T16:18:49.359Z"
   },
   {
    "duration": 9,
    "start_time": "2023-09-03T16:26:16.482Z"
   },
   {
    "duration": 4,
    "start_time": "2023-09-03T16:28:40.269Z"
   },
   {
    "duration": 86,
    "start_time": "2023-09-03T16:28:40.275Z"
   },
   {
    "duration": 13,
    "start_time": "2023-09-03T16:28:40.363Z"
   },
   {
    "duration": 62,
    "start_time": "2023-09-03T16:28:40.378Z"
   },
   {
    "duration": 9,
    "start_time": "2023-09-03T16:28:40.441Z"
   },
   {
    "duration": 27,
    "start_time": "2023-09-03T16:28:40.451Z"
   },
   {
    "duration": 45,
    "start_time": "2023-09-03T16:28:40.479Z"
   },
   {
    "duration": 4,
    "start_time": "2023-09-03T16:28:40.525Z"
   },
   {
    "duration": 22,
    "start_time": "2023-09-03T16:28:40.530Z"
   },
   {
    "duration": 14,
    "start_time": "2023-09-03T16:28:40.555Z"
   },
   {
    "duration": 21,
    "start_time": "2023-09-03T16:28:40.571Z"
   },
   {
    "duration": 28,
    "start_time": "2023-09-03T16:28:40.594Z"
   },
   {
    "duration": 20,
    "start_time": "2023-09-03T16:28:40.624Z"
   },
   {
    "duration": 22,
    "start_time": "2023-09-03T16:28:40.645Z"
   },
   {
    "duration": 16,
    "start_time": "2023-09-03T16:28:40.669Z"
   },
   {
    "duration": 110,
    "start_time": "2023-09-03T16:28:40.686Z"
   },
   {
    "duration": 4,
    "start_time": "2023-09-03T16:28:40.797Z"
   },
   {
    "duration": 389,
    "start_time": "2023-09-03T16:28:40.803Z"
   },
   {
    "duration": 12,
    "start_time": "2023-09-03T16:28:41.193Z"
   },
   {
    "duration": 118,
    "start_time": "2023-09-03T16:28:41.207Z"
   },
   {
    "duration": 6,
    "start_time": "2023-09-03T16:28:41.327Z"
   },
   {
    "duration": 106,
    "start_time": "2023-09-03T16:28:41.334Z"
   },
   {
    "duration": 8,
    "start_time": "2023-09-03T16:28:41.441Z"
   },
   {
    "duration": 3,
    "start_time": "2023-09-03T16:28:41.450Z"
   },
   {
    "duration": 22,
    "start_time": "2023-09-03T16:28:41.454Z"
   },
   {
    "duration": 486,
    "start_time": "2023-09-03T16:28:41.477Z"
   },
   {
    "duration": 437,
    "start_time": "2023-09-03T16:28:41.964Z"
   },
   {
    "duration": 116,
    "start_time": "2023-09-03T16:28:42.405Z"
   },
   {
    "duration": 8,
    "start_time": "2023-09-03T16:28:42.524Z"
   },
   {
    "duration": 757,
    "start_time": "2023-09-03T16:28:42.534Z"
   },
   {
    "duration": 6,
    "start_time": "2023-09-03T16:28:43.293Z"
   },
   {
    "duration": 138,
    "start_time": "2023-09-03T16:28:43.301Z"
   },
   {
    "duration": 6,
    "start_time": "2023-09-03T16:28:43.440Z"
   },
   {
    "duration": 141,
    "start_time": "2023-09-03T16:28:43.447Z"
   },
   {
    "duration": 7,
    "start_time": "2023-09-03T16:28:43.590Z"
   },
   {
    "duration": 134,
    "start_time": "2023-09-03T16:28:43.598Z"
   },
   {
    "duration": 7,
    "start_time": "2023-09-03T16:28:43.733Z"
   },
   {
    "duration": 434,
    "start_time": "2023-09-03T16:28:43.741Z"
   },
   {
    "duration": 187,
    "start_time": "2023-09-03T16:28:44.177Z"
   },
   {
    "duration": 6,
    "start_time": "2023-09-03T16:28:44.366Z"
   },
   {
    "duration": 6,
    "start_time": "2023-09-03T16:28:44.374Z"
   },
   {
    "duration": 161,
    "start_time": "2023-09-03T16:28:44.381Z"
   },
   {
    "duration": 5,
    "start_time": "2023-09-03T16:28:44.544Z"
   },
   {
    "duration": 9,
    "start_time": "2023-09-03T16:28:44.550Z"
   },
   {
    "duration": 412,
    "start_time": "2023-09-03T16:28:44.561Z"
   },
   {
    "duration": 7,
    "start_time": "2023-09-03T16:28:44.974Z"
   },
   {
    "duration": 54,
    "start_time": "2023-09-03T16:28:44.983Z"
   },
   {
    "duration": 22,
    "start_time": "2023-09-03T16:28:45.039Z"
   },
   {
    "duration": 20,
    "start_time": "2023-09-03T16:28:45.063Z"
   },
   {
    "duration": 17,
    "start_time": "2023-09-03T16:28:45.084Z"
   },
   {
    "duration": 7,
    "start_time": "2023-09-03T16:35:36.907Z"
   },
   {
    "duration": 9,
    "start_time": "2023-09-03T16:36:08.550Z"
   },
   {
    "duration": 9,
    "start_time": "2023-09-03T16:37:32.882Z"
   },
   {
    "duration": 6,
    "start_time": "2023-09-03T16:37:48.773Z"
   },
   {
    "duration": 8,
    "start_time": "2023-09-03T16:39:14.296Z"
   },
   {
    "duration": 177,
    "start_time": "2023-09-03T16:40:15.784Z"
   },
   {
    "duration": 52,
    "start_time": "2023-09-04T10:48:17.595Z"
   },
   {
    "duration": 327,
    "start_time": "2023-09-04T11:01:44.762Z"
   },
   {
    "duration": 1400,
    "start_time": "2023-09-04T11:01:52.605Z"
   },
   {
    "duration": 76,
    "start_time": "2023-09-04T11:01:54.007Z"
   },
   {
    "duration": 13,
    "start_time": "2023-09-04T11:01:54.085Z"
   },
   {
    "duration": 55,
    "start_time": "2023-09-04T11:01:54.100Z"
   },
   {
    "duration": 9,
    "start_time": "2023-09-04T11:01:54.157Z"
   },
   {
    "duration": 9,
    "start_time": "2023-09-04T11:01:54.167Z"
   },
   {
    "duration": 36,
    "start_time": "2023-09-04T11:01:54.178Z"
   },
   {
    "duration": 13,
    "start_time": "2023-09-04T11:01:54.215Z"
   },
   {
    "duration": 14,
    "start_time": "2023-09-04T11:01:54.229Z"
   },
   {
    "duration": 14,
    "start_time": "2023-09-04T11:01:54.244Z"
   },
   {
    "duration": 5,
    "start_time": "2023-09-04T11:01:54.259Z"
   },
   {
    "duration": 24,
    "start_time": "2023-09-04T11:01:54.266Z"
   },
   {
    "duration": 16,
    "start_time": "2023-09-04T11:01:54.292Z"
   },
   {
    "duration": 27,
    "start_time": "2023-09-04T11:01:54.311Z"
   },
   {
    "duration": 14,
    "start_time": "2023-09-04T11:01:54.339Z"
   },
   {
    "duration": 137,
    "start_time": "2023-09-04T11:01:54.354Z"
   },
   {
    "duration": 4,
    "start_time": "2023-09-04T11:01:54.492Z"
   },
   {
    "duration": 434,
    "start_time": "2023-09-04T11:01:54.497Z"
   },
   {
    "duration": 20,
    "start_time": "2023-09-04T11:01:54.933Z"
   },
   {
    "duration": 123,
    "start_time": "2023-09-04T11:01:54.955Z"
   },
   {
    "duration": 7,
    "start_time": "2023-09-04T11:01:55.080Z"
   },
   {
    "duration": 145,
    "start_time": "2023-09-04T11:01:55.088Z"
   },
   {
    "duration": 20,
    "start_time": "2023-09-04T11:01:55.235Z"
   },
   {
    "duration": 9,
    "start_time": "2023-09-04T11:01:55.257Z"
   },
   {
    "duration": 43,
    "start_time": "2023-09-04T11:01:55.268Z"
   },
   {
    "duration": 615,
    "start_time": "2023-09-04T11:01:55.314Z"
   },
   {
    "duration": 475,
    "start_time": "2023-09-04T11:01:55.930Z"
   },
   {
    "duration": 199,
    "start_time": "2023-09-04T11:01:56.407Z"
   },
   {
    "duration": 7,
    "start_time": "2023-09-04T11:01:56.608Z"
   },
   {
    "duration": 861,
    "start_time": "2023-09-04T11:01:56.616Z"
   },
   {
    "duration": 9,
    "start_time": "2023-09-04T11:01:57.479Z"
   },
   {
    "duration": 178,
    "start_time": "2023-09-04T11:01:57.489Z"
   },
   {
    "duration": 6,
    "start_time": "2023-09-04T11:01:57.669Z"
   },
   {
    "duration": 168,
    "start_time": "2023-09-04T11:01:57.677Z"
   },
   {
    "duration": 6,
    "start_time": "2023-09-04T11:01:57.847Z"
   },
   {
    "duration": 155,
    "start_time": "2023-09-04T11:01:57.855Z"
   },
   {
    "duration": 8,
    "start_time": "2023-09-04T11:01:58.011Z"
   },
   {
    "duration": 547,
    "start_time": "2023-09-04T11:01:58.021Z"
   },
   {
    "duration": 214,
    "start_time": "2023-09-04T11:01:58.569Z"
   },
   {
    "duration": 7,
    "start_time": "2023-09-04T11:01:58.785Z"
   },
   {
    "duration": 68,
    "start_time": "2023-09-04T11:01:58.795Z"
   },
   {
    "duration": 300,
    "start_time": "2023-09-04T11:01:58.865Z"
   },
   {
    "duration": 6,
    "start_time": "2023-09-04T11:01:59.166Z"
   },
   {
    "duration": 26,
    "start_time": "2023-09-04T11:01:59.174Z"
   },
   {
    "duration": 567,
    "start_time": "2023-09-04T11:01:59.201Z"
   },
   {
    "duration": 8,
    "start_time": "2023-09-04T11:01:59.770Z"
   },
   {
    "duration": 7,
    "start_time": "2023-09-04T11:01:59.780Z"
   },
   {
    "duration": 6,
    "start_time": "2023-09-04T11:01:59.788Z"
   },
   {
    "duration": 94,
    "start_time": "2023-09-04T11:01:59.796Z"
   },
   {
    "duration": 0,
    "start_time": "2023-09-04T11:01:59.891Z"
   },
   {
    "duration": 0,
    "start_time": "2023-09-04T11:01:59.892Z"
   },
   {
    "duration": 6,
    "start_time": "2023-09-04T11:02:17.921Z"
   },
   {
    "duration": 4,
    "start_time": "2023-09-04T11:02:19.022Z"
   },
   {
    "duration": 9,
    "start_time": "2023-09-04T11:02:23.071Z"
   },
   {
    "duration": 8,
    "start_time": "2023-09-04T11:02:31.352Z"
   },
   {
    "duration": 11,
    "start_time": "2023-09-04T11:02:35.873Z"
   },
   {
    "duration": 104,
    "start_time": "2023-09-04T11:03:17.846Z"
   },
   {
    "duration": 11,
    "start_time": "2023-09-04T11:04:59.482Z"
   },
   {
    "duration": 11,
    "start_time": "2023-09-04T11:05:22.341Z"
   },
   {
    "duration": 11,
    "start_time": "2023-09-04T11:07:12.698Z"
   },
   {
    "duration": 8,
    "start_time": "2023-09-04T11:07:38.421Z"
   },
   {
    "duration": 9,
    "start_time": "2023-09-04T11:07:44.037Z"
   },
   {
    "duration": 2,
    "start_time": "2023-09-04T11:07:58.439Z"
   },
   {
    "duration": 2,
    "start_time": "2023-09-04T11:08:14.137Z"
   },
   {
    "duration": 6,
    "start_time": "2023-09-04T11:13:26.101Z"
   },
   {
    "duration": 8,
    "start_time": "2023-09-04T11:13:35.455Z"
   },
   {
    "duration": 7,
    "start_time": "2023-09-04T11:13:43.848Z"
   },
   {
    "duration": 11,
    "start_time": "2023-09-04T11:13:57.009Z"
   },
   {
    "duration": 7,
    "start_time": "2023-09-04T11:15:04.957Z"
   },
   {
    "duration": 7,
    "start_time": "2023-09-04T11:15:37.613Z"
   },
   {
    "duration": 7,
    "start_time": "2023-09-04T11:15:46.429Z"
   },
   {
    "duration": 6,
    "start_time": "2023-09-04T11:15:59.455Z"
   },
   {
    "duration": 17,
    "start_time": "2023-09-04T11:16:26.587Z"
   },
   {
    "duration": 5,
    "start_time": "2023-09-04T11:16:38.667Z"
   },
   {
    "duration": 10,
    "start_time": "2023-09-04T11:17:28.385Z"
   },
   {
    "duration": 11,
    "start_time": "2023-09-04T11:20:27.773Z"
   },
   {
    "duration": 11,
    "start_time": "2023-09-04T11:20:46.215Z"
   },
   {
    "duration": 11,
    "start_time": "2023-09-04T11:30:50.013Z"
   },
   {
    "duration": 104,
    "start_time": "2023-09-04T11:36:59.497Z"
   },
   {
    "duration": 12,
    "start_time": "2023-09-04T11:42:27.589Z"
   },
   {
    "duration": 3,
    "start_time": "2023-09-04T11:44:31.323Z"
   },
   {
    "duration": 10,
    "start_time": "2023-09-04T11:44:36.403Z"
   },
   {
    "duration": 8,
    "start_time": "2023-09-04T11:45:28.498Z"
   },
   {
    "duration": 8,
    "start_time": "2023-09-04T11:46:35.882Z"
   },
   {
    "duration": 8,
    "start_time": "2023-09-04T11:46:51.188Z"
   },
   {
    "duration": 4,
    "start_time": "2023-09-04T11:47:48.826Z"
   },
   {
    "duration": 9,
    "start_time": "2023-09-04T11:51:45.534Z"
   },
   {
    "duration": 8,
    "start_time": "2023-09-04T11:52:05.545Z"
   },
   {
    "duration": 9,
    "start_time": "2023-09-04T11:52:33.650Z"
   },
   {
    "duration": 4,
    "start_time": "2023-09-04T11:52:58.207Z"
   },
   {
    "duration": 10,
    "start_time": "2023-09-04T11:59:02.213Z"
   },
   {
    "duration": 102,
    "start_time": "2023-09-04T12:00:52.014Z"
   },
   {
    "duration": 3,
    "start_time": "2023-09-04T12:09:51.515Z"
   },
   {
    "duration": 98,
    "start_time": "2023-09-04T12:09:51.524Z"
   },
   {
    "duration": 13,
    "start_time": "2023-09-04T12:09:51.624Z"
   },
   {
    "duration": 54,
    "start_time": "2023-09-04T12:09:51.638Z"
   },
   {
    "duration": 10,
    "start_time": "2023-09-04T12:09:51.695Z"
   },
   {
    "duration": 14,
    "start_time": "2023-09-04T12:09:51.708Z"
   },
   {
    "duration": 34,
    "start_time": "2023-09-04T12:09:51.724Z"
   },
   {
    "duration": 7,
    "start_time": "2023-09-04T12:09:51.760Z"
   },
   {
    "duration": 28,
    "start_time": "2023-09-04T12:09:51.769Z"
   },
   {
    "duration": 30,
    "start_time": "2023-09-04T12:09:51.798Z"
   },
   {
    "duration": 6,
    "start_time": "2023-09-04T12:09:51.830Z"
   },
   {
    "duration": 40,
    "start_time": "2023-09-04T12:09:51.838Z"
   },
   {
    "duration": 23,
    "start_time": "2023-09-04T12:09:51.879Z"
   },
   {
    "duration": 34,
    "start_time": "2023-09-04T12:09:51.903Z"
   },
   {
    "duration": 16,
    "start_time": "2023-09-04T12:09:51.940Z"
   },
   {
    "duration": 131,
    "start_time": "2023-09-04T12:09:51.958Z"
   },
   {
    "duration": 5,
    "start_time": "2023-09-04T12:09:52.091Z"
   },
   {
    "duration": 447,
    "start_time": "2023-09-04T12:09:52.097Z"
   },
   {
    "duration": 12,
    "start_time": "2023-09-04T12:09:52.547Z"
   },
   {
    "duration": 132,
    "start_time": "2023-09-04T12:09:52.561Z"
   },
   {
    "duration": 6,
    "start_time": "2023-09-04T12:09:52.695Z"
   },
   {
    "duration": 127,
    "start_time": "2023-09-04T12:09:52.703Z"
   },
   {
    "duration": 15,
    "start_time": "2023-09-04T12:09:52.832Z"
   },
   {
    "duration": 7,
    "start_time": "2023-09-04T12:09:52.848Z"
   },
   {
    "duration": 37,
    "start_time": "2023-09-04T12:09:52.857Z"
   },
   {
    "duration": 539,
    "start_time": "2023-09-04T12:09:52.896Z"
   },
   {
    "duration": 502,
    "start_time": "2023-09-04T12:09:53.437Z"
   },
   {
    "duration": 114,
    "start_time": "2023-09-04T12:09:53.946Z"
   },
   {
    "duration": 7,
    "start_time": "2023-09-04T12:09:54.062Z"
   },
   {
    "duration": 865,
    "start_time": "2023-09-04T12:09:54.071Z"
   },
   {
    "duration": 14,
    "start_time": "2023-09-04T12:09:54.938Z"
   },
   {
    "duration": 174,
    "start_time": "2023-09-04T12:09:54.953Z"
   },
   {
    "duration": 18,
    "start_time": "2023-09-04T12:09:55.128Z"
   },
   {
    "duration": 150,
    "start_time": "2023-09-04T12:09:55.148Z"
   },
   {
    "duration": 7,
    "start_time": "2023-09-04T12:09:55.300Z"
   },
   {
    "duration": 193,
    "start_time": "2023-09-04T12:09:55.310Z"
   },
   {
    "duration": 9,
    "start_time": "2023-09-04T12:09:55.505Z"
   },
   {
    "duration": 550,
    "start_time": "2023-09-04T12:09:55.516Z"
   },
   {
    "duration": 232,
    "start_time": "2023-09-04T12:09:56.068Z"
   },
   {
    "duration": 8,
    "start_time": "2023-09-04T12:09:56.302Z"
   },
   {
    "duration": 27,
    "start_time": "2023-09-04T12:09:56.312Z"
   },
   {
    "duration": 208,
    "start_time": "2023-09-04T12:09:56.343Z"
   },
   {
    "duration": 6,
    "start_time": "2023-09-04T12:09:56.553Z"
   },
   {
    "duration": 22,
    "start_time": "2023-09-04T12:09:56.561Z"
   },
   {
    "duration": 508,
    "start_time": "2023-09-04T12:09:56.585Z"
   },
   {
    "duration": 8,
    "start_time": "2023-09-04T12:09:57.095Z"
   },
   {
    "duration": 32,
    "start_time": "2023-09-04T12:09:57.105Z"
   },
   {
    "duration": 28,
    "start_time": "2023-09-04T12:09:57.139Z"
   },
   {
    "duration": 12,
    "start_time": "2023-09-04T12:09:57.169Z"
   },
   {
    "duration": 11,
    "start_time": "2023-09-04T12:09:57.183Z"
   },
   {
    "duration": 11,
    "start_time": "2023-09-04T12:09:57.196Z"
   },
   {
    "duration": 7,
    "start_time": "2023-09-04T12:09:57.208Z"
   },
   {
    "duration": 15,
    "start_time": "2023-09-04T12:09:57.217Z"
   },
   {
    "duration": 12,
    "start_time": "2023-09-04T12:09:57.234Z"
   },
   {
    "duration": 11,
    "start_time": "2023-09-04T12:09:57.248Z"
   },
   {
    "duration": 19,
    "start_time": "2023-09-05T07:09:42.435Z"
   },
   {
    "duration": 66,
    "start_time": "2023-09-05T07:09:42.456Z"
   },
   {
    "duration": 10,
    "start_time": "2023-09-05T07:09:42.524Z"
   },
   {
    "duration": 46,
    "start_time": "2023-09-05T07:09:42.536Z"
   },
   {
    "duration": 8,
    "start_time": "2023-09-05T07:09:42.583Z"
   },
   {
    "duration": 18,
    "start_time": "2023-09-05T07:09:42.593Z"
   },
   {
    "duration": 19,
    "start_time": "2023-09-05T07:09:42.613Z"
   },
   {
    "duration": 3,
    "start_time": "2023-09-05T07:09:42.633Z"
   },
   {
    "duration": 7,
    "start_time": "2023-09-05T07:09:42.637Z"
   },
   {
    "duration": 7,
    "start_time": "2023-09-05T07:09:42.645Z"
   },
   {
    "duration": 6,
    "start_time": "2023-09-05T07:09:42.653Z"
   },
   {
    "duration": 12,
    "start_time": "2023-09-05T07:09:42.660Z"
   },
   {
    "duration": 9,
    "start_time": "2023-09-05T07:09:42.673Z"
   },
   {
    "duration": 25,
    "start_time": "2023-09-05T07:09:42.683Z"
   },
   {
    "duration": 20,
    "start_time": "2023-09-05T07:09:42.709Z"
   },
   {
    "duration": 104,
    "start_time": "2023-09-05T07:09:42.730Z"
   },
   {
    "duration": 3,
    "start_time": "2023-09-05T07:09:42.835Z"
   },
   {
    "duration": 356,
    "start_time": "2023-09-05T07:09:42.840Z"
   },
   {
    "duration": 10,
    "start_time": "2023-09-05T07:09:43.197Z"
   },
   {
    "duration": 157,
    "start_time": "2023-09-05T07:09:43.208Z"
   },
   {
    "duration": 6,
    "start_time": "2023-09-05T07:09:43.367Z"
   },
   {
    "duration": 175,
    "start_time": "2023-09-05T07:09:43.374Z"
   },
   {
    "duration": 6,
    "start_time": "2023-09-05T07:09:43.551Z"
   },
   {
    "duration": 14,
    "start_time": "2023-09-05T07:09:43.558Z"
   },
   {
    "duration": 36,
    "start_time": "2023-09-05T07:09:43.573Z"
   },
   {
    "duration": 502,
    "start_time": "2023-09-05T07:09:43.610Z"
   },
   {
    "duration": 549,
    "start_time": "2023-09-05T07:09:44.117Z"
   },
   {
    "duration": 198,
    "start_time": "2023-09-05T07:09:44.667Z"
   },
   {
    "duration": 5,
    "start_time": "2023-09-05T07:09:44.866Z"
   },
   {
    "duration": 699,
    "start_time": "2023-09-05T07:09:44.873Z"
   },
   {
    "duration": 7,
    "start_time": "2023-09-05T07:09:45.574Z"
   },
   {
    "duration": 168,
    "start_time": "2023-09-05T07:09:45.582Z"
   },
   {
    "duration": 5,
    "start_time": "2023-09-05T07:09:45.752Z"
   },
   {
    "duration": 162,
    "start_time": "2023-09-05T07:09:45.759Z"
   },
   {
    "duration": 6,
    "start_time": "2023-09-05T07:09:45.923Z"
   },
   {
    "duration": 168,
    "start_time": "2023-09-05T07:09:45.930Z"
   },
   {
    "duration": 7,
    "start_time": "2023-09-05T07:09:46.100Z"
   },
   {
    "duration": 562,
    "start_time": "2023-09-05T07:09:46.108Z"
   },
   {
    "duration": 248,
    "start_time": "2023-09-05T07:09:46.671Z"
   },
   {
    "duration": 6,
    "start_time": "2023-09-05T07:09:46.921Z"
   },
   {
    "duration": 7,
    "start_time": "2023-09-05T07:09:46.928Z"
   },
   {
    "duration": 269,
    "start_time": "2023-09-05T07:09:46.936Z"
   },
   {
    "duration": 7,
    "start_time": "2023-09-05T07:09:47.207Z"
   },
   {
    "duration": 8,
    "start_time": "2023-09-05T07:09:47.215Z"
   },
   {
    "duration": 557,
    "start_time": "2023-09-05T07:09:47.225Z"
   },
   {
    "duration": 7,
    "start_time": "2023-09-05T07:09:47.784Z"
   },
   {
    "duration": 14,
    "start_time": "2023-09-05T07:09:47.793Z"
   },
   {
    "duration": 20,
    "start_time": "2023-09-05T07:09:47.808Z"
   },
   {
    "duration": 6,
    "start_time": "2023-09-05T07:09:47.830Z"
   },
   {
    "duration": 12,
    "start_time": "2023-09-05T07:09:47.837Z"
   },
   {
    "duration": 22,
    "start_time": "2023-09-05T07:09:47.850Z"
   },
   {
    "duration": 13,
    "start_time": "2023-09-05T07:09:47.874Z"
   },
   {
    "duration": 19,
    "start_time": "2023-09-05T07:09:47.889Z"
   },
   {
    "duration": 23,
    "start_time": "2023-09-05T07:09:47.909Z"
   },
   {
    "duration": 9,
    "start_time": "2023-09-05T07:09:47.934Z"
   },
   {
    "duration": 52,
    "start_time": "2023-09-09T09:33:13.101Z"
   },
   {
    "duration": 1377,
    "start_time": "2023-09-09T09:33:24.764Z"
   },
   {
    "duration": 95,
    "start_time": "2023-09-09T09:33:26.144Z"
   },
   {
    "duration": 13,
    "start_time": "2023-09-09T09:33:26.240Z"
   },
   {
    "duration": 38,
    "start_time": "2023-09-09T09:33:26.255Z"
   },
   {
    "duration": 9,
    "start_time": "2023-09-09T09:33:26.295Z"
   },
   {
    "duration": 29,
    "start_time": "2023-09-09T09:33:26.306Z"
   },
   {
    "duration": 22,
    "start_time": "2023-09-09T09:33:26.339Z"
   },
   {
    "duration": 3,
    "start_time": "2023-09-09T09:33:26.362Z"
   },
   {
    "duration": 7,
    "start_time": "2023-09-09T09:33:26.366Z"
   },
   {
    "duration": 11,
    "start_time": "2023-09-09T09:33:26.375Z"
   },
   {
    "duration": 5,
    "start_time": "2023-09-09T09:33:26.388Z"
   },
   {
    "duration": 31,
    "start_time": "2023-09-09T09:33:26.395Z"
   },
   {
    "duration": 8,
    "start_time": "2023-09-09T09:33:26.440Z"
   },
   {
    "duration": 10,
    "start_time": "2023-09-09T09:33:26.451Z"
   },
   {
    "duration": 6,
    "start_time": "2023-09-09T09:33:26.463Z"
   },
   {
    "duration": 127,
    "start_time": "2023-09-09T09:33:26.470Z"
   },
   {
    "duration": 3,
    "start_time": "2023-09-09T09:33:26.599Z"
   },
   {
    "duration": 436,
    "start_time": "2023-09-09T09:33:26.604Z"
   },
   {
    "duration": 13,
    "start_time": "2023-09-09T09:33:27.042Z"
   },
   {
    "duration": 123,
    "start_time": "2023-09-09T09:33:27.056Z"
   },
   {
    "duration": 6,
    "start_time": "2023-09-09T09:33:27.181Z"
   },
   {
    "duration": 119,
    "start_time": "2023-09-09T09:33:27.188Z"
   },
   {
    "duration": 29,
    "start_time": "2023-09-09T09:33:27.308Z"
   },
   {
    "duration": 3,
    "start_time": "2023-09-09T09:33:27.339Z"
   },
   {
    "duration": 25,
    "start_time": "2023-09-09T09:33:27.344Z"
   },
   {
    "duration": 589,
    "start_time": "2023-09-09T09:33:27.371Z"
   },
   {
    "duration": 457,
    "start_time": "2023-09-09T09:33:27.962Z"
   },
   {
    "duration": 209,
    "start_time": "2023-09-09T09:33:28.421Z"
   },
   {
    "duration": 9,
    "start_time": "2023-09-09T09:33:28.633Z"
   },
   {
    "duration": 885,
    "start_time": "2023-09-09T09:33:28.643Z"
   },
   {
    "duration": 8,
    "start_time": "2023-09-09T09:33:29.536Z"
   },
   {
    "duration": 173,
    "start_time": "2023-09-09T09:33:29.546Z"
   },
   {
    "duration": 17,
    "start_time": "2023-09-09T09:33:29.721Z"
   },
   {
    "duration": 178,
    "start_time": "2023-09-09T09:33:29.740Z"
   },
   {
    "duration": 12,
    "start_time": "2023-09-09T09:33:29.924Z"
   },
   {
    "duration": 336,
    "start_time": "2023-09-09T09:33:29.939Z"
   },
   {
    "duration": 7,
    "start_time": "2023-09-09T09:33:30.277Z"
   },
   {
    "duration": 543,
    "start_time": "2023-09-09T09:33:30.286Z"
   },
   {
    "duration": 214,
    "start_time": "2023-09-09T09:33:30.835Z"
   },
   {
    "duration": 8,
    "start_time": "2023-09-09T09:33:31.051Z"
   },
   {
    "duration": 38,
    "start_time": "2023-09-09T09:33:31.063Z"
   },
   {
    "duration": 215,
    "start_time": "2023-09-09T09:33:31.103Z"
   },
   {
    "duration": 20,
    "start_time": "2023-09-09T09:33:31.319Z"
   },
   {
    "duration": 48,
    "start_time": "2023-09-09T09:33:31.341Z"
   },
   {
    "duration": 550,
    "start_time": "2023-09-09T09:33:31.391Z"
   },
   {
    "duration": 8,
    "start_time": "2023-09-09T09:33:31.943Z"
   },
   {
    "duration": 28,
    "start_time": "2023-09-09T09:33:31.952Z"
   },
   {
    "duration": 33,
    "start_time": "2023-09-09T09:33:31.982Z"
   },
   {
    "duration": 21,
    "start_time": "2023-09-09T09:33:32.016Z"
   },
   {
    "duration": 48,
    "start_time": "2023-09-09T09:33:32.039Z"
   },
   {
    "duration": 21,
    "start_time": "2023-09-09T09:33:32.088Z"
   },
   {
    "duration": 34,
    "start_time": "2023-09-09T09:33:32.111Z"
   },
   {
    "duration": 52,
    "start_time": "2023-09-09T09:33:32.146Z"
   },
   {
    "duration": 83,
    "start_time": "2023-09-09T09:33:32.200Z"
   },
   {
    "duration": 67,
    "start_time": "2023-09-09T09:33:32.285Z"
   },
   {
    "duration": 24,
    "start_time": "2023-09-09T09:34:43.505Z"
   },
   {
    "duration": 23,
    "start_time": "2023-09-09T09:35:03.586Z"
   },
   {
    "duration": 10,
    "start_time": "2023-09-09T09:36:21.684Z"
   },
   {
    "duration": 20,
    "start_time": "2023-09-09T09:36:27.438Z"
   },
   {
    "duration": 15,
    "start_time": "2023-09-09T09:38:33.771Z"
   },
   {
    "duration": 15,
    "start_time": "2023-09-09T09:38:37.244Z"
   },
   {
    "duration": 7,
    "start_time": "2023-09-09T09:39:57.797Z"
   },
   {
    "duration": 6,
    "start_time": "2023-09-09T09:40:20.760Z"
   },
   {
    "duration": 220,
    "start_time": "2023-09-09T09:41:58.859Z"
   },
   {
    "duration": 22,
    "start_time": "2023-09-09T09:43:50.836Z"
   },
   {
    "duration": 14,
    "start_time": "2023-09-09T09:44:04.066Z"
   },
   {
    "duration": 13,
    "start_time": "2023-09-09T09:44:48.408Z"
   },
   {
    "duration": 1190,
    "start_time": "2023-09-09T09:48:23.547Z"
   },
   {
    "duration": 86,
    "start_time": "2023-09-09T09:48:24.739Z"
   },
   {
    "duration": 18,
    "start_time": "2023-09-09T09:48:24.831Z"
   },
   {
    "duration": 37,
    "start_time": "2023-09-09T09:48:24.850Z"
   },
   {
    "duration": 9,
    "start_time": "2023-09-09T09:48:24.889Z"
   },
   {
    "duration": 5,
    "start_time": "2023-09-09T09:48:24.899Z"
   },
   {
    "duration": 27,
    "start_time": "2023-09-09T09:48:24.928Z"
   },
   {
    "duration": 3,
    "start_time": "2023-09-09T09:48:24.957Z"
   },
   {
    "duration": 10,
    "start_time": "2023-09-09T09:48:24.961Z"
   },
   {
    "duration": 9,
    "start_time": "2023-09-09T09:48:24.973Z"
   },
   {
    "duration": 5,
    "start_time": "2023-09-09T09:48:24.984Z"
   },
   {
    "duration": 6,
    "start_time": "2023-09-09T09:48:24.991Z"
   },
   {
    "duration": 19,
    "start_time": "2023-09-09T09:48:25.023Z"
   },
   {
    "duration": 19,
    "start_time": "2023-09-09T09:48:25.045Z"
   },
   {
    "duration": 7,
    "start_time": "2023-09-09T09:48:25.066Z"
   },
   {
    "duration": 1177,
    "start_time": "2023-09-09T09:51:16.501Z"
   },
   {
    "duration": 74,
    "start_time": "2023-09-09T09:51:17.680Z"
   },
   {
    "duration": 12,
    "start_time": "2023-09-09T09:51:17.756Z"
   },
   {
    "duration": 102,
    "start_time": "2023-09-09T09:51:17.770Z"
   },
   {
    "duration": 9,
    "start_time": "2023-09-09T09:51:17.875Z"
   },
   {
    "duration": 5,
    "start_time": "2023-09-09T09:51:17.885Z"
   },
   {
    "duration": 40,
    "start_time": "2023-09-09T09:51:17.892Z"
   },
   {
    "duration": 4,
    "start_time": "2023-09-09T09:51:17.934Z"
   },
   {
    "duration": 8,
    "start_time": "2023-09-09T09:51:17.940Z"
   },
   {
    "duration": 10,
    "start_time": "2023-09-09T09:51:17.949Z"
   },
   {
    "duration": 6,
    "start_time": "2023-09-09T09:51:17.960Z"
   },
   {
    "duration": 6,
    "start_time": "2023-09-09T09:51:17.968Z"
   },
   {
    "duration": 8,
    "start_time": "2023-09-09T09:51:17.976Z"
   },
   {
    "duration": 52,
    "start_time": "2023-09-09T09:51:17.986Z"
   },
   {
    "duration": 8,
    "start_time": "2023-09-09T09:51:18.040Z"
   },
   {
    "duration": 8,
    "start_time": "2023-09-09T09:52:02.450Z"
   },
   {
    "duration": 756,
    "start_time": "2023-09-09T09:53:44.487Z"
   },
   {
    "duration": 178,
    "start_time": "2023-09-09T09:54:09.077Z"
   },
   {
    "duration": 177,
    "start_time": "2023-09-09T09:54:17.599Z"
   },
   {
    "duration": 203,
    "start_time": "2023-09-09T09:54:47.564Z"
   },
   {
    "duration": 232,
    "start_time": "2023-09-09T09:55:03.976Z"
   },
   {
    "duration": 320,
    "start_time": "2023-09-09T09:56:10.992Z"
   },
   {
    "duration": 205,
    "start_time": "2023-09-09T09:56:49.157Z"
   },
   {
    "duration": 171,
    "start_time": "2023-09-09T09:57:12.062Z"
   },
   {
    "duration": 175,
    "start_time": "2023-09-09T09:57:39.753Z"
   },
   {
    "duration": 9,
    "start_time": "2023-09-09T10:15:02.974Z"
   },
   {
    "duration": 15,
    "start_time": "2023-09-09T10:15:17.942Z"
   },
   {
    "duration": 102,
    "start_time": "2023-09-09T10:15:30.143Z"
   },
   {
    "duration": 99,
    "start_time": "2023-09-09T10:18:31.596Z"
   },
   {
    "duration": 98,
    "start_time": "2023-09-09T10:19:59.048Z"
   },
   {
    "duration": 99,
    "start_time": "2023-09-09T10:20:49.046Z"
   },
   {
    "duration": 98,
    "start_time": "2023-09-09T10:21:23.096Z"
   },
   {
    "duration": 154,
    "start_time": "2023-09-09T10:22:21.090Z"
   },
   {
    "duration": 112,
    "start_time": "2023-09-09T10:22:28.018Z"
   },
   {
    "duration": 8,
    "start_time": "2023-09-09T10:25:03.340Z"
   },
   {
    "duration": 14,
    "start_time": "2023-09-09T10:25:18.061Z"
   },
   {
    "duration": 359,
    "start_time": "2023-09-09T10:25:40.151Z"
   },
   {
    "duration": 334,
    "start_time": "2023-09-09T10:25:54.009Z"
   },
   {
    "duration": 14,
    "start_time": "2023-09-09T10:26:38.550Z"
   },
   {
    "duration": 15,
    "start_time": "2023-09-09T10:26:52.327Z"
   },
   {
    "duration": 17,
    "start_time": "2023-09-09T10:27:29.412Z"
   },
   {
    "duration": 12,
    "start_time": "2023-09-09T10:28:12.196Z"
   },
   {
    "duration": 31,
    "start_time": "2023-09-09T10:28:12.210Z"
   },
   {
    "duration": 147,
    "start_time": "2023-09-09T10:28:12.242Z"
   },
   {
    "duration": 4,
    "start_time": "2023-09-09T10:28:12.391Z"
   },
   {
    "duration": 395,
    "start_time": "2023-09-09T10:28:12.397Z"
   },
   {
    "duration": 13,
    "start_time": "2023-09-09T10:28:12.794Z"
   },
   {
    "duration": 151,
    "start_time": "2023-09-09T10:28:12.809Z"
   },
   {
    "duration": 7,
    "start_time": "2023-09-09T10:28:12.962Z"
   },
   {
    "duration": 140,
    "start_time": "2023-09-09T10:28:12.971Z"
   },
   {
    "duration": 11,
    "start_time": "2023-09-09T10:28:13.115Z"
   },
   {
    "duration": 40,
    "start_time": "2023-09-09T10:28:13.127Z"
   },
   {
    "duration": 162,
    "start_time": "2023-09-09T10:28:13.169Z"
   },
   {
    "duration": 461,
    "start_time": "2023-09-09T10:28:13.333Z"
   },
   {
    "duration": 481,
    "start_time": "2023-09-09T10:28:13.797Z"
   },
   {
    "duration": 112,
    "start_time": "2023-09-09T10:28:14.281Z"
   },
   {
    "duration": 6,
    "start_time": "2023-09-09T10:28:14.395Z"
   },
   {
    "duration": 788,
    "start_time": "2023-09-09T10:28:14.403Z"
   },
   {
    "duration": 8,
    "start_time": "2023-09-09T10:28:15.192Z"
   },
   {
    "duration": 157,
    "start_time": "2023-09-09T10:28:15.202Z"
   },
   {
    "duration": 6,
    "start_time": "2023-09-09T10:28:15.361Z"
   },
   {
    "duration": 147,
    "start_time": "2023-09-09T10:28:15.369Z"
   },
   {
    "duration": 10,
    "start_time": "2023-09-09T10:28:15.518Z"
   },
   {
    "duration": 142,
    "start_time": "2023-09-09T10:28:15.530Z"
   },
   {
    "duration": 7,
    "start_time": "2023-09-09T10:28:15.674Z"
   },
   {
    "duration": 690,
    "start_time": "2023-09-09T10:28:15.683Z"
   },
   {
    "duration": 193,
    "start_time": "2023-09-09T10:28:16.374Z"
   },
   {
    "duration": 7,
    "start_time": "2023-09-09T10:28:16.570Z"
   },
   {
    "duration": 7,
    "start_time": "2023-09-09T10:28:16.582Z"
   },
   {
    "duration": 190,
    "start_time": "2023-09-09T10:28:16.590Z"
   },
   {
    "duration": 7,
    "start_time": "2023-09-09T10:28:16.782Z"
   },
   {
    "duration": 10,
    "start_time": "2023-09-09T10:28:16.790Z"
   },
   {
    "duration": 440,
    "start_time": "2023-09-09T10:28:16.802Z"
   },
   {
    "duration": 8,
    "start_time": "2023-09-09T10:28:17.244Z"
   },
   {
    "duration": 9,
    "start_time": "2023-09-09T10:28:17.254Z"
   },
   {
    "duration": 14,
    "start_time": "2023-09-09T10:28:17.264Z"
   },
   {
    "duration": 12,
    "start_time": "2023-09-09T10:28:17.279Z"
   },
   {
    "duration": 8,
    "start_time": "2023-09-09T10:28:17.292Z"
   },
   {
    "duration": 23,
    "start_time": "2023-09-09T10:28:17.301Z"
   },
   {
    "duration": 22,
    "start_time": "2023-09-09T10:28:17.326Z"
   },
   {
    "duration": 26,
    "start_time": "2023-09-09T10:28:17.350Z"
   },
   {
    "duration": 10,
    "start_time": "2023-09-09T10:28:17.379Z"
   },
   {
    "duration": 11,
    "start_time": "2023-09-09T10:28:17.392Z"
   },
   {
    "duration": 16,
    "start_time": "2023-09-09T10:31:26.816Z"
   },
   {
    "duration": 124,
    "start_time": "2023-09-09T10:31:56.907Z"
   },
   {
    "duration": 113,
    "start_time": "2023-09-09T10:33:28.821Z"
   },
   {
    "duration": 116,
    "start_time": "2023-09-09T10:33:36.063Z"
   },
   {
    "duration": 167,
    "start_time": "2023-09-09T10:33:53.624Z"
   },
   {
    "duration": 14,
    "start_time": "2023-09-09T10:34:26.941Z"
   },
   {
    "duration": 12,
    "start_time": "2023-09-09T10:34:33.175Z"
   },
   {
    "duration": 10,
    "start_time": "2023-09-09T10:35:53.032Z"
   },
   {
    "duration": 93,
    "start_time": "2023-09-09T10:37:05.817Z"
   },
   {
    "duration": 246,
    "start_time": "2023-09-09T10:39:06.615Z"
   },
   {
    "duration": 90,
    "start_time": "2023-09-09T10:39:18.008Z"
   },
   {
    "duration": 87,
    "start_time": "2023-09-09T10:39:52.503Z"
   },
   {
    "duration": 90,
    "start_time": "2023-09-09T10:43:37.774Z"
   },
   {
    "duration": 88,
    "start_time": "2023-09-09T10:43:48.457Z"
   },
   {
    "duration": 91,
    "start_time": "2023-09-09T10:45:51.625Z"
   },
   {
    "duration": 88,
    "start_time": "2023-09-09T10:48:42.150Z"
   },
   {
    "duration": 73,
    "start_time": "2023-09-09T10:49:53.316Z"
   },
   {
    "duration": 80,
    "start_time": "2023-09-09T10:50:50.123Z"
   },
   {
    "duration": 163,
    "start_time": "2023-09-09T10:51:46.058Z"
   },
   {
    "duration": 210,
    "start_time": "2023-09-09T10:51:55.194Z"
   },
   {
    "duration": 222,
    "start_time": "2023-09-09T10:52:18.934Z"
   },
   {
    "duration": 202,
    "start_time": "2023-09-09T10:52:47.002Z"
   },
   {
    "duration": 167,
    "start_time": "2023-09-09T10:52:54.473Z"
   },
   {
    "duration": 214,
    "start_time": "2023-09-09T10:53:47.416Z"
   },
   {
    "duration": 5,
    "start_time": "2023-09-09T11:42:33.249Z"
   },
   {
    "duration": 6,
    "start_time": "2023-09-09T11:42:48.219Z"
   },
   {
    "duration": 189,
    "start_time": "2023-09-09T11:43:35.930Z"
   },
   {
    "duration": 15,
    "start_time": "2023-09-09T11:46:40.238Z"
   },
   {
    "duration": 15,
    "start_time": "2023-09-09T11:50:24.912Z"
   },
   {
    "duration": 16,
    "start_time": "2023-09-09T11:50:58.180Z"
   },
   {
    "duration": 16,
    "start_time": "2023-09-09T11:51:40.289Z"
   },
   {
    "duration": 19,
    "start_time": "2023-09-09T11:51:56.195Z"
   },
   {
    "duration": 8,
    "start_time": "2023-09-09T11:52:15.741Z"
   },
   {
    "duration": 6,
    "start_time": "2023-09-09T11:52:27.999Z"
   },
   {
    "duration": 4,
    "start_time": "2023-09-09T11:52:36.583Z"
   },
   {
    "duration": 5,
    "start_time": "2023-09-09T11:52:41.632Z"
   },
   {
    "duration": 99,
    "start_time": "2023-09-09T12:04:13.625Z"
   },
   {
    "duration": 103,
    "start_time": "2023-09-09T12:04:47.110Z"
   },
   {
    "duration": 8,
    "start_time": "2023-09-09T12:05:33.246Z"
   },
   {
    "duration": 8,
    "start_time": "2023-09-09T12:05:39.861Z"
   },
   {
    "duration": 8,
    "start_time": "2023-09-09T12:07:39.466Z"
   },
   {
    "duration": 118,
    "start_time": "2023-09-09T12:10:45.785Z"
   },
   {
    "duration": 304,
    "start_time": "2023-09-09T12:11:00.129Z"
   },
   {
    "duration": 86,
    "start_time": "2023-09-09T12:11:26.909Z"
   },
   {
    "duration": 99,
    "start_time": "2023-09-09T12:12:00.697Z"
   },
   {
    "duration": 107,
    "start_time": "2023-09-09T12:12:38.925Z"
   },
   {
    "duration": 93,
    "start_time": "2023-09-09T12:13:20.546Z"
   },
   {
    "duration": 119,
    "start_time": "2023-09-09T12:13:44.133Z"
   },
   {
    "duration": 96,
    "start_time": "2023-09-09T12:13:51.366Z"
   },
   {
    "duration": 99,
    "start_time": "2023-09-09T12:14:50.685Z"
   },
   {
    "duration": 99,
    "start_time": "2023-09-09T12:15:04.432Z"
   },
   {
    "duration": 101,
    "start_time": "2023-09-09T12:16:02.373Z"
   },
   {
    "duration": 117,
    "start_time": "2023-09-09T12:16:22.319Z"
   },
   {
    "duration": 101,
    "start_time": "2023-09-09T12:16:48.762Z"
   },
   {
    "duration": 104,
    "start_time": "2023-09-09T12:16:55.389Z"
   },
   {
    "duration": 20,
    "start_time": "2023-09-09T12:20:48.799Z"
   },
   {
    "duration": 89,
    "start_time": "2023-09-09T12:20:58.969Z"
   },
   {
    "duration": 11,
    "start_time": "2023-09-09T12:21:51.382Z"
   },
   {
    "duration": 100,
    "start_time": "2023-09-09T12:22:10.641Z"
   },
   {
    "duration": 103,
    "start_time": "2023-09-09T12:22:31.460Z"
   },
   {
    "duration": 91,
    "start_time": "2023-09-09T12:22:51.005Z"
   },
   {
    "duration": 98,
    "start_time": "2023-09-09T12:22:58.726Z"
   },
   {
    "duration": 119,
    "start_time": "2023-09-09T12:23:39.372Z"
   },
   {
    "duration": 78,
    "start_time": "2023-09-09T12:25:03.951Z"
   },
   {
    "duration": 85,
    "start_time": "2023-09-09T12:25:25.040Z"
   },
   {
    "duration": 86,
    "start_time": "2023-09-09T12:26:37.057Z"
   },
   {
    "duration": 78,
    "start_time": "2023-09-09T12:27:28.911Z"
   },
   {
    "duration": 91,
    "start_time": "2023-09-09T12:29:08.018Z"
   },
   {
    "duration": 86,
    "start_time": "2023-09-09T12:29:25.292Z"
   },
   {
    "duration": 179,
    "start_time": "2023-09-09T12:32:36.603Z"
   },
   {
    "duration": 169,
    "start_time": "2023-09-09T12:33:44.699Z"
   },
   {
    "duration": 644,
    "start_time": "2023-09-09T12:34:03.853Z"
   },
   {
    "duration": 6,
    "start_time": "2023-09-09T12:35:46.897Z"
   },
   {
    "duration": 5,
    "start_time": "2023-09-09T12:35:54.779Z"
   },
   {
    "duration": 115,
    "start_time": "2023-09-09T12:36:40.151Z"
   },
   {
    "duration": 258,
    "start_time": "2023-09-09T12:36:53.073Z"
   },
   {
    "duration": 307,
    "start_time": "2023-09-09T12:37:02.282Z"
   },
   {
    "duration": 284,
    "start_time": "2023-09-09T12:37:40.815Z"
   },
   {
    "duration": 241,
    "start_time": "2023-09-09T12:39:14.529Z"
   },
   {
    "duration": 266,
    "start_time": "2023-09-09T12:39:37.020Z"
   },
   {
    "duration": 744,
    "start_time": "2023-09-09T12:40:08.015Z"
   },
   {
    "duration": 1293,
    "start_time": "2023-09-09T12:40:33.963Z"
   },
   {
    "duration": 722,
    "start_time": "2023-09-09T12:40:43.996Z"
   },
   {
    "duration": 250,
    "start_time": "2023-09-09T12:40:53.694Z"
   },
   {
    "duration": 5,
    "start_time": "2023-09-09T12:42:49.170Z"
   },
   {
    "duration": 315,
    "start_time": "2023-09-09T12:43:09.342Z"
   },
   {
    "duration": 129,
    "start_time": "2023-09-09T12:43:48.650Z"
   },
   {
    "duration": 273,
    "start_time": "2023-09-09T12:44:27.831Z"
   },
   {
    "duration": 295,
    "start_time": "2023-09-09T12:44:54.011Z"
   },
   {
    "duration": 263,
    "start_time": "2023-09-09T12:46:57.104Z"
   },
   {
    "duration": 271,
    "start_time": "2023-09-09T12:47:02.448Z"
   },
   {
    "duration": 703,
    "start_time": "2023-09-09T12:49:17.417Z"
   },
   {
    "duration": 256,
    "start_time": "2023-09-09T12:49:45.596Z"
   },
   {
    "duration": 122,
    "start_time": "2023-09-09T12:50:38.939Z"
   },
   {
    "duration": 287,
    "start_time": "2023-09-09T12:51:16.968Z"
   },
   {
    "duration": 292,
    "start_time": "2023-09-09T12:51:23.079Z"
   },
   {
    "duration": 284,
    "start_time": "2023-09-09T12:51:56.243Z"
   },
   {
    "duration": 604,
    "start_time": "2023-09-09T12:52:05.477Z"
   },
   {
    "duration": 168,
    "start_time": "2023-09-09T12:52:29.544Z"
   },
   {
    "duration": 501,
    "start_time": "2023-09-09T12:53:48.802Z"
   },
   {
    "duration": 515,
    "start_time": "2023-09-09T12:53:56.530Z"
   },
   {
    "duration": 646,
    "start_time": "2023-09-09T12:54:12.245Z"
   },
   {
    "duration": 602,
    "start_time": "2023-09-09T12:54:21.014Z"
   },
   {
    "duration": 1042,
    "start_time": "2023-09-09T12:54:34.303Z"
   },
   {
    "duration": 549,
    "start_time": "2023-09-09T12:57:58.377Z"
   },
   {
    "duration": 13,
    "start_time": "2023-09-09T12:58:12.522Z"
   },
   {
    "duration": 568,
    "start_time": "2023-09-09T12:59:37.453Z"
   },
   {
    "duration": 299,
    "start_time": "2023-09-09T12:59:57.295Z"
   },
   {
    "duration": 300,
    "start_time": "2023-09-09T13:00:45.518Z"
   },
   {
    "duration": 294,
    "start_time": "2023-09-09T13:01:23.397Z"
   },
   {
    "duration": 292,
    "start_time": "2023-09-09T13:01:27.041Z"
   },
   {
    "duration": 286,
    "start_time": "2023-09-09T13:02:59.788Z"
   },
   {
    "duration": 287,
    "start_time": "2023-09-09T13:03:04.693Z"
   },
   {
    "duration": 288,
    "start_time": "2023-09-09T13:03:11.096Z"
   },
   {
    "duration": 800,
    "start_time": "2023-09-09T13:03:53.917Z"
   },
   {
    "duration": 298,
    "start_time": "2023-09-09T13:04:02.229Z"
   },
   {
    "duration": 85,
    "start_time": "2023-09-09T13:06:06.412Z"
   },
   {
    "duration": 69,
    "start_time": "2023-09-09T13:10:06.689Z"
   },
   {
    "duration": 96,
    "start_time": "2023-09-09T13:10:24.211Z"
   },
   {
    "duration": 77,
    "start_time": "2023-09-09T13:15:08.500Z"
   },
   {
    "duration": 76,
    "start_time": "2023-09-09T13:15:26.358Z"
   },
   {
    "duration": 87,
    "start_time": "2023-09-09T13:17:00.945Z"
   },
   {
    "duration": 5,
    "start_time": "2023-09-09T13:19:29.683Z"
   },
   {
    "duration": 4,
    "start_time": "2023-09-09T13:19:44.052Z"
   },
   {
    "duration": 4,
    "start_time": "2023-09-09T13:20:57.165Z"
   },
   {
    "duration": 5,
    "start_time": "2023-09-09T13:21:38.210Z"
   },
   {
    "duration": 5,
    "start_time": "2023-09-09T13:22:05.517Z"
   },
   {
    "duration": 5,
    "start_time": "2023-09-09T13:22:23.672Z"
   },
   {
    "duration": 5,
    "start_time": "2023-09-09T13:22:31.527Z"
   },
   {
    "duration": 3,
    "start_time": "2023-09-09T13:22:46.971Z"
   },
   {
    "duration": 4,
    "start_time": "2023-09-09T13:22:52.219Z"
   },
   {
    "duration": 9,
    "start_time": "2023-09-09T13:23:04.140Z"
   },
   {
    "duration": 4,
    "start_time": "2023-09-09T13:23:09.358Z"
   },
   {
    "duration": 4,
    "start_time": "2023-09-09T13:23:53.650Z"
   },
   {
    "duration": 84,
    "start_time": "2023-09-09T14:07:43.722Z"
   },
   {
    "duration": 10,
    "start_time": "2023-09-09T14:18:43.749Z"
   },
   {
    "duration": 14,
    "start_time": "2023-09-09T14:18:58.315Z"
   },
   {
    "duration": 27,
    "start_time": "2023-09-09T14:19:06.363Z"
   },
   {
    "duration": 14,
    "start_time": "2023-09-09T14:20:19.589Z"
   },
   {
    "duration": 13,
    "start_time": "2023-09-09T14:21:57.039Z"
   },
   {
    "duration": 12,
    "start_time": "2023-09-09T14:23:24.971Z"
   },
   {
    "duration": 13,
    "start_time": "2023-09-09T14:24:00.054Z"
   },
   {
    "duration": 12,
    "start_time": "2023-09-09T14:24:26.602Z"
   },
   {
    "duration": 18,
    "start_time": "2023-09-09T14:24:48.934Z"
   },
   {
    "duration": 11,
    "start_time": "2023-09-09T14:25:00.047Z"
   },
   {
    "duration": 86,
    "start_time": "2023-09-09T14:25:05.391Z"
   },
   {
    "duration": 95,
    "start_time": "2023-09-09T14:29:34.795Z"
   },
   {
    "duration": 10,
    "start_time": "2023-09-09T14:29:37.039Z"
   },
   {
    "duration": 108,
    "start_time": "2023-09-09T14:33:39.741Z"
   },
   {
    "duration": 107,
    "start_time": "2023-09-09T14:33:58.685Z"
   },
   {
    "duration": 62,
    "start_time": "2023-09-09T14:34:51.942Z"
   },
   {
    "duration": 78,
    "start_time": "2023-09-09T14:34:55.941Z"
   },
   {
    "duration": 66,
    "start_time": "2023-09-09T14:34:59.908Z"
   },
   {
    "duration": 10,
    "start_time": "2023-09-09T14:38:22.288Z"
   },
   {
    "duration": 135,
    "start_time": "2023-09-09T14:42:46.077Z"
   },
   {
    "duration": 13,
    "start_time": "2023-09-09T14:43:11.456Z"
   },
   {
    "duration": 5,
    "start_time": "2023-09-09T14:43:19.921Z"
   },
   {
    "duration": 4,
    "start_time": "2023-09-09T14:43:41.837Z"
   },
   {
    "duration": 121,
    "start_time": "2023-09-09T14:46:12.621Z"
   },
   {
    "duration": 207,
    "start_time": "2023-09-09T14:50:23.673Z"
   },
   {
    "duration": 212,
    "start_time": "2023-09-09T14:53:12.900Z"
   },
   {
    "duration": 225,
    "start_time": "2023-09-09T14:56:41.421Z"
   },
   {
    "duration": 202,
    "start_time": "2023-09-09T14:56:49.241Z"
   },
   {
    "duration": 203,
    "start_time": "2023-09-09T14:57:08.215Z"
   },
   {
    "duration": 211,
    "start_time": "2023-09-09T14:57:10.903Z"
   },
   {
    "duration": 238,
    "start_time": "2023-09-09T14:57:21.345Z"
   },
   {
    "duration": 208,
    "start_time": "2023-09-09T14:58:24.183Z"
   },
   {
    "duration": 216,
    "start_time": "2023-09-09T14:58:41.402Z"
   },
   {
    "duration": 243,
    "start_time": "2023-09-09T14:59:06.061Z"
   },
   {
    "duration": 10,
    "start_time": "2023-09-09T14:59:10.557Z"
   },
   {
    "duration": 10,
    "start_time": "2023-09-09T14:59:40.489Z"
   },
   {
    "duration": 9,
    "start_time": "2023-09-09T14:59:48.289Z"
   },
   {
    "duration": 70,
    "start_time": "2023-09-09T15:00:51.209Z"
   },
   {
    "duration": 70,
    "start_time": "2023-09-09T15:01:01.018Z"
   },
   {
    "duration": 243,
    "start_time": "2023-09-09T15:02:21.341Z"
   },
   {
    "duration": 208,
    "start_time": "2023-09-09T15:02:49.566Z"
   },
   {
    "duration": 12,
    "start_time": "2023-09-09T15:03:53.421Z"
   },
   {
    "duration": 3,
    "start_time": "2023-09-09T15:03:58.791Z"
   },
   {
    "duration": 223,
    "start_time": "2023-09-09T15:05:21.912Z"
   },
   {
    "duration": 254,
    "start_time": "2023-09-09T15:06:11.894Z"
   },
   {
    "duration": 225,
    "start_time": "2023-09-09T15:16:39.494Z"
   },
   {
    "duration": 709,
    "start_time": "2023-09-09T15:17:59.225Z"
   },
   {
    "duration": 241,
    "start_time": "2023-09-09T16:31:29.748Z"
   },
   {
    "duration": 17,
    "start_time": "2023-09-09T16:32:52.019Z"
   },
   {
    "duration": 11,
    "start_time": "2023-09-09T16:32:56.345Z"
   },
   {
    "duration": 80,
    "start_time": "2023-09-09T16:34:02.484Z"
   },
   {
    "duration": 224,
    "start_time": "2023-09-09T16:34:35.561Z"
   },
   {
    "duration": 275,
    "start_time": "2023-09-09T16:35:21.783Z"
   },
   {
    "duration": 361,
    "start_time": "2023-09-09T16:36:09.527Z"
   },
   {
    "duration": 265,
    "start_time": "2023-09-09T16:36:18.048Z"
   },
   {
    "duration": 265,
    "start_time": "2023-09-09T16:37:18.316Z"
   },
   {
    "duration": 95,
    "start_time": "2023-09-09T16:48:11.473Z"
   },
   {
    "duration": 140,
    "start_time": "2023-09-09T16:49:57.518Z"
   },
   {
    "duration": 144,
    "start_time": "2023-09-09T16:50:28.616Z"
   },
   {
    "duration": 211,
    "start_time": "2023-09-09T16:51:21.367Z"
   },
   {
    "duration": 183,
    "start_time": "2023-09-09T16:51:43.347Z"
   },
   {
    "duration": 59,
    "start_time": "2023-09-09T16:52:29.713Z"
   },
   {
    "duration": 235,
    "start_time": "2023-09-09T16:53:30.377Z"
   },
   {
    "duration": 221,
    "start_time": "2023-09-09T16:57:11.781Z"
   },
   {
    "duration": 215,
    "start_time": "2023-09-09T16:59:39.822Z"
   },
   {
    "duration": 44,
    "start_time": "2023-09-10T10:08:29.357Z"
   },
   {
    "duration": 1300,
    "start_time": "2023-09-10T10:08:45.262Z"
   },
   {
    "duration": 87,
    "start_time": "2023-09-10T10:08:46.564Z"
   },
   {
    "duration": 12,
    "start_time": "2023-09-10T10:08:46.653Z"
   },
   {
    "duration": 46,
    "start_time": "2023-09-10T10:08:46.667Z"
   },
   {
    "duration": 10,
    "start_time": "2023-09-10T10:08:46.715Z"
   },
   {
    "duration": 19,
    "start_time": "2023-09-10T10:08:46.726Z"
   },
   {
    "duration": 24,
    "start_time": "2023-09-10T10:08:46.747Z"
   },
   {
    "duration": 3,
    "start_time": "2023-09-10T10:08:46.773Z"
   },
   {
    "duration": 13,
    "start_time": "2023-09-10T10:08:46.777Z"
   },
   {
    "duration": 15,
    "start_time": "2023-09-10T10:08:46.793Z"
   },
   {
    "duration": 12,
    "start_time": "2023-09-10T10:08:46.809Z"
   },
   {
    "duration": 29,
    "start_time": "2023-09-10T10:08:46.822Z"
   },
   {
    "duration": 17,
    "start_time": "2023-09-10T10:08:46.852Z"
   },
   {
    "duration": 21,
    "start_time": "2023-09-10T10:08:46.871Z"
   },
   {
    "duration": 3,
    "start_time": "2023-09-10T10:08:46.894Z"
   },
   {
    "duration": 13,
    "start_time": "2023-09-10T10:08:46.898Z"
   },
   {
    "duration": 16,
    "start_time": "2023-09-10T10:08:46.912Z"
   },
   {
    "duration": 209,
    "start_time": "2023-09-10T10:08:46.930Z"
   },
   {
    "duration": 5,
    "start_time": "2023-09-10T10:08:47.143Z"
   },
   {
    "duration": 99,
    "start_time": "2023-09-10T10:08:47.150Z"
   },
   {
    "duration": 95,
    "start_time": "2023-09-10T10:08:47.250Z"
   },
   {
    "duration": 66,
    "start_time": "2023-09-10T10:08:47.347Z"
   },
   {
    "duration": 190,
    "start_time": "2023-09-10T10:08:47.414Z"
   },
   {
    "duration": 5,
    "start_time": "2023-09-10T10:08:47.606Z"
   },
   {
    "duration": 13,
    "start_time": "2023-09-10T10:08:47.613Z"
   },
   {
    "duration": 117,
    "start_time": "2023-09-10T10:08:47.643Z"
   },
   {
    "duration": 97,
    "start_time": "2023-09-10T10:08:47.762Z"
   },
   {
    "duration": 89,
    "start_time": "2023-09-10T10:08:47.863Z"
   },
   {
    "duration": 4,
    "start_time": "2023-09-10T10:08:47.954Z"
   },
   {
    "duration": 388,
    "start_time": "2023-09-10T10:08:47.960Z"
   },
   {
    "duration": 284,
    "start_time": "2023-09-10T10:08:48.350Z"
   },
   {
    "duration": 82,
    "start_time": "2023-09-10T10:08:48.636Z"
   },
   {
    "duration": 29,
    "start_time": "2023-09-10T10:08:48.720Z"
   },
   {
    "duration": 6,
    "start_time": "2023-09-10T10:08:48.751Z"
   },
   {
    "duration": 122,
    "start_time": "2023-09-10T10:08:48.759Z"
   },
   {
    "duration": 4,
    "start_time": "2023-09-10T10:08:48.882Z"
   },
   {
    "duration": 406,
    "start_time": "2023-09-10T10:08:48.887Z"
   },
   {
    "duration": 12,
    "start_time": "2023-09-10T10:08:49.295Z"
   },
   {
    "duration": 124,
    "start_time": "2023-09-10T10:08:49.309Z"
   },
   {
    "duration": 12,
    "start_time": "2023-09-10T10:08:49.435Z"
   },
   {
    "duration": 112,
    "start_time": "2023-09-10T10:08:49.448Z"
   },
   {
    "duration": 8,
    "start_time": "2023-09-10T10:08:49.561Z"
   },
   {
    "duration": 5,
    "start_time": "2023-09-10T10:08:49.571Z"
   },
   {
    "duration": 31,
    "start_time": "2023-09-10T10:08:49.578Z"
   },
   {
    "duration": 557,
    "start_time": "2023-09-10T10:08:49.611Z"
   },
   {
    "duration": 535,
    "start_time": "2023-09-10T10:08:50.170Z"
   },
   {
    "duration": 116,
    "start_time": "2023-09-10T10:08:50.706Z"
   },
   {
    "duration": 6,
    "start_time": "2023-09-10T10:08:50.823Z"
   },
   {
    "duration": 761,
    "start_time": "2023-09-10T10:08:50.830Z"
   },
   {
    "duration": 6,
    "start_time": "2023-09-10T10:08:51.593Z"
   },
   {
    "duration": 148,
    "start_time": "2023-09-10T10:08:51.601Z"
   },
   {
    "duration": 6,
    "start_time": "2023-09-10T10:08:51.750Z"
   },
   {
    "duration": 150,
    "start_time": "2023-09-10T10:08:51.757Z"
   },
   {
    "duration": 6,
    "start_time": "2023-09-10T10:08:51.909Z"
   },
   {
    "duration": 135,
    "start_time": "2023-09-10T10:08:51.917Z"
   },
   {
    "duration": 7,
    "start_time": "2023-09-10T10:08:52.054Z"
   },
   {
    "duration": 463,
    "start_time": "2023-09-10T10:08:52.063Z"
   },
   {
    "duration": 300,
    "start_time": "2023-09-10T10:08:52.528Z"
   },
   {
    "duration": 14,
    "start_time": "2023-09-10T10:08:52.831Z"
   },
   {
    "duration": 6,
    "start_time": "2023-09-10T10:08:52.846Z"
   },
   {
    "duration": 177,
    "start_time": "2023-09-10T10:08:52.854Z"
   },
   {
    "duration": 13,
    "start_time": "2023-09-10T10:08:53.032Z"
   },
   {
    "duration": 9,
    "start_time": "2023-09-10T10:08:53.047Z"
   },
   {
    "duration": 427,
    "start_time": "2023-09-10T10:08:53.058Z"
   },
   {
    "duration": 9,
    "start_time": "2023-09-10T10:08:53.487Z"
   },
   {
    "duration": 11,
    "start_time": "2023-09-10T10:08:53.497Z"
   },
   {
    "duration": 19,
    "start_time": "2023-09-10T10:08:53.510Z"
   },
   {
    "duration": 14,
    "start_time": "2023-09-10T10:08:53.530Z"
   },
   {
    "duration": 14,
    "start_time": "2023-09-10T10:08:53.546Z"
   },
   {
    "duration": 19,
    "start_time": "2023-09-10T10:08:53.561Z"
   },
   {
    "duration": 7,
    "start_time": "2023-09-10T10:08:53.581Z"
   },
   {
    "duration": 21,
    "start_time": "2023-09-10T10:08:53.589Z"
   },
   {
    "duration": 195,
    "start_time": "2023-09-10T10:09:06.179Z"
   },
   {
    "duration": 194,
    "start_time": "2023-09-10T10:09:54.499Z"
   },
   {
    "duration": 4,
    "start_time": "2023-09-10T10:45:59.625Z"
   },
   {
    "duration": 155,
    "start_time": "2023-09-10T10:45:59.631Z"
   },
   {
    "duration": 12,
    "start_time": "2023-09-10T10:45:59.788Z"
   },
   {
    "duration": 67,
    "start_time": "2023-09-10T10:45:59.802Z"
   },
   {
    "duration": 10,
    "start_time": "2023-09-10T10:45:59.871Z"
   },
   {
    "duration": 11,
    "start_time": "2023-09-10T10:45:59.882Z"
   },
   {
    "duration": 36,
    "start_time": "2023-09-10T10:45:59.894Z"
   },
   {
    "duration": 13,
    "start_time": "2023-09-10T10:45:59.932Z"
   },
   {
    "duration": 26,
    "start_time": "2023-09-10T10:45:59.947Z"
   },
   {
    "duration": 23,
    "start_time": "2023-09-10T10:45:59.976Z"
   },
   {
    "duration": 36,
    "start_time": "2023-09-10T10:46:00.003Z"
   },
   {
    "duration": 56,
    "start_time": "2023-09-10T10:46:00.040Z"
   },
   {
    "duration": 50,
    "start_time": "2023-09-10T10:46:00.098Z"
   },
   {
    "duration": 42,
    "start_time": "2023-09-10T10:46:00.150Z"
   },
   {
    "duration": 47,
    "start_time": "2023-09-10T10:46:00.193Z"
   },
   {
    "duration": 34,
    "start_time": "2023-09-10T10:46:00.242Z"
   },
   {
    "duration": 43,
    "start_time": "2023-09-10T10:46:00.279Z"
   },
   {
    "duration": 246,
    "start_time": "2023-09-10T10:46:00.324Z"
   },
   {
    "duration": 9,
    "start_time": "2023-09-10T10:46:00.572Z"
   },
   {
    "duration": 143,
    "start_time": "2023-09-10T10:46:00.583Z"
   },
   {
    "duration": 100,
    "start_time": "2023-09-10T10:46:00.728Z"
   },
   {
    "duration": 93,
    "start_time": "2023-09-10T10:46:00.830Z"
   },
   {
    "duration": 219,
    "start_time": "2023-09-10T10:46:00.924Z"
   },
   {
    "duration": 6,
    "start_time": "2023-09-10T10:46:01.146Z"
   },
   {
    "duration": 36,
    "start_time": "2023-09-10T10:46:01.154Z"
   },
   {
    "duration": 280,
    "start_time": "2023-09-10T10:46:01.191Z"
   },
   {
    "duration": 102,
    "start_time": "2023-09-10T10:46:01.473Z"
   },
   {
    "duration": 94,
    "start_time": "2023-09-10T10:46:01.576Z"
   },
   {
    "duration": 4,
    "start_time": "2023-09-10T10:46:01.674Z"
   },
   {
    "duration": 341,
    "start_time": "2023-09-10T10:46:01.680Z"
   },
   {
    "duration": 326,
    "start_time": "2023-09-10T10:46:02.024Z"
   },
   {
    "duration": 115,
    "start_time": "2023-09-10T10:46:02.353Z"
   },
   {
    "duration": 15,
    "start_time": "2023-09-10T10:46:02.470Z"
   },
   {
    "duration": 12,
    "start_time": "2023-09-10T10:46:02.487Z"
   },
   {
    "duration": 161,
    "start_time": "2023-09-10T10:46:02.501Z"
   },
   {
    "duration": 4,
    "start_time": "2023-09-10T10:46:02.665Z"
   },
   {
    "duration": 458,
    "start_time": "2023-09-10T10:46:02.670Z"
   },
   {
    "duration": 24,
    "start_time": "2023-09-10T10:46:03.130Z"
   },
   {
    "duration": 230,
    "start_time": "2023-09-10T10:46:03.156Z"
   },
   {
    "duration": 8,
    "start_time": "2023-09-10T10:46:03.387Z"
   },
   {
    "duration": 135,
    "start_time": "2023-09-10T10:46:03.397Z"
   },
   {
    "duration": 10,
    "start_time": "2023-09-10T10:46:03.534Z"
   },
   {
    "duration": 13,
    "start_time": "2023-09-10T10:46:03.546Z"
   },
   {
    "duration": 40,
    "start_time": "2023-09-10T10:46:03.561Z"
   },
   {
    "duration": 569,
    "start_time": "2023-09-10T10:46:03.603Z"
   },
   {
    "duration": 527,
    "start_time": "2023-09-10T10:46:04.175Z"
   },
   {
    "duration": 124,
    "start_time": "2023-09-10T10:46:04.704Z"
   },
   {
    "duration": 18,
    "start_time": "2023-09-10T10:46:04.829Z"
   },
   {
    "duration": 845,
    "start_time": "2023-09-10T10:46:04.849Z"
   },
   {
    "duration": 8,
    "start_time": "2023-09-10T10:46:05.696Z"
   },
   {
    "duration": 179,
    "start_time": "2023-09-10T10:46:05.706Z"
   },
   {
    "duration": 6,
    "start_time": "2023-09-10T10:46:05.887Z"
   },
   {
    "duration": 266,
    "start_time": "2023-09-10T10:46:05.894Z"
   },
   {
    "duration": 9,
    "start_time": "2023-09-10T10:46:06.166Z"
   },
   {
    "duration": 157,
    "start_time": "2023-09-10T10:46:06.177Z"
   },
   {
    "duration": 17,
    "start_time": "2023-09-10T10:46:06.336Z"
   },
   {
    "duration": 513,
    "start_time": "2023-09-10T10:46:06.355Z"
   },
   {
    "duration": 217,
    "start_time": "2023-09-10T10:46:06.870Z"
   },
   {
    "duration": 8,
    "start_time": "2023-09-10T10:46:07.089Z"
   },
   {
    "duration": 9,
    "start_time": "2023-09-10T10:46:07.099Z"
   },
   {
    "duration": 217,
    "start_time": "2023-09-10T10:46:07.110Z"
   },
   {
    "duration": 15,
    "start_time": "2023-09-10T10:46:07.329Z"
   },
   {
    "duration": 30,
    "start_time": "2023-09-10T10:46:07.347Z"
   },
   {
    "duration": 487,
    "start_time": "2023-09-10T10:46:07.379Z"
   },
   {
    "duration": 8,
    "start_time": "2023-09-10T10:46:07.868Z"
   },
   {
    "duration": 17,
    "start_time": "2023-09-10T10:46:07.877Z"
   },
   {
    "duration": 19,
    "start_time": "2023-09-10T10:46:07.897Z"
   },
   {
    "duration": 42,
    "start_time": "2023-09-10T10:46:07.918Z"
   },
   {
    "duration": 38,
    "start_time": "2023-09-10T10:46:07.962Z"
   },
   {
    "duration": 29,
    "start_time": "2023-09-10T10:46:08.002Z"
   },
   {
    "duration": 15,
    "start_time": "2023-09-10T10:46:08.033Z"
   },
   {
    "duration": 23,
    "start_time": "2023-09-10T10:46:08.051Z"
   },
   {
    "duration": 217,
    "start_time": "2023-09-10T10:46:08.077Z"
   },
   {
    "duration": 10,
    "start_time": "2023-09-10T10:46:08.296Z"
   },
   {
    "duration": 28,
    "start_time": "2023-09-10T10:46:08.308Z"
   },
   {
    "duration": 1266,
    "start_time": "2023-09-10T17:47:54.192Z"
   },
   {
    "duration": 375,
    "start_time": "2023-09-10T17:47:55.460Z"
   },
   {
    "duration": 13,
    "start_time": "2023-09-10T17:47:55.837Z"
   },
   {
    "duration": 38,
    "start_time": "2023-09-10T17:47:55.853Z"
   },
   {
    "duration": 10,
    "start_time": "2023-09-10T17:47:55.893Z"
   },
   {
    "duration": 5,
    "start_time": "2023-09-10T17:47:55.905Z"
   },
   {
    "duration": 49,
    "start_time": "2023-09-10T17:47:55.912Z"
   },
   {
    "duration": 3,
    "start_time": "2023-09-10T17:47:55.963Z"
   },
   {
    "duration": 12,
    "start_time": "2023-09-10T17:47:55.968Z"
   },
   {
    "duration": 7,
    "start_time": "2023-09-10T17:47:55.983Z"
   },
   {
    "duration": 5,
    "start_time": "2023-09-10T17:47:55.992Z"
   },
   {
    "duration": 5,
    "start_time": "2023-09-10T17:47:55.999Z"
   },
   {
    "duration": 40,
    "start_time": "2023-09-10T17:47:56.006Z"
   },
   {
    "duration": 20,
    "start_time": "2023-09-10T17:47:56.047Z"
   },
   {
    "duration": 3,
    "start_time": "2023-09-10T17:47:56.068Z"
   },
   {
    "duration": 5,
    "start_time": "2023-09-10T17:47:56.073Z"
   },
   {
    "duration": 7,
    "start_time": "2023-09-10T17:47:56.080Z"
   },
   {
    "duration": 221,
    "start_time": "2023-09-10T17:47:56.089Z"
   },
   {
    "duration": 7,
    "start_time": "2023-09-10T17:47:56.312Z"
   },
   {
    "duration": 100,
    "start_time": "2023-09-10T17:47:56.320Z"
   },
   {
    "duration": 93,
    "start_time": "2023-09-10T17:47:56.422Z"
   },
   {
    "duration": 81,
    "start_time": "2023-09-10T17:47:56.517Z"
   },
   {
    "duration": 202,
    "start_time": "2023-09-10T17:47:56.600Z"
   },
   {
    "duration": 4,
    "start_time": "2023-09-10T17:47:56.804Z"
   },
   {
    "duration": 7,
    "start_time": "2023-09-10T17:47:56.810Z"
   },
   {
    "duration": 109,
    "start_time": "2023-09-10T17:47:56.819Z"
   },
   {
    "duration": 82,
    "start_time": "2023-09-10T17:47:56.930Z"
   },
   {
    "duration": 82,
    "start_time": "2023-09-10T17:47:57.017Z"
   },
   {
    "duration": 4,
    "start_time": "2023-09-10T17:47:57.101Z"
   },
   {
    "duration": 332,
    "start_time": "2023-09-10T17:47:57.106Z"
   },
   {
    "duration": 240,
    "start_time": "2023-09-10T17:47:57.439Z"
   },
   {
    "duration": 70,
    "start_time": "2023-09-10T17:47:57.681Z"
   },
   {
    "duration": 9,
    "start_time": "2023-09-10T17:47:57.753Z"
   },
   {
    "duration": 5,
    "start_time": "2023-09-10T17:47:57.763Z"
   },
   {
    "duration": 104,
    "start_time": "2023-09-10T17:47:57.769Z"
   },
   {
    "duration": 3,
    "start_time": "2023-09-10T17:47:57.874Z"
   },
   {
    "duration": 347,
    "start_time": "2023-09-10T17:47:57.879Z"
   },
   {
    "duration": 17,
    "start_time": "2023-09-10T17:47:58.227Z"
   },
   {
    "duration": 99,
    "start_time": "2023-09-10T17:47:58.246Z"
   },
   {
    "duration": 6,
    "start_time": "2023-09-10T17:47:58.347Z"
   },
   {
    "duration": 105,
    "start_time": "2023-09-10T17:47:58.355Z"
   },
   {
    "duration": 7,
    "start_time": "2023-09-10T17:47:58.462Z"
   },
   {
    "duration": 4,
    "start_time": "2023-09-10T17:47:58.470Z"
   },
   {
    "duration": 27,
    "start_time": "2023-09-10T17:47:58.475Z"
   },
   {
    "duration": 519,
    "start_time": "2023-09-10T17:47:58.504Z"
   },
   {
    "duration": 502,
    "start_time": "2023-09-10T17:47:59.025Z"
   },
   {
    "duration": 96,
    "start_time": "2023-09-10T17:47:59.529Z"
   },
   {
    "duration": 18,
    "start_time": "2023-09-10T17:47:59.626Z"
   },
   {
    "duration": 704,
    "start_time": "2023-09-10T17:47:59.646Z"
   },
   {
    "duration": 7,
    "start_time": "2023-09-10T17:48:00.352Z"
   },
   {
    "duration": 161,
    "start_time": "2023-09-10T17:48:00.360Z"
   },
   {
    "duration": 6,
    "start_time": "2023-09-10T17:48:00.523Z"
   },
   {
    "duration": 147,
    "start_time": "2023-09-10T17:48:00.530Z"
   },
   {
    "duration": 5,
    "start_time": "2023-09-10T17:48:00.679Z"
   },
   {
    "duration": 153,
    "start_time": "2023-09-10T17:48:00.686Z"
   },
   {
    "duration": 7,
    "start_time": "2023-09-10T17:48:00.841Z"
   },
   {
    "duration": 549,
    "start_time": "2023-09-10T17:48:00.849Z"
   },
   {
    "duration": 271,
    "start_time": "2023-09-10T17:48:01.399Z"
   },
   {
    "duration": 8,
    "start_time": "2023-09-10T17:48:01.672Z"
   },
   {
    "duration": 63,
    "start_time": "2023-09-10T17:48:01.681Z"
   },
   {
    "duration": 209,
    "start_time": "2023-09-10T17:48:01.745Z"
   },
   {
    "duration": 5,
    "start_time": "2023-09-10T17:48:01.955Z"
   },
   {
    "duration": 22,
    "start_time": "2023-09-10T17:48:01.962Z"
   },
   {
    "duration": 457,
    "start_time": "2023-09-10T17:48:01.985Z"
   },
   {
    "duration": 8,
    "start_time": "2023-09-10T17:48:02.444Z"
   },
   {
    "duration": 51,
    "start_time": "2023-09-10T17:48:02.453Z"
   },
   {
    "duration": 13,
    "start_time": "2023-09-10T17:48:02.505Z"
   },
   {
    "duration": 17,
    "start_time": "2023-09-10T17:48:02.520Z"
   },
   {
    "duration": 15,
    "start_time": "2023-09-10T17:48:02.539Z"
   },
   {
    "duration": 17,
    "start_time": "2023-09-10T17:48:02.555Z"
   },
   {
    "duration": 5,
    "start_time": "2023-09-10T17:48:02.573Z"
   },
   {
    "duration": 10,
    "start_time": "2023-09-10T17:48:02.580Z"
   },
   {
    "duration": 164,
    "start_time": "2023-09-10T17:48:02.591Z"
   },
   {
    "duration": 9,
    "start_time": "2023-09-10T17:48:02.756Z"
   },
   {
    "duration": 9,
    "start_time": "2023-09-10T17:48:02.767Z"
   }
  ],
  "kernelspec": {
   "display_name": "Python 3",
   "language": "python",
   "name": "python3"
  },
  "language_info": {
   "codemirror_mode": {
    "name": "ipython",
    "version": 3
   },
   "file_extension": ".py",
   "mimetype": "text/x-python",
   "name": "python",
   "nbconvert_exporter": "python",
   "pygments_lexer": "ipython3",
   "version": "3.8.5"
  },
  "toc": {
   "base_numbering": 1,
   "nav_menu": {},
   "number_sections": true,
   "sideBar": true,
   "skip_h1_title": true,
   "title_cell": "Table of Contents",
   "title_sidebar": "Contents",
   "toc_cell": false,
   "toc_position": {
    "height": "calc(100% - 180px)",
    "left": "10px",
    "top": "150px",
    "width": "294.398px"
   },
   "toc_section_display": true,
   "toc_window_display": false
  }
 },
 "nbformat": 4,
 "nbformat_minor": 2
}

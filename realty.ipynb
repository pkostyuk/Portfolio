{
 "cells": [
  {
   "cell_type": "markdown",
   "metadata": {},
   "source": [
    "# Исследование объявлений о продаже квартир\n",
    "\n",
    "В вашем распоряжении данные сервиса Яндекс.Недвижимость — архив объявлений о продаже квартир в Санкт-Петербурге и соседних населённых пунктов за несколько лет. Нужно научиться определять рыночную стоимость объектов недвижимости. Ваша задача — установить параметры. Это позволит построить автоматизированную систему: она отследит аномалии и мошенническую деятельность. \n",
    "\n",
    "По каждой квартире на продажу доступны два вида данных. Первые вписаны пользователем, вторые — получены автоматически на основе картографических данных. Например, расстояние до центра, аэропорта, ближайшего парка и водоёма. "
   ]
  },
  {
   "cell_type": "markdown",
   "metadata": {},
   "source": [
    "<ol type=\"1\"><b>Цель исследования:</b>\n",
    "    <li>Расчитать рыночную цену недвижимости.</li>\n",
    "    <li>Определить факторы наиболее влияющие на цену.</li>\n",
    "</ol>\n",
    "<ol type=\"1\"><b>Ход исследования:</b>\n",
    "    <li>Обзор данных.</li>\n",
    "    <li>Предобработка данных.</li>\n",
    "    <li>Добавление новых столбцов (цены за кв. м., день недели, месяц и год публикации).</li>\n",
    "    <li>Изучение отдельных факторов способных влиять на цену недвижимости.</li>\n",
    "</ol>      "
   ]
  },
  {
   "cell_type": "markdown",
   "metadata": {},
   "source": [
    "### Откройте файл с данными и изучите общую информацию. "
   ]
  },
  {
   "cell_type": "code",
   "execution_count": 1,
   "metadata": {},
   "outputs": [],
   "source": [
    "import pandas as pd\n",
    "\n",
    "df = pd.read_csv('/datasets/real_estate_data.csv', sep='\\t')"
   ]
  },
  {
   "cell_type": "code",
   "execution_count": 2,
   "metadata": {},
   "outputs": [
    {
     "data": {
      "text/html": [
       "<div>\n",
       "<style scoped>\n",
       "    .dataframe tbody tr th:only-of-type {\n",
       "        vertical-align: middle;\n",
       "    }\n",
       "\n",
       "    .dataframe tbody tr th {\n",
       "        vertical-align: top;\n",
       "    }\n",
       "\n",
       "    .dataframe thead th {\n",
       "        text-align: right;\n",
       "    }\n",
       "</style>\n",
       "<table border=\"1\" class=\"dataframe\">\n",
       "  <thead>\n",
       "    <tr style=\"text-align: right;\">\n",
       "      <th></th>\n",
       "      <th>total_images</th>\n",
       "      <th>last_price</th>\n",
       "      <th>total_area</th>\n",
       "      <th>first_day_exposition</th>\n",
       "      <th>rooms</th>\n",
       "      <th>ceiling_height</th>\n",
       "      <th>floors_total</th>\n",
       "      <th>living_area</th>\n",
       "      <th>floor</th>\n",
       "      <th>is_apartment</th>\n",
       "      <th>...</th>\n",
       "      <th>kitchen_area</th>\n",
       "      <th>balcony</th>\n",
       "      <th>locality_name</th>\n",
       "      <th>airports_nearest</th>\n",
       "      <th>cityCenters_nearest</th>\n",
       "      <th>parks_around3000</th>\n",
       "      <th>parks_nearest</th>\n",
       "      <th>ponds_around3000</th>\n",
       "      <th>ponds_nearest</th>\n",
       "      <th>days_exposition</th>\n",
       "    </tr>\n",
       "  </thead>\n",
       "  <tbody>\n",
       "    <tr>\n",
       "      <th>0</th>\n",
       "      <td>20</td>\n",
       "      <td>13000000.0</td>\n",
       "      <td>108.0</td>\n",
       "      <td>2019-03-07T00:00:00</td>\n",
       "      <td>3</td>\n",
       "      <td>2.70</td>\n",
       "      <td>16.0</td>\n",
       "      <td>51.0</td>\n",
       "      <td>8</td>\n",
       "      <td>NaN</td>\n",
       "      <td>...</td>\n",
       "      <td>25.0</td>\n",
       "      <td>NaN</td>\n",
       "      <td>Санкт-Петербург</td>\n",
       "      <td>18863.0</td>\n",
       "      <td>16028.0</td>\n",
       "      <td>1.0</td>\n",
       "      <td>482.0</td>\n",
       "      <td>2.0</td>\n",
       "      <td>755.0</td>\n",
       "      <td>NaN</td>\n",
       "    </tr>\n",
       "    <tr>\n",
       "      <th>1</th>\n",
       "      <td>7</td>\n",
       "      <td>3350000.0</td>\n",
       "      <td>40.4</td>\n",
       "      <td>2018-12-04T00:00:00</td>\n",
       "      <td>1</td>\n",
       "      <td>NaN</td>\n",
       "      <td>11.0</td>\n",
       "      <td>18.6</td>\n",
       "      <td>1</td>\n",
       "      <td>NaN</td>\n",
       "      <td>...</td>\n",
       "      <td>11.0</td>\n",
       "      <td>2.0</td>\n",
       "      <td>посёлок Шушары</td>\n",
       "      <td>12817.0</td>\n",
       "      <td>18603.0</td>\n",
       "      <td>0.0</td>\n",
       "      <td>NaN</td>\n",
       "      <td>0.0</td>\n",
       "      <td>NaN</td>\n",
       "      <td>81.0</td>\n",
       "    </tr>\n",
       "    <tr>\n",
       "      <th>2</th>\n",
       "      <td>10</td>\n",
       "      <td>5196000.0</td>\n",
       "      <td>56.0</td>\n",
       "      <td>2015-08-20T00:00:00</td>\n",
       "      <td>2</td>\n",
       "      <td>NaN</td>\n",
       "      <td>5.0</td>\n",
       "      <td>34.3</td>\n",
       "      <td>4</td>\n",
       "      <td>NaN</td>\n",
       "      <td>...</td>\n",
       "      <td>8.3</td>\n",
       "      <td>0.0</td>\n",
       "      <td>Санкт-Петербург</td>\n",
       "      <td>21741.0</td>\n",
       "      <td>13933.0</td>\n",
       "      <td>1.0</td>\n",
       "      <td>90.0</td>\n",
       "      <td>2.0</td>\n",
       "      <td>574.0</td>\n",
       "      <td>558.0</td>\n",
       "    </tr>\n",
       "    <tr>\n",
       "      <th>3</th>\n",
       "      <td>0</td>\n",
       "      <td>64900000.0</td>\n",
       "      <td>159.0</td>\n",
       "      <td>2015-07-24T00:00:00</td>\n",
       "      <td>3</td>\n",
       "      <td>NaN</td>\n",
       "      <td>14.0</td>\n",
       "      <td>NaN</td>\n",
       "      <td>9</td>\n",
       "      <td>NaN</td>\n",
       "      <td>...</td>\n",
       "      <td>NaN</td>\n",
       "      <td>0.0</td>\n",
       "      <td>Санкт-Петербург</td>\n",
       "      <td>28098.0</td>\n",
       "      <td>6800.0</td>\n",
       "      <td>2.0</td>\n",
       "      <td>84.0</td>\n",
       "      <td>3.0</td>\n",
       "      <td>234.0</td>\n",
       "      <td>424.0</td>\n",
       "    </tr>\n",
       "    <tr>\n",
       "      <th>4</th>\n",
       "      <td>2</td>\n",
       "      <td>10000000.0</td>\n",
       "      <td>100.0</td>\n",
       "      <td>2018-06-19T00:00:00</td>\n",
       "      <td>2</td>\n",
       "      <td>3.03</td>\n",
       "      <td>14.0</td>\n",
       "      <td>32.0</td>\n",
       "      <td>13</td>\n",
       "      <td>NaN</td>\n",
       "      <td>...</td>\n",
       "      <td>41.0</td>\n",
       "      <td>NaN</td>\n",
       "      <td>Санкт-Петербург</td>\n",
       "      <td>31856.0</td>\n",
       "      <td>8098.0</td>\n",
       "      <td>2.0</td>\n",
       "      <td>112.0</td>\n",
       "      <td>1.0</td>\n",
       "      <td>48.0</td>\n",
       "      <td>121.0</td>\n",
       "    </tr>\n",
       "  </tbody>\n",
       "</table>\n",
       "<p>5 rows × 22 columns</p>\n",
       "</div>"
      ],
      "text/plain": [
       "   total_images  last_price  total_area first_day_exposition  rooms  \\\n",
       "0            20  13000000.0       108.0  2019-03-07T00:00:00      3   \n",
       "1             7   3350000.0        40.4  2018-12-04T00:00:00      1   \n",
       "2            10   5196000.0        56.0  2015-08-20T00:00:00      2   \n",
       "3             0  64900000.0       159.0  2015-07-24T00:00:00      3   \n",
       "4             2  10000000.0       100.0  2018-06-19T00:00:00      2   \n",
       "\n",
       "   ceiling_height  floors_total  living_area  floor is_apartment  ...  \\\n",
       "0            2.70          16.0         51.0      8          NaN  ...   \n",
       "1             NaN          11.0         18.6      1          NaN  ...   \n",
       "2             NaN           5.0         34.3      4          NaN  ...   \n",
       "3             NaN          14.0          NaN      9          NaN  ...   \n",
       "4            3.03          14.0         32.0     13          NaN  ...   \n",
       "\n",
       "   kitchen_area  balcony    locality_name  airports_nearest  \\\n",
       "0          25.0      NaN  Санкт-Петербург           18863.0   \n",
       "1          11.0      2.0   посёлок Шушары           12817.0   \n",
       "2           8.3      0.0  Санкт-Петербург           21741.0   \n",
       "3           NaN      0.0  Санкт-Петербург           28098.0   \n",
       "4          41.0      NaN  Санкт-Петербург           31856.0   \n",
       "\n",
       "  cityCenters_nearest  parks_around3000  parks_nearest  ponds_around3000  \\\n",
       "0             16028.0               1.0          482.0               2.0   \n",
       "1             18603.0               0.0            NaN               0.0   \n",
       "2             13933.0               1.0           90.0               2.0   \n",
       "3              6800.0               2.0           84.0               3.0   \n",
       "4              8098.0               2.0          112.0               1.0   \n",
       "\n",
       "   ponds_nearest  days_exposition  \n",
       "0          755.0              NaN  \n",
       "1            NaN             81.0  \n",
       "2          574.0            558.0  \n",
       "3          234.0            424.0  \n",
       "4           48.0            121.0  \n",
       "\n",
       "[5 rows x 22 columns]"
      ]
     },
     "execution_count": 2,
     "metadata": {},
     "output_type": "execute_result"
    }
   ],
   "source": [
    "# проверка корректности прочтения датафрейма\n",
    "df.head(5)"
   ]
  },
  {
   "cell_type": "code",
   "execution_count": 3,
   "metadata": {},
   "outputs": [
    {
     "name": "stdout",
     "output_type": "stream",
     "text": [
      "<class 'pandas.core.frame.DataFrame'>\n",
      "RangeIndex: 23699 entries, 0 to 23698\n",
      "Data columns (total 22 columns):\n",
      " #   Column                Non-Null Count  Dtype  \n",
      "---  ------                --------------  -----  \n",
      " 0   total_images          23699 non-null  int64  \n",
      " 1   last_price            23699 non-null  float64\n",
      " 2   total_area            23699 non-null  float64\n",
      " 3   first_day_exposition  23699 non-null  object \n",
      " 4   rooms                 23699 non-null  int64  \n",
      " 5   ceiling_height        14504 non-null  float64\n",
      " 6   floors_total          23613 non-null  float64\n",
      " 7   living_area           21796 non-null  float64\n",
      " 8   floor                 23699 non-null  int64  \n",
      " 9   is_apartment          2775 non-null   object \n",
      " 10  studio                23699 non-null  bool   \n",
      " 11  open_plan             23699 non-null  bool   \n",
      " 12  kitchen_area          21421 non-null  float64\n",
      " 13  balcony               12180 non-null  float64\n",
      " 14  locality_name         23650 non-null  object \n",
      " 15  airports_nearest      18157 non-null  float64\n",
      " 16  cityCenters_nearest   18180 non-null  float64\n",
      " 17  parks_around3000      18181 non-null  float64\n",
      " 18  parks_nearest         8079 non-null   float64\n",
      " 19  ponds_around3000      18181 non-null  float64\n",
      " 20  ponds_nearest         9110 non-null   float64\n",
      " 21  days_exposition       20518 non-null  float64\n",
      "dtypes: bool(2), float64(14), int64(3), object(3)\n",
      "memory usage: 3.7+ MB\n"
     ]
    }
   ],
   "source": [
    "# сводная информация о датафрейме\n",
    "df.info()"
   ]
  },
  {
   "cell_type": "code",
   "execution_count": 4,
   "metadata": {},
   "outputs": [
    {
     "data": {
      "image/png": "[encoded data removed]",
      "text/plain": [
       "<Figure size 1080x1440 with 20 Axes>"
      ]
     },
     "metadata": {
      "needs_background": "light"
     },
     "output_type": "display_data"
    }
   ],
   "source": [
    "# общая гистограмма для всех столбцов таблицы\n",
    "df.hist(figsize=(15, 20));"
   ]
  },
  {
   "cell_type": "markdown",
   "metadata": {},
   "source": [
    "### Предобработка данных"
   ]
  },
  {
   "cell_type": "code",
   "execution_count": 5,
   "metadata": {},
   "outputs": [
    {
     "data": {
      "text/plain": [
       "total_images                0\n",
       "last_price                  0\n",
       "total_area                  0\n",
       "first_day_exposition        0\n",
       "rooms                       0\n",
       "ceiling_height           9195\n",
       "floors_total               86\n",
       "living_area              1903\n",
       "floor                       0\n",
       "is_apartment            20924\n",
       "studio                      0\n",
       "open_plan                   0\n",
       "kitchen_area             2278\n",
       "balcony                 11519\n",
       "locality_name              49\n",
       "airports_nearest         5542\n",
       "cityCenters_nearest      5519\n",
       "parks_around3000         5518\n",
       "parks_nearest           15620\n",
       "ponds_around3000         5518\n",
       "ponds_nearest           14589\n",
       "days_exposition          3181\n",
       "dtype: int64"
      ]
     },
     "execution_count": 5,
     "metadata": {},
     "output_type": "execute_result"
    }
   ],
   "source": [
    "# подсчет пропусков по каждому столбцу\n",
    "df.isna().sum()"
   ]
  },
  {
   "cell_type": "code",
   "execution_count": 6,
   "metadata": {},
   "outputs": [
    {
     "data": {
      "text/plain": [
       "0"
      ]
     },
     "execution_count": 6,
     "metadata": {},
     "output_type": "execute_result"
    }
   ],
   "source": [
    "# Проверка на наличие полных дубликатов (совпадение по всем столбцам)\n",
    "df.duplicated().sum()"
   ]
  },
  {
   "cell_type": "markdown",
   "metadata": {},
   "source": [
    "**Обработка пропусков:**\n",
    "<ul>\n",
    "    <li>\"ceiling_height\" (высота потолков) присутствуют аномально высокие значения более 10 м, вероятно была пропущена запятая     между цифрами;</li>\n",
    "    <li>\"floors_total\" (общая этажность объекта) заполнение не представляется возможным, так как в случае заполнения данными из     столбца 'floor' могут быть сильно искажены выводы по объектам на разных этажах ('первый', 'последний' и 'другой');</li>\n",
    "    <li>\"living_area\" (жилая площадь) была попытка высчитать размер жилой площади исходя из общей площади объекта, но               выяснилось что суммарно жилая площадь и размер кухни не соответствуют общей площади, а в некоторых случаях даже превышают       её;</li>\n",
    "    <li>\"is_apartment\" (является ли объект недвижимости апартаментами) вероятнее всего пропущенные значения можно              интрепретировать как \"False\";</li>\n",
    "    <li>\"kitchen_area\" (размер кухни) заполнение не представляется возможным;</li>\n",
    "    <li>\"balcony\" (наличие балкона) вероятнее всего пропущенные значения можно интрепретировать как отсутствие;</li>\n",
    "    <li>\"locality_name\" (название населённого пункта) нет данных для заполнения, unknown;</li>\n",
    "    <li>\"airports_nearest\" (расстояние до ближайшего аэропорта в метрах) нет данных для заполнения;</li>\n",
    "    <li>\"cityCenters_nearest\" (расстояние до центра города) нет данных для заполнения;</li>\n",
    "    <li>\"parks_around3000\" (число парков в радиусе 3 км) можно предположить их отсутствие (0);</li>\n",
    "    <li>\"parks_nearest\" (расстояние до ближайшего парка ) оставлен без изменения;</li>\n",
    "    <li>\"ponds_around3000\" (число водоёмов в радиусе 3 км) можно предположить их отсутствие (0);</li>\n",
    "    <li>\"ponds_nearest\" (расстояние до ближайшего водоёма) оставлен без изменения;</li>\n",
    "    <li>\"days_exposition\" (сколько дней было размещено объявление (от публикации до снятия)) вероятнее всего предложение действующее и можно заменить на \"по настоящее время\".</li>\n",
    " </ul>"
   ]
  },
  {
   "cell_type": "code",
   "execution_count": 7,
   "metadata": {},
   "outputs": [],
   "source": [
    "df.fillna({'floors_total': 'unknown', \n",
    "           'balcony': 0,\n",
    "           'locality_name': 'unknown',\n",
    "           'is_apartment': False, \n",
    "           'parks_around3000': 0, \n",
    "           'ponds_around3000': 0, \n",
    "           'days_exposition': 'по настоящее время'\n",
    "          }, inplace=True\n",
    ")"
   ]
  },
  {
   "cell_type": "markdown",
   "metadata": {},
   "source": [
    "**Для дальнейшей работы с данными столбца `first_day_exposition` необходимо преобразовать тип object в datetime**"
   ]
  },
  {
   "cell_type": "code",
   "execution_count": 8,
   "metadata": {},
   "outputs": [],
   "source": [
    "# преобразование типа данных в столбце дата публикации\n",
    "df['first_day_exposition'] = pd.to_datetime(df['first_day_exposition'], format='%Y-%m-%d')"
   ]
  },
  {
   "cell_type": "markdown",
   "metadata": {},
   "source": [
    "**Борьба с неявными дубликатами**"
   ]
  },
  {
   "cell_type": "code",
   "execution_count": 9,
   "metadata": {},
   "outputs": [],
   "source": [
    "# проверка на корректность наименования населенного пункта (на примере п.г.т. Рябово)\n",
    "def check_name():\n",
    "    unique_name = df.locality_name.unique()\n",
    "    name = []\n",
    "    for i in range(len(unique_name)):\n",
    "        try:\n",
    "            if 'Рябово' in unique_name[i].split():\n",
    "                name.append(unique_name[i])\n",
    "        except:\n",
    "            continue\n",
    "    return name"
   ]
  },
  {
   "cell_type": "code",
   "execution_count": 10,
   "metadata": {},
   "outputs": [],
   "source": [
    "# меняем все вхождения буквы ё в наименовании населенного пункта\n",
    "df['locality_name'].replace('ё+', 'е', regex=True, inplace=True)"
   ]
  },
  {
   "cell_type": "code",
   "execution_count": 11,
   "metadata": {},
   "outputs": [
    {
     "data": {
      "text/plain": [
       "['поселок Рябово', 'поселок городского типа Рябово']"
      ]
     },
     "execution_count": 11,
     "metadata": {},
     "output_type": "execute_result"
    }
   ],
   "source": [
    "# проверка наименования\n",
    "check_name()"
   ]
  },
  {
   "cell_type": "code",
   "execution_count": 12,
   "metadata": {},
   "outputs": [],
   "source": [
    "# приведение к единому наименованию\n",
    "df['locality_name'] = df['locality_name'].str.replace('поселок городского типа', 'поселок')"
   ]
  },
  {
   "cell_type": "code",
   "execution_count": 13,
   "metadata": {},
   "outputs": [
    {
     "data": {
      "text/plain": [
       "['поселок Рябово']"
      ]
     },
     "execution_count": 13,
     "metadata": {},
     "output_type": "execute_result"
    }
   ],
   "source": [
    "# проверка\n",
    "check_name()"
   ]
  },
  {
   "cell_type": "code",
   "execution_count": 14,
   "metadata": {
    "scrolled": false
   },
   "outputs": [],
   "source": [
    "# избавляемся от аномально высоких значений высоты потолков\n",
    "df.loc[(df.ceiling_height >= 20), 'ceiling_height'] = df.ceiling_height * 0.1"
   ]
  },
  {
   "cell_type": "code",
   "execution_count": 15,
   "metadata": {
    "scrolled": false
   },
   "outputs": [
    {
     "data": {
      "image/png": "[encoded data removed]",
      "text/plain": [
       "<Figure size 216x288 with 1 Axes>"
      ]
     },
     "metadata": {
      "needs_background": "light"
     },
     "output_type": "display_data"
    }
   ],
   "source": [
    "df.boxplot(column=['ceiling_height'], figsize=(3, 4));"
   ]
  },
  {
   "cell_type": "code",
   "execution_count": 16,
   "metadata": {},
   "outputs": [],
   "source": [
    "# расчитаем границы ящика математически\n",
    "q1_ch = df.ceiling_height.quantile(0.25)\n",
    "q3_ch = df.ceiling_height.quantile(0.75)\n",
    "iqr_ch = q3_ch - q1_ch"
   ]
  },
  {
   "cell_type": "code",
   "execution_count": 17,
   "metadata": {},
   "outputs": [],
   "source": [
    "filtered_ch = df.query('(@q1_ch - 1.5 * @iqr_ch) <= ceiling_height <= (@q3_ch + 1.5 * @iqr_ch)')"
   ]
  },
  {
   "cell_type": "code",
   "execution_count": 18,
   "metadata": {
    "scrolled": true
   },
   "outputs": [
    {
     "data": {
      "image/png": "[encoded data removed]",
      "text/plain": [
       "<Figure size 432x288 with 1 Axes>"
      ]
     },
     "metadata": {
      "needs_background": "light"
     },
     "output_type": "display_data"
    }
   ],
   "source": [
    "filtered_ch.boxplot(column=['ceiling_height']);"
   ]
  },
  {
   "cell_type": "code",
   "execution_count": 19,
   "metadata": {},
   "outputs": [],
   "source": [
    "# датафрейм без пропусков высоты потолков\n",
    "df_ch = df.dropna(subset=['ceiling_height'])"
   ]
  },
  {
   "cell_type": "code",
   "execution_count": 20,
   "metadata": {
    "scrolled": true
   },
   "outputs": [],
   "source": [
    "# расчет математических показателей для сравнения двух подходов (box_method, decimal_part)]]:\n",
    "\n",
    "# общее кол-во строк 'full'\n",
    "box_method_full = filtered_ch.shape[0]\n",
    "decimal_part_full = df_ch.shape[0]\n",
    "\n",
    "# медианное значение 'median'\n",
    "box_method_median = filtered_ch.ceiling_height.median()\n",
    "decimal_part_median = df_ch.ceiling_height.median()\n",
    "\n",
    "# минимальное значение 'min'\n",
    "boxplot_method_min = filtered_ch.ceiling_height.min()\n",
    "decimal_part_min = df_ch.ceiling_height.min()\n",
    "\n",
    "# максимальное значение 'max'\n",
    "boxplot_method_max = filtered_ch.ceiling_height.max()\n",
    "decimal_part_max = df_ch.ceiling_height.max()"
   ]
  },
  {
   "cell_type": "code",
   "execution_count": 21,
   "metadata": {
    "scrolled": true
   },
   "outputs": [
    {
     "data": {
      "text/html": [
       "<div>\n",
       "<style scoped>\n",
       "    .dataframe tbody tr th:only-of-type {\n",
       "        vertical-align: middle;\n",
       "    }\n",
       "\n",
       "    .dataframe tbody tr th {\n",
       "        vertical-align: top;\n",
       "    }\n",
       "\n",
       "    .dataframe thead th {\n",
       "        text-align: right;\n",
       "    }\n",
       "</style>\n",
       "<table border=\"1\" class=\"dataframe\">\n",
       "  <thead>\n",
       "    <tr style=\"text-align: right;\">\n",
       "      <th></th>\n",
       "      <th>full</th>\n",
       "      <th>median</th>\n",
       "      <th>min</th>\n",
       "      <th>max</th>\n",
       "    </tr>\n",
       "  </thead>\n",
       "  <tbody>\n",
       "    <tr>\n",
       "      <th>boxplot_method</th>\n",
       "      <td>13704</td>\n",
       "      <td>2.64</td>\n",
       "      <td>2.2</td>\n",
       "      <td>3.23</td>\n",
       "    </tr>\n",
       "    <tr>\n",
       "      <th>decimal_part_method</th>\n",
       "      <td>14504</td>\n",
       "      <td>2.65</td>\n",
       "      <td>1.0</td>\n",
       "      <td>14.00</td>\n",
       "    </tr>\n",
       "  </tbody>\n",
       "</table>\n",
       "</div>"
      ],
      "text/plain": [
       "                      full  median  min    max\n",
       "boxplot_method       13704    2.64  2.2   3.23\n",
       "decimal_part_method  14504    2.65  1.0  14.00"
      ]
     },
     "execution_count": 21,
     "metadata": {},
     "output_type": "execute_result"
    }
   ],
   "source": [
    "# сводная таблица показателей двух подходов\n",
    "d = {'full': [box_method_full, decimal_part_full],\n",
    "     'median': [box_method_median, decimal_part_median],\n",
    "     'min': [boxplot_method_min, decimal_part_min],\n",
    "     'max': [boxplot_method_max, decimal_part_max]\n",
    "}\n",
    "table = pd.DataFrame(\n",
    "    data = d,\n",
    "    index=['boxplot_method', 'decimal_part_method']              \n",
    ")\n",
    "\n",
    "table"
   ]
  },
  {
   "cell_type": "markdown",
   "metadata": {},
   "source": [
    "<b>Вывод:</b> Применение подхода по очистке данных от выбросов с помощью \"ящика с усами\" (boxplot_method) ведет к незначительной потере данных (14504 VS 13704). Недостаток подхода основанного на предположении пропуска десятичной дроби (decimal_part_method) заключается в сохранении аномальных значений (минимум 1 метр (видимо для хоббитов) и максимум - 14 метров (что допустимо если речь идет о коммерческой недвижимости)). При этом можно утверждать о том, что медианное значение остается неизменным (2.65 метра).\n",
    " "
   ]
  },
  {
   "cell_type": "code",
   "execution_count": 22,
   "metadata": {},
   "outputs": [],
   "source": [
    "# изменение типов данных\n",
    "df = df.astype({'balcony': 'int', \n",
    "                'parks_around3000': 'int', \n",
    "                'ponds_around3000': 'int',\n",
    "                'last_price': 'int'\n",
    "                }\n",
    ")    "
   ]
  },
  {
   "cell_type": "markdown",
   "metadata": {},
   "source": [
    "### Посчитайте и добавьте в таблицу новые столбцы"
   ]
  },
  {
   "cell_type": "code",
   "execution_count": 23,
   "metadata": {},
   "outputs": [],
   "source": [
    "# добавляем столбец цены одного кв. м. объекта недвижимости (тип Integer)\n",
    "df['price_per_sq_metr'] = (df['last_price'] / df['total_area']).astype('int')"
   ]
  },
  {
   "cell_type": "code",
   "execution_count": 24,
   "metadata": {},
   "outputs": [],
   "source": [
    "# добавляем столбец с днями недели даты публикации (0 — понедельник, 1 — вторник и т.д.)\n",
    "df['day_of_week'] = df.first_day_exposition.dt.dayofweek\n",
    "\n",
    "# столбец месяца публикации объявления\n",
    "df['month'] = df.first_day_exposition.dt.month\n",
    "\n",
    "# столбец года публикации объявления\n",
    "df['year'] = df.first_day_exposition.dt.year"
   ]
  },
  {
   "cell_type": "code",
   "execution_count": 25,
   "metadata": {},
   "outputs": [],
   "source": [
    "# столбец со связкой год-месяц\n",
    "df['year_month'] = df['first_day_exposition'].dt.to_period(\"M\")"
   ]
  },
  {
   "cell_type": "code",
   "execution_count": 26,
   "metadata": {},
   "outputs": [],
   "source": [
    "# типизация объектов недвижимости по этажу ('первый', 'последний', 'другой')\n",
    "def floor_type(row):\n",
    "    if row['floor'] == 1:\n",
    "        return 'первый'\n",
    "    elif row['floor'] == row['floors_total']:\n",
    "        return 'последний'\n",
    "    else:\n",
    "        return 'другой'\n",
    "\n",
    "df['floor_type'] = df.apply(floor_type, axis=1)"
   ]
  },
  {
   "cell_type": "code",
   "execution_count": 27,
   "metadata": {},
   "outputs": [],
   "source": [
    "# перевод метров в километры и округление до целых значений\n",
    "df['cityCenters_nearest'] = round(df['cityCenters_nearest'] / 1000, 0)"
   ]
  },
  {
   "cell_type": "markdown",
   "metadata": {},
   "source": [
    "### Проведите исследовательский анализ данных"
   ]
  },
  {
   "cell_type": "markdown",
   "metadata": {},
   "source": [
    "#### Изучение следующих параметров объектов:"
   ]
  },
  {
   "cell_type": "markdown",
   "metadata": {},
   "source": [
    "**Общая площадь** `total_area`"
   ]
  },
  {
   "cell_type": "code",
   "execution_count": 28,
   "metadata": {
    "scrolled": false
   },
   "outputs": [
    {
     "data": {
      "text/plain": [
       "<AxesSubplot:title={'center':'total area'}, ylabel='Frequency'>"
      ]
     },
     "execution_count": 28,
     "metadata": {},
     "output_type": "execute_result"
    },
    {
     "data": {
      "image/png": "[encoded data removed]",
      "text/plain": [
       "<Figure size 576x360 with 1 Axes>"
      ]
     },
     "metadata": {
      "needs_background": "light"
     },
     "output_type": "display_data"
    }
   ],
   "source": [
    "df.pivot_table(index='total_area', values='total_images', aggfunc='count') \\\n",
    "  .reset_index().sort_values('total_images', ascending=False) \\\n",
    "  .rename(columns={'total_images': 'count'}).query('count > 5') \\\n",
    "  .plot(kind='hist', bins=80, y='count', grid=True, figsize=(8, 5), \n",
    "        title='total area', xlim=(0, 100), xticks=range(0, 100, 5))"
   ]
  },
  {
   "cell_type": "code",
   "execution_count": 29,
   "metadata": {},
   "outputs": [
    {
     "data": {
      "text/html": [
       "<div>\n",
       "<style scoped>\n",
       "    .dataframe tbody tr th:only-of-type {\n",
       "        vertical-align: middle;\n",
       "    }\n",
       "\n",
       "    .dataframe tbody tr th {\n",
       "        vertical-align: top;\n",
       "    }\n",
       "\n",
       "    .dataframe thead th {\n",
       "        text-align: right;\n",
       "    }\n",
       "</style>\n",
       "<table border=\"1\" class=\"dataframe\">\n",
       "  <thead>\n",
       "    <tr style=\"text-align: right;\">\n",
       "      <th></th>\n",
       "      <th>total_area</th>\n",
       "      <th>0</th>\n",
       "    </tr>\n",
       "  </thead>\n",
       "  <tbody>\n",
       "    <tr>\n",
       "      <th>3</th>\n",
       "      <td>31.0</td>\n",
       "      <td>346</td>\n",
       "    </tr>\n",
       "    <tr>\n",
       "      <th>7</th>\n",
       "      <td>32.0</td>\n",
       "      <td>289</td>\n",
       "    </tr>\n",
       "    <tr>\n",
       "      <th>11</th>\n",
       "      <td>35.0</td>\n",
       "      <td>262</td>\n",
       "    </tr>\n",
       "    <tr>\n",
       "      <th>9</th>\n",
       "      <td>36.0</td>\n",
       "      <td>280</td>\n",
       "    </tr>\n",
       "    <tr>\n",
       "      <th>12</th>\n",
       "      <td>38.0</td>\n",
       "      <td>237</td>\n",
       "    </tr>\n",
       "    <tr>\n",
       "      <th>5</th>\n",
       "      <td>40.0</td>\n",
       "      <td>315</td>\n",
       "    </tr>\n",
       "    <tr>\n",
       "      <th>14</th>\n",
       "      <td>41.0</td>\n",
       "      <td>227</td>\n",
       "    </tr>\n",
       "    <tr>\n",
       "      <th>1</th>\n",
       "      <td>42.0</td>\n",
       "      <td>383</td>\n",
       "    </tr>\n",
       "    <tr>\n",
       "      <th>6</th>\n",
       "      <td>43.0</td>\n",
       "      <td>301</td>\n",
       "    </tr>\n",
       "    <tr>\n",
       "      <th>4</th>\n",
       "      <td>44.0</td>\n",
       "      <td>345</td>\n",
       "    </tr>\n",
       "    <tr>\n",
       "      <th>0</th>\n",
       "      <td>45.0</td>\n",
       "      <td>419</td>\n",
       "    </tr>\n",
       "    <tr>\n",
       "      <th>8</th>\n",
       "      <td>46.0</td>\n",
       "      <td>282</td>\n",
       "    </tr>\n",
       "    <tr>\n",
       "      <th>10</th>\n",
       "      <td>50.0</td>\n",
       "      <td>279</td>\n",
       "    </tr>\n",
       "    <tr>\n",
       "      <th>13</th>\n",
       "      <td>55.0</td>\n",
       "      <td>227</td>\n",
       "    </tr>\n",
       "    <tr>\n",
       "      <th>2</th>\n",
       "      <td>60.0</td>\n",
       "      <td>347</td>\n",
       "    </tr>\n",
       "  </tbody>\n",
       "</table>\n",
       "</div>"
      ],
      "text/plain": [
       "    total_area    0\n",
       "3         31.0  346\n",
       "7         32.0  289\n",
       "11        35.0  262\n",
       "9         36.0  280\n",
       "12        38.0  237\n",
       "5         40.0  315\n",
       "14        41.0  227\n",
       "1         42.0  383\n",
       "6         43.0  301\n",
       "4         44.0  345\n",
       "0         45.0  419\n",
       "8         46.0  282\n",
       "10        50.0  279\n",
       "13        55.0  227\n",
       "2         60.0  347"
      ]
     },
     "execution_count": 29,
     "metadata": {},
     "output_type": "execute_result"
    }
   ],
   "source": [
    "# top-15 по кол-ву предложений по ообщей площади\n",
    "df.value_counts('total_area', ascending=False).reset_index()[:15].sort_values('total_area')"
   ]
  },
  {
   "cell_type": "markdown",
   "metadata": {},
   "source": [
    "***Вывод: Объекты с общей площадью от 31 до 60 квадратных метров имеют самое высокое предложение на рынке. Наиболее популярна недвижимость общей площадью 45 кв. м.***"
   ]
  },
  {
   "cell_type": "markdown",
   "metadata": {},
   "source": [
    "**Жилая площаль** `living_area`"
   ]
  },
  {
   "cell_type": "code",
   "execution_count": 30,
   "metadata": {},
   "outputs": [],
   "source": [
    "# избавляемся от пропусков\n",
    "df_living_area = df.dropna(axis=0, how='any', subset=['living_area'])"
   ]
  },
  {
   "cell_type": "code",
   "execution_count": 31,
   "metadata": {},
   "outputs": [
    {
     "data": {
      "text/plain": [
       "<AxesSubplot:title={'center':'living area'}, ylabel='Frequency'>"
      ]
     },
     "execution_count": 31,
     "metadata": {},
     "output_type": "execute_result"
    },
    {
     "data": {
      "image/png": "[encoded data removed]",
      "text/plain": [
       "<Figure size 576x432 with 1 Axes>"
      ]
     },
     "metadata": {
      "needs_background": "light"
     },
     "output_type": "display_data"
    }
   ],
   "source": [
    "df_living_area.query('living_area < 80').plot(kind='hist', \n",
    "                                              bins=50, \n",
    "                                              figsize=(8, 6), \n",
    "                                              y='living_area', \n",
    "                                              grid=True, \n",
    "                                              title='living area'                                  \n",
    ")"
   ]
  },
  {
   "cell_type": "code",
   "execution_count": 32,
   "metadata": {
    "scrolled": true
   },
   "outputs": [
    {
     "data": {
      "text/html": [
       "<div>\n",
       "<style scoped>\n",
       "    .dataframe tbody tr th:only-of-type {\n",
       "        vertical-align: middle;\n",
       "    }\n",
       "\n",
       "    .dataframe tbody tr th {\n",
       "        vertical-align: top;\n",
       "    }\n",
       "\n",
       "    .dataframe thead th {\n",
       "        text-align: right;\n",
       "    }\n",
       "</style>\n",
       "<table border=\"1\" class=\"dataframe\">\n",
       "  <thead>\n",
       "    <tr style=\"text-align: right;\">\n",
       "      <th></th>\n",
       "      <th>living_area</th>\n",
       "      <th>0</th>\n",
       "    </tr>\n",
       "  </thead>\n",
       "  <tbody>\n",
       "    <tr>\n",
       "      <th>10</th>\n",
       "      <td>15.0</td>\n",
       "      <td>313</td>\n",
       "    </tr>\n",
       "    <tr>\n",
       "      <th>3</th>\n",
       "      <td>16.0</td>\n",
       "      <td>486</td>\n",
       "    </tr>\n",
       "    <tr>\n",
       "      <th>1</th>\n",
       "      <td>17.0</td>\n",
       "      <td>675</td>\n",
       "    </tr>\n",
       "    <tr>\n",
       "      <th>0</th>\n",
       "      <td>18.0</td>\n",
       "      <td>882</td>\n",
       "    </tr>\n",
       "    <tr>\n",
       "      <th>7</th>\n",
       "      <td>19.0</td>\n",
       "      <td>329</td>\n",
       "    </tr>\n",
       "    <tr>\n",
       "      <th>4</th>\n",
       "      <td>20.0</td>\n",
       "      <td>481</td>\n",
       "    </tr>\n",
       "    <tr>\n",
       "      <th>11</th>\n",
       "      <td>27.0</td>\n",
       "      <td>311</td>\n",
       "    </tr>\n",
       "    <tr>\n",
       "      <th>5</th>\n",
       "      <td>28.0</td>\n",
       "      <td>423</td>\n",
       "    </tr>\n",
       "    <tr>\n",
       "      <th>9</th>\n",
       "      <td>29.0</td>\n",
       "      <td>319</td>\n",
       "    </tr>\n",
       "    <tr>\n",
       "      <th>2</th>\n",
       "      <td>30.0</td>\n",
       "      <td>598</td>\n",
       "    </tr>\n",
       "    <tr>\n",
       "      <th>6</th>\n",
       "      <td>31.0</td>\n",
       "      <td>381</td>\n",
       "    </tr>\n",
       "    <tr>\n",
       "      <th>8</th>\n",
       "      <td>32.0</td>\n",
       "      <td>320</td>\n",
       "    </tr>\n",
       "    <tr>\n",
       "      <th>13</th>\n",
       "      <td>40.0</td>\n",
       "      <td>225</td>\n",
       "    </tr>\n",
       "    <tr>\n",
       "      <th>14</th>\n",
       "      <td>42.0</td>\n",
       "      <td>217</td>\n",
       "    </tr>\n",
       "    <tr>\n",
       "      <th>12</th>\n",
       "      <td>43.0</td>\n",
       "      <td>231</td>\n",
       "    </tr>\n",
       "  </tbody>\n",
       "</table>\n",
       "</div>"
      ],
      "text/plain": [
       "    living_area    0\n",
       "10         15.0  313\n",
       "3          16.0  486\n",
       "1          17.0  675\n",
       "0          18.0  882\n",
       "7          19.0  329\n",
       "4          20.0  481\n",
       "11         27.0  311\n",
       "5          28.0  423\n",
       "9          29.0  319\n",
       "2          30.0  598\n",
       "6          31.0  381\n",
       "8          32.0  320\n",
       "13         40.0  225\n",
       "14         42.0  217\n",
       "12         43.0  231"
      ]
     },
     "execution_count": 32,
     "metadata": {},
     "output_type": "execute_result"
    }
   ],
   "source": [
    "# top-15 предложений по жилой площади\n",
    "df_living_area.value_counts('living_area', ascending=False).reset_index()[:15].sort_values('living_area')"
   ]
  },
  {
   "cell_type": "markdown",
   "metadata": {},
   "source": [
    "***Вывод: Объекты с жилой площадью от 15 до 43 квадратных метров имеют самое высокое предложение на рынке. Наиболее популярна недвижимость с размерами 17, 18 и 30 кв. м.***"
   ]
  },
  {
   "cell_type": "markdown",
   "metadata": {},
   "source": [
    "**Площадь кухни** `kitchen_area`"
   ]
  },
  {
   "cell_type": "code",
   "execution_count": 33,
   "metadata": {},
   "outputs": [],
   "source": [
    "# избавляемся от пропусков\n",
    "df_kitchen_area = df.dropna(axis=0, how='any', subset=['kitchen_area'])"
   ]
  },
  {
   "cell_type": "code",
   "execution_count": 34,
   "metadata": {
    "scrolled": false
   },
   "outputs": [
    {
     "data": {
      "image/png": "[encoded data removed]",
      "text/plain": [
       "<Figure size 576x432 with 1 Axes>"
      ]
     },
     "metadata": {
      "needs_background": "light"
     },
     "output_type": "display_data"
    }
   ],
   "source": [
    "df_kitchen_area.query('kitchen_area < 30').plot(\n",
    "                                              kind='hist', \n",
    "                                              bins=20, \n",
    "                                              figsize=(8, 6), \n",
    "                                              y='kitchen_area',\n",
    "                                              grid=True, \n",
    "                                              title='kitchen area', \n",
    "                                              xlabel='kitchen area'\n",
    ");                                  "
   ]
  },
  {
   "cell_type": "code",
   "execution_count": 35,
   "metadata": {
    "scrolled": false
   },
   "outputs": [
    {
     "data": {
      "text/html": [
       "<div>\n",
       "<style scoped>\n",
       "    .dataframe tbody tr th:only-of-type {\n",
       "        vertical-align: middle;\n",
       "    }\n",
       "\n",
       "    .dataframe tbody tr th {\n",
       "        vertical-align: top;\n",
       "    }\n",
       "\n",
       "    .dataframe thead th {\n",
       "        text-align: right;\n",
       "    }\n",
       "</style>\n",
       "<table border=\"1\" class=\"dataframe\">\n",
       "  <thead>\n",
       "    <tr style=\"text-align: right;\">\n",
       "      <th></th>\n",
       "      <th>kitchen_area</th>\n",
       "      <th>0</th>\n",
       "    </tr>\n",
       "  </thead>\n",
       "  <tbody>\n",
       "    <tr>\n",
       "      <th>0</th>\n",
       "      <td>6.0</td>\n",
       "      <td>1300</td>\n",
       "    </tr>\n",
       "    <tr>\n",
       "      <th>4</th>\n",
       "      <td>7.0</td>\n",
       "      <td>1062</td>\n",
       "    </tr>\n",
       "    <tr>\n",
       "      <th>2</th>\n",
       "      <td>8.0</td>\n",
       "      <td>1110</td>\n",
       "    </tr>\n",
       "    <tr>\n",
       "      <th>3</th>\n",
       "      <td>9.0</td>\n",
       "      <td>1101</td>\n",
       "    </tr>\n",
       "    <tr>\n",
       "      <th>1</th>\n",
       "      <td>10.0</td>\n",
       "      <td>1262</td>\n",
       "    </tr>\n",
       "  </tbody>\n",
       "</table>\n",
       "</div>"
      ],
      "text/plain": [
       "   kitchen_area     0\n",
       "0           6.0  1300\n",
       "4           7.0  1062\n",
       "2           8.0  1110\n",
       "3           9.0  1101\n",
       "1          10.0  1262"
      ]
     },
     "execution_count": 35,
     "metadata": {},
     "output_type": "execute_result"
    }
   ],
   "source": [
    "# top-5 предложений по площади кухни\n",
    "df_kitchen_area.value_counts('kitchen_area', ascending=False).reset_index()[:5].sort_values('kitchen_area')"
   ]
  },
  {
   "cell_type": "markdown",
   "metadata": {},
   "source": [
    "***Вывод: Недвижимость с размерми кухни от 6 до 10 кв.м. имеют самое высокое предложение.***"
   ]
  },
  {
   "cell_type": "markdown",
   "metadata": {},
   "source": [
    "**Цена объекта** `last_price`"
   ]
  },
  {
   "cell_type": "markdown",
   "metadata": {},
   "source": [
    "##### Посмотрим минимальную цену"
   ]
  },
  {
   "cell_type": "code",
   "execution_count": 36,
   "metadata": {
    "scrolled": false
   },
   "outputs": [
    {
     "data": {
      "text/html": [
       "<div>\n",
       "<style scoped>\n",
       "    .dataframe tbody tr th:only-of-type {\n",
       "        vertical-align: middle;\n",
       "    }\n",
       "\n",
       "    .dataframe tbody tr th {\n",
       "        vertical-align: top;\n",
       "    }\n",
       "\n",
       "    .dataframe thead th {\n",
       "        text-align: right;\n",
       "    }\n",
       "</style>\n",
       "<table border=\"1\" class=\"dataframe\">\n",
       "  <thead>\n",
       "    <tr style=\"text-align: right;\">\n",
       "      <th></th>\n",
       "      <th>total_images</th>\n",
       "      <th>last_price</th>\n",
       "      <th>total_area</th>\n",
       "      <th>first_day_exposition</th>\n",
       "      <th>rooms</th>\n",
       "      <th>ceiling_height</th>\n",
       "      <th>floors_total</th>\n",
       "      <th>living_area</th>\n",
       "      <th>floor</th>\n",
       "      <th>is_apartment</th>\n",
       "      <th>...</th>\n",
       "      <th>parks_nearest</th>\n",
       "      <th>ponds_around3000</th>\n",
       "      <th>ponds_nearest</th>\n",
       "      <th>days_exposition</th>\n",
       "      <th>price_per_sq_metr</th>\n",
       "      <th>day_of_week</th>\n",
       "      <th>month</th>\n",
       "      <th>year</th>\n",
       "      <th>year_month</th>\n",
       "      <th>floor_type</th>\n",
       "    </tr>\n",
       "  </thead>\n",
       "  <tbody>\n",
       "    <tr>\n",
       "      <th>8793</th>\n",
       "      <td>7</td>\n",
       "      <td>12190</td>\n",
       "      <td>109.0</td>\n",
       "      <td>2019-03-20</td>\n",
       "      <td>2</td>\n",
       "      <td>2.75</td>\n",
       "      <td>25.0</td>\n",
       "      <td>32.0</td>\n",
       "      <td>25</td>\n",
       "      <td>False</td>\n",
       "      <td>...</td>\n",
       "      <td>805.0</td>\n",
       "      <td>0</td>\n",
       "      <td>NaN</td>\n",
       "      <td>8.0</td>\n",
       "      <td>111</td>\n",
       "      <td>2</td>\n",
       "      <td>3</td>\n",
       "      <td>2019</td>\n",
       "      <td>2019-03</td>\n",
       "      <td>последний</td>\n",
       "    </tr>\n",
       "  </tbody>\n",
       "</table>\n",
       "<p>1 rows × 28 columns</p>\n",
       "</div>"
      ],
      "text/plain": [
       "      total_images  last_price  total_area first_day_exposition  rooms  \\\n",
       "8793             7       12190       109.0           2019-03-20      2   \n",
       "\n",
       "      ceiling_height floors_total  living_area  floor  is_apartment  ...  \\\n",
       "8793            2.75         25.0         32.0     25         False  ...   \n",
       "\n",
       "      parks_nearest  ponds_around3000  ponds_nearest  days_exposition  \\\n",
       "8793          805.0                 0            NaN              8.0   \n",
       "\n",
       "     price_per_sq_metr  day_of_week  month  year  year_month  floor_type  \n",
       "8793               111            2      3  2019     2019-03   последний  \n",
       "\n",
       "[1 rows x 28 columns]"
      ]
     },
     "execution_count": 36,
     "metadata": {},
     "output_type": "execute_result"
    }
   ],
   "source": [
    "min_price = df.last_price.min()\n",
    "df.query('last_price == @min_price')"
   ]
  },
  {
   "cell_type": "code",
   "execution_count": 37,
   "metadata": {},
   "outputs": [
    {
     "data": {
      "text/plain": [
       "13553205.56"
      ]
     },
     "execution_count": 37,
     "metadata": {},
     "output_type": "execute_result"
    }
   ],
   "source": [
    "# средняя цена объекта от 100 до 110 кв.м. в г. Санкт-Петербург\n",
    "df.query('total_area > 100 & total_area < 110 & locality_name == \"Санкт-Петербург\"')['last_price'].mean().round(2)"
   ]
  },
  {
   "cell_type": "markdown",
   "metadata": {},
   "source": [
    "Цена объекта недвижимости общей площадью более 100 кв.м., состоящего из 7-ми комнат, находящегося в Санкт_Петербурге не соответствует реальной. Предположение о том, что стоимость указана в иностранной валюте (USD/EUR) не выдерживает проверки по причине очень низкой цены:\n",
    "<ul>\n",
    "    <li>65.15 (USD) - 800 тыс.</li> \n",
    "    <li>73.75 (EUR) - 900 тыс.</li>\n",
    "</ul>\n",
    "При средней цене схожих объектов более 13,5 млн. руб."
   ]
  },
  {
   "cell_type": "code",
   "execution_count": 38,
   "metadata": {
    "scrolled": true
   },
   "outputs": [],
   "source": [
    "# избавимся от аномальной цены\n",
    "df_price = df.query('last_price != @min_price')"
   ]
  },
  {
   "cell_type": "code",
   "execution_count": 39,
   "metadata": {},
   "outputs": [],
   "source": [
    "# расчитаем пределы ящика с усами\n",
    "q1 = df_price.last_price.quantile(0.25)\n",
    "q3 = df_price.last_price.quantile(0.75)\n",
    "iqr = q3 - q1"
   ]
  },
  {
   "cell_type": "code",
   "execution_count": 40,
   "metadata": {},
   "outputs": [],
   "source": [
    "filtered = df_price.query('(@q1 - 1.5 * @iqr) <= last_price <= (@q3 + 1.5 * @iqr)')"
   ]
  },
  {
   "cell_type": "code",
   "execution_count": 41,
   "metadata": {
    "scrolled": true
   },
   "outputs": [
    {
     "data": {
      "text/plain": [
       "<AxesSubplot:title={'center':'price'}, ylabel='Frequency'>"
      ]
     },
     "execution_count": 41,
     "metadata": {},
     "output_type": "execute_result"
    },
    {
     "data": {
      "image/png": "[encoded data removed]",
      "text/plain": [
       "<Figure size 432x288 with 1 Axes>"
      ]
     },
     "metadata": {
      "needs_background": "light"
     },
     "output_type": "display_data"
    }
   ],
   "source": [
    "filtered.plot(kind='hist', y='last_price', grid=True, bins=20, title='price')"
   ]
  },
  {
   "cell_type": "code",
   "execution_count": 42,
   "metadata": {},
   "outputs": [
    {
     "data": {
      "text/html": [
       "<div>\n",
       "<style scoped>\n",
       "    .dataframe tbody tr th:only-of-type {\n",
       "        vertical-align: middle;\n",
       "    }\n",
       "\n",
       "    .dataframe tbody tr th {\n",
       "        vertical-align: top;\n",
       "    }\n",
       "\n",
       "    .dataframe thead th {\n",
       "        text-align: right;\n",
       "    }\n",
       "</style>\n",
       "<table border=\"1\" class=\"dataframe\">\n",
       "  <thead>\n",
       "    <tr style=\"text-align: right;\">\n",
       "      <th></th>\n",
       "      <th>last_price</th>\n",
       "      <th>0</th>\n",
       "    </tr>\n",
       "  </thead>\n",
       "  <tbody>\n",
       "    <tr>\n",
       "      <th>14</th>\n",
       "      <td>3100000</td>\n",
       "      <td>220</td>\n",
       "    </tr>\n",
       "    <tr>\n",
       "      <th>8</th>\n",
       "      <td>3200000</td>\n",
       "      <td>238</td>\n",
       "    </tr>\n",
       "    <tr>\n",
       "      <th>6</th>\n",
       "      <td>3300000</td>\n",
       "      <td>244</td>\n",
       "    </tr>\n",
       "    <tr>\n",
       "      <th>11</th>\n",
       "      <td>3400000</td>\n",
       "      <td>227</td>\n",
       "    </tr>\n",
       "    <tr>\n",
       "      <th>1</th>\n",
       "      <td>3500000</td>\n",
       "      <td>291</td>\n",
       "    </tr>\n",
       "    <tr>\n",
       "      <th>5</th>\n",
       "      <td>3600000</td>\n",
       "      <td>257</td>\n",
       "    </tr>\n",
       "    <tr>\n",
       "      <th>9</th>\n",
       "      <td>3700000</td>\n",
       "      <td>234</td>\n",
       "    </tr>\n",
       "    <tr>\n",
       "      <th>7</th>\n",
       "      <td>3800000</td>\n",
       "      <td>240</td>\n",
       "    </tr>\n",
       "    <tr>\n",
       "      <th>13</th>\n",
       "      <td>3900000</td>\n",
       "      <td>221</td>\n",
       "    </tr>\n",
       "    <tr>\n",
       "      <th>3</th>\n",
       "      <td>4000000</td>\n",
       "      <td>260</td>\n",
       "    </tr>\n",
       "    <tr>\n",
       "      <th>10</th>\n",
       "      <td>4100000</td>\n",
       "      <td>233</td>\n",
       "    </tr>\n",
       "    <tr>\n",
       "      <th>4</th>\n",
       "      <td>4200000</td>\n",
       "      <td>259</td>\n",
       "    </tr>\n",
       "    <tr>\n",
       "      <th>2</th>\n",
       "      <td>4300000</td>\n",
       "      <td>260</td>\n",
       "    </tr>\n",
       "    <tr>\n",
       "      <th>0</th>\n",
       "      <td>4500000</td>\n",
       "      <td>342</td>\n",
       "    </tr>\n",
       "    <tr>\n",
       "      <th>15</th>\n",
       "      <td>4600000</td>\n",
       "      <td>216</td>\n",
       "    </tr>\n",
       "    <tr>\n",
       "      <th>18</th>\n",
       "      <td>4800000</td>\n",
       "      <td>198</td>\n",
       "    </tr>\n",
       "    <tr>\n",
       "      <th>17</th>\n",
       "      <td>5000000</td>\n",
       "      <td>199</td>\n",
       "    </tr>\n",
       "    <tr>\n",
       "      <th>19</th>\n",
       "      <td>5100000</td>\n",
       "      <td>194</td>\n",
       "    </tr>\n",
       "    <tr>\n",
       "      <th>16</th>\n",
       "      <td>5200000</td>\n",
       "      <td>206</td>\n",
       "    </tr>\n",
       "    <tr>\n",
       "      <th>12</th>\n",
       "      <td>5500000</td>\n",
       "      <td>227</td>\n",
       "    </tr>\n",
       "  </tbody>\n",
       "</table>\n",
       "</div>"
      ],
      "text/plain": [
       "    last_price    0\n",
       "14     3100000  220\n",
       "8      3200000  238\n",
       "6      3300000  244\n",
       "11     3400000  227\n",
       "1      3500000  291\n",
       "5      3600000  257\n",
       "9      3700000  234\n",
       "7      3800000  240\n",
       "13     3900000  221\n",
       "3      4000000  260\n",
       "10     4100000  233\n",
       "4      4200000  259\n",
       "2      4300000  260\n",
       "0      4500000  342\n",
       "15     4600000  216\n",
       "18     4800000  198\n",
       "17     5000000  199\n",
       "19     5100000  194\n",
       "16     5200000  206\n",
       "12     5500000  227"
      ]
     },
     "execution_count": 42,
     "metadata": {},
     "output_type": "execute_result"
    }
   ],
   "source": [
    "# топ-20 объявлений по цене\n",
    "top_20_for_price = filtered.value_counts('last_price').reset_index()[:20].sort_values(by='last_price')\n",
    "top_20_for_price"
   ]
  },
  {
   "cell_type": "code",
   "execution_count": 43,
   "metadata": {},
   "outputs": [
    {
     "data": {
      "text/plain": [
       "22.0"
      ]
     },
     "execution_count": 43,
     "metadata": {},
     "output_type": "execute_result"
    }
   ],
   "source": [
    "# процент объявлений из первой 20-ки от общего числа предложений\n",
    "round(\n",
    "    top_20_for_price.sum()[0] / filtered.shape[0] * 100, 2\n",
    ")"
   ]
  },
  {
   "cell_type": "markdown",
   "metadata": {},
   "source": [
    "***Вывод: Больше всего предложений по цене от 3,1 до 5,5 млн. руб. что составляет 22% от общего числа объявлений.***"
   ]
  },
  {
   "cell_type": "markdown",
   "metadata": {},
   "source": [
    "**Количество комнат** `rooms`"
   ]
  },
  {
   "cell_type": "code",
   "execution_count": 44,
   "metadata": {
    "scrolled": false
   },
   "outputs": [
    {
     "data": {
      "text/plain": [
       "<AxesSubplot:title={'center':'rooms'}, ylabel='Frequency'>"
      ]
     },
     "execution_count": 44,
     "metadata": {},
     "output_type": "execute_result"
    },
    {
     "data": {
      "image/png": "[encoded data removed]",
      "text/plain": [
       "<Figure size 432x288 with 1 Axes>"
      ]
     },
     "metadata": {
      "needs_background": "light"
     },
     "output_type": "display_data"
    }
   ],
   "source": [
    "df.plot(kind='hist',\n",
    "        y='rooms',\n",
    "        title='rooms',\n",
    "        grid=True,\n",
    "        bins=18\n",
    ")"
   ]
  },
  {
   "cell_type": "code",
   "execution_count": 45,
   "metadata": {
    "scrolled": false
   },
   "outputs": [
    {
     "data": {
      "text/html": [
       "<div>\n",
       "<style scoped>\n",
       "    .dataframe tbody tr th:only-of-type {\n",
       "        vertical-align: middle;\n",
       "    }\n",
       "\n",
       "    .dataframe tbody tr th {\n",
       "        vertical-align: top;\n",
       "    }\n",
       "\n",
       "    .dataframe thead th {\n",
       "        text-align: right;\n",
       "    }\n",
       "</style>\n",
       "<table border=\"1\" class=\"dataframe\">\n",
       "  <thead>\n",
       "    <tr style=\"text-align: right;\">\n",
       "      <th></th>\n",
       "      <th>rooms</th>\n",
       "      <th>0</th>\n",
       "    </tr>\n",
       "  </thead>\n",
       "  <tbody>\n",
       "    <tr>\n",
       "      <th>0</th>\n",
       "      <td>1</td>\n",
       "      <td>8047</td>\n",
       "    </tr>\n",
       "    <tr>\n",
       "      <th>1</th>\n",
       "      <td>2</td>\n",
       "      <td>7940</td>\n",
       "    </tr>\n",
       "    <tr>\n",
       "      <th>2</th>\n",
       "      <td>3</td>\n",
       "      <td>5814</td>\n",
       "    </tr>\n",
       "  </tbody>\n",
       "</table>\n",
       "</div>"
      ],
      "text/plain": [
       "   rooms     0\n",
       "0      1  8047\n",
       "1      2  7940\n",
       "2      3  5814"
      ]
     },
     "execution_count": 45,
     "metadata": {},
     "output_type": "execute_result"
    }
   ],
   "source": [
    "# топ-3 предложений по кол-ву комнат\n",
    "df.value_counts('rooms')[:3].to_frame().reset_index()"
   ]
  },
  {
   "cell_type": "code",
   "execution_count": 46,
   "metadata": {},
   "outputs": [
    {
     "data": {
      "text/plain": [
       "67.46"
      ]
     },
     "execution_count": 46,
     "metadata": {},
     "output_type": "execute_result"
    }
   ],
   "source": [
    "# процент одно и двухкомнатных предложений от общего числа объявлений\n",
    "round(\n",
    "    df.value_counts('rooms')[:2].sum() / df.shape[0] * 100, 2\n",
    ")"
   ]
  },
  {
   "cell_type": "markdown",
   "metadata": {},
   "source": [
    "***Вывод: Чаще всего на продажу выставляются кватриры с одной или двумя комнатами. Общее их предложение составляет 67,5%.***"
   ]
  },
  {
   "cell_type": "markdown",
   "metadata": {},
   "source": [
    "**Высота потолков** `ceiling_height`"
   ]
  },
  {
   "cell_type": "code",
   "execution_count": 47,
   "metadata": {},
   "outputs": [
    {
     "data": {
      "text/plain": [
       "<AxesSubplot:title={'center':'celing height'}, ylabel='Frequency'>"
      ]
     },
     "execution_count": 47,
     "metadata": {},
     "output_type": "execute_result"
    },
    {
     "data": {
      "image/png": "[encoded data removed]",
      "text/plain": [
       "<Figure size 432x288 with 1 Axes>"
      ]
     },
     "metadata": {
      "needs_background": "light"
     },
     "output_type": "display_data"
    }
   ],
   "source": [
    "df.plot(kind='hist',\n",
    "        y='ceiling_height',\n",
    "        xlim=(2, 4),\n",
    "        bins=50,\n",
    "        title='celing height',\n",
    "        grid=True\n",
    ")"
   ]
  },
  {
   "cell_type": "code",
   "execution_count": 48,
   "metadata": {
    "scrolled": false
   },
   "outputs": [
    {
     "data": {
      "text/html": [
       "<div>\n",
       "<style scoped>\n",
       "    .dataframe tbody tr th:only-of-type {\n",
       "        vertical-align: middle;\n",
       "    }\n",
       "\n",
       "    .dataframe tbody tr th {\n",
       "        vertical-align: top;\n",
       "    }\n",
       "\n",
       "    .dataframe thead th {\n",
       "        text-align: right;\n",
       "    }\n",
       "</style>\n",
       "<table border=\"1\" class=\"dataframe\">\n",
       "  <thead>\n",
       "    <tr style=\"text-align: right;\">\n",
       "      <th></th>\n",
       "      <th>ceiling_height</th>\n",
       "      <th>0</th>\n",
       "    </tr>\n",
       "  </thead>\n",
       "  <tbody>\n",
       "    <tr>\n",
       "      <th>0</th>\n",
       "      <td>2.50</td>\n",
       "      <td>3522</td>\n",
       "    </tr>\n",
       "    <tr>\n",
       "      <th>5</th>\n",
       "      <td>2.55</td>\n",
       "      <td>980</td>\n",
       "    </tr>\n",
       "    <tr>\n",
       "      <th>1</th>\n",
       "      <td>2.60</td>\n",
       "      <td>1647</td>\n",
       "    </tr>\n",
       "    <tr>\n",
       "      <th>2</th>\n",
       "      <td>2.70</td>\n",
       "      <td>1582</td>\n",
       "    </tr>\n",
       "    <tr>\n",
       "      <th>6</th>\n",
       "      <td>2.75</td>\n",
       "      <td>911</td>\n",
       "    </tr>\n",
       "    <tr>\n",
       "      <th>4</th>\n",
       "      <td>2.80</td>\n",
       "      <td>993</td>\n",
       "    </tr>\n",
       "    <tr>\n",
       "      <th>3</th>\n",
       "      <td>3.00</td>\n",
       "      <td>1112</td>\n",
       "    </tr>\n",
       "  </tbody>\n",
       "</table>\n",
       "</div>"
      ],
      "text/plain": [
       "   ceiling_height     0\n",
       "0            2.50  3522\n",
       "5            2.55   980\n",
       "1            2.60  1647\n",
       "2            2.70  1582\n",
       "6            2.75   911\n",
       "4            2.80   993\n",
       "3            3.00  1112"
      ]
     },
     "execution_count": 48,
     "metadata": {},
     "output_type": "execute_result"
    }
   ],
   "source": [
    "# топ-7 предложений по высоте потолков\n",
    "df.value_counts('ceiling_height', ascending=False).reset_index()[:7].sort_values('ceiling_height')"
   ]
  },
  {
   "cell_type": "code",
   "execution_count": 49,
   "metadata": {},
   "outputs": [
    {
     "data": {
      "text/plain": [
       "45.35"
      ]
     },
     "execution_count": 49,
     "metadata": {},
     "output_type": "execute_result"
    }
   ],
   "source": [
    "# процент топ-7 по высоте потолков от общего числа объявлений\n",
    "round(\n",
    "    df.value_counts('ceiling_height', ascending=False)\n",
    "      .reset_index()[:7].sort_values('ceiling_height').sum()[0] / df.shape[0] * 100, 2\n",
    ")"
   ]
  },
  {
   "cell_type": "markdown",
   "metadata": {},
   "source": [
    "***Вывод: Наиболее распространены предложения недвижимости с высотой потолков от 2,5 до 3 метров. Их доля составляет более 45% от общего числа объявлений.***"
   ]
  },
  {
   "cell_type": "markdown",
   "metadata": {},
   "source": [
    "**Этаж квартиры** `floor`"
   ]
  },
  {
   "cell_type": "code",
   "execution_count": 50,
   "metadata": {
    "scrolled": true
   },
   "outputs": [
    {
     "data": {
      "text/html": [
       "<div>\n",
       "<style scoped>\n",
       "    .dataframe tbody tr th:only-of-type {\n",
       "        vertical-align: middle;\n",
       "    }\n",
       "\n",
       "    .dataframe tbody tr th {\n",
       "        vertical-align: top;\n",
       "    }\n",
       "\n",
       "    .dataframe thead th {\n",
       "        text-align: right;\n",
       "    }\n",
       "</style>\n",
       "<table border=\"1\" class=\"dataframe\">\n",
       "  <thead>\n",
       "    <tr style=\"text-align: right;\">\n",
       "      <th></th>\n",
       "      <th>floor</th>\n",
       "      <th>0</th>\n",
       "    </tr>\n",
       "  </thead>\n",
       "  <tbody>\n",
       "    <tr>\n",
       "      <th>2</th>\n",
       "      <td>1</td>\n",
       "      <td>2917</td>\n",
       "    </tr>\n",
       "    <tr>\n",
       "      <th>0</th>\n",
       "      <td>2</td>\n",
       "      <td>3368</td>\n",
       "    </tr>\n",
       "    <tr>\n",
       "      <th>1</th>\n",
       "      <td>3</td>\n",
       "      <td>3073</td>\n",
       "    </tr>\n",
       "    <tr>\n",
       "      <th>3</th>\n",
       "      <td>4</td>\n",
       "      <td>2804</td>\n",
       "    </tr>\n",
       "    <tr>\n",
       "      <th>4</th>\n",
       "      <td>5</td>\n",
       "      <td>2621</td>\n",
       "    </tr>\n",
       "    <tr>\n",
       "      <th>5</th>\n",
       "      <td>6</td>\n",
       "      <td>1305</td>\n",
       "    </tr>\n",
       "    <tr>\n",
       "      <th>6</th>\n",
       "      <td>7</td>\n",
       "      <td>1218</td>\n",
       "    </tr>\n",
       "    <tr>\n",
       "      <th>7</th>\n",
       "      <td>8</td>\n",
       "      <td>1083</td>\n",
       "    </tr>\n",
       "    <tr>\n",
       "      <th>8</th>\n",
       "      <td>9</td>\n",
       "      <td>1051</td>\n",
       "    </tr>\n",
       "    <tr>\n",
       "      <th>9</th>\n",
       "      <td>10</td>\n",
       "      <td>687</td>\n",
       "    </tr>\n",
       "  </tbody>\n",
       "</table>\n",
       "</div>"
      ],
      "text/plain": [
       "   floor     0\n",
       "2      1  2917\n",
       "0      2  3368\n",
       "1      3  3073\n",
       "3      4  2804\n",
       "4      5  2621\n",
       "5      6  1305\n",
       "6      7  1218\n",
       "7      8  1083\n",
       "8      9  1051\n",
       "9     10   687"
      ]
     },
     "execution_count": 50,
     "metadata": {},
     "output_type": "execute_result"
    }
   ],
   "source": [
    "df.value_counts('floor')[:10].reset_index().sort_values('floor')"
   ]
  },
  {
   "cell_type": "code",
   "execution_count": 51,
   "metadata": {},
   "outputs": [
    {
     "data": {
      "text/plain": [
       "84.93"
      ]
     },
     "execution_count": 51,
     "metadata": {},
     "output_type": "execute_result"
    }
   ],
   "source": [
    "# процент объявлений с 1-го по 10-ый этаж\n",
    "round(\n",
    "    df.value_counts('floor')[:10].reset_index().sort_values('floor')[0].sum() \n",
    "    / df.shape[0] * 100, 2\n",
    ")"
   ]
  },
  {
   "cell_type": "code",
   "execution_count": 52,
   "metadata": {
    "scrolled": true
   },
   "outputs": [
    {
     "data": {
      "text/plain": [
       "<AxesSubplot:title={'center':'floor'}, ylabel='Frequency'>"
      ]
     },
     "execution_count": 52,
     "metadata": {},
     "output_type": "execute_result"
    },
    {
     "data": {
      "image/png": "[encoded data removed]",
      "text/plain": [
       "<Figure size 432x288 with 1 Axes>"
      ]
     },
     "metadata": {
      "needs_background": "light"
     },
     "output_type": "display_data"
    }
   ],
   "source": [
    "df.plot(kind='hist',\n",
    "        bins=30,\n",
    "        y='floor',\n",
    "        title='floor',\n",
    "        grid=True\n",
    ")"
   ]
  },
  {
   "cell_type": "markdown",
   "metadata": {},
   "source": [
    "***Вывод: Общее количество предложений от 1 до 10 этажа насчитывают 20127 единиц что составляет почти 85%. Больше всего объявлений о продаже квартир расположенных на 2-ом этаже.*** "
   ]
  },
  {
   "cell_type": "markdown",
   "metadata": {},
   "source": [
    "**Тип этажа квартиры** `floor_type`"
   ]
  },
  {
   "cell_type": "code",
   "execution_count": 53,
   "metadata": {
    "scrolled": false
   },
   "outputs": [
    {
     "data": {
      "text/html": [
       "<div>\n",
       "<style scoped>\n",
       "    .dataframe tbody tr th:only-of-type {\n",
       "        vertical-align: middle;\n",
       "    }\n",
       "\n",
       "    .dataframe tbody tr th {\n",
       "        vertical-align: top;\n",
       "    }\n",
       "\n",
       "    .dataframe thead th {\n",
       "        text-align: right;\n",
       "    }\n",
       "</style>\n",
       "<table border=\"1\" class=\"dataframe\">\n",
       "  <thead>\n",
       "    <tr style=\"text-align: right;\">\n",
       "      <th></th>\n",
       "      <th>floor_type</th>\n",
       "      <th>0</th>\n",
       "    </tr>\n",
       "  </thead>\n",
       "  <tbody>\n",
       "    <tr>\n",
       "      <th>0</th>\n",
       "      <td>другой</td>\n",
       "      <td>73.61</td>\n",
       "    </tr>\n",
       "    <tr>\n",
       "      <th>1</th>\n",
       "      <td>последний</td>\n",
       "      <td>14.08</td>\n",
       "    </tr>\n",
       "    <tr>\n",
       "      <th>2</th>\n",
       "      <td>первый</td>\n",
       "      <td>12.31</td>\n",
       "    </tr>\n",
       "  </tbody>\n",
       "</table>\n",
       "</div>"
      ],
      "text/plain": [
       "  floor_type      0\n",
       "0     другой  73.61\n",
       "1  последний  14.08\n",
       "2     первый  12.31"
      ]
     },
     "execution_count": 53,
     "metadata": {},
     "output_type": "execute_result"
    }
   ],
   "source": [
    "# Распределение количества объявлений по типу этажа\n",
    "df.value_counts('floor_type', normalize=True).mul(100).round(2).to_frame().reset_index()"
   ]
  },
  {
   "cell_type": "code",
   "execution_count": 54,
   "metadata": {},
   "outputs": [
    {
     "data": {
      "image/png": "[encoded data removed]",
      "text/plain": [
       "<Figure size 432x288 with 1 Axes>"
      ]
     },
     "metadata": {
      "needs_background": "light"
     },
     "output_type": "display_data"
    }
   ],
   "source": [
    "df.value_counts('floor_type').plot.bar(rot=0, title='floor type', grid=True);"
   ]
  },
  {
   "cell_type": "markdown",
   "metadata": {},
   "source": [
    "***Вывод: Среди объявлений подавляющее большинство составляют квартиры расположенные ни на первом ни на последнем этаже.***"
   ]
  },
  {
   "cell_type": "markdown",
   "metadata": {},
   "source": [
    "**Общее количество этажей в доме** `floors_total`"
   ]
  },
  {
   "cell_type": "code",
   "execution_count": 55,
   "metadata": {
    "scrolled": true
   },
   "outputs": [
    {
     "data": {
      "text/html": [
       "<div>\n",
       "<style scoped>\n",
       "    .dataframe tbody tr th:only-of-type {\n",
       "        vertical-align: middle;\n",
       "    }\n",
       "\n",
       "    .dataframe tbody tr th {\n",
       "        vertical-align: top;\n",
       "    }\n",
       "\n",
       "    .dataframe thead th {\n",
       "        text-align: right;\n",
       "    }\n",
       "</style>\n",
       "<table border=\"1\" class=\"dataframe\">\n",
       "  <thead>\n",
       "    <tr style=\"text-align: right;\">\n",
       "      <th></th>\n",
       "      <th>floors_total</th>\n",
       "      <th>0</th>\n",
       "    </tr>\n",
       "  </thead>\n",
       "  <tbody>\n",
       "    <tr>\n",
       "      <th>0</th>\n",
       "      <td>5.0</td>\n",
       "      <td>5788</td>\n",
       "    </tr>\n",
       "    <tr>\n",
       "      <th>1</th>\n",
       "      <td>9.0</td>\n",
       "      <td>3761</td>\n",
       "    </tr>\n",
       "    <tr>\n",
       "      <th>2</th>\n",
       "      <td>16.0</td>\n",
       "      <td>1376</td>\n",
       "    </tr>\n",
       "    <tr>\n",
       "      <th>3</th>\n",
       "      <td>12.0</td>\n",
       "      <td>1362</td>\n",
       "    </tr>\n",
       "    <tr>\n",
       "      <th>4</th>\n",
       "      <td>4.0</td>\n",
       "      <td>1200</td>\n",
       "    </tr>\n",
       "    <tr>\n",
       "      <th>5</th>\n",
       "      <td>10.0</td>\n",
       "      <td>1174</td>\n",
       "    </tr>\n",
       "    <tr>\n",
       "      <th>6</th>\n",
       "      <td>25.0</td>\n",
       "      <td>1075</td>\n",
       "    </tr>\n",
       "  </tbody>\n",
       "</table>\n",
       "</div>"
      ],
      "text/plain": [
       "  floors_total     0\n",
       "0          5.0  5788\n",
       "1          9.0  3761\n",
       "2         16.0  1376\n",
       "3         12.0  1362\n",
       "4          4.0  1200\n",
       "5         10.0  1174\n",
       "6         25.0  1075"
      ]
     },
     "execution_count": 55,
     "metadata": {},
     "output_type": "execute_result"
    }
   ],
   "source": [
    "# топ-7 предложений по общему кол-ву этажей\n",
    "df.value_counts('floors_total').reset_index()[:7]"
   ]
  },
  {
   "cell_type": "code",
   "execution_count": 56,
   "metadata": {
    "scrolled": true
   },
   "outputs": [
    {
     "data": {
      "text/plain": [
       "<AxesSubplot:ylabel='Frequency'>"
      ]
     },
     "execution_count": 56,
     "metadata": {},
     "output_type": "execute_result"
    },
    {
     "data": {
      "image/png": "[encoded data removed]",
      "text/plain": [
       "<Figure size 432x288 with 1 Axes>"
      ]
     },
     "metadata": {
      "needs_background": "light"
     },
     "output_type": "display_data"
    }
   ],
   "source": [
    "df.query('floors_total != \"unknown\"').plot(kind='hist', y='floors_total', xlim=(0, 35), grid=True)"
   ]
  },
  {
   "cell_type": "markdown",
   "metadata": {},
   "source": [
    "***Вывод: Чаще всего на продажу выставляются квартиры в 5-ти (наибольшее кол-во) и 9-ти этажных домах.***"
   ]
  },
  {
   "cell_type": "markdown",
   "metadata": {},
   "source": [
    "**Расстояние до центра города в метрах** `cityCenters_nearest`"
   ]
  },
  {
   "cell_type": "code",
   "execution_count": 57,
   "metadata": {
    "scrolled": false
   },
   "outputs": [
    {
     "data": {
      "text/plain": [
       "<AxesSubplot:title={'center':'distance to the center'}, ylabel='Frequency'>"
      ]
     },
     "execution_count": 57,
     "metadata": {},
     "output_type": "execute_result"
    },
    {
     "data": {
      "image/png": "[encoded data removed]",
      "text/plain": [
       "<Figure size 432x288 with 1 Axes>"
      ]
     },
     "metadata": {
      "needs_background": "light"
     },
     "output_type": "display_data"
    }
   ],
   "source": [
    "df.plot(kind='hist', y='cityCenters_nearest', grid=True, title='distance to the center')"
   ]
  },
  {
   "cell_type": "code",
   "execution_count": 58,
   "metadata": {},
   "outputs": [
    {
     "data": {
      "text/html": [
       "<div>\n",
       "<style scoped>\n",
       "    .dataframe tbody tr th:only-of-type {\n",
       "        vertical-align: middle;\n",
       "    }\n",
       "\n",
       "    .dataframe tbody tr th {\n",
       "        vertical-align: top;\n",
       "    }\n",
       "\n",
       "    .dataframe thead th {\n",
       "        text-align: right;\n",
       "    }\n",
       "</style>\n",
       "<table border=\"1\" class=\"dataframe\">\n",
       "  <thead>\n",
       "    <tr style=\"text-align: right;\">\n",
       "      <th></th>\n",
       "      <th>0</th>\n",
       "    </tr>\n",
       "    <tr>\n",
       "      <th>cityCenters_nearest</th>\n",
       "      <th></th>\n",
       "    </tr>\n",
       "  </thead>\n",
       "  <tbody>\n",
       "    <tr>\n",
       "      <th>12.0</th>\n",
       "      <td>1607</td>\n",
       "    </tr>\n",
       "    <tr>\n",
       "      <th>15.0</th>\n",
       "      <td>1568</td>\n",
       "    </tr>\n",
       "    <tr>\n",
       "      <th>13.0</th>\n",
       "      <td>1457</td>\n",
       "    </tr>\n",
       "    <tr>\n",
       "      <th>14.0</th>\n",
       "      <td>1279</td>\n",
       "    </tr>\n",
       "    <tr>\n",
       "      <th>16.0</th>\n",
       "      <td>1265</td>\n",
       "    </tr>\n",
       "    <tr>\n",
       "      <th>11.0</th>\n",
       "      <td>1179</td>\n",
       "    </tr>\n",
       "    <tr>\n",
       "      <th>5.0</th>\n",
       "      <td>924</td>\n",
       "    </tr>\n",
       "    <tr>\n",
       "      <th>17.0</th>\n",
       "      <td>919</td>\n",
       "    </tr>\n",
       "    <tr>\n",
       "      <th>10.0</th>\n",
       "      <td>721</td>\n",
       "    </tr>\n",
       "  </tbody>\n",
       "</table>\n",
       "</div>"
      ],
      "text/plain": [
       "                        0\n",
       "cityCenters_nearest      \n",
       "12.0                 1607\n",
       "15.0                 1568\n",
       "13.0                 1457\n",
       "14.0                 1279\n",
       "16.0                 1265\n",
       "11.0                 1179\n",
       "5.0                   924\n",
       "17.0                  919\n",
       "10.0                  721"
      ]
     },
     "execution_count": 58,
     "metadata": {},
     "output_type": "execute_result"
    }
   ],
   "source": [
    "# топ-10 по расстоянию до центра города\n",
    "df.value_counts('cityCenters_nearest')[:10].to_frame()"
   ]
  },
  {
   "cell_type": "markdown",
   "metadata": {},
   "source": [
    "***Вывод: Чаще всего продаются квартиры с удаленностью от центра города от 11-ти до 16-ти километров.***"
   ]
  },
  {
   "cell_type": "markdown",
   "metadata": {},
   "source": [
    "**Расстояние до ближайшего аэропорта** `airports_nearest` "
   ]
  },
  {
   "cell_type": "code",
   "execution_count": 59,
   "metadata": {},
   "outputs": [],
   "source": [
    "# пересчитаем количество метров в километры\n",
    "df['airports_nearest'] = round(df['airports_nearest'] / 1000)"
   ]
  },
  {
   "cell_type": "code",
   "execution_count": 60,
   "metadata": {
    "scrolled": true
   },
   "outputs": [
    {
     "data": {
      "text/plain": [
       "<AxesSubplot:title={'center':'distance to the airport'}, ylabel='Frequency'>"
      ]
     },
     "execution_count": 60,
     "metadata": {},
     "output_type": "execute_result"
    },
    {
     "data": {
      "image/png": "[encoded data removed]",
      "text/plain": [
       "<Figure size 432x288 with 1 Axes>"
      ]
     },
     "metadata": {
      "needs_background": "light"
     },
     "output_type": "display_data"
    }
   ],
   "source": [
    "df.plot(\n",
    "    kind='hist', y='airports_nearest', grid=True, title='distance to the airport', bins=25, xticks=range(0, 90, 10)\n",
    ")"
   ]
  },
  {
   "cell_type": "code",
   "execution_count": 61,
   "metadata": {
    "scrolled": true
   },
   "outputs": [
    {
     "data": {
      "text/html": [
       "<div>\n",
       "<style scoped>\n",
       "    .dataframe tbody tr th:only-of-type {\n",
       "        vertical-align: middle;\n",
       "    }\n",
       "\n",
       "    .dataframe tbody tr th {\n",
       "        vertical-align: top;\n",
       "    }\n",
       "\n",
       "    .dataframe thead th {\n",
       "        text-align: right;\n",
       "    }\n",
       "</style>\n",
       "<table border=\"1\" class=\"dataframe\">\n",
       "  <thead>\n",
       "    <tr style=\"text-align: right;\">\n",
       "      <th></th>\n",
       "      <th>airports_nearest</th>\n",
       "      <th>0</th>\n",
       "    </tr>\n",
       "  </thead>\n",
       "  <tbody>\n",
       "    <tr>\n",
       "      <th>8</th>\n",
       "      <td>13.0</td>\n",
       "      <td>546</td>\n",
       "    </tr>\n",
       "    <tr>\n",
       "      <th>4</th>\n",
       "      <td>14.0</td>\n",
       "      <td>594</td>\n",
       "    </tr>\n",
       "    <tr>\n",
       "      <th>5</th>\n",
       "      <td>15.0</td>\n",
       "      <td>584</td>\n",
       "    </tr>\n",
       "    <tr>\n",
       "      <th>7</th>\n",
       "      <td>18.0</td>\n",
       "      <td>572</td>\n",
       "    </tr>\n",
       "    <tr>\n",
       "      <th>3</th>\n",
       "      <td>19.0</td>\n",
       "      <td>625</td>\n",
       "    </tr>\n",
       "    <tr>\n",
       "      <th>2</th>\n",
       "      <td>22.0</td>\n",
       "      <td>626</td>\n",
       "    </tr>\n",
       "    <tr>\n",
       "      <th>1</th>\n",
       "      <td>24.0</td>\n",
       "      <td>631</td>\n",
       "    </tr>\n",
       "    <tr>\n",
       "      <th>0</th>\n",
       "      <td>25.0</td>\n",
       "      <td>633</td>\n",
       "    </tr>\n",
       "    <tr>\n",
       "      <th>9</th>\n",
       "      <td>36.0</td>\n",
       "      <td>544</td>\n",
       "    </tr>\n",
       "    <tr>\n",
       "      <th>6</th>\n",
       "      <td>37.0</td>\n",
       "      <td>579</td>\n",
       "    </tr>\n",
       "  </tbody>\n",
       "</table>\n",
       "</div>"
      ],
      "text/plain": [
       "   airports_nearest    0\n",
       "8              13.0  546\n",
       "4              14.0  594\n",
       "5              15.0  584\n",
       "7              18.0  572\n",
       "3              19.0  625\n",
       "2              22.0  626\n",
       "1              24.0  631\n",
       "0              25.0  633\n",
       "9              36.0  544\n",
       "6              37.0  579"
      ]
     },
     "execution_count": 61,
     "metadata": {},
     "output_type": "execute_result"
    }
   ],
   "source": [
    "df.value_counts('airports_nearest').reset_index()[:10].sort_values('airports_nearest')"
   ]
  },
  {
   "cell_type": "markdown",
   "metadata": {},
   "source": [
    "***Вывод: Лидерами по количеству объявлений являются объекты расположенные на расстоянии от 19 до 25 км до ближайшего аэропорта.*** "
   ]
  },
  {
   "cell_type": "markdown",
   "metadata": {},
   "source": [
    "**Расстояние до ближайшего парка** `parks_nearest`"
   ]
  },
  {
   "cell_type": "code",
   "execution_count": 62,
   "metadata": {},
   "outputs": [],
   "source": [
    "# пересчитаем количество метров в километры\n",
    "df['parks_nearest'] = round(df['parks_nearest'] / 1000)"
   ]
  },
  {
   "cell_type": "code",
   "execution_count": 63,
   "metadata": {
    "scrolled": true
   },
   "outputs": [
    {
     "data": {
      "text/plain": [
       "<AxesSubplot:title={'center':'distance to the park'}, ylabel='Frequency'>"
      ]
     },
     "execution_count": 63,
     "metadata": {},
     "output_type": "execute_result"
    },
    {
     "data": {
      "image/png": "[encoded data removed]",
      "text/plain": [
       "<Figure size 432x288 with 1 Axes>"
      ]
     },
     "metadata": {
      "needs_background": "light"
     },
     "output_type": "display_data"
    }
   ],
   "source": [
    "df.plot(kind='hist', y='parks_nearest', grid=True, title='distance to the park', bins=3, xticks=range(-1, 3))"
   ]
  },
  {
   "cell_type": "code",
   "execution_count": 64,
   "metadata": {
    "scrolled": true
   },
   "outputs": [
    {
     "data": {
      "text/html": [
       "<div>\n",
       "<style scoped>\n",
       "    .dataframe tbody tr th:only-of-type {\n",
       "        vertical-align: middle;\n",
       "    }\n",
       "\n",
       "    .dataframe tbody tr th {\n",
       "        vertical-align: top;\n",
       "    }\n",
       "\n",
       "    .dataframe thead th {\n",
       "        text-align: right;\n",
       "    }\n",
       "</style>\n",
       "<table border=\"1\" class=\"dataframe\">\n",
       "  <thead>\n",
       "    <tr style=\"text-align: right;\">\n",
       "      <th></th>\n",
       "      <th>0</th>\n",
       "    </tr>\n",
       "    <tr>\n",
       "      <th>parks_nearest</th>\n",
       "      <th></th>\n",
       "    </tr>\n",
       "  </thead>\n",
       "  <tbody>\n",
       "    <tr>\n",
       "      <th>0.0</th>\n",
       "      <td>58.18</td>\n",
       "    </tr>\n",
       "    <tr>\n",
       "      <th>1.0</th>\n",
       "      <td>39.67</td>\n",
       "    </tr>\n",
       "    <tr>\n",
       "      <th>2.0</th>\n",
       "      <td>1.96</td>\n",
       "    </tr>\n",
       "    <tr>\n",
       "      <th>3.0</th>\n",
       "      <td>0.20</td>\n",
       "    </tr>\n",
       "  </tbody>\n",
       "</table>\n",
       "</div>"
      ],
      "text/plain": [
       "                   0\n",
       "parks_nearest       \n",
       "0.0            58.18\n",
       "1.0            39.67\n",
       "2.0             1.96\n",
       "3.0             0.20"
      ]
     },
     "execution_count": 64,
     "metadata": {},
     "output_type": "execute_result"
    }
   ],
   "source": [
    "df.value_counts('parks_nearest', normalize=True).mul(100).round(2).to_frame()"
   ]
  },
  {
   "cell_type": "markdown",
   "metadata": {},
   "source": [
    "***Вывод: В 58% объявлений ближайший парк находится в шаговой доступности (менее 1 км), в пределах 2-км - 40% предложений.***"
   ]
  },
  {
   "cell_type": "markdown",
   "metadata": {},
   "source": [
    "**День и месяц публикации объявления** `day_of_week` и\t`month`"
   ]
  },
  {
   "cell_type": "code",
   "execution_count": 65,
   "metadata": {},
   "outputs": [
    {
     "data": {
      "text/html": [
       "<div>\n",
       "<style scoped>\n",
       "    .dataframe tbody tr th:only-of-type {\n",
       "        vertical-align: middle;\n",
       "    }\n",
       "\n",
       "    .dataframe tbody tr th {\n",
       "        vertical-align: top;\n",
       "    }\n",
       "\n",
       "    .dataframe thead th {\n",
       "        text-align: right;\n",
       "    }\n",
       "</style>\n",
       "<table border=\"1\" class=\"dataframe\">\n",
       "  <thead>\n",
       "    <tr style=\"text-align: right;\">\n",
       "      <th></th>\n",
       "      <th>year</th>\n",
       "      <th>0</th>\n",
       "    </tr>\n",
       "  </thead>\n",
       "  <tbody>\n",
       "    <tr>\n",
       "      <th>5</th>\n",
       "      <td>2014</td>\n",
       "      <td>0.578083</td>\n",
       "    </tr>\n",
       "    <tr>\n",
       "      <th>4</th>\n",
       "      <td>2015</td>\n",
       "      <td>5.025529</td>\n",
       "    </tr>\n",
       "    <tr>\n",
       "      <th>3</th>\n",
       "      <td>2016</td>\n",
       "      <td>11.743112</td>\n",
       "    </tr>\n",
       "    <tr>\n",
       "      <th>1</th>\n",
       "      <td>2017</td>\n",
       "      <td>34.558420</td>\n",
       "    </tr>\n",
       "    <tr>\n",
       "      <th>0</th>\n",
       "      <td>2018</td>\n",
       "      <td>35.946664</td>\n",
       "    </tr>\n",
       "    <tr>\n",
       "      <th>2</th>\n",
       "      <td>2019</td>\n",
       "      <td>12.148192</td>\n",
       "    </tr>\n",
       "  </tbody>\n",
       "</table>\n",
       "</div>"
      ],
      "text/plain": [
       "   year          0\n",
       "5  2014   0.578083\n",
       "4  2015   5.025529\n",
       "3  2016  11.743112\n",
       "1  2017  34.558420\n",
       "0  2018  35.946664\n",
       "2  2019  12.148192"
      ]
     },
     "execution_count": 65,
     "metadata": {},
     "output_type": "execute_result"
    }
   ],
   "source": [
    "# Распределение по годам\n",
    "df.value_counts('year', normalize=True).mul(100).reset_index().sort_values('year')"
   ]
  },
  {
   "cell_type": "code",
   "execution_count": 66,
   "metadata": {
    "scrolled": false
   },
   "outputs": [
    {
     "data": {
      "text/html": [
       "<style  type=\"text/css\" >\n",
       "#T_d92d7_row0_col0,#T_d92d7_row0_col4,#T_d92d7_row4_col1,#T_d92d7_row4_col2,#T_d92d7_row4_col6,#T_d92d7_row4_col7,#T_d92d7_row6_col5,#T_d92d7_row11_col3{\n",
       "            background-color:  #fff5f0;\n",
       "            color:  #000000;\n",
       "        }#T_d92d7_row0_col1{\n",
       "            background-color:  #fc8969;\n",
       "            color:  #000000;\n",
       "        }#T_d92d7_row0_col2{\n",
       "            background-color:  #fee8dd;\n",
       "            color:  #000000;\n",
       "        }#T_d92d7_row0_col3{\n",
       "            background-color:  #fff0e8;\n",
       "            color:  #000000;\n",
       "        }#T_d92d7_row0_col5{\n",
       "            background-color:  #fee3d6;\n",
       "            color:  #000000;\n",
       "        }#T_d92d7_row0_col6{\n",
       "            background-color:  #fc9e80;\n",
       "            color:  #000000;\n",
       "        }#T_d92d7_row0_col7{\n",
       "            background-color:  #fc8a6a;\n",
       "            color:  #000000;\n",
       "        }#T_d92d7_row1_col0{\n",
       "            background-color:  #fee6da;\n",
       "            color:  #000000;\n",
       "        }#T_d92d7_row1_col1{\n",
       "            background-color:  #eb372a;\n",
       "            color:  #f1f1f1;\n",
       "        }#T_d92d7_row1_col2{\n",
       "            background-color:  #a30f15;\n",
       "            color:  #f1f1f1;\n",
       "        }#T_d92d7_row1_col3{\n",
       "            background-color:  #d01d1f;\n",
       "            color:  #f1f1f1;\n",
       "        }#T_d92d7_row1_col4,#T_d92d7_row2_col2,#T_d92d7_row2_col6,#T_d92d7_row2_col7,#T_d92d7_row3_col1,#T_d92d7_row10_col3,#T_d92d7_row10_col5,#T_d92d7_row11_col0{\n",
       "            background-color:  #67000d;\n",
       "            color:  #f1f1f1;\n",
       "        }#T_d92d7_row1_col5{\n",
       "            background-color:  #fc8262;\n",
       "            color:  #000000;\n",
       "        }#T_d92d7_row1_col6{\n",
       "            background-color:  #f5533b;\n",
       "            color:  #000000;\n",
       "        }#T_d92d7_row1_col7{\n",
       "            background-color:  #c9181d;\n",
       "            color:  #f1f1f1;\n",
       "        }#T_d92d7_row2_col0,#T_d92d7_row9_col4{\n",
       "            background-color:  #fdd0bc;\n",
       "            color:  #000000;\n",
       "        }#T_d92d7_row2_col1{\n",
       "            background-color:  #bb141a;\n",
       "            color:  #f1f1f1;\n",
       "        }#T_d92d7_row2_col3{\n",
       "            background-color:  #8c0912;\n",
       "            color:  #f1f1f1;\n",
       "        }#T_d92d7_row2_col4{\n",
       "            background-color:  #fc9373;\n",
       "            color:  #000000;\n",
       "        }#T_d92d7_row2_col5{\n",
       "            background-color:  #d92523;\n",
       "            color:  #f1f1f1;\n",
       "        }#T_d92d7_row3_col0{\n",
       "            background-color:  #fcb499;\n",
       "            color:  #000000;\n",
       "        }#T_d92d7_row3_col2{\n",
       "            background-color:  #d72322;\n",
       "            color:  #f1f1f1;\n",
       "        }#T_d92d7_row3_col3,#T_d92d7_row5_col0,#T_d92d7_row10_col1{\n",
       "            background-color:  #fb7858;\n",
       "            color:  #000000;\n",
       "        }#T_d92d7_row3_col4,#T_d92d7_row4_col0{\n",
       "            background-color:  #fc9576;\n",
       "            color:  #000000;\n",
       "        }#T_d92d7_row3_col5{\n",
       "            background-color:  #e22e27;\n",
       "            color:  #f1f1f1;\n",
       "        }#T_d92d7_row3_col6{\n",
       "            background-color:  #f03d2d;\n",
       "            color:  #f1f1f1;\n",
       "        }#T_d92d7_row3_col7{\n",
       "            background-color:  #c7171c;\n",
       "            color:  #f1f1f1;\n",
       "        }#T_d92d7_row4_col3{\n",
       "            background-color:  #fee7dc;\n",
       "            color:  #000000;\n",
       "        }#T_d92d7_row4_col4{\n",
       "            background-color:  #fee8de;\n",
       "            color:  #000000;\n",
       "        }#T_d92d7_row4_col5{\n",
       "            background-color:  #fff2ec;\n",
       "            color:  #000000;\n",
       "        }#T_d92d7_row5_col1{\n",
       "            background-color:  #fee3d7;\n",
       "            color:  #000000;\n",
       "        }#T_d92d7_row5_col2{\n",
       "            background-color:  #fcb69b;\n",
       "            color:  #000000;\n",
       "        }#T_d92d7_row5_col3,#T_d92d7_row7_col4{\n",
       "            background-color:  #fedbcc;\n",
       "            color:  #000000;\n",
       "        }#T_d92d7_row5_col4{\n",
       "            background-color:  #fcae92;\n",
       "            color:  #000000;\n",
       "        }#T_d92d7_row5_col5{\n",
       "            background-color:  #fc8666;\n",
       "            color:  #000000;\n",
       "        }#T_d92d7_row5_col6{\n",
       "            background-color:  #fb7555;\n",
       "            color:  #000000;\n",
       "        }#T_d92d7_row5_col7{\n",
       "            background-color:  #fc9474;\n",
       "            color:  #000000;\n",
       "        }#T_d92d7_row6_col0{\n",
       "            background-color:  #f7593f;\n",
       "            color:  #000000;\n",
       "        }#T_d92d7_row6_col1,#T_d92d7_row10_col6{\n",
       "            background-color:  #f96245;\n",
       "            color:  #000000;\n",
       "        }#T_d92d7_row6_col2{\n",
       "            background-color:  #fb7151;\n",
       "            color:  #000000;\n",
       "        }#T_d92d7_row6_col3{\n",
       "            background-color:  #ffefe8;\n",
       "            color:  #000000;\n",
       "        }#T_d92d7_row6_col4{\n",
       "            background-color:  #feeae0;\n",
       "            color:  #000000;\n",
       "        }#T_d92d7_row6_col6{\n",
       "            background-color:  #fa6547;\n",
       "            color:  #000000;\n",
       "        }#T_d92d7_row6_col7{\n",
       "            background-color:  #fa6648;\n",
       "            color:  #000000;\n",
       "        }#T_d92d7_row7_col0{\n",
       "            background-color:  #ec382b;\n",
       "            color:  #f1f1f1;\n",
       "        }#T_d92d7_row7_col1,#T_d92d7_row11_col2{\n",
       "            background-color:  #fca486;\n",
       "            color:  #000000;\n",
       "        }#T_d92d7_row7_col2{\n",
       "            background-color:  #fb7b5b;\n",
       "            color:  #000000;\n",
       "        }#T_d92d7_row7_col3{\n",
       "            background-color:  #f0402f;\n",
       "            color:  #f1f1f1;\n",
       "        }#T_d92d7_row7_col5{\n",
       "            background-color:  #fdd5c4;\n",
       "            color:  #000000;\n",
       "        }#T_d92d7_row7_col6,#T_d92d7_row8_col1{\n",
       "            background-color:  #fca689;\n",
       "            color:  #000000;\n",
       "        }#T_d92d7_row7_col7{\n",
       "            background-color:  #fcb398;\n",
       "            color:  #000000;\n",
       "        }#T_d92d7_row8_col0{\n",
       "            background-color:  #d11e1f;\n",
       "            color:  #f1f1f1;\n",
       "        }#T_d92d7_row8_col2{\n",
       "            background-color:  #fa6849;\n",
       "            color:  #000000;\n",
       "        }#T_d92d7_row8_col3{\n",
       "            background-color:  #900a12;\n",
       "            color:  #f1f1f1;\n",
       "        }#T_d92d7_row8_col4{\n",
       "            background-color:  #fdcdb9;\n",
       "            color:  #000000;\n",
       "        }#T_d92d7_row8_col5{\n",
       "            background-color:  #fca98c;\n",
       "            color:  #000000;\n",
       "        }#T_d92d7_row8_col6{\n",
       "            background-color:  #f14130;\n",
       "            color:  #f1f1f1;\n",
       "        }#T_d92d7_row8_col7,#T_d92d7_row9_col2,#T_d92d7_row9_col3{\n",
       "            background-color:  #dc2924;\n",
       "            color:  #f1f1f1;\n",
       "        }#T_d92d7_row9_col0{\n",
       "            background-color:  #b61319;\n",
       "            color:  #f1f1f1;\n",
       "        }#T_d92d7_row9_col1{\n",
       "            background-color:  #d52221;\n",
       "            color:  #f1f1f1;\n",
       "        }#T_d92d7_row9_col5,#T_d92d7_row11_col6{\n",
       "            background-color:  #f85d42;\n",
       "            color:  #000000;\n",
       "        }#T_d92d7_row9_col6{\n",
       "            background-color:  #fb7d5d;\n",
       "            color:  #000000;\n",
       "        }#T_d92d7_row9_col7{\n",
       "            background-color:  #f6553c;\n",
       "            color:  #000000;\n",
       "        }#T_d92d7_row10_col0{\n",
       "            background-color:  #940b13;\n",
       "            color:  #f1f1f1;\n",
       "        }#T_d92d7_row10_col2{\n",
       "            background-color:  #f96044;\n",
       "            color:  #000000;\n",
       "        }#T_d92d7_row10_col4{\n",
       "            background-color:  #fc8767;\n",
       "            color:  #000000;\n",
       "        }#T_d92d7_row10_col7{\n",
       "            background-color:  #be151a;\n",
       "            color:  #f1f1f1;\n",
       "        }#T_d92d7_row11_col1{\n",
       "            background-color:  #fcb79c;\n",
       "            color:  #000000;\n",
       "        }#T_d92d7_row11_col4{\n",
       "            background-color:  #fee5d8;\n",
       "            color:  #000000;\n",
       "        }#T_d92d7_row11_col5{\n",
       "            background-color:  #fed9c9;\n",
       "            color:  #000000;\n",
       "        }#T_d92d7_row11_col7{\n",
       "            background-color:  #f96346;\n",
       "            color:  #000000;\n",
       "        }</style><table id=\"T_d92d7_\" ><thead>    <tr>        <th class=\"index_name level0\" >day_of_week</th>        <th class=\"col_heading level0 col0\" >month</th>        <th class=\"col_heading level0 col1\" >0</th>        <th class=\"col_heading level0 col2\" >1</th>        <th class=\"col_heading level0 col3\" >2</th>        <th class=\"col_heading level0 col4\" >3</th>        <th class=\"col_heading level0 col5\" >4</th>        <th class=\"col_heading level0 col6\" >5</th>        <th class=\"col_heading level0 col7\" >6</th>    </tr></thead><tbody>\n",
       "                <tr>\n",
       "                        <th id=\"T_d92d7_level0_row0\" class=\"row_heading level0 row0\" >0</th>\n",
       "                        <td id=\"T_d92d7_row0_col0\" class=\"data row0 col0\" >1</td>\n",
       "                        <td id=\"T_d92d7_row0_col1\" class=\"data row0 col1\" >285</td>\n",
       "                        <td id=\"T_d92d7_row0_col2\" class=\"data row0 col2\" >233</td>\n",
       "                        <td id=\"T_d92d7_row0_col3\" class=\"data row0 col3\" >264</td>\n",
       "                        <td id=\"T_d92d7_row0_col4\" class=\"data row0 col4\" >208</td>\n",
       "                        <td id=\"T_d92d7_row0_col5\" class=\"data row0 col5\" >254</td>\n",
       "                        <td id=\"T_d92d7_row0_col6\" class=\"data row0 col6\" >135</td>\n",
       "                        <td id=\"T_d92d7_row0_col7\" class=\"data row0 col7\" >121</td>\n",
       "            </tr>\n",
       "            <tr>\n",
       "                        <th id=\"T_d92d7_level0_row1\" class=\"row_heading level0 row1\" >1</th>\n",
       "                        <td id=\"T_d92d7_row1_col0\" class=\"data row1 col0\" >2</td>\n",
       "                        <td id=\"T_d92d7_row1_col1\" class=\"data row1 col1\" >350</td>\n",
       "                        <td id=\"T_d92d7_row1_col2\" class=\"data row1 col2\" >456</td>\n",
       "                        <td id=\"T_d92d7_row1_col3\" class=\"data row1 col3\" >372</td>\n",
       "                        <td id=\"T_d92d7_row1_col4\" class=\"data row1 col4\" >771</td>\n",
       "                        <td id=\"T_d92d7_row1_col5\" class=\"data row1 col5\" >349</td>\n",
       "                        <td id=\"T_d92d7_row1_col6\" class=\"data row1 col6\" >173</td>\n",
       "                        <td id=\"T_d92d7_row1_col7\" class=\"data row1 col7\" >169</td>\n",
       "            </tr>\n",
       "            <tr>\n",
       "                        <th id=\"T_d92d7_level0_row2\" class=\"row_heading level0 row2\" >2</th>\n",
       "                        <td id=\"T_d92d7_row2_col0\" class=\"data row2 col0\" >3</td>\n",
       "                        <td id=\"T_d92d7_row2_col1\" class=\"data row2 col1\" >396</td>\n",
       "                        <td id=\"T_d92d7_row2_col2\" class=\"data row2 col2\" >491</td>\n",
       "                        <td id=\"T_d92d7_row2_col3\" class=\"data row2 col3\" >401</td>\n",
       "                        <td id=\"T_d92d7_row2_col4\" class=\"data row2 col4\" >417</td>\n",
       "                        <td id=\"T_d92d7_row2_col5\" class=\"data row2 col5\" >432</td>\n",
       "                        <td id=\"T_d92d7_row2_col6\" class=\"data row2 col6\" >248</td>\n",
       "                        <td id=\"T_d92d7_row2_col7\" class=\"data row2 col7\" >202</td>\n",
       "            </tr>\n",
       "            <tr>\n",
       "                        <th id=\"T_d92d7_level0_row3\" class=\"row_heading level0 row3\" >3</th>\n",
       "                        <td id=\"T_d92d7_row3_col0\" class=\"data row3 col0\" >4</td>\n",
       "                        <td id=\"T_d92d7_row3_col1\" class=\"data row3 col1\" >451</td>\n",
       "                        <td id=\"T_d92d7_row3_col2\" class=\"data row3 col2\" >409</td>\n",
       "                        <td id=\"T_d92d7_row3_col3\" class=\"data row3 col3\" >329</td>\n",
       "                        <td id=\"T_d92d7_row3_col4\" class=\"data row3 col4\" >414</td>\n",
       "                        <td id=\"T_d92d7_row3_col5\" class=\"data row3 col5\" >423</td>\n",
       "                        <td id=\"T_d92d7_row3_col6\" class=\"data row3 col6\" >183</td>\n",
       "                        <td id=\"T_d92d7_row3_col7\" class=\"data row3 col7\" >170</td>\n",
       "            </tr>\n",
       "            <tr>\n",
       "                        <th id=\"T_d92d7_level0_row4\" class=\"row_heading level0 row4\" >4</th>\n",
       "                        <td id=\"T_d92d7_row4_col0\" class=\"data row4 col0\" >5</td>\n",
       "                        <td id=\"T_d92d7_row4_col1\" class=\"data row4 col1\" >172</td>\n",
       "                        <td id=\"T_d92d7_row4_col2\" class=\"data row4 col2\" >211</td>\n",
       "                        <td id=\"T_d92d7_row4_col3\" class=\"data row4 col3\" >272</td>\n",
       "                        <td id=\"T_d92d7_row4_col4\" class=\"data row4 col4\" >250</td>\n",
       "                        <td id=\"T_d92d7_row4_col5\" class=\"data row4 col5\" >225</td>\n",
       "                        <td id=\"T_d92d7_row4_col6\" class=\"data row4 col6\" >77</td>\n",
       "                        <td id=\"T_d92d7_row4_col7\" class=\"data row4 col7\" >67</td>\n",
       "            </tr>\n",
       "            <tr>\n",
       "                        <th id=\"T_d92d7_level0_row5\" class=\"row_heading level0 row5\" >5</th>\n",
       "                        <td id=\"T_d92d7_row5_col0\" class=\"data row5 col0\" >6</td>\n",
       "                        <td id=\"T_d92d7_row5_col1\" class=\"data row5 col1\" >202</td>\n",
       "                        <td id=\"T_d92d7_row5_col2\" class=\"data row5 col2\" >286</td>\n",
       "                        <td id=\"T_d92d7_row5_col3\" class=\"data row5 col3\" >281</td>\n",
       "                        <td id=\"T_d92d7_row5_col4\" class=\"data row5 col4\" >372</td>\n",
       "                        <td id=\"T_d92d7_row5_col5\" class=\"data row5 col5\" >345</td>\n",
       "                        <td id=\"T_d92d7_row5_col6\" class=\"data row5 col6\" >157</td>\n",
       "                        <td id=\"T_d92d7_row5_col7\" class=\"data row5 col7\" >117</td>\n",
       "            </tr>\n",
       "            <tr>\n",
       "                        <th id=\"T_d92d7_level0_row6\" class=\"row_heading level0 row6\" >6</th>\n",
       "                        <td id=\"T_d92d7_row6_col0\" class=\"data row6 col0\" >7</td>\n",
       "                        <td id=\"T_d92d7_row6_col1\" class=\"data row6 col1\" >318</td>\n",
       "                        <td id=\"T_d92d7_row6_col2\" class=\"data row6 col2\" >345</td>\n",
       "                        <td id=\"T_d92d7_row6_col3\" class=\"data row6 col3\" >265</td>\n",
       "                        <td id=\"T_d92d7_row6_col4\" class=\"data row6 col4\" >246</td>\n",
       "                        <td id=\"T_d92d7_row6_col5\" class=\"data row6 col5\" >220</td>\n",
       "                        <td id=\"T_d92d7_row6_col6\" class=\"data row6 col6\" >165</td>\n",
       "                        <td id=\"T_d92d7_row6_col7\" class=\"data row6 col7\" >136</td>\n",
       "            </tr>\n",
       "            <tr>\n",
       "                        <th id=\"T_d92d7_level0_row7\" class=\"row_heading level0 row7\" >7</th>\n",
       "                        <td id=\"T_d92d7_row7_col0\" class=\"data row7 col0\" >8</td>\n",
       "                        <td id=\"T_d92d7_row7_col1\" class=\"data row7 col1\" >262</td>\n",
       "                        <td id=\"T_d92d7_row7_col2\" class=\"data row7 col2\" >336</td>\n",
       "                        <td id=\"T_d92d7_row7_col3\" class=\"data row7 col3\" >353</td>\n",
       "                        <td id=\"T_d92d7_row7_col4\" class=\"data row7 col4\" >289</td>\n",
       "                        <td id=\"T_d92d7_row7_col5\" class=\"data row7 col5\" >269</td>\n",
       "                        <td id=\"T_d92d7_row7_col6\" class=\"data row7 col6\" >131</td>\n",
       "                        <td id=\"T_d92d7_row7_col7\" class=\"data row7 col7\" >104</td>\n",
       "            </tr>\n",
       "            <tr>\n",
       "                        <th id=\"T_d92d7_level0_row8\" class=\"row_heading level0 row8\" >8</th>\n",
       "                        <td id=\"T_d92d7_row8_col0\" class=\"data row8 col0\" >9</td>\n",
       "                        <td id=\"T_d92d7_row8_col1\" class=\"data row8 col1\" >260</td>\n",
       "                        <td id=\"T_d92d7_row8_col2\" class=\"data row8 col2\" >353</td>\n",
       "                        <td id=\"T_d92d7_row8_col3\" class=\"data row8 col3\" >400</td>\n",
       "                        <td id=\"T_d92d7_row8_col4\" class=\"data row8 col4\" >314</td>\n",
       "                        <td id=\"T_d92d7_row8_col5\" class=\"data row8 col5\" >313</td>\n",
       "                        <td id=\"T_d92d7_row8_col6\" class=\"data row8 col6\" >181</td>\n",
       "                        <td id=\"T_d92d7_row8_col7\" class=\"data row8 col7\" >160</td>\n",
       "            </tr>\n",
       "            <tr>\n",
       "                        <th id=\"T_d92d7_level0_row9\" class=\"row_heading level0 row9\" >9</th>\n",
       "                        <td id=\"T_d92d7_row9_col0\" class=\"data row9 col0\" >10</td>\n",
       "                        <td id=\"T_d92d7_row9_col1\" class=\"data row9 col1\" >371</td>\n",
       "                        <td id=\"T_d92d7_row9_col2\" class=\"data row9 col2\" >404</td>\n",
       "                        <td id=\"T_d92d7_row9_col3\" class=\"data row9 col3\" >365</td>\n",
       "                        <td id=\"T_d92d7_row9_col4\" class=\"data row9 col4\" >311</td>\n",
       "                        <td id=\"T_d92d7_row9_col5\" class=\"data row9 col5\" >382</td>\n",
       "                        <td id=\"T_d92d7_row9_col6\" class=\"data row9 col6\" >152</td>\n",
       "                        <td id=\"T_d92d7_row9_col7\" class=\"data row9 col7\" >142</td>\n",
       "            </tr>\n",
       "            <tr>\n",
       "                        <th id=\"T_d92d7_level0_row10\" class=\"row_heading level0 row10\" >10</th>\n",
       "                        <td id=\"T_d92d7_row10_col0\" class=\"data row10 col0\" >11</td>\n",
       "                        <td id=\"T_d92d7_row10_col1\" class=\"data row10 col1\" >299</td>\n",
       "                        <td id=\"T_d92d7_row10_col2\" class=\"data row10 col2\" >358</td>\n",
       "                        <td id=\"T_d92d7_row10_col3\" class=\"data row10 col3\" >413</td>\n",
       "                        <td id=\"T_d92d7_row10_col4\" class=\"data row10 col4\" >438</td>\n",
       "                        <td id=\"T_d92d7_row10_col5\" class=\"data row10 col5\" >523</td>\n",
       "                        <td id=\"T_d92d7_row10_col6\" class=\"data row10 col6\" >166</td>\n",
       "                        <td id=\"T_d92d7_row10_col7\" class=\"data row10 col7\" >174</td>\n",
       "            </tr>\n",
       "            <tr>\n",
       "                        <th id=\"T_d92d7_level0_row11\" class=\"row_heading level0 row11\" >11</th>\n",
       "                        <td id=\"T_d92d7_row11_col0\" class=\"data row11 col0\" >12</td>\n",
       "                        <td id=\"T_d92d7_row11_col1\" class=\"data row11 col1\" >246</td>\n",
       "                        <td id=\"T_d92d7_row11_col2\" class=\"data row11 col2\" >301</td>\n",
       "                        <td id=\"T_d92d7_row11_col3\" class=\"data row11 col3\" >259</td>\n",
       "                        <td id=\"T_d92d7_row11_col4\" class=\"data row11 col4\" >265</td>\n",
       "                        <td id=\"T_d92d7_row11_col5\" class=\"data row11 col5\" >265</td>\n",
       "                        <td id=\"T_d92d7_row11_col6\" class=\"data row11 col6\" >168</td>\n",
       "                        <td id=\"T_d92d7_row11_col7\" class=\"data row11 col7\" >137</td>\n",
       "            </tr>\n",
       "    </tbody></table>"
      ],
      "text/plain": [
       "<pandas.io.formats.style.Styler at 0x7f333f2d23a0>"
      ]
     },
     "execution_count": 66,
     "metadata": {},
     "output_type": "execute_result"
    }
   ],
   "source": [
    "# тепловая карта кол-ва предложений по месяцам (индексы от 1 до 12) и дням недели (колонки от 0 до 6)\n",
    "df.pivot_table(index='month', columns='day_of_week', values='total_images', aggfunc='count') \\\n",
    "  .reset_index().style.background_gradient(cmap='Reds')"
   ]
  },
  {
   "cell_type": "markdown",
   "metadata": {},
   "source": [
    "***Вывод: Более 70% всех объявлений были опубликованы в 2017 и 2018 годах. Больше всего объявлений было опубликовано в начале года с февраля по апрель. Пик пришелся на четверг февраля - почти в 2 раза больше обычного среднего количества. При этом прослеживается динамику среди дней недели: наибольшая активность в будни и спад в выходные. Январь, май, июнь и декабрь являются наименее активными месяцами.*** "
   ]
  },
  {
   "cell_type": "markdown",
   "metadata": {},
   "source": [
    "#### Изучение, как быстро продавались квартиры (столбец `days_exposition`)"
   ]
  },
  {
   "cell_type": "code",
   "execution_count": 67,
   "metadata": {
    "scrolled": false
   },
   "outputs": [
    {
     "data": {
      "text/html": [
       "<div>\n",
       "<style scoped>\n",
       "    .dataframe tbody tr th:only-of-type {\n",
       "        vertical-align: middle;\n",
       "    }\n",
       "\n",
       "    .dataframe tbody tr th {\n",
       "        vertical-align: top;\n",
       "    }\n",
       "\n",
       "    .dataframe thead th {\n",
       "        text-align: right;\n",
       "    }\n",
       "</style>\n",
       "<table border=\"1\" class=\"dataframe\">\n",
       "  <thead>\n",
       "    <tr style=\"text-align: right;\">\n",
       "      <th></th>\n",
       "      <th>days_exposition</th>\n",
       "    </tr>\n",
       "  </thead>\n",
       "  <tbody>\n",
       "    <tr>\n",
       "      <th>mean</th>\n",
       "      <td>181.0</td>\n",
       "    </tr>\n",
       "    <tr>\n",
       "      <th>median</th>\n",
       "      <td>95.0</td>\n",
       "    </tr>\n",
       "  </tbody>\n",
       "</table>\n",
       "</div>"
      ],
      "text/plain": [
       "        days_exposition\n",
       "mean              181.0\n",
       "median             95.0"
      ]
     },
     "execution_count": 67,
     "metadata": {},
     "output_type": "execute_result"
    }
   ],
   "source": [
    "# расчет среднего и медианного значения\n",
    "df.query('days_exposition != \"по настоящее время\"').agg({'days_exposition': ['mean', 'median']}).round()"
   ]
  },
  {
   "cell_type": "code",
   "execution_count": 68,
   "metadata": {},
   "outputs": [],
   "source": [
    "df_days_exposition = df.query('days_exposition != \"по настоящее время\"')"
   ]
  },
  {
   "cell_type": "code",
   "execution_count": 69,
   "metadata": {},
   "outputs": [],
   "source": [
    "days_median = df_days_exposition.days_exposition.median()"
   ]
  },
  {
   "cell_type": "code",
   "execution_count": 70,
   "metadata": {
    "scrolled": true
   },
   "outputs": [
    {
     "data": {
      "text/plain": [
       "<AxesSubplot:ylabel='Frequency'>"
      ]
     },
     "execution_count": 70,
     "metadata": {},
     "output_type": "execute_result"
    },
    {
     "data": {
      "image/png": "[encoded data removed]",
      "text/plain": [
       "<Figure size 432x288 with 1 Axes>"
      ]
     },
     "metadata": {
      "needs_background": "light"
     },
     "output_type": "display_data"
    }
   ],
   "source": [
    "df_days_exposition.query('days_exposition < @days_median').plot(kind='hist', y='days_exposition', bins=20, grid=True)"
   ]
  },
  {
   "cell_type": "code",
   "execution_count": 71,
   "metadata": {
    "scrolled": true
   },
   "outputs": [
    {
     "data": {
      "text/plain": [
       "<AxesSubplot:ylabel='Frequency'>"
      ]
     },
     "execution_count": 71,
     "metadata": {},
     "output_type": "execute_result"
    },
    {
     "data": {
      "image/png": "[encoded data removed]",
      "text/plain": [
       "<Figure size 432x288 with 1 Axes>"
      ]
     },
     "metadata": {
      "needs_background": "light"
     },
     "output_type": "display_data"
    }
   ],
   "source": [
    "df_days_exposition.query('days_exposition > @days_median').plot(kind='hist', y='days_exposition', bins=20, grid=True)"
   ]
  },
  {
   "cell_type": "code",
   "execution_count": 72,
   "metadata": {},
   "outputs": [
    {
     "data": {
      "text/plain": [
       "45.00000000000001"
      ]
     },
     "execution_count": 72,
     "metadata": {},
     "output_type": "execute_result"
    }
   ],
   "source": [
    "# 25% квантиль\n",
    "df_days_exposition['days_exposition'].quantile(0.25)"
   ]
  },
  {
   "cell_type": "code",
   "execution_count": 73,
   "metadata": {
    "scrolled": false
   },
   "outputs": [
    {
     "data": {
      "text/plain": [
       "232.0"
      ]
     },
     "execution_count": 73,
     "metadata": {},
     "output_type": "execute_result"
    }
   ],
   "source": [
    "# 75% квантиль\n",
    "df_days_exposition['days_exposition'].quantile(0.75)"
   ]
  },
  {
   "cell_type": "markdown",
   "metadata": {},
   "source": [
    "***Вывод: В среднем продажа недвижимости занимает полгода. Быстрыми продажами можно считать сделки со сроком менее полутора месяцев (25% квантиль). Все сделки сроком более семи с половиной месяцев (75% квантиль) можно считать долгими.***\n"
   ]
  },
  {
   "cell_type": "markdown",
   "metadata": {},
   "source": [
    "#### Зависимость цены объекта `last_price` от следующих параметров: \n",
    "<ul>\n",
    "    <li>last_price\n",
    "    <li>total_area \n",
    "    <li>living_area \n",
    "    <li>kitchen_area \n",
    "    <li>rooms\n",
    "    <li>floor_type \n",
    "    <li>day_of_week \n",
    "    <li>month \n",
    "    <li>year\n",
    "</ul>    "
   ]
  },
  {
   "cell_type": "code",
   "execution_count": 74,
   "metadata": {
    "scrolled": true
   },
   "outputs": [
    {
     "data": {
      "text/html": [
       "<div>\n",
       "<style scoped>\n",
       "    .dataframe tbody tr th:only-of-type {\n",
       "        vertical-align: middle;\n",
       "    }\n",
       "\n",
       "    .dataframe tbody tr th {\n",
       "        vertical-align: top;\n",
       "    }\n",
       "\n",
       "    .dataframe thead th {\n",
       "        text-align: right;\n",
       "    }\n",
       "</style>\n",
       "<table border=\"1\" class=\"dataframe\">\n",
       "  <thead>\n",
       "    <tr style=\"text-align: right;\">\n",
       "      <th></th>\n",
       "      <th>last_price</th>\n",
       "    </tr>\n",
       "  </thead>\n",
       "  <tbody>\n",
       "    <tr>\n",
       "      <th>last_price</th>\n",
       "      <td>1.000000</td>\n",
       "    </tr>\n",
       "    <tr>\n",
       "      <th>total_area</th>\n",
       "      <td>0.653675</td>\n",
       "    </tr>\n",
       "    <tr>\n",
       "      <th>living_area</th>\n",
       "      <td>0.566492</td>\n",
       "    </tr>\n",
       "    <tr>\n",
       "      <th>kitchen_area</th>\n",
       "      <td>0.519869</td>\n",
       "    </tr>\n",
       "    <tr>\n",
       "      <th>rooms</th>\n",
       "      <td>0.363343</td>\n",
       "    </tr>\n",
       "    <tr>\n",
       "      <th>day_of_week</th>\n",
       "      <td>0.001550</td>\n",
       "    </tr>\n",
       "    <tr>\n",
       "      <th>month</th>\n",
       "      <td>0.002779</td>\n",
       "    </tr>\n",
       "    <tr>\n",
       "      <th>year</th>\n",
       "      <td>-0.043089</td>\n",
       "    </tr>\n",
       "  </tbody>\n",
       "</table>\n",
       "</div>"
      ],
      "text/plain": [
       "              last_price\n",
       "last_price      1.000000\n",
       "total_area      0.653675\n",
       "living_area     0.566492\n",
       "kitchen_area    0.519869\n",
       "rooms           0.363343\n",
       "day_of_week     0.001550\n",
       "month           0.002779\n",
       "year           -0.043089"
      ]
     },
     "execution_count": 74,
     "metadata": {},
     "output_type": "execute_result"
    }
   ],
   "source": [
    "# расчет коэффициентов корреляции \n",
    "df[['last_price', 'total_area', 'living_area', 'kitchen_area', \n",
    "    'rooms', 'floor_type', 'day_of_week', 'month', 'year']].corr()['last_price'].to_frame()"
   ]
  },
  {
   "cell_type": "code",
   "execution_count": 75,
   "metadata": {},
   "outputs": [
    {
     "data": {
      "image/png": "[encoded data removed]",
      "text/plain": [
       "<Figure size 792x792 with 64 Axes>"
      ]
     },
     "metadata": {
      "needs_background": "light"
     },
     "output_type": "display_data"
    }
   ],
   "source": [
    "# Построим матрицу рассеяния для отдельных столбцов\n",
    "pd.plotting.scatter_matrix(\n",
    "                df[['last_price', 'total_area', 'living_area', \n",
    "                    'kitchen_area', 'rooms', 'floor_type',\n",
    "                    'day_of_week', 'month', 'year']], \n",
    "                    figsize=(11, 11)\n",
    ");"
   ]
  },
  {
   "cell_type": "markdown",
   "metadata": {},
   "source": [
    "***Вывод: При оценке можно говорить о наибольшей взаимосвязи (коэфф. корр. средний 0.65) цены `last_price` от общей площади объекта недвижимости `total_area`. Также можно говорить о средней корреляции жилой пллощади `living_area` (0.57) и площади кухни `kitchen_area` (0.52), а также о слабой корреляции с количеством комнат `rooms` (0.36).***"
   ]
  },
  {
   "cell_type": "markdown",
   "metadata": {},
   "source": [
    "#### Расчет средней цены одного квадратного метра в 10 населённых пунктах с наибольшим числом объявлений"
   ]
  },
  {
   "cell_type": "code",
   "execution_count": 76,
   "metadata": {},
   "outputs": [
    {
     "data": {
      "text/plain": [
       "['Санкт-Петербург',\n",
       " 'поселок Мурино',\n",
       " 'поселок Шушары',\n",
       " 'Всеволожск',\n",
       " 'Пушкин',\n",
       " 'Колпино',\n",
       " 'поселок Парголово',\n",
       " 'Гатчина',\n",
       " 'деревня Кудрово',\n",
       " 'Выборг']"
      ]
     },
     "execution_count": 76,
     "metadata": {},
     "output_type": "execute_result"
    }
   ],
   "source": [
    "# топ-10 населенных пунктов по количеству предложений\n",
    "top10_proposal = df.value_counts('locality_name')[:10].to_frame().index.to_list()\n",
    "top10_proposal"
   ]
  },
  {
   "cell_type": "code",
   "execution_count": 77,
   "metadata": {},
   "outputs": [],
   "source": [
    "# фильтруем датафрейм\n",
    "df_top10 = df.query('locality_name in @top10_proposal')"
   ]
  },
  {
   "cell_type": "code",
   "execution_count": 78,
   "metadata": {
    "scrolled": true
   },
   "outputs": [
    {
     "data": {
      "text/html": [
       "<div>\n",
       "<style scoped>\n",
       "    .dataframe tbody tr th:only-of-type {\n",
       "        vertical-align: middle;\n",
       "    }\n",
       "\n",
       "    .dataframe tbody tr th {\n",
       "        vertical-align: top;\n",
       "    }\n",
       "\n",
       "    .dataframe thead th {\n",
       "        text-align: right;\n",
       "    }\n",
       "</style>\n",
       "<table border=\"1\" class=\"dataframe\">\n",
       "  <thead>\n",
       "    <tr style=\"text-align: right;\">\n",
       "      <th></th>\n",
       "      <th>locality_name</th>\n",
       "      <th>median_price</th>\n",
       "    </tr>\n",
       "  </thead>\n",
       "  <tbody>\n",
       "    <tr>\n",
       "      <th>5</th>\n",
       "      <td>Санкт-Петербург</td>\n",
       "      <td>104761.0</td>\n",
       "    </tr>\n",
       "    <tr>\n",
       "      <th>4</th>\n",
       "      <td>Пушкин</td>\n",
       "      <td>100000.0</td>\n",
       "    </tr>\n",
       "    <tr>\n",
       "      <th>6</th>\n",
       "      <td>деревня Кудрово</td>\n",
       "      <td>91860.0</td>\n",
       "    </tr>\n",
       "    <tr>\n",
       "      <th>8</th>\n",
       "      <td>поселок Парголово</td>\n",
       "      <td>91642.0</td>\n",
       "    </tr>\n",
       "    <tr>\n",
       "      <th>7</th>\n",
       "      <td>поселок Мурино</td>\n",
       "      <td>85878.0</td>\n",
       "    </tr>\n",
       "    <tr>\n",
       "      <th>9</th>\n",
       "      <td>поселок Шушары</td>\n",
       "      <td>76876.0</td>\n",
       "    </tr>\n",
       "    <tr>\n",
       "      <th>3</th>\n",
       "      <td>Колпино</td>\n",
       "      <td>74724.0</td>\n",
       "    </tr>\n",
       "    <tr>\n",
       "      <th>2</th>\n",
       "      <td>Гатчина</td>\n",
       "      <td>67796.0</td>\n",
       "    </tr>\n",
       "    <tr>\n",
       "      <th>0</th>\n",
       "      <td>Всеволожск</td>\n",
       "      <td>65789.0</td>\n",
       "    </tr>\n",
       "    <tr>\n",
       "      <th>1</th>\n",
       "      <td>Выборг</td>\n",
       "      <td>58158.0</td>\n",
       "    </tr>\n",
       "  </tbody>\n",
       "</table>\n",
       "</div>"
      ],
      "text/plain": [
       "       locality_name  median_price\n",
       "5    Санкт-Петербург      104761.0\n",
       "4             Пушкин      100000.0\n",
       "6    деревня Кудрово       91860.0\n",
       "8  поселок Парголово       91642.0\n",
       "7     поселок Мурино       85878.0\n",
       "9     поселок Шушары       76876.0\n",
       "3            Колпино       74724.0\n",
       "2            Гатчина       67796.0\n",
       "0         Всеволожск       65789.0\n",
       "1             Выборг       58158.0"
      ]
     },
     "execution_count": 78,
     "metadata": {},
     "output_type": "execute_result"
    }
   ],
   "source": [
    "# меданная цена квадратного метра\n",
    "df_top10.groupby('locality_name') \\\n",
    "        .agg({'price_per_sq_metr': 'median'}) \\\n",
    "        .reset_index() \\\n",
    "        .rename(columns={'price_per_sq_metr': 'median_price'}) \\\n",
    "        .sort_values('median_price', ascending=False).round()"
   ]
  },
  {
   "cell_type": "markdown",
   "metadata": {},
   "source": [
    "***Вывод: Медианная цена квадратного метра в Санкт-Петербурге является самой высокой среди населенных пунктов с наибольшим количеством предложений и составляет приблизительно 105 тыс. руб. Наименьшая средняя цена наблюдается в г. Выборге, 58 тыс. руб.***"
   ]
  },
  {
   "cell_type": "markdown",
   "metadata": {},
   "source": [
    "#### Взаимосвязь стоимости объектов от расстояния до центра города"
   ]
  },
  {
   "cell_type": "code",
   "execution_count": 79,
   "metadata": {},
   "outputs": [],
   "source": [
    "# фильтрует датафрейм по населенному пункту (СПб) и избавляемся от пропусков\n",
    "df_spb = df.query('locality_name == \"Санкт-Петербург\" & cityCenters_nearest != 0 & last_price != @min_price') \\\n",
    "           .dropna(subset=['cityCenters_nearest'])"
   ]
  },
  {
   "cell_type": "code",
   "execution_count": 80,
   "metadata": {},
   "outputs": [],
   "source": [
    "# добавляем столбец со стоимостью одного километра\n",
    "df_spb['price_per_km'] = df_spb['last_price'] / df_spb['cityCenters_nearest']"
   ]
  },
  {
   "cell_type": "code",
   "execution_count": 81,
   "metadata": {
    "scrolled": true
   },
   "outputs": [
    {
     "data": {
      "image/png": "[encoded data removed]",
      "text/plain": [
       "<Figure size 720x288 with 1 Axes>"
      ]
     },
     "metadata": {
      "needs_background": "light"
     },
     "output_type": "display_data"
    }
   ],
   "source": [
    "# средняя цена километра до центра города\n",
    "df_spb.groupby('cityCenters_nearest') \\\n",
    "      .agg({'price_per_km': 'mean'}).reset_index() \\\n",
    "      .plot.bar(x='cityCenters_nearest', rot=45, grid=True, title='distance to the center', figsize=(10, 4));"
   ]
  },
  {
   "cell_type": "code",
   "execution_count": 82,
   "metadata": {},
   "outputs": [
    {
     "data": {
      "text/plain": [
       "0.758"
      ]
     },
     "execution_count": 82,
     "metadata": {},
     "output_type": "execute_result"
    }
   ],
   "source": [
    "# корреляция цены с расстоянием до центра\n",
    "df_spb['last_price'].corr(df_spb['price_per_km']).round(3)"
   ]
  },
  {
   "cell_type": "code",
   "execution_count": 83,
   "metadata": {},
   "outputs": [
    {
     "data": {
      "text/html": [
       "<div>\n",
       "<style scoped>\n",
       "    .dataframe tbody tr th:only-of-type {\n",
       "        vertical-align: middle;\n",
       "    }\n",
       "\n",
       "    .dataframe tbody tr th {\n",
       "        vertical-align: top;\n",
       "    }\n",
       "\n",
       "    .dataframe thead th {\n",
       "        text-align: right;\n",
       "    }\n",
       "</style>\n",
       "<table border=\"1\" class=\"dataframe\">\n",
       "  <thead>\n",
       "    <tr style=\"text-align: right;\">\n",
       "      <th>cityCenters_nearest</th>\n",
       "      <th>1.0</th>\n",
       "      <th>2.0</th>\n",
       "      <th>3.0</th>\n",
       "      <th>4.0</th>\n",
       "      <th>5.0</th>\n",
       "      <th>6.0</th>\n",
       "      <th>7.0</th>\n",
       "      <th>8.0</th>\n",
       "      <th>9.0</th>\n",
       "      <th>10.0</th>\n",
       "      <th>...</th>\n",
       "      <th>20.0</th>\n",
       "      <th>21.0</th>\n",
       "      <th>22.0</th>\n",
       "      <th>23.0</th>\n",
       "      <th>24.0</th>\n",
       "      <th>25.0</th>\n",
       "      <th>26.0</th>\n",
       "      <th>27.0</th>\n",
       "      <th>28.0</th>\n",
       "      <th>29.0</th>\n",
       "    </tr>\n",
       "  </thead>\n",
       "  <tbody>\n",
       "    <tr>\n",
       "      <th>price_per_km</th>\n",
       "      <td>21.206721</td>\n",
       "      <td>8.89416</td>\n",
       "      <td>3.70886</td>\n",
       "      <td>3.32607</td>\n",
       "      <td>2.899824</td>\n",
       "      <td>2.556403</td>\n",
       "      <td>2.110736</td>\n",
       "      <td>1.244715</td>\n",
       "      <td>0.773598</td>\n",
       "      <td>0.650412</td>\n",
       "      <td>...</td>\n",
       "      <td>0.297573</td>\n",
       "      <td>0.261594</td>\n",
       "      <td>0.24616</td>\n",
       "      <td>0.216755</td>\n",
       "      <td>0.160601</td>\n",
       "      <td>0.162114</td>\n",
       "      <td>0.152808</td>\n",
       "      <td>0.307407</td>\n",
       "      <td>0.179515</td>\n",
       "      <td>0.146092</td>\n",
       "    </tr>\n",
       "  </tbody>\n",
       "</table>\n",
       "<p>1 rows × 29 columns</p>\n",
       "</div>"
      ],
      "text/plain": [
       "cityCenters_nearest       1.0      2.0      3.0      4.0       5.0       6.0   \\\n",
       "price_per_km         21.206721  8.89416  3.70886  3.32607  2.899824  2.556403   \n",
       "\n",
       "cityCenters_nearest      7.0       8.0       9.0       10.0  ...      20.0  \\\n",
       "price_per_km         2.110736  1.244715  0.773598  0.650412  ...  0.297573   \n",
       "\n",
       "cityCenters_nearest      21.0     22.0      23.0      24.0      25.0  \\\n",
       "price_per_km         0.261594  0.24616  0.216755  0.160601  0.162114   \n",
       "\n",
       "cityCenters_nearest      26.0      27.0      28.0      29.0  \n",
       "price_per_km         0.152808  0.307407  0.179515  0.146092  \n",
       "\n",
       "[1 rows x 29 columns]"
      ]
     },
     "execution_count": 83,
     "metadata": {},
     "output_type": "execute_result"
    }
   ],
   "source": [
    "# сводная таблица по средней стоимости 1 км (млн. руб.) \n",
    "df_spb.groupby('cityCenters_nearest') \\\n",
    "      .agg({'price_per_km': 'mean'}).mul(0.1 ** 6) \\\n",
    "      .pivot_table(columns='cityCenters_nearest')"
   ]
  },
  {
   "cell_type": "markdown",
   "metadata": {},
   "source": [
    "<div class=\"alert alert-block alert-success\">✔️\n",
    "    \n",
    "\n",
    "__Комментарий от ревьюера №2__\n",
    "\n",
    "Да, всё верно =)\n",
    "</div>"
   ]
  },
  {
   "cell_type": "markdown",
   "metadata": {},
   "source": [
    "***Вывод: Существует взаимосвязь между стоимостью объекта недвижимости и расстоянием до центра города. Об этом свидетельствует высокая корреляция (0.76). Самыми дорогими являются объекты в пределах одного километра от центра.***"
   ]
  },
  {
   "cell_type": "markdown",
   "metadata": {},
   "source": [
    "### Общий вывод"
   ]
  },
  {
   "cell_type": "markdown",
   "metadata": {},
   "source": [
    "***Вывод: Данные представлены предложением объектов недвижимости находящихся преимущественно в Санкт-Петербурге - 66% всех публикаций, опубликованные в период с 2014 по 2019 год включительно. Это преимущественно квартиры с одной или двумя комнатами, общей площадью 45 кв. м. Чаще всего это объекты расположенные на 2-ом этаже в 5-ти или 9-тиэтажных домах. Средняя цена в Санкт-Петербурге составляет 115 тыс. руб. за квадратный метр и наиболее коррелирует с общей площадью (0.65) и расстоянием до центра города (0.76).***\n"
   ]
  },
  {
   "cell_type": "markdown",
   "metadata": {},
   "source": [
    "<ol><b>Вывод:</b> \n",
    "    <li>Был исследован архив объявлений о продаже квартир в Санкт-Петербурге и соседних населённых пунктов за несколько лет (2014 -2019).</li>\n",
    "    <li>Проведена предобработка данных в ходе которой были устранены неявные дубликаты, установлены и устранены аномалии в данных, что существенно повысило точность расчетов.</li> \n",
    "    <li>Были добавлены дополнительные параметры такие как: цена за м2 (`price_per_sq_metr`), день (`day_of_week`), месяц (`month`) и год (`year`) публикации.</li>\n",
    "    <li>Математически определены сроки сделок: средней продолжительности, \"быстрых\" и необычно долгих.</li>\n",
    "    <li>Найдены факторы наибольшего влияния на цену недвижимости: общая площадь и расстояние до центра.</li>\n",
    "    <li>Для населенных пунктов с наибольшим числом объявлений (топ-10) дополнительно расчитана средняя стоимость м2.</li>\n",
    "</ol>   "
   ]
  },
  {
   "cell_type": "code",
   "execution_count": 84,
   "metadata": {},
   "outputs": [
    {
     "data": {
      "text/html": [
       "<style  type=\"text/css\" >\n",
       "    #T_ef3dc_ th.row_heading {\n",
       "          text-align: left;\n",
       "    }</style><table id=\"T_ef3dc_\" ><thead>    <tr>        <th class=\"blank level0\" ></th>        <th class=\"col_heading level0 col0\" ></th>    </tr></thead><tbody>\n",
       "                <tr>\n",
       "                        <th id=\"T_ef3dc_level0_row0\" class=\"row_heading level0 row0\" >Общая информация</th>\n",
       "                        <td id=\"T_ef3dc_row0_col0\" class=\"data row0 col0\" ></td>\n",
       "            </tr>\n",
       "            <tr>\n",
       "                        <th id=\"T_ef3dc_level0_row1\" class=\"row_heading level0 row1\" >Предложения в СПб, %</th>\n",
       "                        <td id=\"T_ef3dc_row1_col0\" class=\"data row1 col0\" >45</td>\n",
       "            </tr>\n",
       "            <tr>\n",
       "                        <th id=\"T_ef3dc_level0_row2\" class=\"row_heading level0 row2\" >Средняя цена за м2, тыс. руб.</th>\n",
       "                        <td id=\"T_ef3dc_row2_col0\" class=\"data row2 col0\" >115</td>\n",
       "            </tr>\n",
       "            <tr>\n",
       "                        <th id=\"T_ef3dc_level0_row3\" class=\"row_heading level0 row3\" >Сроки сделки</th>\n",
       "                        <td id=\"T_ef3dc_row3_col0\" class=\"data row3 col0\" ></td>\n",
       "            </tr>\n",
       "            <tr>\n",
       "                        <th id=\"T_ef3dc_level0_row4\" class=\"row_heading level0 row4\" >Быстрая, дней</th>\n",
       "                        <td id=\"T_ef3dc_row4_col0\" class=\"data row4 col0\" >меньше 45</td>\n",
       "            </tr>\n",
       "            <tr>\n",
       "                        <th id=\"T_ef3dc_level0_row5\" class=\"row_heading level0 row5\" >Средняя, дней</th>\n",
       "                        <td id=\"T_ef3dc_row5_col0\" class=\"data row5 col0\" >180</td>\n",
       "            </tr>\n",
       "            <tr>\n",
       "                        <th id=\"T_ef3dc_level0_row6\" class=\"row_heading level0 row6\" >Долгая, дней</th>\n",
       "                        <td id=\"T_ef3dc_row6_col0\" class=\"data row6 col0\" >больше 230</td>\n",
       "            </tr>\n",
       "            <tr>\n",
       "                        <th id=\"T_ef3dc_level0_row7\" class=\"row_heading level0 row7\" >Взаимосвязь (корреляция)</th>\n",
       "                        <td id=\"T_ef3dc_row7_col0\" class=\"data row7 col0\" ></td>\n",
       "            </tr>\n",
       "            <tr>\n",
       "                        <th id=\"T_ef3dc_level0_row8\" class=\"row_heading level0 row8\" >Расстояние до центра города</th>\n",
       "                        <td id=\"T_ef3dc_row8_col0\" class=\"data row8 col0\" >0.76</td>\n",
       "            </tr>\n",
       "            <tr>\n",
       "                        <th id=\"T_ef3dc_level0_row9\" class=\"row_heading level0 row9\" >Общая площадь</th>\n",
       "                        <td id=\"T_ef3dc_row9_col0\" class=\"data row9 col0\" >0.65</td>\n",
       "            </tr>\n",
       "            <tr>\n",
       "                        <th id=\"T_ef3dc_level0_row10\" class=\"row_heading level0 row10\" >Жилая площадь</th>\n",
       "                        <td id=\"T_ef3dc_row10_col0\" class=\"data row10 col0\" >0.57</td>\n",
       "            </tr>\n",
       "            <tr>\n",
       "                        <th id=\"T_ef3dc_level0_row11\" class=\"row_heading level0 row11\" >Площадь кухни</th>\n",
       "                        <td id=\"T_ef3dc_row11_col0\" class=\"data row11 col0\" >0.52</td>\n",
       "            </tr>\n",
       "    </tbody></table>"
      ],
      "text/plain": [
       "<pandas.io.formats.style.Styler at 0x7f32fd0ea490>"
      ]
     },
     "execution_count": 84,
     "metadata": {},
     "output_type": "execute_result"
    }
   ],
   "source": [
    "# Сводная таблица результатов исследования\n",
    "d = ['', 45, 115,\n",
    "     '', 'меньше 45', '180', 'больше 230',\n",
    "     '', '0.76', '0.65', '0.57', '0.52'\n",
    "]\n",
    "\n",
    "idx = ['Общая информация', 'Предложения в СПб, %', 'Средняя цена за м2, тыс. руб.',\n",
    "     'Сроки сделки', 'Быстрая, дней', 'Средняя, дней', 'Долгая, дней',\n",
    "     'Взаимосвязь (корреляция)', 'Расстояние до центра города', 'Общая площадь', 'Жилая площадь', 'Площадь кухни'   \n",
    "]\n",
    "\n",
    "table = pd.DataFrame(data=d, index=idx, columns=[''])\n",
    "\n",
    "format_table = table.style.set_table_styles([{\"selector\":\"th.row_heading\", \"props\": [('text-align', 'left')]},])\n",
    "format_table"
   ]
  }
 ],
 "metadata": {
  "ExecuteTimeLog": [
   {
    "duration": 753,
    "start_time": "2022-07-25T17:14:12.956Z"
   },
   {
    "duration": 19,
    "start_time": "2022-07-25T17:14:27.163Z"
   },
   {
    "duration": 80,
    "start_time": "2022-07-25T17:14:43.280Z"
   },
   {
    "duration": 98,
    "start_time": "2022-07-25T17:14:54.388Z"
   },
   {
    "duration": 7,
    "start_time": "2022-07-25T17:14:55.756Z"
   },
   {
    "duration": 8,
    "start_time": "2022-07-25T17:15:14.959Z"
   },
   {
    "duration": 111,
    "start_time": "2022-07-25T17:15:56.787Z"
   },
   {
    "duration": 33,
    "start_time": "2022-07-25T17:15:57.956Z"
   },
   {
    "duration": 26,
    "start_time": "2022-07-25T17:16:07.957Z"
   },
   {
    "duration": 27,
    "start_time": "2022-07-25T17:17:39.043Z"
   },
   {
    "duration": 15,
    "start_time": "2022-07-25T17:17:48.185Z"
   },
   {
    "duration": 2462,
    "start_time": "2022-07-25T17:18:51.739Z"
   },
   {
    "duration": 31,
    "start_time": "2022-07-25T17:21:44.037Z"
   },
   {
    "duration": 10,
    "start_time": "2022-07-25T17:25:34.748Z"
   },
   {
    "duration": 24,
    "start_time": "2022-07-25T17:28:53.545Z"
   },
   {
    "duration": 102,
    "start_time": "2022-07-25T17:29:16.244Z"
   },
   {
    "duration": 10,
    "start_time": "2022-07-25T17:32:42.945Z"
   },
   {
    "duration": 5,
    "start_time": "2022-07-25T17:40:02.260Z"
   },
   {
    "duration": 6,
    "start_time": "2022-07-25T17:41:34.976Z"
   },
   {
    "duration": 3,
    "start_time": "2022-07-25T17:42:53.544Z"
   },
   {
    "duration": 8,
    "start_time": "2022-07-25T17:43:09.100Z"
   },
   {
    "duration": 8,
    "start_time": "2022-07-25T17:43:26.213Z"
   },
   {
    "duration": 5,
    "start_time": "2022-07-25T17:45:01.441Z"
   },
   {
    "duration": 16,
    "start_time": "2022-07-25T17:45:57.137Z"
   },
   {
    "duration": 5,
    "start_time": "2022-07-25T17:46:48.094Z"
   },
   {
    "duration": 52,
    "start_time": "2022-07-25T17:47:52.045Z"
   },
   {
    "duration": 52,
    "start_time": "2022-07-25T17:51:36.821Z"
   },
   {
    "duration": 45,
    "start_time": "2022-07-25T17:52:26.850Z"
   },
   {
    "duration": 45,
    "start_time": "2022-07-26T08:07:08.956Z"
   },
   {
    "duration": 503,
    "start_time": "2022-07-26T08:07:15.274Z"
   },
   {
    "duration": 35,
    "start_time": "2022-07-26T08:07:21.476Z"
   },
   {
    "duration": 18,
    "start_time": "2022-07-26T08:07:28.509Z"
   },
   {
    "duration": 25,
    "start_time": "2022-07-26T08:08:14.266Z"
   },
   {
    "duration": 8,
    "start_time": "2022-07-26T08:08:29.107Z"
   },
   {
    "duration": 8,
    "start_time": "2022-07-26T08:09:02.039Z"
   },
   {
    "duration": 7,
    "start_time": "2022-07-26T08:09:31.290Z"
   },
   {
    "duration": 9,
    "start_time": "2022-07-26T08:09:57.654Z"
   },
   {
    "duration": 5,
    "start_time": "2022-07-26T08:10:06.135Z"
   },
   {
    "duration": 7,
    "start_time": "2022-07-26T08:12:31.592Z"
   },
   {
    "duration": 119,
    "start_time": "2022-07-26T08:24:05.753Z"
   },
   {
    "duration": 1313,
    "start_time": "2022-07-26T08:24:11.322Z"
   },
   {
    "duration": 11,
    "start_time": "2022-07-26T08:25:57.152Z"
   },
   {
    "duration": 4,
    "start_time": "2022-07-26T08:26:14.978Z"
   },
   {
    "duration": 9,
    "start_time": "2022-07-26T08:26:20.322Z"
   },
   {
    "duration": 4,
    "start_time": "2022-07-26T08:29:14.926Z"
   },
   {
    "duration": 9,
    "start_time": "2022-07-26T08:29:20.790Z"
   },
   {
    "duration": 38,
    "start_time": "2022-07-26T08:51:44.724Z"
   },
   {
    "duration": 14,
    "start_time": "2022-07-26T08:51:44.842Z"
   },
   {
    "duration": 4,
    "start_time": "2022-07-26T08:54:34.322Z"
   },
   {
    "duration": 80,
    "start_time": "2022-07-26T09:08:49.369Z"
   },
   {
    "duration": 1591,
    "start_time": "2022-07-26T09:09:37.399Z"
   },
   {
    "duration": 93,
    "start_time": "2022-07-26T09:11:08.162Z"
   },
   {
    "duration": 87,
    "start_time": "2022-07-26T09:11:31.524Z"
   },
   {
    "duration": 141,
    "start_time": "2022-07-26T09:12:23.986Z"
   },
   {
    "duration": 668,
    "start_time": "2022-07-26T09:12:28.411Z"
   },
   {
    "duration": 1777,
    "start_time": "2022-07-26T09:12:38.707Z"
   },
   {
    "duration": 15,
    "start_time": "2022-07-26T09:12:59.863Z"
   },
   {
    "duration": 35,
    "start_time": "2022-07-26T09:14:00.382Z"
   },
   {
    "duration": 7,
    "start_time": "2022-07-26T09:15:11.767Z"
   },
   {
    "duration": 43,
    "start_time": "2022-07-26T09:15:17.327Z"
   },
   {
    "duration": 7,
    "start_time": "2022-07-26T09:16:16.814Z"
   },
   {
    "duration": 8,
    "start_time": "2022-07-26T09:19:45.588Z"
   },
   {
    "duration": 9,
    "start_time": "2022-07-26T09:19:48.414Z"
   },
   {
    "duration": 13,
    "start_time": "2022-07-26T09:23:01.448Z"
   },
   {
    "duration": 12,
    "start_time": "2022-07-26T09:25:44.272Z"
   },
   {
    "duration": 9,
    "start_time": "2022-07-26T09:26:23.326Z"
   },
   {
    "duration": 4,
    "start_time": "2022-07-26T09:30:54.910Z"
   },
   {
    "duration": 4,
    "start_time": "2022-07-26T09:31:53.204Z"
   },
   {
    "duration": 6,
    "start_time": "2022-07-26T09:32:03.790Z"
   },
   {
    "duration": 112,
    "start_time": "2022-07-26T09:32:35.601Z"
   },
   {
    "duration": 9,
    "start_time": "2022-07-26T09:32:41.490Z"
   },
   {
    "duration": 7,
    "start_time": "2022-07-26T09:32:53.452Z"
   },
   {
    "duration": 9,
    "start_time": "2022-07-26T09:32:55.131Z"
   },
   {
    "duration": 4,
    "start_time": "2022-07-26T09:32:56.756Z"
   },
   {
    "duration": 6,
    "start_time": "2022-07-26T09:32:58.099Z"
   },
   {
    "duration": 9,
    "start_time": "2022-07-26T09:33:12.094Z"
   },
   {
    "duration": 20,
    "start_time": "2022-07-26T09:33:29.912Z"
   },
   {
    "duration": 11,
    "start_time": "2022-07-26T09:33:59.857Z"
   },
   {
    "duration": 6,
    "start_time": "2022-07-26T09:34:07.957Z"
   },
   {
    "duration": 4,
    "start_time": "2022-07-26T09:34:14.355Z"
   },
   {
    "duration": 2,
    "start_time": "2022-07-26T09:34:34.359Z"
   },
   {
    "duration": 25,
    "start_time": "2022-07-26T09:34:56.194Z"
   },
   {
    "duration": 11,
    "start_time": "2022-07-26T09:35:03.612Z"
   },
   {
    "duration": 13,
    "start_time": "2022-07-26T09:37:53.712Z"
   },
   {
    "duration": 109,
    "start_time": "2022-07-26T09:38:31.689Z"
   },
   {
    "duration": 15,
    "start_time": "2022-07-26T09:38:36.565Z"
   },
   {
    "duration": 75,
    "start_time": "2022-07-26T09:41:36.922Z"
   },
   {
    "duration": 708,
    "start_time": "2022-07-26T09:48:51.855Z"
   },
   {
    "duration": 753,
    "start_time": "2022-07-26T09:50:04.783Z"
   },
   {
    "duration": 1109,
    "start_time": "2022-07-26T09:53:54.065Z"
   },
   {
    "duration": 9,
    "start_time": "2022-07-26T09:54:45.207Z"
   },
   {
    "duration": 7,
    "start_time": "2022-07-26T09:54:59.616Z"
   },
   {
    "duration": 62,
    "start_time": "2022-07-26T09:55:02.496Z"
   },
   {
    "duration": 10,
    "start_time": "2022-07-26T09:55:23.675Z"
   },
   {
    "duration": 62,
    "start_time": "2022-07-26T09:55:26.102Z"
   },
   {
    "duration": 18,
    "start_time": "2022-07-26T10:04:52.054Z"
   },
   {
    "duration": 19,
    "start_time": "2022-07-26T10:06:07.520Z"
   },
   {
    "duration": 9,
    "start_time": "2022-07-26T10:13:14.551Z"
   },
   {
    "duration": 7,
    "start_time": "2022-07-26T10:15:57.956Z"
   },
   {
    "duration": 5,
    "start_time": "2022-07-26T10:16:05.773Z"
   },
   {
    "duration": 5,
    "start_time": "2022-07-26T10:16:14.390Z"
   },
   {
    "duration": 5,
    "start_time": "2022-07-26T10:16:19.391Z"
   },
   {
    "duration": 6,
    "start_time": "2022-07-26T10:16:33.545Z"
   },
   {
    "duration": 6,
    "start_time": "2022-07-26T10:16:46.009Z"
   },
   {
    "duration": 5,
    "start_time": "2022-07-26T10:16:52.981Z"
   },
   {
    "duration": 6,
    "start_time": "2022-07-26T10:16:58.491Z"
   },
   {
    "duration": 6,
    "start_time": "2022-07-26T10:17:12.702Z"
   },
   {
    "duration": 4,
    "start_time": "2022-07-26T11:00:43.257Z"
   },
   {
    "duration": 13,
    "start_time": "2022-07-26T11:02:27.374Z"
   },
   {
    "duration": 7,
    "start_time": "2022-07-26T11:03:39.688Z"
   },
   {
    "duration": 14,
    "start_time": "2022-07-26T11:04:29.446Z"
   },
   {
    "duration": 40,
    "start_time": "2022-07-26T11:05:01.678Z"
   },
   {
    "duration": 12,
    "start_time": "2022-07-26T11:20:14.969Z"
   },
   {
    "duration": 82,
    "start_time": "2022-07-26T11:29:07.542Z"
   },
   {
    "duration": 33,
    "start_time": "2022-07-26T11:29:09.411Z"
   },
   {
    "duration": 16,
    "start_time": "2022-07-26T11:29:14.212Z"
   },
   {
    "duration": 12,
    "start_time": "2022-07-26T11:29:18.443Z"
   },
   {
    "duration": 2461,
    "start_time": "2022-07-26T11:29:29.749Z"
   },
   {
    "duration": 9,
    "start_time": "2022-07-26T11:29:44.042Z"
   },
   {
    "duration": 20,
    "start_time": "2022-07-26T11:29:50.286Z"
   },
   {
    "duration": 13,
    "start_time": "2022-07-26T11:29:57.264Z"
   },
   {
    "duration": 4,
    "start_time": "2022-07-26T11:30:04.642Z"
   },
   {
    "duration": 4,
    "start_time": "2022-07-26T11:35:46.225Z"
   },
   {
    "duration": 6,
    "start_time": "2022-07-26T11:36:23.301Z"
   },
   {
    "duration": 4,
    "start_time": "2022-07-26T11:36:51.920Z"
   },
   {
    "duration": 6,
    "start_time": "2022-07-26T11:36:53.400Z"
   },
   {
    "duration": 6,
    "start_time": "2022-07-26T11:37:32.230Z"
   },
   {
    "duration": 5,
    "start_time": "2022-07-26T11:37:34.582Z"
   },
   {
    "duration": 7,
    "start_time": "2022-07-26T11:40:34.683Z"
   },
   {
    "duration": 6,
    "start_time": "2022-07-26T11:40:37.003Z"
   },
   {
    "duration": 4,
    "start_time": "2022-07-26T11:46:10.705Z"
   },
   {
    "duration": 7,
    "start_time": "2022-07-26T11:46:12.715Z"
   },
   {
    "duration": 5,
    "start_time": "2022-07-26T11:46:27.892Z"
   },
   {
    "duration": 5,
    "start_time": "2022-07-26T11:46:31.804Z"
   },
   {
    "duration": 79,
    "start_time": "2022-07-26T11:46:51.327Z"
   },
   {
    "duration": 5,
    "start_time": "2022-07-26T11:46:57.201Z"
   },
   {
    "duration": 90,
    "start_time": "2022-07-26T11:52:09.892Z"
   },
   {
    "duration": 4,
    "start_time": "2022-07-26T11:52:14.516Z"
   },
   {
    "duration": 5,
    "start_time": "2022-07-26T11:52:16.068Z"
   },
   {
    "duration": 5,
    "start_time": "2022-07-26T12:09:17.116Z"
   },
   {
    "duration": 8,
    "start_time": "2022-07-26T12:10:14.723Z"
   },
   {
    "duration": 6,
    "start_time": "2022-07-26T12:10:19.010Z"
   },
   {
    "duration": 4,
    "start_time": "2022-07-26T12:23:42.798Z"
   },
   {
    "duration": 7,
    "start_time": "2022-07-26T12:23:44.240Z"
   },
   {
    "duration": 4,
    "start_time": "2022-07-26T12:26:24.578Z"
   },
   {
    "duration": 5,
    "start_time": "2022-07-26T12:26:26.426Z"
   },
   {
    "duration": 16,
    "start_time": "2022-07-26T12:28:52.659Z"
   },
   {
    "duration": 317,
    "start_time": "2022-07-26T12:34:02.421Z"
   },
   {
    "duration": 3,
    "start_time": "2022-07-26T12:35:33.889Z"
   },
   {
    "duration": 3,
    "start_time": "2022-07-26T12:35:44.914Z"
   },
   {
    "duration": 7,
    "start_time": "2022-07-26T12:36:12.894Z"
   },
   {
    "duration": 5,
    "start_time": "2022-07-26T12:36:18.797Z"
   },
   {
    "duration": 4,
    "start_time": "2022-07-26T12:43:21.629Z"
   },
   {
    "duration": 28,
    "start_time": "2022-07-26T12:43:34.553Z"
   },
   {
    "duration": 5,
    "start_time": "2022-07-26T12:43:40.225Z"
   },
   {
    "duration": 6,
    "start_time": "2022-07-26T12:45:54.009Z"
   },
   {
    "duration": 8,
    "start_time": "2022-07-26T12:46:03.394Z"
   },
   {
    "duration": 8,
    "start_time": "2022-07-26T12:46:11.227Z"
   },
   {
    "duration": 7,
    "start_time": "2022-07-26T12:46:28.389Z"
   },
   {
    "duration": 6,
    "start_time": "2022-07-26T12:47:30.972Z"
   },
   {
    "duration": 59,
    "start_time": "2022-07-26T12:48:07.129Z"
   },
   {
    "duration": 11,
    "start_time": "2022-07-26T12:48:20.914Z"
   },
   {
    "duration": 57,
    "start_time": "2022-07-26T12:48:45.405Z"
   },
   {
    "duration": 81,
    "start_time": "2022-07-26T12:50:33.579Z"
   },
   {
    "duration": 107,
    "start_time": "2022-07-26T12:51:01.639Z"
   },
   {
    "duration": 4,
    "start_time": "2022-07-26T12:52:23.029Z"
   },
   {
    "duration": 4,
    "start_time": "2022-07-26T12:54:01.985Z"
   },
   {
    "duration": 8,
    "start_time": "2022-07-26T12:54:17.291Z"
   },
   {
    "duration": 9,
    "start_time": "2022-07-26T12:54:53.639Z"
   },
   {
    "duration": 8,
    "start_time": "2022-07-26T12:55:00.047Z"
   },
   {
    "duration": 11,
    "start_time": "2022-07-26T12:55:11.761Z"
   },
   {
    "duration": 8,
    "start_time": "2022-07-26T12:55:18.850Z"
   },
   {
    "duration": 6,
    "start_time": "2022-07-26T12:57:27.865Z"
   },
   {
    "duration": 7,
    "start_time": "2022-07-26T12:57:49.155Z"
   },
   {
    "duration": 8,
    "start_time": "2022-07-26T12:58:31.408Z"
   },
   {
    "duration": 6,
    "start_time": "2022-07-26T12:58:46.049Z"
   },
   {
    "duration": 6,
    "start_time": "2022-07-26T12:58:47.545Z"
   },
   {
    "duration": 3,
    "start_time": "2022-07-26T13:06:04.780Z"
   },
   {
    "duration": 7,
    "start_time": "2022-07-26T13:06:40.322Z"
   },
   {
    "duration": 6,
    "start_time": "2022-07-26T13:07:00.706Z"
   },
   {
    "duration": 75,
    "start_time": "2022-07-26T13:09:49.766Z"
   },
   {
    "duration": 3,
    "start_time": "2022-07-26T13:09:56.119Z"
   },
   {
    "duration": 4,
    "start_time": "2022-07-26T13:10:04.752Z"
   },
   {
    "duration": 2,
    "start_time": "2022-07-26T13:10:24.170Z"
   },
   {
    "duration": 4,
    "start_time": "2022-07-26T13:10:25.319Z"
   },
   {
    "duration": 4,
    "start_time": "2022-07-26T13:11:08.810Z"
   },
   {
    "duration": 4,
    "start_time": "2022-07-26T13:14:37.856Z"
   },
   {
    "duration": 14,
    "start_time": "2022-07-26T13:19:37.264Z"
   },
   {
    "duration": 45,
    "start_time": "2022-07-26T13:21:45.314Z"
   },
   {
    "duration": 8,
    "start_time": "2022-07-26T13:23:42.712Z"
   },
   {
    "duration": 74,
    "start_time": "2022-07-26T13:26:34.898Z"
   },
   {
    "duration": 16,
    "start_time": "2022-07-26T13:27:00.173Z"
   },
   {
    "duration": 41,
    "start_time": "2022-07-26T13:36:15.045Z"
   },
   {
    "duration": 11,
    "start_time": "2022-07-26T13:39:18.098Z"
   },
   {
    "duration": 12,
    "start_time": "2022-07-26T13:39:35.188Z"
   },
   {
    "duration": 10,
    "start_time": "2022-07-26T13:39:47.972Z"
   },
   {
    "duration": 1477,
    "start_time": "2022-07-26T13:39:58.871Z"
   },
   {
    "duration": 1401,
    "start_time": "2022-07-26T13:40:59.664Z"
   },
   {
    "duration": 1404,
    "start_time": "2022-07-26T13:42:14.118Z"
   },
   {
    "duration": 1290,
    "start_time": "2022-07-26T13:42:33.727Z"
   },
   {
    "duration": 42,
    "start_time": "2022-07-26T13:43:04.204Z"
   },
   {
    "duration": 8,
    "start_time": "2022-07-26T13:46:19.570Z"
   },
   {
    "duration": 82,
    "start_time": "2022-07-26T13:47:47.300Z"
   },
   {
    "duration": 7,
    "start_time": "2022-07-26T13:48:01.486Z"
   },
   {
    "duration": 5,
    "start_time": "2022-07-26T13:50:13.798Z"
   },
   {
    "duration": 42,
    "start_time": "2022-07-26T13:50:18.716Z"
   },
   {
    "duration": 4,
    "start_time": "2022-07-26T13:52:46.087Z"
   },
   {
    "duration": 20,
    "start_time": "2022-07-26T13:52:47.888Z"
   },
   {
    "duration": 42,
    "start_time": "2022-07-26T13:53:00.017Z"
   },
   {
    "duration": 6,
    "start_time": "2022-07-26T13:53:36.942Z"
   },
   {
    "duration": 5,
    "start_time": "2022-07-26T13:53:51.550Z"
   },
   {
    "duration": 97,
    "start_time": "2022-07-26T13:53:59.479Z"
   },
   {
    "duration": 6,
    "start_time": "2022-07-26T13:54:09.425Z"
   },
   {
    "duration": 6,
    "start_time": "2022-07-26T13:54:13.711Z"
   },
   {
    "duration": 8,
    "start_time": "2022-07-26T13:54:47.541Z"
   },
   {
    "duration": 6,
    "start_time": "2022-07-26T13:56:16.087Z"
   },
   {
    "duration": 7,
    "start_time": "2022-07-26T13:56:37.450Z"
   },
   {
    "duration": 7,
    "start_time": "2022-07-26T13:56:49.939Z"
   },
   {
    "duration": 6,
    "start_time": "2022-07-26T13:57:30.224Z"
   },
   {
    "duration": 30,
    "start_time": "2022-07-26T13:58:20.358Z"
   },
   {
    "duration": 83,
    "start_time": "2022-07-26T13:59:12.875Z"
   },
   {
    "duration": 41,
    "start_time": "2022-07-26T13:59:27.220Z"
   },
   {
    "duration": 11,
    "start_time": "2022-07-26T13:59:45.824Z"
   },
   {
    "duration": 43,
    "start_time": "2022-07-26T14:00:20.827Z"
   },
   {
    "duration": 39,
    "start_time": "2022-07-26T14:00:41.567Z"
   },
   {
    "duration": 37,
    "start_time": "2022-07-26T14:05:01.950Z"
   },
   {
    "duration": 1195,
    "start_time": "2022-07-26T14:12:38.826Z"
   },
   {
    "duration": 1219,
    "start_time": "2022-07-26T14:13:56.619Z"
   },
   {
    "duration": 22,
    "start_time": "2022-07-26T14:14:42.138Z"
   },
   {
    "duration": 1431,
    "start_time": "2022-07-26T14:16:14.291Z"
   },
   {
    "duration": 77,
    "start_time": "2022-07-26T14:24:09.187Z"
   },
   {
    "duration": 10,
    "start_time": "2022-07-26T14:24:45.328Z"
   },
   {
    "duration": 6,
    "start_time": "2022-07-26T14:24:50.270Z"
   },
   {
    "duration": 12,
    "start_time": "2022-07-26T14:25:05.793Z"
   },
   {
    "duration": 7,
    "start_time": "2022-07-26T14:25:13.722Z"
   },
   {
    "duration": 11,
    "start_time": "2022-07-26T14:27:17.665Z"
   },
   {
    "duration": 5,
    "start_time": "2022-07-26T14:27:24.089Z"
   },
   {
    "duration": 3,
    "start_time": "2022-07-26T14:34:55.470Z"
   },
   {
    "duration": 5,
    "start_time": "2022-07-26T14:34:59.415Z"
   },
   {
    "duration": 3,
    "start_time": "2022-07-26T14:39:41.889Z"
   },
   {
    "duration": 25,
    "start_time": "2022-07-26T14:39:54.387Z"
   },
   {
    "duration": 81,
    "start_time": "2022-07-26T14:46:43.147Z"
   },
   {
    "duration": 8,
    "start_time": "2022-07-26T14:46:53.139Z"
   },
   {
    "duration": 21,
    "start_time": "2022-07-26T14:47:00.430Z"
   },
   {
    "duration": 13,
    "start_time": "2022-07-26T14:47:04.021Z"
   },
   {
    "duration": 7,
    "start_time": "2022-07-26T14:47:11.439Z"
   },
   {
    "duration": 28,
    "start_time": "2022-07-26T14:47:14.006Z"
   },
   {
    "duration": 4,
    "start_time": "2022-07-26T14:47:16.151Z"
   },
   {
    "duration": 4,
    "start_time": "2022-07-26T14:47:23.320Z"
   },
   {
    "duration": 5,
    "start_time": "2022-07-26T14:49:02.281Z"
   },
   {
    "duration": 30,
    "start_time": "2022-07-26T14:49:20.629Z"
   },
   {
    "duration": 3,
    "start_time": "2022-07-26T15:03:55.716Z"
   },
   {
    "duration": 11,
    "start_time": "2022-07-26T15:04:52.276Z"
   },
   {
    "duration": 3,
    "start_time": "2022-07-26T15:07:51.824Z"
   },
   {
    "duration": 14,
    "start_time": "2022-07-26T15:07:53.592Z"
   },
   {
    "duration": 325,
    "start_time": "2022-07-26T15:08:47.487Z"
   },
   {
    "duration": 37,
    "start_time": "2022-07-26T15:08:51.805Z"
   },
   {
    "duration": 12,
    "start_time": "2022-07-26T15:09:52.064Z"
   },
   {
    "duration": 11,
    "start_time": "2022-07-26T15:11:05.617Z"
   },
   {
    "duration": 4,
    "start_time": "2022-07-26T16:17:03.789Z"
   },
   {
    "duration": 5,
    "start_time": "2022-07-26T16:17:14.747Z"
   },
   {
    "duration": 12,
    "start_time": "2022-07-26T16:32:20.034Z"
   },
   {
    "duration": 211,
    "start_time": "2022-07-26T16:42:30.484Z"
   },
   {
    "duration": 157,
    "start_time": "2022-07-26T16:43:34.449Z"
   },
   {
    "duration": 528,
    "start_time": "2022-07-26T16:43:44.396Z"
   },
   {
    "duration": 259,
    "start_time": "2022-07-26T16:44:09.886Z"
   },
   {
    "duration": 251,
    "start_time": "2022-07-26T16:44:19.443Z"
   },
   {
    "duration": 228,
    "start_time": "2022-07-26T16:44:29.248Z"
   },
   {
    "duration": 276,
    "start_time": "2022-07-26T16:45:28.981Z"
   },
   {
    "duration": 321,
    "start_time": "2022-07-26T16:46:59.914Z"
   },
   {
    "duration": 215,
    "start_time": "2022-07-26T16:47:26.774Z"
   },
   {
    "duration": 2568,
    "start_time": "2022-07-26T16:47:44.368Z"
   },
   {
    "duration": 25,
    "start_time": "2022-07-26T16:50:19.426Z"
   },
   {
    "duration": 24,
    "start_time": "2022-07-26T16:51:09.430Z"
   },
   {
    "duration": 97,
    "start_time": "2022-07-26T16:52:42.579Z"
   },
   {
    "duration": 114,
    "start_time": "2022-07-26T16:52:56.867Z"
   },
   {
    "duration": 14,
    "start_time": "2022-07-26T16:53:12.229Z"
   },
   {
    "duration": 16,
    "start_time": "2022-07-26T16:53:55.032Z"
   },
   {
    "duration": 6,
    "start_time": "2022-07-26T16:54:01.253Z"
   },
   {
    "duration": 2,
    "start_time": "2022-07-26T16:54:36.184Z"
   },
   {
    "duration": 6,
    "start_time": "2022-07-26T16:56:18.876Z"
   },
   {
    "duration": 7,
    "start_time": "2022-07-26T16:56:51.639Z"
   },
   {
    "duration": 53,
    "start_time": "2022-07-26T16:57:12.835Z"
   },
   {
    "duration": 6,
    "start_time": "2022-07-26T16:57:19.171Z"
   },
   {
    "duration": 95,
    "start_time": "2022-07-26T16:57:34.540Z"
   },
   {
    "duration": 3,
    "start_time": "2022-07-26T16:58:42.061Z"
   },
   {
    "duration": 4,
    "start_time": "2022-07-26T16:58:53.366Z"
   },
   {
    "duration": 19,
    "start_time": "2022-07-26T16:59:11.328Z"
   },
   {
    "duration": 16,
    "start_time": "2022-07-26T16:59:23.418Z"
   },
   {
    "duration": 17,
    "start_time": "2022-07-26T17:01:15.292Z"
   },
   {
    "duration": 75,
    "start_time": "2022-07-26T17:04:02.546Z"
   },
   {
    "duration": 16,
    "start_time": "2022-07-26T17:04:07.695Z"
   },
   {
    "duration": 21,
    "start_time": "2022-07-26T17:04:47.888Z"
   },
   {
    "duration": 279,
    "start_time": "2022-07-26T17:07:40.028Z"
   },
   {
    "duration": 269,
    "start_time": "2022-07-26T17:08:06.606Z"
   },
   {
    "duration": 270,
    "start_time": "2022-07-26T17:15:45.279Z"
   },
   {
    "duration": 339,
    "start_time": "2022-07-26T17:16:06.320Z"
   },
   {
    "duration": 360,
    "start_time": "2022-07-26T17:16:36.595Z"
   },
   {
    "duration": 389,
    "start_time": "2022-07-26T17:17:07.696Z"
   },
   {
    "duration": 295,
    "start_time": "2022-07-26T17:18:11.359Z"
   },
   {
    "duration": 277,
    "start_time": "2022-07-26T17:18:24.144Z"
   },
   {
    "duration": 301,
    "start_time": "2022-07-26T17:19:19.072Z"
   },
   {
    "duration": 283,
    "start_time": "2022-07-26T17:19:45.978Z"
   },
   {
    "duration": 270,
    "start_time": "2022-07-26T17:19:55.774Z"
   },
   {
    "duration": 281,
    "start_time": "2022-07-26T17:20:10.253Z"
   },
   {
    "duration": 271,
    "start_time": "2022-07-26T17:20:15.654Z"
   },
   {
    "duration": 300,
    "start_time": "2022-07-26T17:20:20.518Z"
   },
   {
    "duration": 285,
    "start_time": "2022-07-26T17:20:33.288Z"
   },
   {
    "duration": 297,
    "start_time": "2022-07-26T17:22:05.163Z"
   },
   {
    "duration": 292,
    "start_time": "2022-07-26T17:22:30.294Z"
   },
   {
    "duration": 85,
    "start_time": "2022-07-26T17:25:56.262Z"
   },
   {
    "duration": 104,
    "start_time": "2022-07-26T17:26:15.232Z"
   },
   {
    "duration": 102,
    "start_time": "2022-07-26T17:27:13.927Z"
   },
   {
    "duration": 315,
    "start_time": "2022-07-26T17:30:40.119Z"
   },
   {
    "duration": 284,
    "start_time": "2022-07-26T18:26:16.427Z"
   },
   {
    "duration": 91,
    "start_time": "2022-07-26T18:27:57.015Z"
   },
   {
    "duration": 23,
    "start_time": "2022-07-26T18:28:05.231Z"
   },
   {
    "duration": 12,
    "start_time": "2022-07-26T18:28:32.996Z"
   },
   {
    "duration": 14,
    "start_time": "2022-07-26T18:28:58.977Z"
   },
   {
    "duration": 12,
    "start_time": "2022-07-26T18:29:13.079Z"
   },
   {
    "duration": 11,
    "start_time": "2022-07-26T18:29:24.596Z"
   },
   {
    "duration": 12,
    "start_time": "2022-07-26T18:30:14.775Z"
   },
   {
    "duration": 76,
    "start_time": "2022-07-26T18:34:56.165Z"
   },
   {
    "duration": 303,
    "start_time": "2022-07-26T18:35:00.615Z"
   },
   {
    "duration": 135,
    "start_time": "2022-07-26T18:42:13.289Z"
   },
   {
    "duration": 244,
    "start_time": "2022-07-26T18:42:35.812Z"
   },
   {
    "duration": 803,
    "start_time": "2022-07-26T18:43:13.946Z"
   },
   {
    "duration": 237,
    "start_time": "2022-07-26T18:44:58.229Z"
   },
   {
    "duration": 9,
    "start_time": "2022-07-26T18:47:42.823Z"
   },
   {
    "duration": 9,
    "start_time": "2022-07-26T18:51:00.254Z"
   },
   {
    "duration": 4826,
    "start_time": "2022-07-26T18:51:19.264Z"
   },
   {
    "duration": 28,
    "start_time": "2022-07-26T18:53:21.271Z"
   },
   {
    "duration": 18,
    "start_time": "2022-07-26T18:53:39.505Z"
   },
   {
    "duration": 1297,
    "start_time": "2022-07-26T18:53:50.083Z"
   },
   {
    "duration": 35,
    "start_time": "2022-07-26T18:54:11.301Z"
   },
   {
    "duration": 128,
    "start_time": "2022-07-26T18:55:38.182Z"
   },
   {
    "duration": 7,
    "start_time": "2022-07-26T18:56:23.268Z"
   },
   {
    "duration": 10,
    "start_time": "2022-07-26T18:56:39.166Z"
   },
   {
    "duration": 9,
    "start_time": "2022-07-26T18:56:48.711Z"
   },
   {
    "duration": 113,
    "start_time": "2022-07-26T18:59:30.489Z"
   },
   {
    "duration": 204,
    "start_time": "2022-07-26T19:02:30.327Z"
   },
   {
    "duration": 216,
    "start_time": "2022-07-26T19:03:16.989Z"
   },
   {
    "duration": 239,
    "start_time": "2022-07-26T19:03:50.968Z"
   },
   {
    "duration": 265,
    "start_time": "2022-07-26T19:04:29.692Z"
   },
   {
    "duration": 236,
    "start_time": "2022-07-26T19:05:59.543Z"
   },
   {
    "duration": 49,
    "start_time": "2022-07-28T10:29:20.302Z"
   },
   {
    "duration": 8,
    "start_time": "2022-07-28T11:30:39.070Z"
   },
   {
    "duration": 706,
    "start_time": "2022-07-28T11:30:44.372Z"
   },
   {
    "duration": 29,
    "start_time": "2022-07-28T11:30:50.149Z"
   },
   {
    "duration": 23599,
    "start_time": "2022-07-28T11:31:10.344Z"
   },
   {
    "duration": 6,
    "start_time": "2022-07-28T11:35:32.934Z"
   },
   {
    "duration": 23172,
    "start_time": "2022-07-28T11:36:02.377Z"
   },
   {
    "duration": 3,
    "start_time": "2022-07-28T11:36:39.925Z"
   },
   {
    "duration": 23373,
    "start_time": "2022-07-28T11:37:01.912Z"
   },
   {
    "duration": 0,
    "start_time": "2022-07-28T11:37:25.287Z"
   },
   {
    "duration": 3,
    "start_time": "2022-07-28T11:37:39.525Z"
   },
   {
    "duration": 3,
    "start_time": "2022-07-28T11:37:42.029Z"
   },
   {
    "duration": 23432,
    "start_time": "2022-07-28T11:37:49.575Z"
   },
   {
    "duration": 4,
    "start_time": "2022-07-28T11:40:46.155Z"
   },
   {
    "duration": 65,
    "start_time": "2022-07-28T11:53:06.848Z"
   },
   {
    "duration": 43435,
    "start_time": "2022-07-28T11:53:14.138Z"
   },
   {
    "duration": 444,
    "start_time": "2022-07-28T11:54:30.909Z"
   },
   {
    "duration": 3,
    "start_time": "2022-07-28T12:03:46.058Z"
   },
   {
    "duration": 4,
    "start_time": "2022-07-28T12:03:59.534Z"
   },
   {
    "duration": 3,
    "start_time": "2022-07-28T12:05:13.454Z"
   },
   {
    "duration": 4,
    "start_time": "2022-07-28T12:05:15.425Z"
   },
   {
    "duration": 2017,
    "start_time": "2022-07-28T12:05:28.221Z"
   },
   {
    "duration": 2367,
    "start_time": "2022-07-28T12:06:25.351Z"
   },
   {
    "duration": 8,
    "start_time": "2022-07-28T12:50:09.749Z"
   },
   {
    "duration": 25,
    "start_time": "2022-07-28T12:50:31.419Z"
   },
   {
    "duration": 10,
    "start_time": "2022-07-28T12:52:58.752Z"
   },
   {
    "duration": 11,
    "start_time": "2022-07-28T14:23:54.957Z"
   },
   {
    "duration": 1049,
    "start_time": "2022-08-01T14:48:42.731Z"
   },
   {
    "duration": 15,
    "start_time": "2022-08-01T14:48:54.731Z"
   },
   {
    "duration": 10,
    "start_time": "2022-08-01T14:48:59.659Z"
   },
   {
    "duration": 34,
    "start_time": "2022-08-01T14:49:02.377Z"
   },
   {
    "duration": 71,
    "start_time": "2022-08-01T14:49:55.161Z"
   },
   {
    "duration": 13,
    "start_time": "2022-08-01T14:50:41.344Z"
   },
   {
    "duration": 13,
    "start_time": "2022-08-01T14:50:53.256Z"
   },
   {
    "duration": 52,
    "start_time": "2022-08-01T14:52:27.827Z"
   },
   {
    "duration": 48,
    "start_time": "2022-08-01T14:52:57.680Z"
   },
   {
    "duration": 9,
    "start_time": "2022-08-01T14:53:10.936Z"
   },
   {
    "duration": 8,
    "start_time": "2022-08-01T14:56:20.383Z"
   },
   {
    "duration": 9,
    "start_time": "2022-08-01T14:56:46.722Z"
   },
   {
    "duration": 10,
    "start_time": "2022-08-01T14:56:51.938Z"
   },
   {
    "duration": 72,
    "start_time": "2022-08-01T15:06:36.077Z"
   },
   {
    "duration": 11,
    "start_time": "2022-08-01T15:06:53.287Z"
   },
   {
    "duration": 7,
    "start_time": "2022-08-01T15:06:56.488Z"
   },
   {
    "duration": 12,
    "start_time": "2022-08-01T15:07:31.131Z"
   },
   {
    "duration": 7,
    "start_time": "2022-08-01T15:07:34.731Z"
   },
   {
    "duration": 591,
    "start_time": "2022-08-02T10:04:37.943Z"
   },
   {
    "duration": 50,
    "start_time": "2022-08-02T10:04:38.536Z"
   },
   {
    "duration": 31,
    "start_time": "2022-08-02T10:04:38.588Z"
   },
   {
    "duration": 3132,
    "start_time": "2022-08-02T10:04:38.622Z"
   },
   {
    "duration": 15,
    "start_time": "2022-08-02T10:04:41.756Z"
   },
   {
    "duration": 59,
    "start_time": "2022-08-02T10:04:41.773Z"
   },
   {
    "duration": 34,
    "start_time": "2022-08-02T10:04:41.834Z"
   },
   {
    "duration": 29,
    "start_time": "2022-08-02T10:04:41.870Z"
   },
   {
    "duration": 44,
    "start_time": "2022-08-02T10:04:41.901Z"
   },
   {
    "duration": 71,
    "start_time": "2022-08-02T10:04:41.948Z"
   },
   {
    "duration": 26,
    "start_time": "2022-08-02T10:04:42.025Z"
   },
   {
    "duration": 35,
    "start_time": "2022-08-02T10:04:42.053Z"
   },
   {
    "duration": 18,
    "start_time": "2022-08-02T10:04:42.090Z"
   },
   {
    "duration": 39,
    "start_time": "2022-08-02T10:04:42.110Z"
   },
   {
    "duration": 5,
    "start_time": "2022-08-02T10:42:05.962Z"
   },
   {
    "duration": 11,
    "start_time": "2022-08-02T10:42:09.149Z"
   },
   {
    "duration": 6,
    "start_time": "2022-08-02T10:44:39.092Z"
   },
   {
    "duration": 583,
    "start_time": "2022-08-02T11:14:45.672Z"
   },
   {
    "duration": 8,
    "start_time": "2022-08-02T11:15:53.929Z"
   },
   {
    "duration": 13,
    "start_time": "2022-08-02T11:16:32.630Z"
   },
   {
    "duration": 98,
    "start_time": "2022-08-02T11:17:06.098Z"
   },
   {
    "duration": 12,
    "start_time": "2022-08-02T11:17:19.337Z"
   },
   {
    "duration": 579,
    "start_time": "2022-08-02T11:19:38.490Z"
   },
   {
    "duration": 481,
    "start_time": "2022-08-02T11:28:08.227Z"
   },
   {
    "duration": 645,
    "start_time": "2022-08-02T11:29:19.238Z"
   },
   {
    "duration": 84,
    "start_time": "2022-08-02T11:29:44.641Z"
   },
   {
    "duration": 109,
    "start_time": "2022-08-02T11:30:15.727Z"
   },
   {
    "duration": 542,
    "start_time": "2022-08-02T11:33:25.322Z"
   },
   {
    "duration": 493,
    "start_time": "2022-08-02T11:33:59.047Z"
   },
   {
    "duration": 487,
    "start_time": "2022-08-02T11:34:19.073Z"
   },
   {
    "duration": 15,
    "start_time": "2022-08-02T11:35:00.594Z"
   },
   {
    "duration": 15,
    "start_time": "2022-08-02T11:35:05.226Z"
   },
   {
    "duration": 16,
    "start_time": "2022-08-02T11:35:54.127Z"
   },
   {
    "duration": 20,
    "start_time": "2022-08-02T11:36:04.293Z"
   },
   {
    "duration": 13,
    "start_time": "2022-08-02T11:36:19.048Z"
   },
   {
    "duration": 12,
    "start_time": "2022-08-02T11:36:33.567Z"
   },
   {
    "duration": 13,
    "start_time": "2022-08-02T11:36:45.849Z"
   },
   {
    "duration": 15,
    "start_time": "2022-08-02T11:36:55.347Z"
   },
   {
    "duration": 11,
    "start_time": "2022-08-02T11:37:07.654Z"
   },
   {
    "duration": 16,
    "start_time": "2022-08-02T11:37:16.159Z"
   },
   {
    "duration": 7,
    "start_time": "2022-08-02T11:41:43.531Z"
   },
   {
    "duration": 252,
    "start_time": "2022-08-02T11:41:47.526Z"
   },
   {
    "duration": 18,
    "start_time": "2022-08-02T11:41:57.797Z"
   },
   {
    "duration": 9,
    "start_time": "2022-08-02T11:44:34.025Z"
   },
   {
    "duration": 233,
    "start_time": "2022-08-02T11:45:05.973Z"
   },
   {
    "duration": 13,
    "start_time": "2022-08-02T11:46:37.463Z"
   },
   {
    "duration": 215,
    "start_time": "2022-08-02T11:47:01.931Z"
   },
   {
    "duration": 13,
    "start_time": "2022-08-02T11:48:16.924Z"
   },
   {
    "duration": 11,
    "start_time": "2022-08-02T11:48:39.390Z"
   },
   {
    "duration": 11,
    "start_time": "2022-08-02T11:48:44.527Z"
   },
   {
    "duration": 11,
    "start_time": "2022-08-02T11:48:49.232Z"
   },
   {
    "duration": 11,
    "start_time": "2022-08-02T11:48:57.087Z"
   },
   {
    "duration": 66,
    "start_time": "2022-08-02T11:52:18.846Z"
   },
   {
    "duration": 34,
    "start_time": "2022-08-02T11:53:43.840Z"
   },
   {
    "duration": 23,
    "start_time": "2022-08-02T11:54:56.228Z"
   },
   {
    "duration": 51,
    "start_time": "2022-08-02T12:11:37.828Z"
   },
   {
    "duration": 64,
    "start_time": "2022-08-02T12:11:46.830Z"
   },
   {
    "duration": 9,
    "start_time": "2022-08-02T12:12:13.772Z"
   },
   {
    "duration": 12,
    "start_time": "2022-08-02T12:16:26.731Z"
   },
   {
    "duration": 10,
    "start_time": "2022-08-02T12:17:43.284Z"
   },
   {
    "duration": 10,
    "start_time": "2022-08-02T12:18:04.534Z"
   },
   {
    "duration": 10,
    "start_time": "2022-08-02T12:19:52.099Z"
   },
   {
    "duration": 64,
    "start_time": "2022-08-02T12:20:22.885Z"
   },
   {
    "duration": 57,
    "start_time": "2022-08-02T12:20:41.332Z"
   },
   {
    "duration": 17,
    "start_time": "2022-08-02T12:21:50.688Z"
   },
   {
    "duration": 10,
    "start_time": "2022-08-02T12:23:15.594Z"
   },
   {
    "duration": 79,
    "start_time": "2022-08-02T12:35:24.784Z"
   },
   {
    "duration": 711,
    "start_time": "2022-08-02T12:35:52.988Z"
   },
   {
    "duration": 45,
    "start_time": "2022-08-02T12:35:53.702Z"
   },
   {
    "duration": 20,
    "start_time": "2022-08-02T12:35:53.749Z"
   },
   {
    "duration": 2882,
    "start_time": "2022-08-02T12:35:53.772Z"
   },
   {
    "duration": 15,
    "start_time": "2022-08-02T12:35:56.656Z"
   },
   {
    "duration": 68,
    "start_time": "2022-08-02T12:35:56.674Z"
   },
   {
    "duration": 21,
    "start_time": "2022-08-02T12:35:56.745Z"
   },
   {
    "duration": 30,
    "start_time": "2022-08-02T12:35:56.769Z"
   },
   {
    "duration": 6,
    "start_time": "2022-08-02T12:35:56.801Z"
   },
   {
    "duration": 56,
    "start_time": "2022-08-02T12:35:56.811Z"
   },
   {
    "duration": 7,
    "start_time": "2022-08-02T12:35:56.869Z"
   },
   {
    "duration": 39,
    "start_time": "2022-08-02T12:35:56.878Z"
   },
   {
    "duration": 12,
    "start_time": "2022-08-02T12:35:56.919Z"
   },
   {
    "duration": 7,
    "start_time": "2022-08-02T12:35:56.934Z"
   },
   {
    "duration": 15,
    "start_time": "2022-08-02T12:35:56.943Z"
   },
   {
    "duration": 25,
    "start_time": "2022-08-02T12:35:56.960Z"
   },
   {
    "duration": 26,
    "start_time": "2022-08-02T12:35:56.988Z"
   },
   {
    "duration": 369,
    "start_time": "2022-08-02T12:35:57.016Z"
   },
   {
    "duration": 5,
    "start_time": "2022-08-02T12:35:57.387Z"
   },
   {
    "duration": 547,
    "start_time": "2022-08-02T12:35:57.405Z"
   },
   {
    "duration": 16,
    "start_time": "2022-08-02T12:35:57.954Z"
   },
   {
    "duration": 33,
    "start_time": "2022-08-02T12:35:57.972Z"
   },
   {
    "duration": 397,
    "start_time": "2022-08-02T12:35:58.007Z"
   },
   {
    "duration": 15,
    "start_time": "2022-08-02T12:35:58.406Z"
   },
   {
    "duration": 19,
    "start_time": "2022-08-02T12:35:58.424Z"
   },
   {
    "duration": 273,
    "start_time": "2022-08-02T12:35:58.445Z"
   },
   {
    "duration": 13,
    "start_time": "2022-08-02T12:35:58.720Z"
   },
   {
    "duration": 31,
    "start_time": "2022-08-02T12:35:58.737Z"
   },
   {
    "duration": 40,
    "start_time": "2022-08-02T12:35:58.770Z"
   },
   {
    "duration": 33,
    "start_time": "2022-08-02T12:35:58.813Z"
   },
   {
    "duration": 10,
    "start_time": "2022-08-02T12:36:09.930Z"
   },
   {
    "duration": 425,
    "start_time": "2022-08-02T12:36:13.885Z"
   },
   {
    "duration": 37,
    "start_time": "2022-08-02T13:06:48.712Z"
   },
   {
    "duration": 501,
    "start_time": "2022-08-02T13:07:11.559Z"
   },
   {
    "duration": 398,
    "start_time": "2022-08-02T13:07:36.811Z"
   },
   {
    "duration": 686,
    "start_time": "2022-08-02T13:09:20.837Z"
   },
   {
    "duration": 2219,
    "start_time": "2022-08-02T13:09:30.211Z"
   },
   {
    "duration": 7,
    "start_time": "2022-08-02T13:12:15.473Z"
   },
   {
    "duration": 241,
    "start_time": "2022-08-02T13:13:30.815Z"
   },
   {
    "duration": 6,
    "start_time": "2022-08-02T13:14:10.130Z"
   },
   {
    "duration": 195,
    "start_time": "2022-08-02T13:15:54.423Z"
   },
   {
    "duration": 185,
    "start_time": "2022-08-02T13:16:56.822Z"
   },
   {
    "duration": 207,
    "start_time": "2022-08-02T13:17:48.262Z"
   },
   {
    "duration": 209,
    "start_time": "2022-08-02T13:18:54.583Z"
   },
   {
    "duration": 5,
    "start_time": "2022-08-02T13:21:02.718Z"
   },
   {
    "duration": 5,
    "start_time": "2022-08-02T13:21:10.822Z"
   },
   {
    "duration": 40,
    "start_time": "2022-08-02T13:21:54.428Z"
   },
   {
    "duration": 42,
    "start_time": "2022-08-02T13:25:47.869Z"
   },
   {
    "duration": 42,
    "start_time": "2022-08-02T13:26:02.656Z"
   },
   {
    "duration": 60,
    "start_time": "2022-08-02T13:27:11.336Z"
   },
   {
    "duration": 7,
    "start_time": "2022-08-02T13:27:22.954Z"
   },
   {
    "duration": 8,
    "start_time": "2022-08-02T13:27:58.521Z"
   },
   {
    "duration": 9,
    "start_time": "2022-08-02T13:28:33.520Z"
   },
   {
    "duration": 65,
    "start_time": "2022-08-02T13:31:41.152Z"
   },
   {
    "duration": 5,
    "start_time": "2022-08-02T13:32:52.960Z"
   },
   {
    "duration": 67,
    "start_time": "2022-08-02T13:33:03.974Z"
   },
   {
    "duration": 826,
    "start_time": "2022-08-02T13:33:58.932Z"
   },
   {
    "duration": 168,
    "start_time": "2022-08-02T13:34:30.819Z"
   },
   {
    "duration": 171,
    "start_time": "2022-08-02T13:35:20.329Z"
   },
   {
    "duration": 223,
    "start_time": "2022-08-02T13:35:37.836Z"
   },
   {
    "duration": 210,
    "start_time": "2022-08-02T13:35:43.052Z"
   },
   {
    "duration": 233,
    "start_time": "2022-08-02T13:35:50.558Z"
   },
   {
    "duration": 246,
    "start_time": "2022-08-02T13:36:42.222Z"
   },
   {
    "duration": 254,
    "start_time": "2022-08-02T13:36:48.658Z"
   },
   {
    "duration": 8,
    "start_time": "2022-08-02T13:38:00.892Z"
   },
   {
    "duration": 1686,
    "start_time": "2022-08-02T13:38:11.869Z"
   },
   {
    "duration": 8,
    "start_time": "2022-08-02T13:38:21.367Z"
   },
   {
    "duration": 7,
    "start_time": "2022-08-02T13:38:40.322Z"
   },
   {
    "duration": 11,
    "start_time": "2022-08-02T13:39:23.934Z"
   },
   {
    "duration": 16,
    "start_time": "2022-08-02T13:40:26.544Z"
   },
   {
    "duration": 12,
    "start_time": "2022-08-02T13:40:39.134Z"
   },
   {
    "duration": 11,
    "start_time": "2022-08-02T13:41:07.522Z"
   },
   {
    "duration": 7,
    "start_time": "2022-08-02T13:43:01.821Z"
   },
   {
    "duration": 223,
    "start_time": "2022-08-02T13:44:48.121Z"
   },
   {
    "duration": 10,
    "start_time": "2022-08-02T13:47:42.439Z"
   },
   {
    "duration": 79,
    "start_time": "2022-08-02T13:48:17.749Z"
   },
   {
    "duration": 17,
    "start_time": "2022-08-02T13:48:22.068Z"
   },
   {
    "duration": 18,
    "start_time": "2022-08-02T13:48:44.160Z"
   },
   {
    "duration": 397,
    "start_time": "2022-08-02T13:49:18.836Z"
   },
   {
    "duration": 16,
    "start_time": "2022-08-02T13:49:31.159Z"
   },
   {
    "duration": 9,
    "start_time": "2022-08-02T13:49:53.226Z"
   },
   {
    "duration": 9,
    "start_time": "2022-08-02T13:50:35.670Z"
   },
   {
    "duration": 179,
    "start_time": "2022-08-02T13:52:44.076Z"
   },
   {
    "duration": 194,
    "start_time": "2022-08-02T13:52:57.727Z"
   },
   {
    "duration": 23,
    "start_time": "2022-08-02T13:53:17.738Z"
   },
   {
    "duration": 207,
    "start_time": "2022-08-02T13:54:34.235Z"
   },
   {
    "duration": 110,
    "start_time": "2022-08-02T13:54:50.462Z"
   },
   {
    "duration": 17,
    "start_time": "2022-08-02T13:54:54.279Z"
   },
   {
    "duration": 15,
    "start_time": "2022-08-02T13:57:11.127Z"
   },
   {
    "duration": 160,
    "start_time": "2022-08-02T13:57:21.398Z"
   },
   {
    "duration": 180,
    "start_time": "2022-08-02T13:57:33.657Z"
   },
   {
    "duration": 23,
    "start_time": "2022-08-02T13:58:01.830Z"
   },
   {
    "duration": 16,
    "start_time": "2022-08-02T13:58:14.246Z"
   },
   {
    "duration": 13,
    "start_time": "2022-08-02T14:00:07.788Z"
   },
   {
    "duration": 15,
    "start_time": "2022-08-02T14:00:24.936Z"
   },
   {
    "duration": 148,
    "start_time": "2022-08-02T14:00:51.358Z"
   },
   {
    "duration": 143,
    "start_time": "2022-08-02T14:01:20.673Z"
   },
   {
    "duration": 22,
    "start_time": "2022-08-02T14:02:19.949Z"
   },
   {
    "duration": 17,
    "start_time": "2022-08-02T14:02:35.633Z"
   },
   {
    "duration": 18,
    "start_time": "2022-08-02T14:03:04.678Z"
   },
   {
    "duration": 144,
    "start_time": "2022-08-02T14:03:28.537Z"
   },
   {
    "duration": 208,
    "start_time": "2022-08-02T14:03:46.542Z"
   },
   {
    "duration": 155,
    "start_time": "2022-08-02T14:03:59.333Z"
   },
   {
    "duration": 2313,
    "start_time": "2022-08-02T14:04:14.567Z"
   },
   {
    "duration": 149,
    "start_time": "2022-08-02T14:04:21.771Z"
   },
   {
    "duration": 143,
    "start_time": "2022-08-02T14:05:07.423Z"
   },
   {
    "duration": 147,
    "start_time": "2022-08-02T14:05:44.468Z"
   },
   {
    "duration": 148,
    "start_time": "2022-08-02T14:05:59.192Z"
   },
   {
    "duration": 156,
    "start_time": "2022-08-02T14:06:21.289Z"
   },
   {
    "duration": 17,
    "start_time": "2022-08-02T14:07:05.334Z"
   },
   {
    "duration": 13,
    "start_time": "2022-08-02T14:07:22.367Z"
   },
   {
    "duration": 16,
    "start_time": "2022-08-02T14:07:46.972Z"
   },
   {
    "duration": 152,
    "start_time": "2022-08-02T14:07:55.626Z"
   },
   {
    "duration": 148,
    "start_time": "2022-08-02T14:10:44.089Z"
   },
   {
    "duration": 155,
    "start_time": "2022-08-02T14:10:50.490Z"
   },
   {
    "duration": 10,
    "start_time": "2022-08-02T14:11:23.581Z"
   },
   {
    "duration": 12,
    "start_time": "2022-08-02T14:12:07.786Z"
   },
   {
    "duration": 14,
    "start_time": "2022-08-02T14:13:57.061Z"
   },
   {
    "duration": 15,
    "start_time": "2022-08-02T14:14:21.641Z"
   },
   {
    "duration": 16,
    "start_time": "2022-08-02T14:15:05.839Z"
   },
   {
    "duration": 165,
    "start_time": "2022-08-02T14:17:51.325Z"
   },
   {
    "duration": 26,
    "start_time": "2022-08-02T14:18:44.138Z"
   },
   {
    "duration": 24,
    "start_time": "2022-08-02T14:22:31.173Z"
   },
   {
    "duration": 170,
    "start_time": "2022-08-02T14:22:46.986Z"
   },
   {
    "duration": 166,
    "start_time": "2022-08-02T14:23:01.140Z"
   },
   {
    "duration": 170,
    "start_time": "2022-08-02T14:23:05.784Z"
   },
   {
    "duration": 183,
    "start_time": "2022-08-02T14:23:18.265Z"
   },
   {
    "duration": 168,
    "start_time": "2022-08-02T14:23:25.787Z"
   },
   {
    "duration": 8,
    "start_time": "2022-08-02T14:26:04.927Z"
   },
   {
    "duration": 12,
    "start_time": "2022-08-02T14:26:31.969Z"
   },
   {
    "duration": 177,
    "start_time": "2022-08-02T14:27:31.438Z"
   },
   {
    "duration": 750,
    "start_time": "2022-08-02T14:27:50.437Z"
   },
   {
    "duration": 179,
    "start_time": "2022-08-02T14:28:00.698Z"
   },
   {
    "duration": 191,
    "start_time": "2022-08-02T14:29:30.843Z"
   },
   {
    "duration": 163,
    "start_time": "2022-08-02T14:32:11.048Z"
   },
   {
    "duration": 206,
    "start_time": "2022-08-02T14:34:07.742Z"
   },
   {
    "duration": 101,
    "start_time": "2022-08-02T14:38:39.094Z"
   },
   {
    "duration": 15,
    "start_time": "2022-08-02T14:38:49.231Z"
   },
   {
    "duration": 13,
    "start_time": "2022-08-02T14:38:56.351Z"
   },
   {
    "duration": 163,
    "start_time": "2022-08-02T14:40:29.272Z"
   },
   {
    "duration": 163,
    "start_time": "2022-08-02T14:41:10.087Z"
   },
   {
    "duration": 269,
    "start_time": "2022-08-02T14:41:19.361Z"
   },
   {
    "duration": 14,
    "start_time": "2022-08-02T14:41:47.355Z"
   },
   {
    "duration": 15,
    "start_time": "2022-08-02T14:42:21.657Z"
   },
   {
    "duration": 18,
    "start_time": "2022-08-02T14:43:48.177Z"
   },
   {
    "duration": 285,
    "start_time": "2022-08-02T14:43:59.076Z"
   },
   {
    "duration": 19,
    "start_time": "2022-08-02T14:44:20.662Z"
   },
   {
    "duration": 19,
    "start_time": "2022-08-02T14:44:59.770Z"
   },
   {
    "duration": 19,
    "start_time": "2022-08-02T14:45:04.371Z"
   },
   {
    "duration": 21,
    "start_time": "2022-08-02T14:45:11.740Z"
   },
   {
    "duration": 19,
    "start_time": "2022-08-02T14:46:25.242Z"
   },
   {
    "duration": 20,
    "start_time": "2022-08-02T14:46:47.664Z"
   },
   {
    "duration": 71,
    "start_time": "2022-08-02T14:52:02.734Z"
   },
   {
    "duration": 62,
    "start_time": "2022-08-02T14:52:13.277Z"
   },
   {
    "duration": 37,
    "start_time": "2022-08-02T14:52:17.591Z"
   },
   {
    "duration": 36,
    "start_time": "2022-08-02T14:52:29.840Z"
   },
   {
    "duration": 35,
    "start_time": "2022-08-02T14:53:40.057Z"
   },
   {
    "duration": 28,
    "start_time": "2022-08-02T14:53:58.842Z"
   },
   {
    "duration": 27,
    "start_time": "2022-08-02T14:54:03.858Z"
   },
   {
    "duration": 40,
    "start_time": "2022-08-02T14:54:14.741Z"
   },
   {
    "duration": 35,
    "start_time": "2022-08-02T14:54:25.636Z"
   },
   {
    "duration": 30,
    "start_time": "2022-08-02T14:54:31.246Z"
   },
   {
    "duration": 57,
    "start_time": "2022-08-02T14:54:38.632Z"
   },
   {
    "duration": 35,
    "start_time": "2022-08-02T14:54:47.133Z"
   },
   {
    "duration": 43,
    "start_time": "2022-08-02T14:54:59.425Z"
   },
   {
    "duration": 37,
    "start_time": "2022-08-02T14:55:10.840Z"
   },
   {
    "duration": 52,
    "start_time": "2022-08-02T14:59:15.390Z"
   },
   {
    "duration": 36,
    "start_time": "2022-08-02T14:59:27.432Z"
   },
   {
    "duration": 34,
    "start_time": "2022-08-02T14:59:45.633Z"
   },
   {
    "duration": 330,
    "start_time": "2022-08-02T15:03:16.834Z"
   },
   {
    "duration": 11,
    "start_time": "2022-08-02T15:15:35.075Z"
   },
   {
    "duration": 83,
    "start_time": "2022-08-02T15:16:47.624Z"
   },
   {
    "duration": 73,
    "start_time": "2022-08-02T15:16:51.728Z"
   },
   {
    "duration": 17,
    "start_time": "2022-08-02T15:16:56.882Z"
   },
   {
    "duration": 30,
    "start_time": "2022-08-02T15:18:53.020Z"
   },
   {
    "duration": 151,
    "start_time": "2022-08-02T15:19:09.028Z"
   },
   {
    "duration": 23,
    "start_time": "2022-08-02T15:19:28.235Z"
   },
   {
    "duration": 27,
    "start_time": "2022-08-02T15:21:22.514Z"
   },
   {
    "duration": 26,
    "start_time": "2022-08-02T15:21:37.464Z"
   },
   {
    "duration": 21,
    "start_time": "2022-08-02T15:30:32.969Z"
   },
   {
    "duration": 11,
    "start_time": "2022-08-02T15:32:27.422Z"
   },
   {
    "duration": 195,
    "start_time": "2022-08-02T15:33:25.229Z"
   },
   {
    "duration": 283,
    "start_time": "2022-08-02T15:34:01.378Z"
   },
   {
    "duration": 37,
    "start_time": "2022-08-02T15:35:39.023Z"
   },
   {
    "duration": 31,
    "start_time": "2022-08-02T15:35:55.255Z"
   },
   {
    "duration": 33,
    "start_time": "2022-08-02T15:36:34.822Z"
   },
   {
    "duration": 7,
    "start_time": "2022-08-02T15:36:49.175Z"
   },
   {
    "duration": 6,
    "start_time": "2022-08-02T15:37:28.338Z"
   },
   {
    "duration": 6,
    "start_time": "2022-08-02T15:37:47.727Z"
   },
   {
    "duration": 49,
    "start_time": "2022-08-02T15:37:54.327Z"
   },
   {
    "duration": 98,
    "start_time": "2022-08-02T15:40:32.820Z"
   },
   {
    "duration": 1720,
    "start_time": "2022-08-02T15:40:40.264Z"
   },
   {
    "duration": 14,
    "start_time": "2022-08-02T15:41:27.566Z"
   },
   {
    "duration": 184,
    "start_time": "2022-08-02T15:41:34.230Z"
   },
   {
    "duration": 172,
    "start_time": "2022-08-02T15:42:24.620Z"
   },
   {
    "duration": 184,
    "start_time": "2022-08-02T15:42:30.622Z"
   },
   {
    "duration": 189,
    "start_time": "2022-08-02T15:42:47.135Z"
   },
   {
    "duration": 203,
    "start_time": "2022-08-02T15:44:54.724Z"
   },
   {
    "duration": 1825,
    "start_time": "2022-08-02T15:49:17.290Z"
   },
   {
    "duration": 76,
    "start_time": "2022-08-02T15:49:27.074Z"
   },
   {
    "duration": 1406,
    "start_time": "2022-08-02T15:51:29.541Z"
   },
   {
    "duration": 79,
    "start_time": "2022-08-02T15:55:15.984Z"
   },
   {
    "duration": 33,
    "start_time": "2022-08-02T15:55:38.784Z"
   },
   {
    "duration": 4,
    "start_time": "2022-08-02T15:56:29.896Z"
   },
   {
    "duration": 77,
    "start_time": "2022-08-02T15:57:06.644Z"
   },
   {
    "duration": 12,
    "start_time": "2022-08-02T15:58:56.619Z"
   },
   {
    "duration": 5,
    "start_time": "2022-08-02T15:59:16.379Z"
   },
   {
    "duration": 68,
    "start_time": "2022-08-02T15:59:49.350Z"
   },
   {
    "duration": 63,
    "start_time": "2022-08-02T16:00:06.258Z"
   },
   {
    "duration": 20,
    "start_time": "2022-08-02T16:00:35.122Z"
   },
   {
    "duration": 15,
    "start_time": "2022-08-02T16:02:21.481Z"
   },
   {
    "duration": 14,
    "start_time": "2022-08-02T16:02:34.933Z"
   },
   {
    "duration": 15,
    "start_time": "2022-08-02T16:02:43.824Z"
   },
   {
    "duration": 9,
    "start_time": "2022-08-02T16:03:39.522Z"
   },
   {
    "duration": 8,
    "start_time": "2022-08-02T16:03:54.827Z"
   },
   {
    "duration": 15,
    "start_time": "2022-08-02T16:04:07.389Z"
   },
   {
    "duration": 10,
    "start_time": "2022-08-02T16:05:13.331Z"
   },
   {
    "duration": 10,
    "start_time": "2022-08-02T16:09:13.072Z"
   },
   {
    "duration": 14,
    "start_time": "2022-08-02T16:11:48.817Z"
   },
   {
    "duration": 17,
    "start_time": "2022-08-02T16:12:03.137Z"
   },
   {
    "duration": 5,
    "start_time": "2022-08-02T16:25:02.531Z"
   },
   {
    "duration": 20,
    "start_time": "2022-08-02T16:27:19.178Z"
   },
   {
    "duration": 19,
    "start_time": "2022-08-02T16:27:25.978Z"
   },
   {
    "duration": 21,
    "start_time": "2022-08-02T16:28:06.871Z"
   },
   {
    "duration": 6195,
    "start_time": "2022-08-02T16:29:16.527Z"
   },
   {
    "duration": 14,
    "start_time": "2022-08-02T16:32:32.161Z"
   },
   {
    "duration": 6694,
    "start_time": "2022-08-02T16:34:33.380Z"
   },
   {
    "duration": 54,
    "start_time": "2022-08-03T12:39:07.156Z"
   },
   {
    "duration": 616,
    "start_time": "2022-08-03T12:43:52.983Z"
   },
   {
    "duration": 36,
    "start_time": "2022-08-03T12:43:53.601Z"
   },
   {
    "duration": 16,
    "start_time": "2022-08-03T12:43:53.639Z"
   },
   {
    "duration": 2654,
    "start_time": "2022-08-03T12:43:53.657Z"
   },
   {
    "duration": 11,
    "start_time": "2022-08-03T12:43:56.313Z"
   },
   {
    "duration": 29,
    "start_time": "2022-08-03T12:43:56.326Z"
   },
   {
    "duration": 16,
    "start_time": "2022-08-03T12:43:56.357Z"
   },
   {
    "duration": 20,
    "start_time": "2022-08-03T12:43:56.375Z"
   },
   {
    "duration": 16,
    "start_time": "2022-08-03T12:43:56.397Z"
   },
   {
    "duration": 58,
    "start_time": "2022-08-03T12:43:56.416Z"
   },
   {
    "duration": 22,
    "start_time": "2022-08-03T12:43:56.476Z"
   },
   {
    "duration": 31,
    "start_time": "2022-08-03T12:43:56.500Z"
   },
   {
    "duration": 30,
    "start_time": "2022-08-03T12:43:56.532Z"
   },
   {
    "duration": 16,
    "start_time": "2022-08-03T12:43:56.564Z"
   },
   {
    "duration": 18,
    "start_time": "2022-08-03T12:43:56.582Z"
   },
   {
    "duration": 10,
    "start_time": "2022-08-03T12:43:56.602Z"
   },
   {
    "duration": 20,
    "start_time": "2022-08-03T12:43:56.614Z"
   },
   {
    "duration": 360,
    "start_time": "2022-08-03T12:43:56.636Z"
   },
   {
    "duration": 4,
    "start_time": "2022-08-03T12:43:56.998Z"
   },
   {
    "duration": 571,
    "start_time": "2022-08-03T12:43:57.004Z"
   },
   {
    "duration": 18,
    "start_time": "2022-08-03T12:43:57.576Z"
   },
   {
    "duration": 7,
    "start_time": "2022-08-03T12:43:57.596Z"
   },
   {
    "duration": 268,
    "start_time": "2022-08-03T12:43:57.605Z"
   },
   {
    "duration": 22,
    "start_time": "2022-08-03T12:43:57.874Z"
   },
   {
    "duration": 9,
    "start_time": "2022-08-03T12:43:57.898Z"
   },
   {
    "duration": 248,
    "start_time": "2022-08-03T12:43:57.909Z"
   },
   {
    "duration": 12,
    "start_time": "2022-08-03T12:43:58.159Z"
   },
   {
    "duration": 42,
    "start_time": "2022-08-03T12:43:58.174Z"
   },
   {
    "duration": 10,
    "start_time": "2022-08-03T12:43:58.219Z"
   },
   {
    "duration": 26,
    "start_time": "2022-08-03T12:43:58.231Z"
   },
   {
    "duration": 35,
    "start_time": "2022-08-03T12:43:58.259Z"
   },
   {
    "duration": 1976,
    "start_time": "2022-08-03T12:43:58.295Z"
   },
   {
    "duration": 222,
    "start_time": "2022-08-03T12:44:00.274Z"
   },
   {
    "duration": 9,
    "start_time": "2022-08-03T12:44:00.498Z"
   },
   {
    "duration": 263,
    "start_time": "2022-08-03T12:44:00.508Z"
   },
   {
    "duration": 20,
    "start_time": "2022-08-03T12:44:00.773Z"
   },
   {
    "duration": 223,
    "start_time": "2022-08-03T12:44:00.795Z"
   },
   {
    "duration": 181,
    "start_time": "2022-08-03T12:44:01.020Z"
   },
   {
    "duration": 12,
    "start_time": "2022-08-03T12:44:01.203Z"
   },
   {
    "duration": 327,
    "start_time": "2022-08-03T12:44:01.217Z"
   },
   {
    "duration": 183,
    "start_time": "2022-08-03T12:44:01.546Z"
   },
   {
    "duration": 172,
    "start_time": "2022-08-03T12:44:01.731Z"
   },
   {
    "duration": 256,
    "start_time": "2022-08-03T12:44:01.907Z"
   },
   {
    "duration": 30,
    "start_time": "2022-08-03T12:44:02.165Z"
   },
   {
    "duration": 93,
    "start_time": "2022-08-03T12:44:02.198Z"
   },
   {
    "duration": 22,
    "start_time": "2022-08-03T12:44:02.293Z"
   },
   {
    "duration": 9,
    "start_time": "2022-08-03T12:44:02.317Z"
   },
   {
    "duration": 8,
    "start_time": "2022-08-03T12:44:02.328Z"
   },
   {
    "duration": 229,
    "start_time": "2022-08-03T12:44:02.337Z"
   },
   {
    "duration": 220,
    "start_time": "2022-08-03T12:44:02.568Z"
   },
   {
    "duration": 16,
    "start_time": "2022-08-03T12:44:02.790Z"
   },
   {
    "duration": 20,
    "start_time": "2022-08-03T12:44:02.808Z"
   },
   {
    "duration": 11,
    "start_time": "2022-08-03T12:44:02.830Z"
   },
   {
    "duration": 7200,
    "start_time": "2022-08-03T12:44:02.843Z"
   },
   {
    "duration": 2902,
    "start_time": "2022-08-03T12:44:56.258Z"
   },
   {
    "duration": 3,
    "start_time": "2022-08-03T14:31:43.046Z"
   },
   {
    "duration": 3,
    "start_time": "2022-08-03T14:31:44.341Z"
   },
   {
    "duration": 3,
    "start_time": "2022-08-03T14:33:36.726Z"
   },
   {
    "duration": 12,
    "start_time": "2022-08-03T14:36:14.237Z"
   },
   {
    "duration": 13,
    "start_time": "2022-08-03T14:36:22.838Z"
   },
   {
    "duration": 15,
    "start_time": "2022-08-03T14:36:47.546Z"
   },
   {
    "duration": 9,
    "start_time": "2022-08-03T14:37:40.887Z"
   },
   {
    "duration": 13,
    "start_time": "2022-08-03T14:37:48.759Z"
   },
   {
    "duration": 10,
    "start_time": "2022-08-03T14:37:56.137Z"
   },
   {
    "duration": 5,
    "start_time": "2022-08-03T14:38:46.158Z"
   },
   {
    "duration": 17,
    "start_time": "2022-08-03T14:41:49.763Z"
   },
   {
    "duration": 17,
    "start_time": "2022-08-03T14:42:00.429Z"
   },
   {
    "duration": 20,
    "start_time": "2022-08-03T14:43:31.425Z"
   },
   {
    "duration": 12,
    "start_time": "2022-08-03T14:46:06.042Z"
   },
   {
    "duration": 45,
    "start_time": "2022-08-03T14:46:24.629Z"
   },
   {
    "duration": 18,
    "start_time": "2022-08-03T14:46:31.926Z"
   },
   {
    "duration": 12,
    "start_time": "2022-08-03T14:46:40.246Z"
   },
   {
    "duration": 16,
    "start_time": "2022-08-03T14:46:52.030Z"
   },
   {
    "duration": 10,
    "start_time": "2022-08-03T14:47:04.035Z"
   },
   {
    "duration": 8,
    "start_time": "2022-08-03T14:47:14.562Z"
   },
   {
    "duration": 10,
    "start_time": "2022-08-03T14:49:43.040Z"
   },
   {
    "duration": 10,
    "start_time": "2022-08-03T14:49:46.859Z"
   },
   {
    "duration": 55,
    "start_time": "2022-08-03T14:49:55.539Z"
   },
   {
    "duration": 10,
    "start_time": "2022-08-03T14:51:33.131Z"
   },
   {
    "duration": 14,
    "start_time": "2022-08-03T14:53:09.425Z"
   },
   {
    "duration": 16,
    "start_time": "2022-08-03T14:54:28.589Z"
   },
   {
    "duration": 16,
    "start_time": "2022-08-03T14:57:15.445Z"
   },
   {
    "duration": 25,
    "start_time": "2022-08-03T14:57:58.426Z"
   },
   {
    "duration": 15,
    "start_time": "2022-08-03T14:58:17.769Z"
   },
   {
    "duration": 20,
    "start_time": "2022-08-03T14:58:44.668Z"
   },
   {
    "duration": 14,
    "start_time": "2022-08-03T14:58:55.349Z"
   },
   {
    "duration": 15,
    "start_time": "2022-08-03T14:59:11.598Z"
   },
   {
    "duration": 11,
    "start_time": "2022-08-03T15:02:47.734Z"
   },
   {
    "duration": 18,
    "start_time": "2022-08-03T15:08:28.741Z"
   },
   {
    "duration": 53,
    "start_time": "2022-08-03T15:20:18.933Z"
   },
   {
    "duration": 10,
    "start_time": "2022-08-03T15:22:06.671Z"
   },
   {
    "duration": 13,
    "start_time": "2022-08-03T15:22:10.364Z"
   },
   {
    "duration": 10,
    "start_time": "2022-08-03T15:22:26.737Z"
   },
   {
    "duration": 21,
    "start_time": "2022-08-03T15:24:28.801Z"
   },
   {
    "duration": 18,
    "start_time": "2022-08-03T15:24:41.637Z"
   },
   {
    "duration": 10,
    "start_time": "2022-08-03T15:24:44.483Z"
   },
   {
    "duration": 12,
    "start_time": "2022-08-03T15:26:18.640Z"
   },
   {
    "duration": 6,
    "start_time": "2022-08-03T15:27:56.241Z"
   },
   {
    "duration": 4,
    "start_time": "2022-08-03T15:29:17.350Z"
   },
   {
    "duration": 5,
    "start_time": "2022-08-03T15:29:19.840Z"
   },
   {
    "duration": 6,
    "start_time": "2022-08-03T15:30:10.025Z"
   },
   {
    "duration": 4,
    "start_time": "2022-08-03T15:35:23.133Z"
   },
   {
    "duration": 4,
    "start_time": "2022-08-03T15:35:30.847Z"
   },
   {
    "duration": 9,
    "start_time": "2022-08-03T15:35:44.799Z"
   },
   {
    "duration": 5,
    "start_time": "2022-08-03T15:35:51.037Z"
   },
   {
    "duration": 8,
    "start_time": "2022-08-03T15:35:59.328Z"
   },
   {
    "duration": 4,
    "start_time": "2022-08-03T15:36:19.252Z"
   },
   {
    "duration": 40,
    "start_time": "2022-08-03T15:37:27.032Z"
   },
   {
    "duration": 12,
    "start_time": "2022-08-03T15:37:49.071Z"
   },
   {
    "duration": 6,
    "start_time": "2022-08-03T15:37:57.382Z"
   },
   {
    "duration": 14,
    "start_time": "2022-08-03T15:38:50.528Z"
   },
   {
    "duration": 5,
    "start_time": "2022-08-03T15:38:52.366Z"
   },
   {
    "duration": 8,
    "start_time": "2022-08-03T15:38:54.928Z"
   },
   {
    "duration": 5,
    "start_time": "2022-08-03T15:44:11.235Z"
   },
   {
    "duration": 5,
    "start_time": "2022-08-03T16:12:05.833Z"
   },
   {
    "duration": 6,
    "start_time": "2022-08-03T16:13:13.790Z"
   },
   {
    "duration": 19,
    "start_time": "2022-08-03T16:20:12.052Z"
   },
   {
    "duration": 17,
    "start_time": "2022-08-03T16:20:24.546Z"
   },
   {
    "duration": 20,
    "start_time": "2022-08-03T16:29:19.694Z"
   },
   {
    "duration": 16,
    "start_time": "2022-08-03T16:30:43.796Z"
   },
   {
    "duration": 66,
    "start_time": "2022-08-04T12:00:24.201Z"
   },
   {
    "duration": 539,
    "start_time": "2022-08-04T12:00:38.284Z"
   },
   {
    "duration": 38,
    "start_time": "2022-08-04T12:00:38.825Z"
   },
   {
    "duration": 22,
    "start_time": "2022-08-04T12:00:38.865Z"
   },
   {
    "duration": 2479,
    "start_time": "2022-08-04T12:00:38.889Z"
   },
   {
    "duration": 11,
    "start_time": "2022-08-04T12:00:41.371Z"
   },
   {
    "duration": 27,
    "start_time": "2022-08-04T12:00:41.384Z"
   },
   {
    "duration": 13,
    "start_time": "2022-08-04T12:00:41.412Z"
   },
   {
    "duration": 8,
    "start_time": "2022-08-04T12:00:41.427Z"
   },
   {
    "duration": 25,
    "start_time": "2022-08-04T12:00:41.436Z"
   },
   {
    "duration": 43,
    "start_time": "2022-08-04T12:00:41.465Z"
   },
   {
    "duration": 12,
    "start_time": "2022-08-04T12:00:41.510Z"
   },
   {
    "duration": 13,
    "start_time": "2022-08-04T12:00:41.524Z"
   },
   {
    "duration": 10,
    "start_time": "2022-08-04T12:00:41.539Z"
   },
   {
    "duration": 16,
    "start_time": "2022-08-04T12:00:41.551Z"
   },
   {
    "duration": 20,
    "start_time": "2022-08-04T12:00:41.572Z"
   },
   {
    "duration": 5,
    "start_time": "2022-08-04T12:00:41.594Z"
   },
   {
    "duration": 27,
    "start_time": "2022-08-04T12:00:41.600Z"
   },
   {
    "duration": 308,
    "start_time": "2022-08-04T12:00:41.629Z"
   },
   {
    "duration": 5,
    "start_time": "2022-08-04T12:00:41.938Z"
   },
   {
    "duration": 526,
    "start_time": "2022-08-04T12:00:41.944Z"
   },
   {
    "duration": 12,
    "start_time": "2022-08-04T12:00:42.472Z"
   },
   {
    "duration": 7,
    "start_time": "2022-08-04T12:00:42.486Z"
   },
   {
    "duration": 244,
    "start_time": "2022-08-04T12:00:42.494Z"
   },
   {
    "duration": 20,
    "start_time": "2022-08-04T12:00:42.740Z"
   },
   {
    "duration": 7,
    "start_time": "2022-08-04T12:00:42.761Z"
   },
   {
    "duration": 260,
    "start_time": "2022-08-04T12:00:42.770Z"
   },
   {
    "duration": 19,
    "start_time": "2022-08-04T12:00:43.032Z"
   },
   {
    "duration": 36,
    "start_time": "2022-08-04T12:00:43.056Z"
   },
   {
    "duration": 13,
    "start_time": "2022-08-04T12:00:43.094Z"
   },
   {
    "duration": 32,
    "start_time": "2022-08-04T12:00:43.109Z"
   },
   {
    "duration": 22,
    "start_time": "2022-08-04T12:00:43.143Z"
   },
   {
    "duration": 1646,
    "start_time": "2022-08-04T12:00:43.167Z"
   },
   {
    "duration": 174,
    "start_time": "2022-08-04T12:00:44.815Z"
   },
   {
    "duration": 8,
    "start_time": "2022-08-04T12:00:44.991Z"
   },
   {
    "duration": 240,
    "start_time": "2022-08-04T12:00:45.001Z"
   },
   {
    "duration": 21,
    "start_time": "2022-08-04T12:00:45.243Z"
   },
   {
    "duration": 177,
    "start_time": "2022-08-04T12:00:45.269Z"
   },
   {
    "duration": 139,
    "start_time": "2022-08-04T12:00:45.448Z"
   },
   {
    "duration": 11,
    "start_time": "2022-08-04T12:00:45.588Z"
   },
   {
    "duration": 295,
    "start_time": "2022-08-04T12:00:45.601Z"
   },
   {
    "duration": 207,
    "start_time": "2022-08-04T12:00:45.898Z"
   },
   {
    "duration": 165,
    "start_time": "2022-08-04T12:00:46.107Z"
   },
   {
    "duration": 172,
    "start_time": "2022-08-04T12:00:46.274Z"
   },
   {
    "duration": 19,
    "start_time": "2022-08-04T12:00:46.448Z"
   },
   {
    "duration": 82,
    "start_time": "2022-08-04T12:00:46.468Z"
   },
   {
    "duration": 35,
    "start_time": "2022-08-04T12:00:46.552Z"
   },
   {
    "duration": 12,
    "start_time": "2022-08-04T12:00:46.590Z"
   },
   {
    "duration": 6,
    "start_time": "2022-08-04T12:00:46.604Z"
   },
   {
    "duration": 261,
    "start_time": "2022-08-04T12:00:46.613Z"
   },
   {
    "duration": 224,
    "start_time": "2022-08-04T12:00:46.876Z"
   },
   {
    "duration": 14,
    "start_time": "2022-08-04T12:00:47.102Z"
   },
   {
    "duration": 20,
    "start_time": "2022-08-04T12:00:47.118Z"
   },
   {
    "duration": 38,
    "start_time": "2022-08-04T12:00:47.140Z"
   },
   {
    "duration": 2864,
    "start_time": "2022-08-04T12:00:47.180Z"
   },
   {
    "duration": 19,
    "start_time": "2022-08-04T12:00:50.045Z"
   },
   {
    "duration": 12,
    "start_time": "2022-08-04T12:00:50.069Z"
   },
   {
    "duration": 21,
    "start_time": "2022-08-04T12:00:50.083Z"
   },
   {
    "duration": 16,
    "start_time": "2022-08-04T12:00:50.106Z"
   },
   {
    "duration": 40,
    "start_time": "2022-08-04T12:01:31.876Z"
   },
   {
    "duration": 12,
    "start_time": "2022-08-04T12:02:00.129Z"
   },
   {
    "duration": 15,
    "start_time": "2022-08-04T12:02:24.929Z"
   },
   {
    "duration": 6,
    "start_time": "2022-08-04T12:02:39.755Z"
   },
   {
    "duration": 19,
    "start_time": "2022-08-04T12:02:41.995Z"
   },
   {
    "duration": 131,
    "start_time": "2022-08-04T12:02:50.293Z"
   },
   {
    "duration": 298,
    "start_time": "2022-08-04T12:04:30.473Z"
   },
   {
    "duration": 264,
    "start_time": "2022-08-04T12:04:48.197Z"
   },
   {
    "duration": 253,
    "start_time": "2022-08-04T12:05:15.504Z"
   },
   {
    "duration": 1245,
    "start_time": "2022-08-04T12:05:33.976Z"
   },
   {
    "duration": 264,
    "start_time": "2022-08-04T12:05:41.925Z"
   },
   {
    "duration": 281,
    "start_time": "2022-08-04T12:06:28.639Z"
   },
   {
    "duration": 327,
    "start_time": "2022-08-04T12:07:05.948Z"
   },
   {
    "duration": 277,
    "start_time": "2022-08-04T12:07:59.680Z"
   },
   {
    "duration": 279,
    "start_time": "2022-08-04T12:08:09.632Z"
   },
   {
    "duration": 5,
    "start_time": "2022-08-04T12:10:15.649Z"
   },
   {
    "duration": 654,
    "start_time": "2022-08-05T18:44:14.649Z"
   },
   {
    "duration": 33,
    "start_time": "2022-08-05T18:44:15.305Z"
   },
   {
    "duration": 15,
    "start_time": "2022-08-05T18:44:15.339Z"
   },
   {
    "duration": 2902,
    "start_time": "2022-08-05T18:44:15.356Z"
   },
   {
    "duration": 14,
    "start_time": "2022-08-05T18:44:18.261Z"
   },
   {
    "duration": 39,
    "start_time": "2022-08-05T18:44:18.278Z"
   },
   {
    "duration": 32,
    "start_time": "2022-08-05T18:44:18.323Z"
   },
   {
    "duration": 16,
    "start_time": "2022-08-05T18:44:18.357Z"
   },
   {
    "duration": 16,
    "start_time": "2022-08-05T18:44:18.375Z"
   },
   {
    "duration": 90,
    "start_time": "2022-08-05T18:44:18.395Z"
   },
   {
    "duration": 45,
    "start_time": "2022-08-05T18:44:18.487Z"
   },
   {
    "duration": 34,
    "start_time": "2022-08-05T18:44:18.534Z"
   },
   {
    "duration": 8,
    "start_time": "2022-08-05T18:44:18.571Z"
   },
   {
    "duration": 12,
    "start_time": "2022-08-05T18:44:18.581Z"
   },
   {
    "duration": 36,
    "start_time": "2022-08-05T18:44:18.602Z"
   },
   {
    "duration": 25,
    "start_time": "2022-08-05T18:44:18.640Z"
   },
   {
    "duration": 69,
    "start_time": "2022-08-05T18:44:18.668Z"
   },
   {
    "duration": 447,
    "start_time": "2022-08-05T18:44:18.739Z"
   },
   {
    "duration": 10,
    "start_time": "2022-08-05T18:44:19.188Z"
   },
   {
    "duration": 496,
    "start_time": "2022-08-05T18:44:40.011Z"
   },
   {
    "duration": 234,
    "start_time": "2022-08-05T18:46:20.807Z"
   },
   {
    "duration": 239,
    "start_time": "2022-08-05T18:47:25.638Z"
   },
   {
    "duration": 69,
    "start_time": "2022-08-05T18:50:48.051Z"
   },
   {
    "duration": 252,
    "start_time": "2022-08-05T18:51:16.024Z"
   },
   {
    "duration": 233,
    "start_time": "2022-08-05T18:51:44.141Z"
   },
   {
    "duration": 356,
    "start_time": "2022-08-05T18:52:01.709Z"
   },
   {
    "duration": 620,
    "start_time": "2022-08-05T18:53:30.448Z"
   },
   {
    "duration": 1714,
    "start_time": "2022-08-05T18:53:40.841Z"
   },
   {
    "duration": 385,
    "start_time": "2022-08-05T18:53:52.002Z"
   },
   {
    "duration": 1206,
    "start_time": "2022-08-05T18:54:27.702Z"
   },
   {
    "duration": 403,
    "start_time": "2022-08-05T18:54:41.512Z"
   },
   {
    "duration": 373,
    "start_time": "2022-08-05T18:54:53.191Z"
   },
   {
    "duration": 89,
    "start_time": "2022-08-05T19:15:49.860Z"
   },
   {
    "duration": 147,
    "start_time": "2022-08-05T19:16:08.531Z"
   },
   {
    "duration": 11,
    "start_time": "2022-08-05T19:16:10.341Z"
   },
   {
    "duration": 27,
    "start_time": "2022-08-05T19:16:14.269Z"
   },
   {
    "duration": 11,
    "start_time": "2022-08-05T19:16:19.335Z"
   },
   {
    "duration": 1904,
    "start_time": "2022-08-05T19:16:20.598Z"
   },
   {
    "duration": 19080,
    "start_time": "2022-08-05T19:17:15.812Z"
   },
   {
    "duration": 180049,
    "start_time": "2022-08-05T19:20:44.677Z"
   },
   {
    "duration": 20,
    "start_time": "2022-08-05T19:23:44.736Z"
   },
   {
    "duration": 5,
    "start_time": "2022-08-05T19:23:52.923Z"
   },
   {
    "duration": 6,
    "start_time": "2022-08-05T19:24:08.533Z"
   },
   {
    "duration": 10,
    "start_time": "2022-08-05T19:24:32.859Z"
   },
   {
    "duration": 9,
    "start_time": "2022-08-05T19:24:39.633Z"
   },
   {
    "duration": 5,
    "start_time": "2022-08-05T19:24:47.498Z"
   },
   {
    "duration": 1028,
    "start_time": "2022-08-05T19:25:39.728Z"
   },
   {
    "duration": 692,
    "start_time": "2022-08-05T19:26:29.262Z"
   },
   {
    "duration": 54,
    "start_time": "2022-08-05T20:13:51.883Z"
   },
   {
    "duration": 7,
    "start_time": "2022-08-05T20:14:03.148Z"
   },
   {
    "duration": 6,
    "start_time": "2022-08-05T20:14:10.789Z"
   },
   {
    "duration": 576,
    "start_time": "2022-08-05T20:14:25.112Z"
   },
   {
    "duration": 33,
    "start_time": "2022-08-05T20:14:25.691Z"
   },
   {
    "duration": 17,
    "start_time": "2022-08-05T20:14:25.726Z"
   },
   {
    "duration": 2422,
    "start_time": "2022-08-05T20:14:25.745Z"
   },
   {
    "duration": 10,
    "start_time": "2022-08-05T20:14:28.170Z"
   },
   {
    "duration": 31,
    "start_time": "2022-08-05T20:14:28.181Z"
   },
   {
    "duration": 14,
    "start_time": "2022-08-05T20:14:28.214Z"
   },
   {
    "duration": 8,
    "start_time": "2022-08-05T20:14:28.229Z"
   },
   {
    "duration": 10,
    "start_time": "2022-08-05T20:14:28.239Z"
   },
   {
    "duration": 42,
    "start_time": "2022-08-05T20:14:28.251Z"
   },
   {
    "duration": 5,
    "start_time": "2022-08-05T20:14:28.295Z"
   },
   {
    "duration": 15,
    "start_time": "2022-08-05T20:14:28.302Z"
   },
   {
    "duration": 10,
    "start_time": "2022-08-05T20:14:28.319Z"
   },
   {
    "duration": 7,
    "start_time": "2022-08-05T20:14:28.332Z"
   },
   {
    "duration": 14,
    "start_time": "2022-08-05T20:14:28.341Z"
   },
   {
    "duration": 35,
    "start_time": "2022-08-05T20:14:28.357Z"
   },
   {
    "duration": 13,
    "start_time": "2022-08-05T20:14:28.394Z"
   },
   {
    "duration": 324,
    "start_time": "2022-08-05T20:14:28.408Z"
   },
   {
    "duration": 4,
    "start_time": "2022-08-05T20:14:28.734Z"
   },
   {
    "duration": 339,
    "start_time": "2022-08-05T20:14:28.739Z"
   },
   {
    "duration": 21,
    "start_time": "2022-08-05T20:14:29.080Z"
   },
   {
    "duration": 8,
    "start_time": "2022-08-05T20:14:29.102Z"
   },
   {
    "duration": 259,
    "start_time": "2022-08-05T20:14:29.112Z"
   },
   {
    "duration": 19,
    "start_time": "2022-08-05T20:14:29.373Z"
   },
   {
    "duration": 9,
    "start_time": "2022-08-05T20:14:29.394Z"
   },
   {
    "duration": 324,
    "start_time": "2022-08-05T20:14:29.405Z"
   },
   {
    "duration": 15,
    "start_time": "2022-08-05T20:14:29.731Z"
   },
   {
    "duration": 44,
    "start_time": "2022-08-05T20:14:29.748Z"
   },
   {
    "duration": 10,
    "start_time": "2022-08-05T20:14:29.794Z"
   },
   {
    "duration": 60,
    "start_time": "2022-08-05T20:14:29.806Z"
   },
   {
    "duration": 10,
    "start_time": "2022-08-05T20:15:01.555Z"
   },
   {
    "duration": 7,
    "start_time": "2022-08-05T20:15:05.804Z"
   },
   {
    "duration": 45,
    "start_time": "2022-08-05T20:15:08.996Z"
   },
   {
    "duration": 13,
    "start_time": "2022-08-05T20:15:13.169Z"
   },
   {
    "duration": 171,
    "start_time": "2022-08-05T20:15:15.773Z"
   },
   {
    "duration": 7,
    "start_time": "2022-08-05T20:16:35.751Z"
   },
   {
    "duration": 1704,
    "start_time": "2022-08-05T20:16:57.723Z"
   },
   {
    "duration": 11,
    "start_time": "2022-08-05T20:17:32.872Z"
   },
   {
    "duration": 18,
    "start_time": "2022-08-05T20:18:01.087Z"
   },
   {
    "duration": 12,
    "start_time": "2022-08-05T20:18:13.849Z"
   },
   {
    "duration": 13,
    "start_time": "2022-08-05T20:19:17.874Z"
   },
   {
    "duration": 10,
    "start_time": "2022-08-05T20:20:30.414Z"
   },
   {
    "duration": 14,
    "start_time": "2022-08-05T20:20:34.939Z"
   },
   {
    "duration": 11,
    "start_time": "2022-08-05T20:20:57.062Z"
   },
   {
    "duration": 13,
    "start_time": "2022-08-05T20:24:43.819Z"
   },
   {
    "duration": 12,
    "start_time": "2022-08-05T20:24:51.561Z"
   },
   {
    "duration": 15,
    "start_time": "2022-08-05T20:24:59.715Z"
   },
   {
    "duration": 14,
    "start_time": "2022-08-05T20:25:33.133Z"
   },
   {
    "duration": 16,
    "start_time": "2022-08-05T20:26:04.970Z"
   },
   {
    "duration": 8,
    "start_time": "2022-08-05T20:27:27.243Z"
   },
   {
    "duration": 12,
    "start_time": "2022-08-05T20:27:46.260Z"
   },
   {
    "duration": 13,
    "start_time": "2022-08-05T20:27:49.629Z"
   },
   {
    "duration": 109,
    "start_time": "2022-08-05T20:27:58.175Z"
   },
   {
    "duration": 12,
    "start_time": "2022-08-05T20:28:00.439Z"
   },
   {
    "duration": 10,
    "start_time": "2022-08-05T20:30:03.574Z"
   },
   {
    "duration": 15,
    "start_time": "2022-08-05T20:30:20.191Z"
   },
   {
    "duration": 9,
    "start_time": "2022-08-05T20:30:58.180Z"
   },
   {
    "duration": 11,
    "start_time": "2022-08-05T20:32:31.678Z"
   },
   {
    "duration": 17,
    "start_time": "2022-08-05T20:32:54.961Z"
   },
   {
    "duration": 12,
    "start_time": "2022-08-05T20:33:55.413Z"
   },
   {
    "duration": 9,
    "start_time": "2022-08-05T20:34:16.368Z"
   },
   {
    "duration": 13,
    "start_time": "2022-08-05T20:36:18.951Z"
   },
   {
    "duration": 27,
    "start_time": "2022-08-05T20:36:57.091Z"
   },
   {
    "duration": 14,
    "start_time": "2022-08-05T20:37:01.875Z"
   },
   {
    "duration": 23,
    "start_time": "2022-08-05T20:37:40.089Z"
   },
   {
    "duration": 13,
    "start_time": "2022-08-05T20:39:06.242Z"
   },
   {
    "duration": 10,
    "start_time": "2022-08-05T20:39:53.127Z"
   },
   {
    "duration": 230,
    "start_time": "2022-08-05T20:42:11.248Z"
   },
   {
    "duration": 219,
    "start_time": "2022-08-05T20:42:50.660Z"
   },
   {
    "duration": 302,
    "start_time": "2022-08-05T20:43:08.739Z"
   },
   {
    "duration": 10,
    "start_time": "2022-08-05T20:50:06.102Z"
   },
   {
    "duration": 7,
    "start_time": "2022-08-05T20:50:18.935Z"
   },
   {
    "duration": 10,
    "start_time": "2022-08-05T20:50:31.271Z"
   },
   {
    "duration": 6,
    "start_time": "2022-08-05T20:52:13.348Z"
   },
   {
    "duration": 8,
    "start_time": "2022-08-05T20:52:23.782Z"
   },
   {
    "duration": 6,
    "start_time": "2022-08-05T20:52:33.551Z"
   },
   {
    "duration": 76,
    "start_time": "2022-08-05T20:52:57.241Z"
   },
   {
    "duration": 10,
    "start_time": "2022-08-05T20:53:01.449Z"
   },
   {
    "duration": 8,
    "start_time": "2022-08-05T20:53:20.836Z"
   },
   {
    "duration": 8,
    "start_time": "2022-08-05T20:53:25.772Z"
   },
   {
    "duration": 12,
    "start_time": "2022-08-05T20:53:41.054Z"
   },
   {
    "duration": 8,
    "start_time": "2022-08-05T20:54:05.188Z"
   },
   {
    "duration": 7,
    "start_time": "2022-08-05T20:54:21.163Z"
   },
   {
    "duration": 11,
    "start_time": "2022-08-05T20:54:41.389Z"
   },
   {
    "duration": 20,
    "start_time": "2022-08-05T20:54:51.079Z"
   },
   {
    "duration": 7,
    "start_time": "2022-08-05T20:55:06.977Z"
   },
   {
    "duration": 7,
    "start_time": "2022-08-05T20:55:20.025Z"
   },
   {
    "duration": 9,
    "start_time": "2022-08-05T20:56:24.849Z"
   },
   {
    "duration": 8,
    "start_time": "2022-08-05T20:56:35.219Z"
   },
   {
    "duration": 10,
    "start_time": "2022-08-05T20:57:24.144Z"
   },
   {
    "duration": 6,
    "start_time": "2022-08-05T20:57:39.482Z"
   },
   {
    "duration": 6,
    "start_time": "2022-08-05T20:57:55.508Z"
   },
   {
    "duration": 7,
    "start_time": "2022-08-05T20:58:16.015Z"
   },
   {
    "duration": 9,
    "start_time": "2022-08-05T20:58:31.502Z"
   },
   {
    "duration": 6,
    "start_time": "2022-08-05T20:58:45.484Z"
   },
   {
    "duration": 103,
    "start_time": "2022-08-05T21:16:11.117Z"
   },
   {
    "duration": 18,
    "start_time": "2022-08-05T21:16:24.389Z"
   },
   {
    "duration": 1372,
    "start_time": "2022-08-05T21:16:37.686Z"
   },
   {
    "duration": 1383,
    "start_time": "2022-08-05T21:16:57.232Z"
   },
   {
    "duration": 9,
    "start_time": "2022-08-05T21:17:12.812Z"
   },
   {
    "duration": 22,
    "start_time": "2022-08-05T21:17:22.587Z"
   },
   {
    "duration": 10,
    "start_time": "2022-08-05T21:17:33.340Z"
   },
   {
    "duration": 12,
    "start_time": "2022-08-05T21:17:41.381Z"
   },
   {
    "duration": 12,
    "start_time": "2022-08-05T21:17:51.605Z"
   },
   {
    "duration": 1380,
    "start_time": "2022-08-05T21:18:00.407Z"
   },
   {
    "duration": 10,
    "start_time": "2022-08-05T21:18:08.360Z"
   },
   {
    "duration": 9,
    "start_time": "2022-08-05T21:19:01.167Z"
   },
   {
    "duration": 10,
    "start_time": "2022-08-05T21:19:24.553Z"
   },
   {
    "duration": 10,
    "start_time": "2022-08-05T21:19:31.218Z"
   },
   {
    "duration": 12,
    "start_time": "2022-08-05T21:20:24.113Z"
   },
   {
    "duration": 17,
    "start_time": "2022-08-05T21:20:39.291Z"
   },
   {
    "duration": 5,
    "start_time": "2022-08-05T21:28:50.332Z"
   },
   {
    "duration": 9,
    "start_time": "2022-08-05T21:29:14.031Z"
   },
   {
    "duration": 18,
    "start_time": "2022-08-05T21:29:31.992Z"
   },
   {
    "duration": 9,
    "start_time": "2022-08-05T21:29:38.968Z"
   },
   {
    "duration": 8,
    "start_time": "2022-08-05T21:29:59.276Z"
   },
   {
    "duration": 14,
    "start_time": "2022-08-05T21:30:25.510Z"
   },
   {
    "duration": 14,
    "start_time": "2022-08-05T21:30:31.272Z"
   },
   {
    "duration": 12,
    "start_time": "2022-08-05T21:30:47.610Z"
   },
   {
    "duration": 12,
    "start_time": "2022-08-05T21:31:24.462Z"
   },
   {
    "duration": 10,
    "start_time": "2022-08-05T21:31:31.519Z"
   },
   {
    "duration": 15,
    "start_time": "2022-08-05T21:31:41.625Z"
   },
   {
    "duration": 11,
    "start_time": "2022-08-05T21:33:48.135Z"
   },
   {
    "duration": 10,
    "start_time": "2022-08-05T21:33:56.840Z"
   },
   {
    "duration": 11,
    "start_time": "2022-08-05T21:36:37.674Z"
   },
   {
    "duration": 14,
    "start_time": "2022-08-05T21:37:39.233Z"
   },
   {
    "duration": 8,
    "start_time": "2022-08-05T21:46:44.216Z"
   },
   {
    "duration": 14,
    "start_time": "2022-08-05T21:46:53.410Z"
   },
   {
    "duration": 166,
    "start_time": "2022-08-05T21:49:14.013Z"
   },
   {
    "duration": 38,
    "start_time": "2022-08-05T21:49:14.182Z"
   },
   {
    "duration": 22,
    "start_time": "2022-08-05T21:49:14.223Z"
   },
   {
    "duration": 1958,
    "start_time": "2022-08-05T21:49:14.248Z"
   },
   {
    "duration": 9,
    "start_time": "2022-08-05T21:49:16.208Z"
   },
   {
    "duration": 22,
    "start_time": "2022-08-05T21:49:16.219Z"
   },
   {
    "duration": 14,
    "start_time": "2022-08-05T21:49:16.242Z"
   },
   {
    "duration": 37,
    "start_time": "2022-08-05T21:49:16.258Z"
   },
   {
    "duration": 5,
    "start_time": "2022-08-05T21:49:16.297Z"
   },
   {
    "duration": 32,
    "start_time": "2022-08-05T21:49:16.304Z"
   },
   {
    "duration": 6,
    "start_time": "2022-08-05T21:49:16.338Z"
   },
   {
    "duration": 53,
    "start_time": "2022-08-05T21:49:16.346Z"
   },
   {
    "duration": 11,
    "start_time": "2022-08-05T21:49:16.401Z"
   },
   {
    "duration": 6,
    "start_time": "2022-08-05T21:49:16.414Z"
   },
   {
    "duration": 437,
    "start_time": "2022-08-05T21:49:16.422Z"
   },
   {
    "duration": 4,
    "start_time": "2022-08-05T21:49:16.861Z"
   },
   {
    "duration": 31,
    "start_time": "2022-08-05T21:49:16.867Z"
   },
   {
    "duration": 359,
    "start_time": "2022-08-05T21:49:16.900Z"
   },
   {
    "duration": 4,
    "start_time": "2022-08-05T21:49:17.261Z"
   },
   {
    "duration": 373,
    "start_time": "2022-08-05T21:49:17.267Z"
   },
   {
    "duration": 12,
    "start_time": "2022-08-05T21:49:17.642Z"
   },
   {
    "duration": 8,
    "start_time": "2022-08-05T21:49:17.656Z"
   },
   {
    "duration": 294,
    "start_time": "2022-08-05T21:49:17.666Z"
   },
   {
    "duration": 15,
    "start_time": "2022-08-05T21:49:17.962Z"
   },
   {
    "duration": 20,
    "start_time": "2022-08-05T21:49:17.979Z"
   },
   {
    "duration": 222,
    "start_time": "2022-08-05T21:49:18.002Z"
   },
   {
    "duration": 15,
    "start_time": "2022-08-05T21:49:18.226Z"
   },
   {
    "duration": 53,
    "start_time": "2022-08-05T21:49:18.245Z"
   },
   {
    "duration": 12,
    "start_time": "2022-08-05T21:49:18.300Z"
   },
   {
    "duration": 22,
    "start_time": "2022-08-05T21:49:18.315Z"
   },
   {
    "duration": 7,
    "start_time": "2022-08-05T21:49:18.339Z"
   },
   {
    "duration": 13,
    "start_time": "2022-08-05T21:49:18.348Z"
   },
   {
    "duration": 276,
    "start_time": "2022-08-05T21:49:18.363Z"
   },
   {
    "duration": 16,
    "start_time": "2022-08-05T21:49:18.641Z"
   },
   {
    "duration": 6,
    "start_time": "2022-08-05T21:49:18.659Z"
   },
   {
    "duration": 206,
    "start_time": "2022-08-05T21:49:18.667Z"
   },
   {
    "duration": 19,
    "start_time": "2022-08-05T21:49:18.875Z"
   },
   {
    "duration": 8,
    "start_time": "2022-08-05T21:49:18.895Z"
   },
   {
    "duration": 250,
    "start_time": "2022-08-05T21:49:18.905Z"
   },
   {
    "duration": 11,
    "start_time": "2022-08-05T21:49:19.158Z"
   },
   {
    "duration": 22,
    "start_time": "2022-08-05T21:49:19.172Z"
   },
   {
    "duration": 10,
    "start_time": "2022-08-05T21:49:19.196Z"
   },
   {
    "duration": 8,
    "start_time": "2022-08-05T21:49:19.208Z"
   },
   {
    "duration": 237,
    "start_time": "2022-08-05T21:49:19.217Z"
   },
   {
    "duration": 9,
    "start_time": "2022-08-05T21:49:27.598Z"
   },
   {
    "duration": 8,
    "start_time": "2022-08-05T21:49:42.630Z"
   },
   {
    "duration": 9,
    "start_time": "2022-08-05T21:49:53.792Z"
   },
   {
    "duration": 23,
    "start_time": "2022-08-05T21:56:31.088Z"
   },
   {
    "duration": 12,
    "start_time": "2022-08-05T21:58:26.413Z"
   },
   {
    "duration": 9,
    "start_time": "2022-08-05T21:58:40.777Z"
   },
   {
    "duration": 18,
    "start_time": "2022-08-05T21:59:05.285Z"
   },
   {
    "duration": 22,
    "start_time": "2022-08-05T21:59:26.687Z"
   },
   {
    "duration": 13,
    "start_time": "2022-08-05T21:59:53.426Z"
   },
   {
    "duration": 73,
    "start_time": "2022-08-05T22:03:37.510Z"
   },
   {
    "duration": 10,
    "start_time": "2022-08-05T22:03:40.830Z"
   },
   {
    "duration": 17,
    "start_time": "2022-08-05T22:03:59.209Z"
   },
   {
    "duration": 10,
    "start_time": "2022-08-05T22:04:06.185Z"
   },
   {
    "duration": 10,
    "start_time": "2022-08-05T22:06:58.046Z"
   },
   {
    "duration": 9,
    "start_time": "2022-08-05T22:07:05.535Z"
   },
   {
    "duration": 14,
    "start_time": "2022-08-05T22:07:13.640Z"
   },
   {
    "duration": 11,
    "start_time": "2022-08-05T22:07:39.666Z"
   },
   {
    "duration": 14,
    "start_time": "2022-08-05T22:09:32.680Z"
   },
   {
    "duration": 1668,
    "start_time": "2022-08-05T22:09:42.762Z"
   },
   {
    "duration": 11,
    "start_time": "2022-08-05T22:10:05.432Z"
   },
   {
    "duration": 1337,
    "start_time": "2022-08-05T22:14:15.962Z"
   },
   {
    "duration": 14,
    "start_time": "2022-08-05T22:14:30.510Z"
   },
   {
    "duration": 1316,
    "start_time": "2022-08-05T22:14:35.882Z"
   },
   {
    "duration": 18,
    "start_time": "2022-08-05T22:14:49.919Z"
   },
   {
    "duration": 14,
    "start_time": "2022-08-05T22:16:09.815Z"
   },
   {
    "duration": 6,
    "start_time": "2022-08-05T22:21:46.117Z"
   },
   {
    "duration": 4,
    "start_time": "2022-08-05T22:23:54.533Z"
   },
   {
    "duration": 155,
    "start_time": "2022-08-05T22:23:58.125Z"
   },
   {
    "duration": 11,
    "start_time": "2022-08-05T22:24:03.884Z"
   },
   {
    "duration": 16,
    "start_time": "2022-08-05T22:25:08.766Z"
   },
   {
    "duration": 163,
    "start_time": "2022-08-05T22:27:52.097Z"
   },
   {
    "duration": 76,
    "start_time": "2022-08-05T22:29:33.693Z"
   },
   {
    "duration": 149,
    "start_time": "2022-08-05T22:29:44.462Z"
   },
   {
    "duration": 229,
    "start_time": "2022-08-05T22:30:21.308Z"
   },
   {
    "duration": 271,
    "start_time": "2022-08-05T22:30:34.541Z"
   },
   {
    "duration": 649,
    "start_time": "2022-08-05T22:30:46.358Z"
   },
   {
    "duration": 163,
    "start_time": "2022-08-05T22:31:03.504Z"
   },
   {
    "duration": 79,
    "start_time": "2022-08-05T22:31:13.457Z"
   },
   {
    "duration": 499,
    "start_time": "2022-08-05T22:31:18.530Z"
   },
   {
    "duration": 264,
    "start_time": "2022-08-05T22:31:32.211Z"
   },
   {
    "duration": 194,
    "start_time": "2022-08-05T22:31:37.059Z"
   },
   {
    "duration": 214,
    "start_time": "2022-08-05T22:31:45.941Z"
   },
   {
    "duration": 112,
    "start_time": "2022-08-05T22:32:42.148Z"
   },
   {
    "duration": 263,
    "start_time": "2022-08-05T22:32:51.870Z"
   },
   {
    "duration": 12,
    "start_time": "2022-08-05T22:33:38.112Z"
   },
   {
    "duration": 6,
    "start_time": "2022-08-05T22:35:14.013Z"
   },
   {
    "duration": 175,
    "start_time": "2022-08-05T22:35:15.349Z"
   },
   {
    "duration": 138,
    "start_time": "2022-08-05T22:35:53.698Z"
   },
   {
    "duration": 10,
    "start_time": "2022-08-05T22:36:34.167Z"
   },
   {
    "duration": 8,
    "start_time": "2022-08-05T22:37:11.427Z"
   },
   {
    "duration": 9,
    "start_time": "2022-08-05T22:37:18.468Z"
   },
   {
    "duration": 9,
    "start_time": "2022-08-05T22:37:22.781Z"
   },
   {
    "duration": 9,
    "start_time": "2022-08-05T22:37:30.918Z"
   },
   {
    "duration": 11,
    "start_time": "2022-08-05T22:37:41.592Z"
   },
   {
    "duration": 153,
    "start_time": "2022-08-05T22:38:24.580Z"
   },
   {
    "duration": 128,
    "start_time": "2022-08-05T22:38:55.360Z"
   },
   {
    "duration": 164,
    "start_time": "2022-08-05T22:39:20.408Z"
   },
   {
    "duration": 20,
    "start_time": "2022-08-05T22:44:40.944Z"
   },
   {
    "duration": 88,
    "start_time": "2022-08-05T22:44:44.126Z"
   },
   {
    "duration": 7,
    "start_time": "2022-08-05T23:01:05.560Z"
   },
   {
    "duration": 6,
    "start_time": "2022-08-05T23:01:56.480Z"
   },
   {
    "duration": 17,
    "start_time": "2022-08-05T23:02:38.285Z"
   },
   {
    "duration": 94,
    "start_time": "2022-08-05T23:02:46.262Z"
   },
   {
    "duration": 10,
    "start_time": "2022-08-05T23:02:49.942Z"
   },
   {
    "duration": 9,
    "start_time": "2022-08-05T23:02:53.327Z"
   },
   {
    "duration": 7,
    "start_time": "2022-08-05T23:02:57.705Z"
   },
   {
    "duration": 8,
    "start_time": "2022-08-05T23:03:20.817Z"
   },
   {
    "duration": 10,
    "start_time": "2022-08-05T23:03:35.715Z"
   },
   {
    "duration": 17,
    "start_time": "2022-08-05T23:04:04.983Z"
   },
   {
    "duration": 12,
    "start_time": "2022-08-05T23:04:11.631Z"
   },
   {
    "duration": 11,
    "start_time": "2022-08-05T23:04:43.664Z"
   },
   {
    "duration": 214,
    "start_time": "2022-08-05T23:13:37.266Z"
   },
   {
    "duration": 645,
    "start_time": "2022-08-08T07:22:28.952Z"
   },
   {
    "duration": 28,
    "start_time": "2022-08-08T07:22:29.598Z"
   },
   {
    "duration": 13,
    "start_time": "2022-08-08T07:22:29.628Z"
   },
   {
    "duration": 2192,
    "start_time": "2022-08-08T07:22:29.643Z"
   },
   {
    "duration": 9,
    "start_time": "2022-08-08T07:22:31.837Z"
   },
   {
    "duration": 32,
    "start_time": "2022-08-08T07:22:31.847Z"
   },
   {
    "duration": 13,
    "start_time": "2022-08-08T07:22:31.881Z"
   },
   {
    "duration": 15,
    "start_time": "2022-08-08T07:22:31.896Z"
   },
   {
    "duration": 8,
    "start_time": "2022-08-08T07:22:31.912Z"
   },
   {
    "duration": 35,
    "start_time": "2022-08-08T07:22:31.922Z"
   },
   {
    "duration": 6,
    "start_time": "2022-08-08T07:22:31.959Z"
   },
   {
    "duration": 29,
    "start_time": "2022-08-08T07:22:31.966Z"
   },
   {
    "duration": 11,
    "start_time": "2022-08-08T07:22:31.996Z"
   },
   {
    "duration": 14,
    "start_time": "2022-08-08T07:22:32.011Z"
   },
   {
    "duration": 10,
    "start_time": "2022-08-08T07:22:32.026Z"
   },
   {
    "duration": 3,
    "start_time": "2022-08-08T07:22:32.038Z"
   },
   {
    "duration": 10,
    "start_time": "2022-08-08T07:22:32.043Z"
   },
   {
    "duration": 379,
    "start_time": "2022-08-08T07:22:32.054Z"
   },
   {
    "duration": 4,
    "start_time": "2022-08-08T07:22:32.434Z"
   },
   {
    "duration": 380,
    "start_time": "2022-08-08T07:22:32.439Z"
   },
   {
    "duration": 11,
    "start_time": "2022-08-08T07:22:32.821Z"
   },
   {
    "duration": 12,
    "start_time": "2022-08-08T07:22:32.834Z"
   },
   {
    "duration": 276,
    "start_time": "2022-08-08T07:22:32.848Z"
   },
   {
    "duration": 10,
    "start_time": "2022-08-08T07:22:33.125Z"
   },
   {
    "duration": 8,
    "start_time": "2022-08-08T07:22:33.136Z"
   },
   {
    "duration": 207,
    "start_time": "2022-08-08T07:22:33.145Z"
   },
   {
    "duration": 10,
    "start_time": "2022-08-08T07:22:33.354Z"
   },
   {
    "duration": 24,
    "start_time": "2022-08-08T07:22:33.368Z"
   },
   {
    "duration": 11,
    "start_time": "2022-08-08T07:22:33.411Z"
   },
   {
    "duration": 9,
    "start_time": "2022-08-08T07:22:33.423Z"
   },
   {
    "duration": 7,
    "start_time": "2022-08-08T07:22:33.434Z"
   },
   {
    "duration": 11,
    "start_time": "2022-08-08T07:22:33.443Z"
   },
   {
    "duration": 195,
    "start_time": "2022-08-08T07:22:33.455Z"
   },
   {
    "duration": 12,
    "start_time": "2022-08-08T07:22:33.651Z"
   },
   {
    "duration": 5,
    "start_time": "2022-08-08T07:22:33.665Z"
   },
   {
    "duration": 201,
    "start_time": "2022-08-08T07:22:33.672Z"
   },
   {
    "duration": 8,
    "start_time": "2022-08-08T07:22:33.875Z"
   },
   {
    "duration": 6,
    "start_time": "2022-08-08T07:22:33.885Z"
   },
   {
    "duration": 229,
    "start_time": "2022-08-08T07:22:33.893Z"
   },
   {
    "duration": 11,
    "start_time": "2022-08-08T07:22:34.124Z"
   },
   {
    "duration": 8,
    "start_time": "2022-08-08T07:22:34.137Z"
   },
   {
    "duration": 9,
    "start_time": "2022-08-08T07:22:34.147Z"
   },
   {
    "duration": 8,
    "start_time": "2022-08-08T07:22:34.158Z"
   },
   {
    "duration": 214,
    "start_time": "2022-08-08T07:22:34.167Z"
   },
   {
    "duration": 7,
    "start_time": "2022-08-08T07:22:34.383Z"
   },
   {
    "duration": 28,
    "start_time": "2022-08-08T07:22:34.393Z"
   },
   {
    "duration": 156,
    "start_time": "2022-08-08T07:22:34.423Z"
   },
   {
    "duration": 156,
    "start_time": "2022-08-08T07:22:34.581Z"
   },
   {
    "duration": 8,
    "start_time": "2022-08-08T07:22:34.738Z"
   },
   {
    "duration": 5,
    "start_time": "2022-08-08T07:22:34.747Z"
   },
   {
    "duration": 184,
    "start_time": "2022-08-08T07:22:34.753Z"
   },
   {
    "duration": 9,
    "start_time": "2022-08-08T07:22:34.939Z"
   },
   {
    "duration": 2,
    "start_time": "2022-08-08T07:22:34.950Z"
   },
   {
    "duration": 196,
    "start_time": "2022-08-08T07:22:34.954Z"
   },
   {
    "duration": 8,
    "start_time": "2022-08-08T07:22:35.152Z"
   },
   {
    "duration": 9,
    "start_time": "2022-08-08T07:22:35.161Z"
   },
   {
    "duration": 87,
    "start_time": "2022-08-08T07:22:35.171Z"
   },
   {
    "duration": 19,
    "start_time": "2022-08-08T07:22:35.260Z"
   },
   {
    "duration": 7,
    "start_time": "2022-08-08T07:22:35.281Z"
   },
   {
    "duration": 22,
    "start_time": "2022-08-08T07:22:35.289Z"
   },
   {
    "duration": 153,
    "start_time": "2022-08-08T07:22:35.312Z"
   },
   {
    "duration": 178,
    "start_time": "2022-08-08T07:22:35.466Z"
   },
   {
    "duration": 13,
    "start_time": "2022-08-08T07:22:35.646Z"
   },
   {
    "duration": 24,
    "start_time": "2022-08-08T07:22:35.661Z"
   },
   {
    "duration": 9,
    "start_time": "2022-08-08T07:22:35.687Z"
   },
   {
    "duration": 2525,
    "start_time": "2022-08-08T07:22:35.698Z"
   },
   {
    "duration": 8,
    "start_time": "2022-08-08T07:22:38.224Z"
   },
   {
    "duration": 8,
    "start_time": "2022-08-08T07:22:38.234Z"
   },
   {
    "duration": 18,
    "start_time": "2022-08-08T07:22:38.243Z"
   },
   {
    "duration": 14,
    "start_time": "2022-08-08T07:22:38.263Z"
   },
   {
    "duration": 34,
    "start_time": "2022-08-08T07:22:38.279Z"
   },
   {
    "duration": 271,
    "start_time": "2022-08-08T07:22:38.315Z"
   },
   {
    "duration": 4,
    "start_time": "2022-08-08T07:22:38.588Z"
   },
   {
    "duration": 15,
    "start_time": "2022-08-08T07:23:59.257Z"
   },
   {
    "duration": 12,
    "start_time": "2022-08-08T07:36:51.892Z"
   },
   {
    "duration": 13,
    "start_time": "2022-08-08T07:37:20.088Z"
   },
   {
    "duration": 12,
    "start_time": "2022-08-08T07:57:00.058Z"
   },
   {
    "duration": 14,
    "start_time": "2022-08-08T07:57:41.462Z"
   },
   {
    "duration": 12,
    "start_time": "2022-08-08T07:57:47.567Z"
   },
   {
    "duration": 12,
    "start_time": "2022-08-08T08:00:02.407Z"
   },
   {
    "duration": 10,
    "start_time": "2022-08-08T08:00:52.125Z"
   },
   {
    "duration": 10,
    "start_time": "2022-08-08T09:28:49.196Z"
   },
   {
    "duration": 8,
    "start_time": "2022-08-08T09:32:04.974Z"
   },
   {
    "duration": 11,
    "start_time": "2022-08-08T12:39:04.089Z"
   },
   {
    "duration": 7,
    "start_time": "2022-08-08T12:50:41.340Z"
   },
   {
    "duration": 88,
    "start_time": "2022-08-08T12:52:46.427Z"
   },
   {
    "duration": 22,
    "start_time": "2022-08-08T12:52:46.516Z"
   },
   {
    "duration": 17,
    "start_time": "2022-08-08T12:52:46.539Z"
   },
   {
    "duration": 1676,
    "start_time": "2022-08-08T12:52:46.559Z"
   },
   {
    "duration": 8,
    "start_time": "2022-08-08T12:52:48.237Z"
   },
   {
    "duration": 19,
    "start_time": "2022-08-08T12:52:48.246Z"
   },
   {
    "duration": 11,
    "start_time": "2022-08-08T12:52:48.267Z"
   },
   {
    "duration": 7,
    "start_time": "2022-08-08T12:52:48.279Z"
   },
   {
    "duration": 26,
    "start_time": "2022-08-08T12:52:48.288Z"
   },
   {
    "duration": 35,
    "start_time": "2022-08-08T12:52:48.317Z"
   },
   {
    "duration": 5,
    "start_time": "2022-08-08T12:52:48.354Z"
   },
   {
    "duration": 17,
    "start_time": "2022-08-08T12:52:48.360Z"
   },
   {
    "duration": 8,
    "start_time": "2022-08-08T12:52:48.379Z"
   },
   {
    "duration": 25,
    "start_time": "2022-08-08T12:52:48.388Z"
   },
   {
    "duration": 11,
    "start_time": "2022-08-08T12:52:48.414Z"
   },
   {
    "duration": 4,
    "start_time": "2022-08-08T12:52:48.426Z"
   },
   {
    "duration": 11,
    "start_time": "2022-08-08T12:52:48.431Z"
   },
   {
    "duration": 338,
    "start_time": "2022-08-08T12:52:48.444Z"
   },
   {
    "duration": 3,
    "start_time": "2022-08-08T12:52:48.784Z"
   },
   {
    "duration": 689,
    "start_time": "2022-08-08T12:52:48.789Z"
   },
   {
    "duration": 11,
    "start_time": "2022-08-08T12:52:49.479Z"
   },
   {
    "duration": 19,
    "start_time": "2022-08-08T12:52:49.492Z"
   },
   {
    "duration": 210,
    "start_time": "2022-08-08T12:52:49.512Z"
   },
   {
    "duration": 10,
    "start_time": "2022-08-08T12:52:49.724Z"
   },
   {
    "duration": 7,
    "start_time": "2022-08-08T12:52:49.736Z"
   },
   {
    "duration": 207,
    "start_time": "2022-08-08T12:52:49.744Z"
   },
   {
    "duration": 9,
    "start_time": "2022-08-08T12:52:49.953Z"
   },
   {
    "duration": 21,
    "start_time": "2022-08-08T12:52:49.965Z"
   },
   {
    "duration": 27,
    "start_time": "2022-08-08T12:52:49.987Z"
   },
   {
    "duration": 9,
    "start_time": "2022-08-08T12:52:50.015Z"
   },
   {
    "duration": 6,
    "start_time": "2022-08-08T12:52:50.025Z"
   },
   {
    "duration": 10,
    "start_time": "2022-08-08T12:52:50.033Z"
   },
   {
    "duration": 169,
    "start_time": "2022-08-08T12:52:50.044Z"
   },
   {
    "duration": 12,
    "start_time": "2022-08-08T12:52:50.214Z"
   },
   {
    "duration": 5,
    "start_time": "2022-08-08T12:52:50.227Z"
   },
   {
    "duration": 182,
    "start_time": "2022-08-08T12:52:50.234Z"
   },
   {
    "duration": 8,
    "start_time": "2022-08-08T12:52:50.418Z"
   },
   {
    "duration": 5,
    "start_time": "2022-08-08T12:52:50.427Z"
   },
   {
    "duration": 214,
    "start_time": "2022-08-08T12:52:50.433Z"
   },
   {
    "duration": 9,
    "start_time": "2022-08-08T12:52:50.649Z"
   },
   {
    "duration": 7,
    "start_time": "2022-08-08T12:52:50.660Z"
   },
   {
    "duration": 8,
    "start_time": "2022-08-08T12:52:50.668Z"
   },
   {
    "duration": 7,
    "start_time": "2022-08-08T12:52:50.677Z"
   },
   {
    "duration": 196,
    "start_time": "2022-08-08T12:52:50.685Z"
   },
   {
    "duration": 7,
    "start_time": "2022-08-08T12:52:50.883Z"
   },
   {
    "duration": 19,
    "start_time": "2022-08-08T12:52:50.892Z"
   },
   {
    "duration": 147,
    "start_time": "2022-08-08T12:52:50.913Z"
   },
   {
    "duration": 151,
    "start_time": "2022-08-08T12:52:51.061Z"
   },
   {
    "duration": 8,
    "start_time": "2022-08-08T12:52:51.214Z"
   },
   {
    "duration": 3,
    "start_time": "2022-08-08T12:52:51.223Z"
   },
   {
    "duration": 176,
    "start_time": "2022-08-08T12:52:51.227Z"
   },
   {
    "duration": 14,
    "start_time": "2022-08-08T12:52:51.404Z"
   },
   {
    "duration": 4,
    "start_time": "2022-08-08T12:52:51.419Z"
   },
   {
    "duration": 129,
    "start_time": "2022-08-08T12:52:51.424Z"
   },
   {
    "duration": 10,
    "start_time": "2022-08-08T12:52:51.554Z"
   },
   {
    "duration": 9,
    "start_time": "2022-08-08T12:52:51.566Z"
   },
   {
    "duration": 51,
    "start_time": "2022-08-08T12:52:51.577Z"
   },
   {
    "duration": 16,
    "start_time": "2022-08-08T12:52:51.629Z"
   },
   {
    "duration": 8,
    "start_time": "2022-08-08T12:52:51.647Z"
   },
   {
    "duration": 5,
    "start_time": "2022-08-08T12:52:51.657Z"
   },
   {
    "duration": 182,
    "start_time": "2022-08-08T12:52:51.663Z"
   },
   {
    "duration": 176,
    "start_time": "2022-08-08T12:52:51.847Z"
   },
   {
    "duration": 14,
    "start_time": "2022-08-08T12:52:52.025Z"
   },
   {
    "duration": 15,
    "start_time": "2022-08-08T12:52:52.041Z"
   },
   {
    "duration": 10,
    "start_time": "2022-08-08T12:52:52.057Z"
   },
   {
    "duration": 2426,
    "start_time": "2022-08-08T12:52:52.068Z"
   },
   {
    "duration": 18,
    "start_time": "2022-08-08T12:52:54.496Z"
   },
   {
    "duration": 9,
    "start_time": "2022-08-08T12:52:54.516Z"
   },
   {
    "duration": 15,
    "start_time": "2022-08-08T12:52:54.526Z"
   },
   {
    "duration": 27,
    "start_time": "2022-08-08T12:52:54.543Z"
   },
   {
    "duration": 7,
    "start_time": "2022-08-08T12:52:54.572Z"
   },
   {
    "duration": 264,
    "start_time": "2022-08-08T12:52:54.580Z"
   },
   {
    "duration": 5,
    "start_time": "2022-08-08T12:52:54.846Z"
   },
   {
    "duration": 588,
    "start_time": "2022-08-08T13:11:58.649Z"
   },
   {
    "duration": 46,
    "start_time": "2022-08-08T13:11:59.242Z"
   },
   {
    "duration": 16,
    "start_time": "2022-08-08T13:11:59.290Z"
   },
   {
    "duration": 2498,
    "start_time": "2022-08-08T13:11:59.308Z"
   },
   {
    "duration": 10,
    "start_time": "2022-08-08T13:12:01.808Z"
   },
   {
    "duration": 48,
    "start_time": "2022-08-08T13:12:01.820Z"
   },
   {
    "duration": 16,
    "start_time": "2022-08-08T13:12:01.869Z"
   },
   {
    "duration": 15,
    "start_time": "2022-08-08T13:12:01.886Z"
   },
   {
    "duration": 8,
    "start_time": "2022-08-08T13:12:01.904Z"
   },
   {
    "duration": 57,
    "start_time": "2022-08-08T13:12:01.913Z"
   },
   {
    "duration": 5,
    "start_time": "2022-08-08T13:12:01.972Z"
   },
   {
    "duration": 38,
    "start_time": "2022-08-08T13:12:01.979Z"
   },
   {
    "duration": 19,
    "start_time": "2022-08-08T13:12:02.020Z"
   },
   {
    "duration": 14,
    "start_time": "2022-08-08T13:12:02.041Z"
   },
   {
    "duration": 20,
    "start_time": "2022-08-08T13:12:02.057Z"
   },
   {
    "duration": 6,
    "start_time": "2022-08-08T13:12:02.079Z"
   },
   {
    "duration": 20,
    "start_time": "2022-08-08T13:12:02.087Z"
   },
   {
    "duration": 342,
    "start_time": "2022-08-08T13:12:02.109Z"
   },
   {
    "duration": 4,
    "start_time": "2022-08-08T13:12:02.452Z"
   },
   {
    "duration": 377,
    "start_time": "2022-08-08T13:12:02.458Z"
   },
   {
    "duration": 12,
    "start_time": "2022-08-08T13:12:02.837Z"
   },
   {
    "duration": 20,
    "start_time": "2022-08-08T13:12:02.851Z"
   },
   {
    "duration": 272,
    "start_time": "2022-08-08T13:12:02.873Z"
   },
   {
    "duration": 23,
    "start_time": "2022-08-08T13:12:03.147Z"
   },
   {
    "duration": 9,
    "start_time": "2022-08-08T13:12:03.172Z"
   },
   {
    "duration": 323,
    "start_time": "2022-08-08T13:12:03.182Z"
   },
   {
    "duration": 15,
    "start_time": "2022-08-08T13:12:03.511Z"
   },
   {
    "duration": 47,
    "start_time": "2022-08-08T13:12:03.528Z"
   },
   {
    "duration": 11,
    "start_time": "2022-08-08T13:12:03.577Z"
   },
   {
    "duration": 12,
    "start_time": "2022-08-08T13:12:03.590Z"
   },
   {
    "duration": 12,
    "start_time": "2022-08-08T13:12:03.604Z"
   },
   {
    "duration": 18,
    "start_time": "2022-08-08T13:12:03.618Z"
   },
   {
    "duration": 224,
    "start_time": "2022-08-08T13:12:03.638Z"
   },
   {
    "duration": 14,
    "start_time": "2022-08-08T13:12:03.868Z"
   },
   {
    "duration": 6,
    "start_time": "2022-08-08T13:12:03.883Z"
   },
   {
    "duration": 231,
    "start_time": "2022-08-08T13:12:03.891Z"
   },
   {
    "duration": 11,
    "start_time": "2022-08-08T13:12:04.125Z"
   },
   {
    "duration": 12,
    "start_time": "2022-08-08T13:12:04.138Z"
   },
   {
    "duration": 295,
    "start_time": "2022-08-08T13:12:04.152Z"
   },
   {
    "duration": 25,
    "start_time": "2022-08-08T13:12:04.449Z"
   },
   {
    "duration": 10,
    "start_time": "2022-08-08T13:12:04.476Z"
   },
   {
    "duration": 11,
    "start_time": "2022-08-08T13:12:04.488Z"
   },
   {
    "duration": 19,
    "start_time": "2022-08-08T13:12:04.500Z"
   },
   {
    "duration": 240,
    "start_time": "2022-08-08T13:12:04.521Z"
   },
   {
    "duration": 10,
    "start_time": "2022-08-08T13:12:04.767Z"
   },
   {
    "duration": 12,
    "start_time": "2022-08-08T13:12:04.779Z"
   },
   {
    "duration": 205,
    "start_time": "2022-08-08T13:12:04.793Z"
   },
   {
    "duration": 196,
    "start_time": "2022-08-08T13:12:05.000Z"
   },
   {
    "duration": 11,
    "start_time": "2022-08-08T13:12:05.198Z"
   },
   {
    "duration": 8,
    "start_time": "2022-08-08T13:12:05.211Z"
   },
   {
    "duration": 227,
    "start_time": "2022-08-08T13:12:05.221Z"
   },
   {
    "duration": 25,
    "start_time": "2022-08-08T13:12:05.450Z"
   },
   {
    "duration": 3,
    "start_time": "2022-08-08T13:12:05.477Z"
   },
   {
    "duration": 168,
    "start_time": "2022-08-08T13:12:05.482Z"
   },
   {
    "duration": 19,
    "start_time": "2022-08-08T13:12:05.652Z"
   },
   {
    "duration": 11,
    "start_time": "2022-08-08T13:12:05.673Z"
   },
   {
    "duration": 87,
    "start_time": "2022-08-08T13:12:05.685Z"
   },
   {
    "duration": 21,
    "start_time": "2022-08-08T13:12:05.774Z"
   },
   {
    "duration": 10,
    "start_time": "2022-08-08T13:12:05.797Z"
   },
   {
    "duration": 15,
    "start_time": "2022-08-08T13:12:05.809Z"
   },
   {
    "duration": 311,
    "start_time": "2022-08-08T13:12:05.826Z"
   },
   {
    "duration": 225,
    "start_time": "2022-08-08T13:12:06.139Z"
   },
   {
    "duration": 16,
    "start_time": "2022-08-08T13:12:06.368Z"
   },
   {
    "duration": 19,
    "start_time": "2022-08-08T13:12:06.387Z"
   },
   {
    "duration": 12,
    "start_time": "2022-08-08T13:12:06.408Z"
   },
   {
    "duration": 2809,
    "start_time": "2022-08-08T13:12:06.422Z"
   },
   {
    "duration": 8,
    "start_time": "2022-08-08T13:12:09.233Z"
   },
   {
    "duration": 25,
    "start_time": "2022-08-08T13:12:09.243Z"
   },
   {
    "duration": 19,
    "start_time": "2022-08-08T13:12:09.270Z"
   },
   {
    "duration": 17,
    "start_time": "2022-08-08T13:12:09.291Z"
   },
   {
    "duration": 4,
    "start_time": "2022-08-08T13:12:09.311Z"
   },
   {
    "duration": 498,
    "start_time": "2022-08-08T13:12:09.317Z"
   },
   {
    "duration": 6,
    "start_time": "2022-08-08T13:12:09.817Z"
   },
   {
    "duration": 533,
    "start_time": "2022-08-08T13:15:29.792Z"
   },
   {
    "duration": 35,
    "start_time": "2022-08-08T13:15:30.327Z"
   },
   {
    "duration": 16,
    "start_time": "2022-08-08T13:15:30.368Z"
   },
   {
    "duration": 2412,
    "start_time": "2022-08-08T13:15:30.386Z"
   },
   {
    "duration": 10,
    "start_time": "2022-08-08T13:15:32.799Z"
   },
   {
    "duration": 34,
    "start_time": "2022-08-08T13:15:32.811Z"
   },
   {
    "duration": 26,
    "start_time": "2022-08-08T13:15:32.847Z"
   },
   {
    "duration": 8,
    "start_time": "2022-08-08T13:15:32.875Z"
   },
   {
    "duration": 7,
    "start_time": "2022-08-08T13:15:32.885Z"
   },
   {
    "duration": 39,
    "start_time": "2022-08-08T13:15:32.895Z"
   },
   {
    "duration": 7,
    "start_time": "2022-08-08T13:15:32.936Z"
   },
   {
    "duration": 37,
    "start_time": "2022-08-08T13:15:32.945Z"
   },
   {
    "duration": 16,
    "start_time": "2022-08-08T13:15:32.984Z"
   },
   {
    "duration": 13,
    "start_time": "2022-08-08T13:15:33.002Z"
   },
   {
    "duration": 13,
    "start_time": "2022-08-08T13:15:33.017Z"
   },
   {
    "duration": 4,
    "start_time": "2022-08-08T13:15:33.032Z"
   },
   {
    "duration": 31,
    "start_time": "2022-08-08T13:15:33.038Z"
   },
   {
    "duration": 351,
    "start_time": "2022-08-08T13:15:33.071Z"
   },
   {
    "duration": 3,
    "start_time": "2022-08-08T13:15:33.425Z"
   },
   {
    "duration": 368,
    "start_time": "2022-08-08T13:15:33.430Z"
   },
   {
    "duration": 13,
    "start_time": "2022-08-08T13:15:33.800Z"
   },
   {
    "duration": 31,
    "start_time": "2022-08-08T13:15:33.815Z"
   },
   {
    "duration": 256,
    "start_time": "2022-08-08T13:15:33.848Z"
   },
   {
    "duration": 12,
    "start_time": "2022-08-08T13:15:34.106Z"
   },
   {
    "duration": 7,
    "start_time": "2022-08-08T13:15:34.119Z"
   },
   {
    "duration": 315,
    "start_time": "2022-08-08T13:15:34.128Z"
   },
   {
    "duration": 24,
    "start_time": "2022-08-08T13:15:34.445Z"
   },
   {
    "duration": 28,
    "start_time": "2022-08-08T13:15:34.474Z"
   },
   {
    "duration": 10,
    "start_time": "2022-08-08T13:15:34.504Z"
   },
   {
    "duration": 10,
    "start_time": "2022-08-08T13:15:34.515Z"
   },
   {
    "duration": 6,
    "start_time": "2022-08-08T13:15:34.527Z"
   },
   {
    "duration": 40,
    "start_time": "2022-08-08T13:15:34.535Z"
   },
   {
    "duration": 204,
    "start_time": "2022-08-08T13:15:34.577Z"
   },
   {
    "duration": 14,
    "start_time": "2022-08-08T13:15:34.783Z"
   },
   {
    "duration": 6,
    "start_time": "2022-08-08T13:15:34.798Z"
   },
   {
    "duration": 223,
    "start_time": "2022-08-08T13:15:34.805Z"
   },
   {
    "duration": 9,
    "start_time": "2022-08-08T13:15:35.030Z"
   },
   {
    "duration": 8,
    "start_time": "2022-08-08T13:15:35.041Z"
   },
   {
    "duration": 259,
    "start_time": "2022-08-08T13:15:35.067Z"
   },
   {
    "duration": 12,
    "start_time": "2022-08-08T13:15:35.328Z"
   },
   {
    "duration": 26,
    "start_time": "2022-08-08T13:15:35.342Z"
   },
   {
    "duration": 11,
    "start_time": "2022-08-08T13:15:35.369Z"
   },
   {
    "duration": 8,
    "start_time": "2022-08-08T13:15:35.381Z"
   },
   {
    "duration": 231,
    "start_time": "2022-08-08T13:15:35.390Z"
   },
   {
    "duration": 11,
    "start_time": "2022-08-08T13:15:35.624Z"
   },
   {
    "duration": 13,
    "start_time": "2022-08-08T13:15:35.637Z"
   },
   {
    "duration": 189,
    "start_time": "2022-08-08T13:15:35.669Z"
   },
   {
    "duration": 179,
    "start_time": "2022-08-08T13:15:35.867Z"
   },
   {
    "duration": 20,
    "start_time": "2022-08-08T13:15:36.048Z"
   },
   {
    "duration": 4,
    "start_time": "2022-08-08T13:15:36.069Z"
   },
   {
    "duration": 210,
    "start_time": "2022-08-08T13:15:36.075Z"
   },
   {
    "duration": 11,
    "start_time": "2022-08-08T13:15:36.286Z"
   },
   {
    "duration": 5,
    "start_time": "2022-08-08T13:15:36.299Z"
   },
   {
    "duration": 148,
    "start_time": "2022-08-08T13:15:36.306Z"
   },
   {
    "duration": 22,
    "start_time": "2022-08-08T13:15:36.456Z"
   },
   {
    "duration": 11,
    "start_time": "2022-08-08T13:15:36.480Z"
   },
   {
    "duration": 92,
    "start_time": "2022-08-08T13:15:36.493Z"
   },
   {
    "duration": 26,
    "start_time": "2022-08-08T13:15:36.587Z"
   },
   {
    "duration": 11,
    "start_time": "2022-08-08T13:15:36.615Z"
   },
   {
    "duration": 11,
    "start_time": "2022-08-08T13:15:36.628Z"
   },
   {
    "duration": 392,
    "start_time": "2022-08-08T13:15:36.642Z"
   },
   {
    "duration": 220,
    "start_time": "2022-08-08T13:15:37.035Z"
   },
   {
    "duration": 26,
    "start_time": "2022-08-08T13:15:37.257Z"
   },
   {
    "duration": 18,
    "start_time": "2022-08-08T13:15:37.285Z"
   },
   {
    "duration": 17,
    "start_time": "2022-08-08T13:15:37.305Z"
   },
   {
    "duration": 2716,
    "start_time": "2022-08-08T13:15:37.323Z"
   },
   {
    "duration": 8,
    "start_time": "2022-08-08T13:15:40.041Z"
   },
   {
    "duration": 134,
    "start_time": "2022-08-08T13:15:40.051Z"
   },
   {
    "duration": 132,
    "start_time": "2022-08-08T13:15:40.187Z"
   },
   {
    "duration": 51,
    "start_time": "2022-08-08T13:15:40.322Z"
   },
   {
    "duration": 41,
    "start_time": "2022-08-08T13:15:40.375Z"
   },
   {
    "duration": 485,
    "start_time": "2022-08-08T13:15:40.418Z"
   },
   {
    "duration": 5,
    "start_time": "2022-08-08T13:15:40.905Z"
   },
   {
    "duration": 16,
    "start_time": "2022-08-08T13:22:52.332Z"
   },
   {
    "duration": 2622,
    "start_time": "2022-08-08T13:45:19.886Z"
   },
   {
    "duration": 123,
    "start_time": "2022-08-10T10:49:38.300Z"
   },
   {
    "duration": 38,
    "start_time": "2022-08-10T11:01:04.345Z"
   },
   {
    "duration": 602,
    "start_time": "2022-08-10T11:01:57.763Z"
   },
   {
    "duration": 31,
    "start_time": "2022-08-10T11:01:58.367Z"
   },
   {
    "duration": 22,
    "start_time": "2022-08-10T11:01:58.400Z"
   },
   {
    "duration": 2448,
    "start_time": "2022-08-10T11:01:58.424Z"
   },
   {
    "duration": 9,
    "start_time": "2022-08-10T11:02:00.874Z"
   },
   {
    "duration": 60,
    "start_time": "2022-08-10T11:02:00.885Z"
   },
   {
    "duration": 12,
    "start_time": "2022-08-10T11:02:00.947Z"
   },
   {
    "duration": 7,
    "start_time": "2022-08-10T11:02:00.961Z"
   },
   {
    "duration": 8,
    "start_time": "2022-08-10T11:02:00.970Z"
   },
   {
    "duration": 43,
    "start_time": "2022-08-10T11:02:00.980Z"
   },
   {
    "duration": 17,
    "start_time": "2022-08-10T11:02:01.025Z"
   },
   {
    "duration": 27,
    "start_time": "2022-08-10T11:02:01.043Z"
   },
   {
    "duration": 16,
    "start_time": "2022-08-10T11:02:01.072Z"
   },
   {
    "duration": 19,
    "start_time": "2022-08-10T11:02:01.090Z"
   },
   {
    "duration": 229922,
    "start_time": "2022-08-10T11:02:35.042Z"
   },
   {
    "duration": 68,
    "start_time": "2022-08-10T11:06:24.966Z"
   },
   {
    "duration": 100,
    "start_time": "2022-08-10T11:08:12.148Z"
   },
   {
    "duration": 115,
    "start_time": "2022-08-10T11:08:39.808Z"
   },
   {
    "duration": 135,
    "start_time": "2022-08-10T11:09:01.013Z"
   },
   {
    "duration": 99,
    "start_time": "2022-08-10T11:15:20.342Z"
   },
   {
    "duration": 103,
    "start_time": "2022-08-10T11:15:26.757Z"
   },
   {
    "duration": 99,
    "start_time": "2022-08-10T11:15:51.161Z"
   },
   {
    "duration": 121,
    "start_time": "2022-08-10T11:15:55.537Z"
   },
   {
    "duration": 95,
    "start_time": "2022-08-10T11:16:14.900Z"
   },
   {
    "duration": 90,
    "start_time": "2022-08-10T11:16:22.324Z"
   },
   {
    "duration": 96,
    "start_time": "2022-08-10T11:17:33.684Z"
   },
   {
    "duration": 92,
    "start_time": "2022-08-10T11:17:47.046Z"
   },
   {
    "duration": 30,
    "start_time": "2022-08-10T11:23:25.246Z"
   },
   {
    "duration": 8,
    "start_time": "2022-08-10T11:23:27.013Z"
   },
   {
    "duration": 7,
    "start_time": "2022-08-10T11:23:43.360Z"
   },
   {
    "duration": 12,
    "start_time": "2022-08-10T11:23:45.530Z"
   },
   {
    "duration": 103,
    "start_time": "2022-08-10T11:24:44.585Z"
   },
   {
    "duration": 143,
    "start_time": "2022-08-10T11:25:20.324Z"
   },
   {
    "duration": 7,
    "start_time": "2022-08-10T11:26:18.827Z"
   },
   {
    "duration": 5,
    "start_time": "2022-08-10T11:26:26.780Z"
   },
   {
    "duration": 6,
    "start_time": "2022-08-10T11:27:19.618Z"
   },
   {
    "duration": 37,
    "start_time": "2022-08-10T11:32:16.067Z"
   },
   {
    "duration": 28,
    "start_time": "2022-08-10T11:32:39.928Z"
   },
   {
    "duration": 72,
    "start_time": "2022-08-10T11:33:57.306Z"
   },
   {
    "duration": 112,
    "start_time": "2022-08-10T11:34:09.827Z"
   },
   {
    "duration": 9,
    "start_time": "2022-08-10T11:35:16.825Z"
   },
   {
    "duration": 6,
    "start_time": "2022-08-10T11:36:26.185Z"
   },
   {
    "duration": 20,
    "start_time": "2022-08-10T11:36:42.907Z"
   },
   {
    "duration": 10,
    "start_time": "2022-08-10T11:36:51.677Z"
   },
   {
    "duration": 72,
    "start_time": "2022-08-10T11:53:01.430Z"
   },
   {
    "duration": 8,
    "start_time": "2022-08-10T11:54:19.272Z"
   },
   {
    "duration": 38,
    "start_time": "2022-08-10T11:54:30.913Z"
   },
   {
    "duration": 3,
    "start_time": "2022-08-10T11:54:35.337Z"
   },
   {
    "duration": 11,
    "start_time": "2022-08-10T11:54:44.796Z"
   },
   {
    "duration": 79,
    "start_time": "2022-08-10T11:57:21.259Z"
   },
   {
    "duration": 114,
    "start_time": "2022-08-10T11:59:20.274Z"
   },
   {
    "duration": 15,
    "start_time": "2022-08-10T11:59:28.059Z"
   },
   {
    "duration": 88,
    "start_time": "2022-08-10T12:05:22.477Z"
   },
   {
    "duration": 14,
    "start_time": "2022-08-10T12:05:28.678Z"
   },
   {
    "duration": 25,
    "start_time": "2022-08-10T12:05:57.836Z"
   },
   {
    "duration": 14,
    "start_time": "2022-08-10T12:05:59.304Z"
   },
   {
    "duration": 19,
    "start_time": "2022-08-10T12:06:22.644Z"
   },
   {
    "duration": 9,
    "start_time": "2022-08-10T12:06:23.740Z"
   },
   {
    "duration": 6,
    "start_time": "2022-08-10T12:26:04.695Z"
   },
   {
    "duration": 9,
    "start_time": "2022-08-10T12:26:05.999Z"
   },
   {
    "duration": 9,
    "start_time": "2022-08-10T12:26:07.287Z"
   },
   {
    "duration": 10,
    "start_time": "2022-08-10T12:27:06.286Z"
   },
   {
    "duration": 96,
    "start_time": "2022-08-10T12:28:24.247Z"
   },
   {
    "duration": 71,
    "start_time": "2022-08-10T12:28:35.120Z"
   },
   {
    "duration": 4,
    "start_time": "2022-08-10T12:30:35.511Z"
   },
   {
    "duration": 5,
    "start_time": "2022-08-10T12:30:50.649Z"
   },
   {
    "duration": 7,
    "start_time": "2022-08-10T12:57:47.160Z"
   },
   {
    "duration": 11,
    "start_time": "2022-08-10T13:11:04.710Z"
   },
   {
    "duration": 80,
    "start_time": "2022-08-10T13:11:25.018Z"
   },
   {
    "duration": 27,
    "start_time": "2022-08-10T13:11:25.100Z"
   },
   {
    "duration": 23,
    "start_time": "2022-08-10T13:11:25.129Z"
   },
   {
    "duration": 2045,
    "start_time": "2022-08-10T13:11:25.154Z"
   },
   {
    "duration": 10,
    "start_time": "2022-08-10T13:11:27.200Z"
   },
   {
    "duration": 14,
    "start_time": "2022-08-10T13:11:27.212Z"
   },
   {
    "duration": 21,
    "start_time": "2022-08-10T13:11:27.228Z"
   },
   {
    "duration": 13,
    "start_time": "2022-08-10T13:11:27.251Z"
   },
   {
    "duration": 45,
    "start_time": "2022-08-10T13:11:27.265Z"
   },
   {
    "duration": 9,
    "start_time": "2022-08-10T13:11:27.313Z"
   },
   {
    "duration": 35,
    "start_time": "2022-08-10T13:11:27.324Z"
   },
   {
    "duration": 6,
    "start_time": "2022-08-10T13:11:27.361Z"
   },
   {
    "duration": 14,
    "start_time": "2022-08-10T13:11:27.368Z"
   },
   {
    "duration": 5,
    "start_time": "2022-08-10T13:11:27.384Z"
   },
   {
    "duration": 5,
    "start_time": "2022-08-10T13:11:27.406Z"
   },
   {
    "duration": 102,
    "start_time": "2022-08-10T13:11:27.412Z"
   },
   {
    "duration": 6,
    "start_time": "2022-08-10T13:11:27.516Z"
   },
   {
    "duration": 11,
    "start_time": "2022-08-10T13:11:27.524Z"
   },
   {
    "duration": 117,
    "start_time": "2022-08-10T13:11:27.536Z"
   },
   {
    "duration": 7,
    "start_time": "2022-08-10T13:11:27.655Z"
   },
   {
    "duration": 9,
    "start_time": "2022-08-10T13:11:27.663Z"
   },
   {
    "duration": 11,
    "start_time": "2022-08-10T13:11:27.674Z"
   },
   {
    "duration": 32,
    "start_time": "2022-08-10T13:11:27.687Z"
   },
   {
    "duration": 5,
    "start_time": "2022-08-10T13:11:27.721Z"
   },
   {
    "duration": 13,
    "start_time": "2022-08-10T13:11:27.728Z"
   },
   {
    "duration": 6,
    "start_time": "2022-08-10T13:11:27.742Z"
   },
   {
    "duration": 407,
    "start_time": "2022-08-10T13:11:27.750Z"
   },
   {
    "duration": 4,
    "start_time": "2022-08-10T13:11:28.160Z"
   },
   {
    "duration": 319,
    "start_time": "2022-08-10T13:11:28.166Z"
   },
   {
    "duration": 20,
    "start_time": "2022-08-10T13:11:28.486Z"
   },
   {
    "duration": 9,
    "start_time": "2022-08-10T13:11:28.507Z"
   },
   {
    "duration": 223,
    "start_time": "2022-08-10T13:11:28.518Z"
   },
   {
    "duration": 13,
    "start_time": "2022-08-10T13:11:28.743Z"
   },
   {
    "duration": 8,
    "start_time": "2022-08-10T13:11:28.758Z"
   },
   {
    "duration": 193,
    "start_time": "2022-08-10T13:11:28.768Z"
   },
   {
    "duration": 9,
    "start_time": "2022-08-10T13:11:28.963Z"
   },
   {
    "duration": 47,
    "start_time": "2022-08-10T13:11:28.973Z"
   },
   {
    "duration": 9,
    "start_time": "2022-08-10T13:11:29.022Z"
   },
   {
    "duration": 6,
    "start_time": "2022-08-10T13:11:29.033Z"
   },
   {
    "duration": 5,
    "start_time": "2022-08-10T13:11:29.040Z"
   },
   {
    "duration": 9,
    "start_time": "2022-08-10T13:11:29.046Z"
   },
   {
    "duration": 197,
    "start_time": "2022-08-10T13:11:29.056Z"
   },
   {
    "duration": 9,
    "start_time": "2022-08-10T13:11:29.255Z"
   },
   {
    "duration": 10,
    "start_time": "2022-08-10T13:11:29.265Z"
   },
   {
    "duration": 174,
    "start_time": "2022-08-10T13:11:29.276Z"
   },
   {
    "duration": 9,
    "start_time": "2022-08-10T13:11:29.452Z"
   },
   {
    "duration": 6,
    "start_time": "2022-08-10T13:11:29.463Z"
   },
   {
    "duration": 231,
    "start_time": "2022-08-10T13:11:29.470Z"
   },
   {
    "duration": 12,
    "start_time": "2022-08-10T13:11:29.706Z"
   },
   {
    "duration": 16,
    "start_time": "2022-08-10T13:11:29.720Z"
   },
   {
    "duration": 8,
    "start_time": "2022-08-10T13:11:29.738Z"
   },
   {
    "duration": 6,
    "start_time": "2022-08-10T13:11:29.748Z"
   },
   {
    "duration": 201,
    "start_time": "2022-08-10T13:11:29.755Z"
   },
   {
    "duration": 10,
    "start_time": "2022-08-10T13:11:29.957Z"
   },
   {
    "duration": 13,
    "start_time": "2022-08-10T13:12:03.268Z"
   },
   {
    "duration": 14,
    "start_time": "2022-08-10T13:12:33.680Z"
   },
   {
    "duration": 12,
    "start_time": "2022-08-10T13:12:38.136Z"
   },
   {
    "duration": 11,
    "start_time": "2022-08-10T13:12:48.405Z"
   },
   {
    "duration": 14,
    "start_time": "2022-08-10T13:13:05.203Z"
   },
   {
    "duration": 11,
    "start_time": "2022-08-10T13:13:17.957Z"
   },
   {
    "duration": 10,
    "start_time": "2022-08-10T13:24:06.050Z"
   },
   {
    "duration": 10,
    "start_time": "2022-08-10T13:24:25.492Z"
   },
   {
    "duration": 146,
    "start_time": "2022-08-10T13:25:21.715Z"
   },
   {
    "duration": 27,
    "start_time": "2022-08-10T13:25:26.032Z"
   },
   {
    "duration": 264,
    "start_time": "2022-08-10T13:27:40.627Z"
   },
   {
    "duration": 8,
    "start_time": "2022-08-10T13:28:02.125Z"
   },
   {
    "duration": 8,
    "start_time": "2022-08-10T13:28:06.830Z"
   },
   {
    "duration": 290,
    "start_time": "2022-08-10T13:28:30.816Z"
   },
   {
    "duration": 16,
    "start_time": "2022-08-10T13:31:01.979Z"
   },
   {
    "duration": 142,
    "start_time": "2022-08-10T13:33:19.474Z"
   },
   {
    "duration": 116,
    "start_time": "2022-08-10T13:33:38.452Z"
   },
   {
    "duration": 120,
    "start_time": "2022-08-10T13:33:59.896Z"
   },
   {
    "duration": 104,
    "start_time": "2022-08-10T13:34:06.880Z"
   },
   {
    "duration": 80,
    "start_time": "2022-08-10T13:34:27.370Z"
   },
   {
    "duration": 103,
    "start_time": "2022-08-10T13:34:32.210Z"
   },
   {
    "duration": 95,
    "start_time": "2022-08-10T13:34:46.700Z"
   },
   {
    "duration": 4,
    "start_time": "2022-08-10T13:37:03.675Z"
   },
   {
    "duration": 18,
    "start_time": "2022-08-10T13:37:06.107Z"
   },
   {
    "duration": 126,
    "start_time": "2022-08-10T13:38:25.974Z"
   },
   {
    "duration": 125,
    "start_time": "2022-08-10T13:38:34.798Z"
   },
   {
    "duration": 105,
    "start_time": "2022-08-10T13:38:39.543Z"
   },
   {
    "duration": 105,
    "start_time": "2022-08-10T13:39:09.083Z"
   },
   {
    "duration": 106,
    "start_time": "2022-08-10T13:39:23.276Z"
   },
   {
    "duration": 7,
    "start_time": "2022-08-10T14:02:52.730Z"
   },
   {
    "duration": 12,
    "start_time": "2022-08-10T14:04:03.186Z"
   },
   {
    "duration": 15,
    "start_time": "2022-08-10T14:05:07.424Z"
   },
   {
    "duration": 83,
    "start_time": "2022-08-10T14:07:14.383Z"
   },
   {
    "duration": 82,
    "start_time": "2022-08-10T14:08:46.772Z"
   },
   {
    "duration": 23,
    "start_time": "2022-08-10T14:08:46.856Z"
   },
   {
    "duration": 37,
    "start_time": "2022-08-10T14:08:46.880Z"
   },
   {
    "duration": 1844,
    "start_time": "2022-08-10T14:08:46.920Z"
   },
   {
    "duration": 9,
    "start_time": "2022-08-10T14:08:48.765Z"
   },
   {
    "duration": 14,
    "start_time": "2022-08-10T14:08:48.775Z"
   },
   {
    "duration": 38,
    "start_time": "2022-08-10T14:08:48.790Z"
   },
   {
    "duration": 11,
    "start_time": "2022-08-10T14:08:48.829Z"
   },
   {
    "duration": 7,
    "start_time": "2022-08-10T14:08:48.841Z"
   },
   {
    "duration": 8,
    "start_time": "2022-08-10T14:08:48.850Z"
   },
   {
    "duration": 57,
    "start_time": "2022-08-10T14:08:48.859Z"
   },
   {
    "duration": 9,
    "start_time": "2022-08-10T14:08:48.918Z"
   },
   {
    "duration": 15,
    "start_time": "2022-08-10T14:08:48.928Z"
   },
   {
    "duration": 8,
    "start_time": "2022-08-10T14:08:48.944Z"
   },
   {
    "duration": 8,
    "start_time": "2022-08-10T14:08:48.953Z"
   },
   {
    "duration": 479,
    "start_time": "2022-08-10T14:08:48.962Z"
   },
   {
    "duration": 6,
    "start_time": "2022-08-10T14:08:49.442Z"
   },
   {
    "duration": 10,
    "start_time": "2022-08-10T14:08:49.450Z"
   },
   {
    "duration": 113,
    "start_time": "2022-08-10T14:08:49.461Z"
   },
   {
    "duration": 6,
    "start_time": "2022-08-10T14:08:49.576Z"
   },
   {
    "duration": 6,
    "start_time": "2022-08-10T14:08:49.584Z"
   },
   {
    "duration": 24,
    "start_time": "2022-08-10T14:08:49.591Z"
   },
   {
    "duration": 17,
    "start_time": "2022-08-10T14:08:49.616Z"
   },
   {
    "duration": 4,
    "start_time": "2022-08-10T14:08:49.634Z"
   },
   {
    "duration": 15,
    "start_time": "2022-08-10T14:08:49.639Z"
   },
   {
    "duration": 6,
    "start_time": "2022-08-10T14:08:49.655Z"
   },
   {
    "duration": 381,
    "start_time": "2022-08-10T14:08:49.662Z"
   },
   {
    "duration": 4,
    "start_time": "2022-08-10T14:08:50.046Z"
   },
   {
    "duration": 371,
    "start_time": "2022-08-10T14:08:50.052Z"
   },
   {
    "duration": 12,
    "start_time": "2022-08-10T14:08:50.425Z"
   },
   {
    "duration": 8,
    "start_time": "2022-08-10T14:08:50.439Z"
   },
   {
    "duration": 289,
    "start_time": "2022-08-10T14:08:50.448Z"
   },
   {
    "duration": 12,
    "start_time": "2022-08-10T14:08:50.738Z"
   },
   {
    "duration": 8,
    "start_time": "2022-08-10T14:08:50.751Z"
   },
   {
    "duration": 236,
    "start_time": "2022-08-10T14:08:50.761Z"
   },
   {
    "duration": 25,
    "start_time": "2022-08-10T14:08:50.998Z"
   },
   {
    "duration": 25,
    "start_time": "2022-08-10T14:08:51.025Z"
   },
   {
    "duration": 9,
    "start_time": "2022-08-10T14:08:51.052Z"
   },
   {
    "duration": 7,
    "start_time": "2022-08-10T14:08:51.062Z"
   },
   {
    "duration": 5,
    "start_time": "2022-08-10T14:08:51.071Z"
   },
   {
    "duration": 34,
    "start_time": "2022-08-10T14:08:51.078Z"
   },
   {
    "duration": 203,
    "start_time": "2022-08-10T14:08:51.114Z"
   },
   {
    "duration": 12,
    "start_time": "2022-08-10T14:08:51.319Z"
   },
   {
    "duration": 5,
    "start_time": "2022-08-10T14:08:51.332Z"
   },
   {
    "duration": 211,
    "start_time": "2022-08-10T14:08:51.339Z"
   },
   {
    "duration": 9,
    "start_time": "2022-08-10T14:08:51.552Z"
   },
   {
    "duration": 11,
    "start_time": "2022-08-10T14:08:51.562Z"
   },
   {
    "duration": 255,
    "start_time": "2022-08-10T14:08:51.575Z"
   },
   {
    "duration": 10,
    "start_time": "2022-08-10T14:08:51.832Z"
   },
   {
    "duration": 8,
    "start_time": "2022-08-10T14:08:51.844Z"
   },
   {
    "duration": 9,
    "start_time": "2022-08-10T14:08:51.853Z"
   },
   {
    "duration": 7,
    "start_time": "2022-08-10T14:08:51.863Z"
   },
   {
    "duration": 254,
    "start_time": "2022-08-10T14:08:51.872Z"
   },
   {
    "duration": 11,
    "start_time": "2022-08-10T14:08:52.127Z"
   },
   {
    "duration": 140,
    "start_time": "2022-08-10T14:08:52.140Z"
   },
   {
    "duration": 10,
    "start_time": "2022-08-10T14:08:52.282Z"
   },
   {
    "duration": 177,
    "start_time": "2022-08-10T14:08:52.294Z"
   },
   {
    "duration": 184,
    "start_time": "2022-08-10T14:08:52.473Z"
   },
   {
    "duration": 10,
    "start_time": "2022-08-10T14:08:52.659Z"
   },
   {
    "duration": 31,
    "start_time": "2022-08-10T14:08:52.670Z"
   },
   {
    "duration": 209,
    "start_time": "2022-08-10T14:08:52.702Z"
   },
   {
    "duration": 12,
    "start_time": "2022-08-10T14:08:52.916Z"
   },
   {
    "duration": 8,
    "start_time": "2022-08-10T14:08:52.930Z"
   },
   {
    "duration": 151,
    "start_time": "2022-08-10T14:08:52.940Z"
   },
   {
    "duration": 13,
    "start_time": "2022-08-10T14:08:53.093Z"
   },
   {
    "duration": 16,
    "start_time": "2022-08-10T14:08:53.108Z"
   },
   {
    "duration": 61,
    "start_time": "2022-08-10T14:08:53.126Z"
   },
   {
    "duration": 20,
    "start_time": "2022-08-10T14:08:53.189Z"
   },
   {
    "duration": 21,
    "start_time": "2022-08-10T14:08:53.211Z"
   },
   {
    "duration": 21,
    "start_time": "2022-08-10T14:08:53.235Z"
   },
   {
    "duration": 223,
    "start_time": "2022-08-10T14:08:53.259Z"
   },
   {
    "duration": 208,
    "start_time": "2022-08-10T14:08:53.484Z"
   },
   {
    "duration": 16,
    "start_time": "2022-08-10T14:08:53.694Z"
   },
   {
    "duration": 31,
    "start_time": "2022-08-10T14:08:53.712Z"
   },
   {
    "duration": 20,
    "start_time": "2022-08-10T14:08:53.745Z"
   },
   {
    "duration": 12,
    "start_time": "2022-08-10T14:08:53.767Z"
   },
   {
    "duration": 0,
    "start_time": "2022-08-10T14:08:53.780Z"
   },
   {
    "duration": 0,
    "start_time": "2022-08-10T14:08:53.782Z"
   },
   {
    "duration": 10,
    "start_time": "2022-08-10T14:08:59.113Z"
   },
   {
    "duration": 26,
    "start_time": "2022-08-10T14:09:05.596Z"
   },
   {
    "duration": 8,
    "start_time": "2022-08-10T14:09:16.541Z"
   },
   {
    "duration": 9,
    "start_time": "2022-08-10T14:09:18.795Z"
   },
   {
    "duration": 15,
    "start_time": "2022-08-10T14:09:20.126Z"
   },
   {
    "duration": 15,
    "start_time": "2022-08-10T14:09:58.322Z"
   },
   {
    "duration": 12,
    "start_time": "2022-08-10T14:24:49.147Z"
   },
   {
    "duration": 14,
    "start_time": "2022-08-10T14:25:16.230Z"
   },
   {
    "duration": 6523,
    "start_time": "2022-08-10T14:25:37.049Z"
   },
   {
    "duration": 6617,
    "start_time": "2022-08-10T14:26:08.405Z"
   },
   {
    "duration": 13,
    "start_time": "2022-08-10T14:36:43.735Z"
   },
   {
    "duration": 7,
    "start_time": "2022-08-10T14:55:13.480Z"
   },
   {
    "duration": 77,
    "start_time": "2022-08-10T14:55:32.429Z"
   },
   {
    "duration": 43,
    "start_time": "2022-08-10T14:55:32.509Z"
   },
   {
    "duration": 15,
    "start_time": "2022-08-10T14:55:32.553Z"
   },
   {
    "duration": 1864,
    "start_time": "2022-08-10T14:55:32.570Z"
   },
   {
    "duration": 8,
    "start_time": "2022-08-10T14:55:34.436Z"
   },
   {
    "duration": 14,
    "start_time": "2022-08-10T14:55:34.446Z"
   },
   {
    "duration": 18,
    "start_time": "2022-08-10T14:55:34.461Z"
   },
   {
    "duration": 33,
    "start_time": "2022-08-10T14:55:34.480Z"
   },
   {
    "duration": 16,
    "start_time": "2022-08-10T14:55:34.514Z"
   },
   {
    "duration": 6,
    "start_time": "2022-08-10T14:55:34.533Z"
   },
   {
    "duration": 33,
    "start_time": "2022-08-10T14:55:34.540Z"
   },
   {
    "duration": 6,
    "start_time": "2022-08-10T14:55:34.574Z"
   },
   {
    "duration": 37,
    "start_time": "2022-08-10T14:55:34.582Z"
   },
   {
    "duration": 6,
    "start_time": "2022-08-10T14:55:34.627Z"
   },
   {
    "duration": 6,
    "start_time": "2022-08-10T14:55:34.634Z"
   },
   {
    "duration": 594,
    "start_time": "2022-08-10T14:55:34.642Z"
   },
   {
    "duration": 6,
    "start_time": "2022-08-10T14:55:35.238Z"
   },
   {
    "duration": 10,
    "start_time": "2022-08-10T14:55:35.246Z"
   },
   {
    "duration": 114,
    "start_time": "2022-08-10T14:55:35.258Z"
   },
   {
    "duration": 6,
    "start_time": "2022-08-10T14:55:35.374Z"
   },
   {
    "duration": 6,
    "start_time": "2022-08-10T14:55:35.381Z"
   },
   {
    "duration": 22,
    "start_time": "2022-08-10T14:55:35.388Z"
   },
   {
    "duration": 33,
    "start_time": "2022-08-10T14:55:35.411Z"
   },
   {
    "duration": 8,
    "start_time": "2022-08-10T14:55:35.445Z"
   },
   {
    "duration": 14,
    "start_time": "2022-08-10T14:55:35.454Z"
   },
   {
    "duration": 6,
    "start_time": "2022-08-10T14:55:35.469Z"
   },
   {
    "duration": 396,
    "start_time": "2022-08-10T14:55:35.476Z"
   },
   {
    "duration": 4,
    "start_time": "2022-08-10T14:55:35.876Z"
   },
   {
    "duration": 402,
    "start_time": "2022-08-10T14:55:35.882Z"
   },
   {
    "duration": 13,
    "start_time": "2022-08-10T14:55:36.285Z"
   },
   {
    "duration": 42,
    "start_time": "2022-08-10T14:55:36.310Z"
   },
   {
    "duration": 244,
    "start_time": "2022-08-10T14:55:36.354Z"
   },
   {
    "duration": 13,
    "start_time": "2022-08-10T14:55:36.615Z"
   },
   {
    "duration": 11,
    "start_time": "2022-08-10T14:55:36.630Z"
   },
   {
    "duration": 217,
    "start_time": "2022-08-10T14:55:36.642Z"
   },
   {
    "duration": 9,
    "start_time": "2022-08-10T14:55:36.860Z"
   },
   {
    "duration": 40,
    "start_time": "2022-08-10T14:55:36.871Z"
   },
   {
    "duration": 14,
    "start_time": "2022-08-10T14:55:36.913Z"
   },
   {
    "duration": 10,
    "start_time": "2022-08-10T14:55:36.928Z"
   },
   {
    "duration": 9,
    "start_time": "2022-08-10T14:55:36.940Z"
   },
   {
    "duration": 10,
    "start_time": "2022-08-10T14:55:36.950Z"
   },
   {
    "duration": 189,
    "start_time": "2022-08-10T14:55:36.961Z"
   },
   {
    "duration": 9,
    "start_time": "2022-08-10T14:55:37.152Z"
   },
   {
    "duration": 4,
    "start_time": "2022-08-10T14:55:37.163Z"
   },
   {
    "duration": 210,
    "start_time": "2022-08-10T14:55:37.169Z"
   },
   {
    "duration": 9,
    "start_time": "2022-08-10T14:55:37.381Z"
   },
   {
    "duration": 31,
    "start_time": "2022-08-10T14:55:37.391Z"
   },
   {
    "duration": 245,
    "start_time": "2022-08-10T14:55:37.424Z"
   },
   {
    "duration": 10,
    "start_time": "2022-08-10T14:55:37.671Z"
   },
   {
    "duration": 8,
    "start_time": "2022-08-10T14:55:37.683Z"
   },
   {
    "duration": 24,
    "start_time": "2022-08-10T14:55:37.692Z"
   },
   {
    "duration": 24,
    "start_time": "2022-08-10T14:55:37.718Z"
   },
   {
    "duration": 198,
    "start_time": "2022-08-10T14:55:37.744Z"
   },
   {
    "duration": 10,
    "start_time": "2022-08-10T14:55:37.944Z"
   },
   {
    "duration": 117,
    "start_time": "2022-08-10T14:55:37.956Z"
   },
   {
    "duration": 11,
    "start_time": "2022-08-10T14:55:38.074Z"
   },
   {
    "duration": 177,
    "start_time": "2022-08-10T14:55:38.086Z"
   },
   {
    "duration": 181,
    "start_time": "2022-08-10T14:55:38.265Z"
   },
   {
    "duration": 8,
    "start_time": "2022-08-10T14:55:38.448Z"
   },
   {
    "duration": 3,
    "start_time": "2022-08-10T14:55:38.457Z"
   },
   {
    "duration": 192,
    "start_time": "2022-08-10T14:55:38.462Z"
   },
   {
    "duration": 9,
    "start_time": "2022-08-10T14:55:38.656Z"
   },
   {
    "duration": 3,
    "start_time": "2022-08-10T14:55:38.667Z"
   },
   {
    "duration": 139,
    "start_time": "2022-08-10T14:55:38.671Z"
   },
   {
    "duration": 15,
    "start_time": "2022-08-10T14:55:38.815Z"
   },
   {
    "duration": 14,
    "start_time": "2022-08-10T14:55:38.832Z"
   },
   {
    "duration": 30,
    "start_time": "2022-08-10T14:55:38.847Z"
   },
   {
    "duration": 32,
    "start_time": "2022-08-10T14:55:38.879Z"
   },
   {
    "duration": 13,
    "start_time": "2022-08-10T14:55:38.912Z"
   },
   {
    "duration": 8,
    "start_time": "2022-08-10T14:55:38.928Z"
   },
   {
    "duration": 188,
    "start_time": "2022-08-10T14:55:38.938Z"
   },
   {
    "duration": 204,
    "start_time": "2022-08-10T14:55:39.129Z"
   },
   {
    "duration": 13,
    "start_time": "2022-08-10T14:55:39.335Z"
   },
   {
    "duration": 13,
    "start_time": "2022-08-10T14:55:39.350Z"
   },
   {
    "duration": 13,
    "start_time": "2022-08-10T14:55:39.364Z"
   },
   {
    "duration": 6949,
    "start_time": "2022-08-10T14:55:39.378Z"
   },
   {
    "duration": 9,
    "start_time": "2022-08-10T14:55:46.333Z"
   },
   {
    "duration": 11,
    "start_time": "2022-08-10T14:55:46.344Z"
   },
   {
    "duration": 18,
    "start_time": "2022-08-10T14:55:46.357Z"
   },
   {
    "duration": 29,
    "start_time": "2022-08-10T14:55:46.377Z"
   },
   {
    "duration": 14,
    "start_time": "2022-08-10T14:55:46.419Z"
   },
   {
    "duration": 316,
    "start_time": "2022-08-10T14:55:46.438Z"
   },
   {
    "duration": 4,
    "start_time": "2022-08-10T14:55:46.756Z"
   },
   {
    "duration": 29,
    "start_time": "2022-08-10T14:55:52.507Z"
   },
   {
    "duration": 23,
    "start_time": "2022-08-10T14:56:44.637Z"
   },
   {
    "duration": 14,
    "start_time": "2022-08-10T15:00:07.947Z"
   },
   {
    "duration": 18,
    "start_time": "2022-08-10T15:00:20.484Z"
   },
   {
    "duration": 30,
    "start_time": "2022-08-10T15:01:50.886Z"
   },
   {
    "duration": 19,
    "start_time": "2022-08-10T15:01:56.841Z"
   },
   {
    "duration": 15,
    "start_time": "2022-08-10T15:02:21.354Z"
   },
   {
    "duration": 20,
    "start_time": "2022-08-10T15:02:30.595Z"
   },
   {
    "duration": 8,
    "start_time": "2022-08-10T15:11:52.629Z"
   },
   {
    "duration": 5,
    "start_time": "2022-08-10T15:11:53.883Z"
   },
   {
    "duration": 14,
    "start_time": "2022-08-10T15:11:55.180Z"
   },
   {
    "duration": 9,
    "start_time": "2022-08-10T15:12:51.275Z"
   },
   {
    "duration": 13,
    "start_time": "2022-08-10T15:12:52.539Z"
   },
   {
    "duration": 10,
    "start_time": "2022-08-10T15:13:17.902Z"
   },
   {
    "duration": 15,
    "start_time": "2022-08-10T15:13:19.022Z"
   },
   {
    "duration": 8,
    "start_time": "2022-08-10T15:14:53.588Z"
   },
   {
    "duration": 15,
    "start_time": "2022-08-10T15:14:55.481Z"
   },
   {
    "duration": 22,
    "start_time": "2022-08-10T15:18:31.717Z"
   },
   {
    "duration": 13,
    "start_time": "2022-08-10T15:19:27.940Z"
   },
   {
    "duration": 12,
    "start_time": "2022-08-10T15:20:43.213Z"
   },
   {
    "duration": 24,
    "start_time": "2022-08-10T15:20:50.245Z"
   },
   {
    "duration": 13,
    "start_time": "2022-08-10T15:20:55.519Z"
   },
   {
    "duration": 12,
    "start_time": "2022-08-10T15:20:58.526Z"
   },
   {
    "duration": 12,
    "start_time": "2022-08-10T15:21:04.767Z"
   },
   {
    "duration": 12,
    "start_time": "2022-08-10T15:21:54.245Z"
   },
   {
    "duration": 12,
    "start_time": "2022-08-10T15:22:06.920Z"
   },
   {
    "duration": 13,
    "start_time": "2022-08-10T15:22:12.294Z"
   },
   {
    "duration": 44,
    "start_time": "2022-08-10T15:22:58.581Z"
   },
   {
    "duration": 13,
    "start_time": "2022-08-10T15:23:34.930Z"
   },
   {
    "duration": 7,
    "start_time": "2022-08-10T15:23:41.865Z"
   },
   {
    "duration": 13,
    "start_time": "2022-08-10T15:24:04.100Z"
   },
   {
    "duration": 9,
    "start_time": "2022-08-10T15:24:10.420Z"
   },
   {
    "duration": 80,
    "start_time": "2022-08-10T15:26:44.466Z"
   },
   {
    "duration": 4,
    "start_time": "2022-08-10T15:26:50.968Z"
   },
   {
    "duration": 5,
    "start_time": "2022-08-10T15:27:07.924Z"
   },
   {
    "duration": 9,
    "start_time": "2022-08-10T15:29:39.725Z"
   },
   {
    "duration": 12,
    "start_time": "2022-08-10T15:29:58.526Z"
   },
   {
    "duration": 4,
    "start_time": "2022-08-10T15:30:25.858Z"
   },
   {
    "duration": 3,
    "start_time": "2022-08-10T15:30:29.865Z"
   },
   {
    "duration": 23,
    "start_time": "2022-08-10T15:31:03.125Z"
   },
   {
    "duration": 8,
    "start_time": "2022-08-10T15:31:55.497Z"
   },
   {
    "duration": 31,
    "start_time": "2022-08-10T15:32:52.219Z"
   },
   {
    "duration": 35,
    "start_time": "2022-08-10T15:33:39.089Z"
   },
   {
    "duration": 3,
    "start_time": "2022-08-10T15:35:02.594Z"
   },
   {
    "duration": 33,
    "start_time": "2022-08-10T15:35:03.940Z"
   },
   {
    "duration": 28,
    "start_time": "2022-08-10T15:35:30.575Z"
   },
   {
    "duration": 9,
    "start_time": "2022-08-10T15:36:01.124Z"
   },
   {
    "duration": 13,
    "start_time": "2022-08-10T15:36:22.003Z"
   },
   {
    "duration": 17,
    "start_time": "2022-08-10T15:39:46.876Z"
   },
   {
    "duration": 5,
    "start_time": "2022-08-10T15:39:49.227Z"
   },
   {
    "duration": 299,
    "start_time": "2022-08-10T15:39:56.277Z"
   },
   {
    "duration": 6,
    "start_time": "2022-08-10T15:40:22.719Z"
   },
   {
    "duration": 11,
    "start_time": "2022-08-10T15:40:56.372Z"
   },
   {
    "duration": 16,
    "start_time": "2022-08-10T15:40:57.929Z"
   },
   {
    "duration": 14,
    "start_time": "2022-08-10T15:41:13.149Z"
   },
   {
    "duration": 13,
    "start_time": "2022-08-10T15:41:15.093Z"
   },
   {
    "duration": 6,
    "start_time": "2022-08-10T15:42:23.278Z"
   },
   {
    "duration": 16,
    "start_time": "2022-08-10T15:42:34.113Z"
   },
   {
    "duration": 5,
    "start_time": "2022-08-10T15:45:10.994Z"
   },
   {
    "duration": 746,
    "start_time": "2022-08-11T09:47:38.909Z"
   },
   {
    "duration": 40,
    "start_time": "2022-08-11T09:47:39.657Z"
   },
   {
    "duration": 17,
    "start_time": "2022-08-11T09:47:39.698Z"
   },
   {
    "duration": 2245,
    "start_time": "2022-08-11T09:47:39.717Z"
   },
   {
    "duration": 10,
    "start_time": "2022-08-11T09:47:41.963Z"
   },
   {
    "duration": 54,
    "start_time": "2022-08-11T09:47:41.974Z"
   },
   {
    "duration": 24,
    "start_time": "2022-08-11T09:47:42.029Z"
   },
   {
    "duration": 13,
    "start_time": "2022-08-11T09:47:42.055Z"
   },
   {
    "duration": 7,
    "start_time": "2022-08-11T09:47:42.070Z"
   },
   {
    "duration": 4,
    "start_time": "2022-08-11T09:47:42.099Z"
   },
   {
    "duration": 36,
    "start_time": "2022-08-11T09:47:42.105Z"
   },
   {
    "duration": 6,
    "start_time": "2022-08-11T09:47:42.143Z"
   },
   {
    "duration": 15,
    "start_time": "2022-08-11T09:47:42.151Z"
   },
   {
    "duration": 31,
    "start_time": "2022-08-11T09:47:42.168Z"
   },
   {
    "duration": 5,
    "start_time": "2022-08-11T09:47:42.201Z"
   },
   {
    "duration": 110,
    "start_time": "2022-08-11T09:47:42.208Z"
   },
   {
    "duration": 8,
    "start_time": "2022-08-11T09:47:42.320Z"
   },
   {
    "duration": 13,
    "start_time": "2022-08-11T09:47:42.330Z"
   },
   {
    "duration": 119,
    "start_time": "2022-08-11T09:47:42.345Z"
   },
   {
    "duration": 7,
    "start_time": "2022-08-11T09:47:42.465Z"
   },
   {
    "duration": 8,
    "start_time": "2022-08-11T09:47:42.474Z"
   },
   {
    "duration": 20,
    "start_time": "2022-08-11T09:47:42.484Z"
   },
   {
    "duration": 16,
    "start_time": "2022-08-11T09:47:42.506Z"
   },
   {
    "duration": 3,
    "start_time": "2022-08-11T09:47:42.524Z"
   },
   {
    "duration": 12,
    "start_time": "2022-08-11T09:47:42.529Z"
   },
   {
    "duration": 7,
    "start_time": "2022-08-11T09:47:42.542Z"
   },
   {
    "duration": 476,
    "start_time": "2022-08-11T09:47:42.550Z"
   },
   {
    "duration": 3,
    "start_time": "2022-08-11T09:47:43.031Z"
   },
   {
    "duration": 310,
    "start_time": "2022-08-11T09:47:43.036Z"
   },
   {
    "duration": 12,
    "start_time": "2022-08-11T09:47:43.348Z"
   },
   {
    "duration": 10,
    "start_time": "2022-08-11T09:47:43.362Z"
   },
   {
    "duration": 245,
    "start_time": "2022-08-11T09:47:43.374Z"
   },
   {
    "duration": 13,
    "start_time": "2022-08-11T09:47:43.621Z"
   },
   {
    "duration": 9,
    "start_time": "2022-08-11T09:47:43.637Z"
   },
   {
    "duration": 211,
    "start_time": "2022-08-11T09:47:43.648Z"
   },
   {
    "duration": 10,
    "start_time": "2022-08-11T09:47:43.861Z"
   },
   {
    "duration": 39,
    "start_time": "2022-08-11T09:47:43.872Z"
   },
   {
    "duration": 9,
    "start_time": "2022-08-11T09:47:43.913Z"
   },
   {
    "duration": 7,
    "start_time": "2022-08-11T09:47:43.923Z"
   },
   {
    "duration": 6,
    "start_time": "2022-08-11T09:47:43.932Z"
   },
   {
    "duration": 16,
    "start_time": "2022-08-11T09:47:43.939Z"
   },
   {
    "duration": 193,
    "start_time": "2022-08-11T09:47:43.958Z"
   },
   {
    "duration": 10,
    "start_time": "2022-08-11T09:47:44.153Z"
   },
   {
    "duration": 4,
    "start_time": "2022-08-11T09:47:44.165Z"
   },
   {
    "duration": 188,
    "start_time": "2022-08-11T09:47:44.171Z"
   },
   {
    "duration": 10,
    "start_time": "2022-08-11T09:47:44.361Z"
   },
   {
    "duration": 14,
    "start_time": "2022-08-11T09:47:44.373Z"
   },
   {
    "duration": 308,
    "start_time": "2022-08-11T09:47:44.399Z"
   },
   {
    "duration": 11,
    "start_time": "2022-08-11T09:47:44.709Z"
   },
   {
    "duration": 9,
    "start_time": "2022-08-11T09:47:44.721Z"
   },
   {
    "duration": 9,
    "start_time": "2022-08-11T09:47:44.732Z"
   },
   {
    "duration": 6,
    "start_time": "2022-08-11T09:47:44.743Z"
   },
   {
    "duration": 216,
    "start_time": "2022-08-11T09:47:44.751Z"
   },
   {
    "duration": 11,
    "start_time": "2022-08-11T09:47:44.969Z"
   },
   {
    "duration": 119,
    "start_time": "2022-08-11T09:47:44.982Z"
   },
   {
    "duration": 11,
    "start_time": "2022-08-11T09:47:45.103Z"
   },
   {
    "duration": 173,
    "start_time": "2022-08-11T09:47:45.116Z"
   },
   {
    "duration": 156,
    "start_time": "2022-08-11T09:47:45.291Z"
   },
   {
    "duration": 8,
    "start_time": "2022-08-11T09:47:45.449Z"
   },
   {
    "duration": 4,
    "start_time": "2022-08-11T09:47:45.458Z"
   },
   {
    "duration": 183,
    "start_time": "2022-08-11T09:47:45.463Z"
   },
   {
    "duration": 10,
    "start_time": "2022-08-11T09:47:45.647Z"
   },
   {
    "duration": 3,
    "start_time": "2022-08-11T09:47:45.659Z"
   },
   {
    "duration": 141,
    "start_time": "2022-08-11T09:47:45.664Z"
   },
   {
    "duration": 10,
    "start_time": "2022-08-11T09:47:45.807Z"
   },
   {
    "duration": 10,
    "start_time": "2022-08-11T09:47:45.819Z"
   },
   {
    "duration": 42,
    "start_time": "2022-08-11T09:47:45.830Z"
   },
   {
    "duration": 24,
    "start_time": "2022-08-11T09:47:45.898Z"
   },
   {
    "duration": 10,
    "start_time": "2022-08-11T09:47:45.924Z"
   },
   {
    "duration": 6,
    "start_time": "2022-08-11T09:47:45.935Z"
   },
   {
    "duration": 181,
    "start_time": "2022-08-11T09:47:45.943Z"
   },
   {
    "duration": 185,
    "start_time": "2022-08-11T09:47:46.126Z"
   },
   {
    "duration": 14,
    "start_time": "2022-08-11T09:47:46.313Z"
   },
   {
    "duration": 24,
    "start_time": "2022-08-11T09:47:46.329Z"
   },
   {
    "duration": 16,
    "start_time": "2022-08-11T09:47:46.355Z"
   },
   {
    "duration": 6730,
    "start_time": "2022-08-11T09:47:46.373Z"
   },
   {
    "duration": 8,
    "start_time": "2022-08-11T09:47:53.105Z"
   },
   {
    "duration": 9,
    "start_time": "2022-08-11T09:47:53.114Z"
   },
   {
    "duration": 16,
    "start_time": "2022-08-11T09:47:53.124Z"
   },
   {
    "duration": 14,
    "start_time": "2022-08-11T09:47:53.142Z"
   },
   {
    "duration": 4,
    "start_time": "2022-08-11T09:47:53.158Z"
   },
   {
    "duration": 271,
    "start_time": "2022-08-11T09:47:53.200Z"
   },
   {
    "duration": 5,
    "start_time": "2022-08-11T09:47:53.473Z"
   },
   {
    "duration": 8,
    "start_time": "2022-08-11T09:49:09.228Z"
   },
   {
    "duration": 16,
    "start_time": "2022-08-11T09:49:11.803Z"
   },
   {
    "duration": 28,
    "start_time": "2022-08-11T09:50:27.470Z"
   },
   {
    "duration": 9,
    "start_time": "2022-08-11T09:53:03.223Z"
   },
   {
    "duration": 29,
    "start_time": "2022-08-11T09:53:04.783Z"
   },
   {
    "duration": 9,
    "start_time": "2022-08-11T10:07:24.139Z"
   },
   {
    "duration": 26,
    "start_time": "2022-08-11T10:07:25.666Z"
   },
   {
    "duration": 27,
    "start_time": "2022-08-11T10:14:02.356Z"
   },
   {
    "duration": 27,
    "start_time": "2022-08-11T10:14:17.605Z"
   },
   {
    "duration": 15,
    "start_time": "2022-08-11T10:21:51.361Z"
   },
   {
    "duration": 18,
    "start_time": "2022-08-11T10:21:54.733Z"
   },
   {
    "duration": 7,
    "start_time": "2022-08-11T12:49:28.815Z"
   },
   {
    "duration": 9,
    "start_time": "2022-08-11T12:49:59.887Z"
   },
   {
    "duration": 85,
    "start_time": "2022-08-11T12:51:05.258Z"
   },
   {
    "duration": 61,
    "start_time": "2022-08-11T12:51:10.050Z"
   },
   {
    "duration": 7,
    "start_time": "2022-08-11T12:51:37.949Z"
   },
   {
    "duration": 7,
    "start_time": "2022-08-11T12:52:05.025Z"
   },
   {
    "duration": 14,
    "start_time": "2022-08-11T12:53:49.094Z"
   },
   {
    "duration": 9,
    "start_time": "2022-08-11T12:57:30.438Z"
   },
   {
    "duration": 79,
    "start_time": "2022-08-11T13:01:53.020Z"
   },
   {
    "duration": 42,
    "start_time": "2022-08-11T13:02:05.660Z"
   },
   {
    "duration": 9,
    "start_time": "2022-08-11T13:04:19.782Z"
   },
   {
    "duration": 15,
    "start_time": "2022-08-11T13:06:33.610Z"
   },
   {
    "duration": 8,
    "start_time": "2022-08-11T13:06:56.579Z"
   },
   {
    "duration": 10,
    "start_time": "2022-08-11T13:12:14.660Z"
   },
   {
    "duration": 11,
    "start_time": "2022-08-11T13:56:26.963Z"
   },
   {
    "duration": 10,
    "start_time": "2022-08-11T13:56:39.543Z"
   },
   {
    "duration": 93,
    "start_time": "2022-08-11T14:03:21.534Z"
   },
   {
    "duration": 26,
    "start_time": "2022-08-11T14:03:21.629Z"
   },
   {
    "duration": 47,
    "start_time": "2022-08-11T14:03:21.657Z"
   },
   {
    "duration": 1842,
    "start_time": "2022-08-11T14:03:21.706Z"
   },
   {
    "duration": 8,
    "start_time": "2022-08-11T14:03:23.550Z"
   },
   {
    "duration": 24,
    "start_time": "2022-08-11T14:03:23.560Z"
   },
   {
    "duration": 31,
    "start_time": "2022-08-11T14:03:23.586Z"
   },
   {
    "duration": 7,
    "start_time": "2022-08-11T14:03:23.619Z"
   },
   {
    "duration": 7,
    "start_time": "2022-08-11T14:03:23.627Z"
   },
   {
    "duration": 33,
    "start_time": "2022-08-11T14:03:23.637Z"
   },
   {
    "duration": 5,
    "start_time": "2022-08-11T14:03:23.672Z"
   },
   {
    "duration": 38,
    "start_time": "2022-08-11T14:03:23.678Z"
   },
   {
    "duration": 6,
    "start_time": "2022-08-11T14:03:23.718Z"
   },
   {
    "duration": 14,
    "start_time": "2022-08-11T14:03:23.725Z"
   },
   {
    "duration": 106,
    "start_time": "2022-08-11T14:03:23.740Z"
   },
   {
    "duration": 5,
    "start_time": "2022-08-11T14:03:23.848Z"
   },
   {
    "duration": 9,
    "start_time": "2022-08-11T14:03:23.855Z"
   },
   {
    "duration": 115,
    "start_time": "2022-08-11T14:03:23.865Z"
   },
   {
    "duration": 7,
    "start_time": "2022-08-11T14:03:23.981Z"
   },
   {
    "duration": 6,
    "start_time": "2022-08-11T14:03:23.998Z"
   },
   {
    "duration": 11,
    "start_time": "2022-08-11T14:03:24.005Z"
   },
   {
    "duration": 15,
    "start_time": "2022-08-11T14:03:24.017Z"
   },
   {
    "duration": 4,
    "start_time": "2022-08-11T14:03:24.033Z"
   },
   {
    "duration": 17,
    "start_time": "2022-08-11T14:03:24.038Z"
   },
   {
    "duration": 5,
    "start_time": "2022-08-11T14:03:24.057Z"
   },
   {
    "duration": 688,
    "start_time": "2022-08-11T14:03:24.064Z"
   },
   {
    "duration": 4,
    "start_time": "2022-08-11T14:03:24.753Z"
   },
   {
    "duration": 338,
    "start_time": "2022-08-11T14:03:24.761Z"
   },
   {
    "duration": 14,
    "start_time": "2022-08-11T14:03:25.101Z"
   },
   {
    "duration": 11,
    "start_time": "2022-08-11T14:03:25.117Z"
   },
   {
    "duration": 250,
    "start_time": "2022-08-11T14:03:25.130Z"
   },
   {
    "duration": 11,
    "start_time": "2022-08-11T14:03:25.381Z"
   },
   {
    "duration": 20,
    "start_time": "2022-08-11T14:03:25.393Z"
   },
   {
    "duration": 193,
    "start_time": "2022-08-11T14:03:25.416Z"
   },
   {
    "duration": 11,
    "start_time": "2022-08-11T14:03:25.611Z"
   },
   {
    "duration": 29,
    "start_time": "2022-08-11T14:03:25.623Z"
   },
   {
    "duration": 10,
    "start_time": "2022-08-11T14:03:25.654Z"
   },
   {
    "duration": 9,
    "start_time": "2022-08-11T14:03:25.665Z"
   },
   {
    "duration": 39,
    "start_time": "2022-08-11T14:03:25.675Z"
   },
   {
    "duration": 28,
    "start_time": "2022-08-11T14:03:25.715Z"
   },
   {
    "duration": 175,
    "start_time": "2022-08-11T14:03:25.744Z"
   },
   {
    "duration": 10,
    "start_time": "2022-08-11T14:03:25.921Z"
   },
   {
    "duration": 5,
    "start_time": "2022-08-11T14:03:25.933Z"
   },
   {
    "duration": 207,
    "start_time": "2022-08-11T14:03:25.939Z"
   },
   {
    "duration": 8,
    "start_time": "2022-08-11T14:03:26.148Z"
   },
   {
    "duration": 9,
    "start_time": "2022-08-11T14:03:26.157Z"
   },
   {
    "duration": 222,
    "start_time": "2022-08-11T14:03:26.167Z"
   },
   {
    "duration": 23,
    "start_time": "2022-08-11T14:03:26.391Z"
   },
   {
    "duration": 9,
    "start_time": "2022-08-11T14:03:26.415Z"
   },
   {
    "duration": 13,
    "start_time": "2022-08-11T14:03:26.426Z"
   },
   {
    "duration": 18,
    "start_time": "2022-08-11T14:03:26.441Z"
   },
   {
    "duration": 185,
    "start_time": "2022-08-11T14:03:26.461Z"
   },
   {
    "duration": 12,
    "start_time": "2022-08-11T14:03:26.648Z"
   },
   {
    "duration": 129,
    "start_time": "2022-08-11T14:03:26.661Z"
   },
   {
    "duration": 29,
    "start_time": "2022-08-11T14:03:26.792Z"
   },
   {
    "duration": 158,
    "start_time": "2022-08-11T14:03:26.823Z"
   },
   {
    "duration": 163,
    "start_time": "2022-08-11T14:03:26.983Z"
   },
   {
    "duration": 9,
    "start_time": "2022-08-11T14:03:27.149Z"
   },
   {
    "duration": 5,
    "start_time": "2022-08-11T14:03:27.159Z"
   },
   {
    "duration": 187,
    "start_time": "2022-08-11T14:03:27.165Z"
   },
   {
    "duration": 13,
    "start_time": "2022-08-11T14:03:27.353Z"
   },
   {
    "duration": 9,
    "start_time": "2022-08-11T14:03:27.368Z"
   },
   {
    "duration": 139,
    "start_time": "2022-08-11T14:03:27.378Z"
   },
   {
    "duration": 9,
    "start_time": "2022-08-11T14:03:27.519Z"
   },
   {
    "duration": 11,
    "start_time": "2022-08-11T14:03:27.529Z"
   },
   {
    "duration": 32,
    "start_time": "2022-08-11T14:03:27.542Z"
   },
   {
    "duration": 48,
    "start_time": "2022-08-11T14:03:27.576Z"
   },
   {
    "duration": 8,
    "start_time": "2022-08-11T14:03:27.625Z"
   },
   {
    "duration": 5,
    "start_time": "2022-08-11T14:03:27.634Z"
   },
   {
    "duration": 172,
    "start_time": "2022-08-11T14:03:27.640Z"
   },
   {
    "duration": 391,
    "start_time": "2022-08-11T14:03:27.814Z"
   },
   {
    "duration": 15,
    "start_time": "2022-08-11T14:03:28.210Z"
   },
   {
    "duration": 17,
    "start_time": "2022-08-11T14:03:28.227Z"
   },
   {
    "duration": 14,
    "start_time": "2022-08-11T14:03:28.245Z"
   },
   {
    "duration": 7113,
    "start_time": "2022-08-11T14:03:28.261Z"
   },
   {
    "duration": 8,
    "start_time": "2022-08-11T14:03:35.375Z"
   },
   {
    "duration": 10,
    "start_time": "2022-08-11T14:03:35.398Z"
   },
   {
    "duration": 42,
    "start_time": "2022-08-11T14:03:35.410Z"
   },
   {
    "duration": 17,
    "start_time": "2022-08-11T14:03:35.454Z"
   },
   {
    "duration": 3,
    "start_time": "2022-08-11T14:03:35.473Z"
   },
   {
    "duration": 304,
    "start_time": "2022-08-11T14:03:35.477Z"
   },
   {
    "duration": 5,
    "start_time": "2022-08-11T14:03:35.786Z"
   },
   {
    "duration": 13,
    "start_time": "2022-08-11T14:03:35.802Z"
   },
   {
    "duration": 8,
    "start_time": "2022-08-11T14:17:47.464Z"
   },
   {
    "duration": 8,
    "start_time": "2022-08-11T14:18:39.011Z"
   },
   {
    "duration": 8,
    "start_time": "2022-08-11T14:26:47.061Z"
   },
   {
    "duration": 9,
    "start_time": "2022-08-11T14:27:36.327Z"
   },
   {
    "duration": 9,
    "start_time": "2022-08-11T14:28:58.036Z"
   },
   {
    "duration": 5,
    "start_time": "2022-08-11T14:40:20.942Z"
   },
   {
    "duration": 6,
    "start_time": "2022-08-11T14:40:40.976Z"
   },
   {
    "duration": 4,
    "start_time": "2022-08-11T14:41:36.818Z"
   },
   {
    "duration": 9,
    "start_time": "2022-08-11T14:50:02.575Z"
   },
   {
    "duration": 92,
    "start_time": "2022-08-11T14:52:24.752Z"
   },
   {
    "duration": 29,
    "start_time": "2022-08-11T14:52:24.846Z"
   },
   {
    "duration": 35,
    "start_time": "2022-08-11T14:52:24.876Z"
   },
   {
    "duration": 1752,
    "start_time": "2022-08-11T14:52:24.913Z"
   },
   {
    "duration": 9,
    "start_time": "2022-08-11T14:52:26.667Z"
   },
   {
    "duration": 35,
    "start_time": "2022-08-11T14:52:26.677Z"
   },
   {
    "duration": 11,
    "start_time": "2022-08-11T14:52:26.714Z"
   },
   {
    "duration": 7,
    "start_time": "2022-08-11T14:52:26.727Z"
   },
   {
    "duration": 10,
    "start_time": "2022-08-11T14:52:26.735Z"
   },
   {
    "duration": 34,
    "start_time": "2022-08-11T14:52:26.748Z"
   },
   {
    "duration": 16,
    "start_time": "2022-08-11T14:52:26.783Z"
   },
   {
    "duration": 14,
    "start_time": "2022-08-11T14:52:26.801Z"
   },
   {
    "duration": 11,
    "start_time": "2022-08-11T14:52:26.816Z"
   },
   {
    "duration": 4,
    "start_time": "2022-08-11T14:52:26.828Z"
   },
   {
    "duration": 115,
    "start_time": "2022-08-11T14:52:26.834Z"
   },
   {
    "duration": 6,
    "start_time": "2022-08-11T14:52:26.951Z"
   },
   {
    "duration": 10,
    "start_time": "2022-08-11T14:52:26.958Z"
   },
   {
    "duration": 111,
    "start_time": "2022-08-11T14:52:26.969Z"
   },
   {
    "duration": 6,
    "start_time": "2022-08-11T14:52:27.082Z"
   },
   {
    "duration": 6,
    "start_time": "2022-08-11T14:52:27.097Z"
   },
   {
    "duration": 11,
    "start_time": "2022-08-11T14:52:27.105Z"
   },
   {
    "duration": 21,
    "start_time": "2022-08-11T14:52:27.118Z"
   },
   {
    "duration": 4,
    "start_time": "2022-08-11T14:52:27.141Z"
   },
   {
    "duration": 11,
    "start_time": "2022-08-11T14:52:27.147Z"
   },
   {
    "duration": 5,
    "start_time": "2022-08-11T14:52:27.160Z"
   },
   {
    "duration": 419,
    "start_time": "2022-08-11T14:52:27.167Z"
   },
   {
    "duration": 10,
    "start_time": "2022-08-11T14:52:27.588Z"
   },
   {
    "duration": 603,
    "start_time": "2022-08-11T14:52:27.603Z"
   },
   {
    "duration": 12,
    "start_time": "2022-08-11T14:52:28.208Z"
   },
   {
    "duration": 7,
    "start_time": "2022-08-11T14:52:28.222Z"
   },
   {
    "duration": 231,
    "start_time": "2022-08-11T14:52:28.230Z"
   },
   {
    "duration": 11,
    "start_time": "2022-08-11T14:52:28.463Z"
   },
   {
    "duration": 22,
    "start_time": "2022-08-11T14:52:28.476Z"
   },
   {
    "duration": 188,
    "start_time": "2022-08-11T14:52:28.500Z"
   },
   {
    "duration": 12,
    "start_time": "2022-08-11T14:52:28.690Z"
   },
   {
    "duration": 23,
    "start_time": "2022-08-11T14:52:28.704Z"
   },
   {
    "duration": 10,
    "start_time": "2022-08-11T14:52:28.728Z"
   },
   {
    "duration": 8,
    "start_time": "2022-08-11T14:52:28.739Z"
   },
   {
    "duration": 6,
    "start_time": "2022-08-11T14:52:28.748Z"
   },
   {
    "duration": 46,
    "start_time": "2022-08-11T14:52:28.756Z"
   },
   {
    "duration": 170,
    "start_time": "2022-08-11T14:52:28.803Z"
   },
   {
    "duration": 11,
    "start_time": "2022-08-11T14:52:28.974Z"
   },
   {
    "duration": 14,
    "start_time": "2022-08-11T14:52:28.986Z"
   },
   {
    "duration": 178,
    "start_time": "2022-08-11T14:52:29.002Z"
   },
   {
    "duration": 17,
    "start_time": "2022-08-11T14:52:29.182Z"
   },
   {
    "duration": 5,
    "start_time": "2022-08-11T14:52:29.200Z"
   },
   {
    "duration": 217,
    "start_time": "2022-08-11T14:52:29.207Z"
   },
   {
    "duration": 10,
    "start_time": "2022-08-11T14:52:29.426Z"
   },
   {
    "duration": 8,
    "start_time": "2022-08-11T14:52:29.437Z"
   },
   {
    "duration": 12,
    "start_time": "2022-08-11T14:52:29.446Z"
   },
   {
    "duration": 7,
    "start_time": "2022-08-11T14:52:29.459Z"
   },
   {
    "duration": 203,
    "start_time": "2022-08-11T14:52:29.467Z"
   },
   {
    "duration": 11,
    "start_time": "2022-08-11T14:52:29.671Z"
   },
   {
    "duration": 118,
    "start_time": "2022-08-11T14:52:29.683Z"
   },
   {
    "duration": 10,
    "start_time": "2022-08-11T14:52:29.803Z"
   },
   {
    "duration": 167,
    "start_time": "2022-08-11T14:52:29.814Z"
   },
   {
    "duration": 158,
    "start_time": "2022-08-11T14:52:29.982Z"
   },
   {
    "duration": 10,
    "start_time": "2022-08-11T14:52:30.142Z"
   },
   {
    "duration": 17,
    "start_time": "2022-08-11T14:52:30.153Z"
   },
   {
    "duration": 182,
    "start_time": "2022-08-11T14:52:30.171Z"
   },
   {
    "duration": 9,
    "start_time": "2022-08-11T14:52:30.355Z"
   },
   {
    "duration": 17,
    "start_time": "2022-08-11T14:52:30.366Z"
   },
   {
    "duration": 122,
    "start_time": "2022-08-11T14:52:30.385Z"
   },
   {
    "duration": 9,
    "start_time": "2022-08-11T14:52:30.509Z"
   },
   {
    "duration": 22,
    "start_time": "2022-08-11T14:52:30.519Z"
   },
   {
    "duration": 55,
    "start_time": "2022-08-11T14:52:30.543Z"
   },
   {
    "duration": 18,
    "start_time": "2022-08-11T14:52:30.599Z"
   },
   {
    "duration": 19,
    "start_time": "2022-08-11T14:52:30.618Z"
   },
   {
    "duration": 11,
    "start_time": "2022-08-11T14:52:30.639Z"
   },
   {
    "duration": 193,
    "start_time": "2022-08-11T14:52:30.651Z"
   },
   {
    "duration": 193,
    "start_time": "2022-08-11T14:52:30.845Z"
   },
   {
    "duration": 15,
    "start_time": "2022-08-11T14:52:31.040Z"
   },
   {
    "duration": 14,
    "start_time": "2022-08-11T14:52:31.057Z"
   },
   {
    "duration": 38,
    "start_time": "2022-08-11T14:52:31.072Z"
   },
   {
    "duration": 6657,
    "start_time": "2022-08-11T14:52:31.112Z"
   },
   {
    "duration": 7,
    "start_time": "2022-08-11T14:52:37.771Z"
   },
   {
    "duration": 18,
    "start_time": "2022-08-11T14:52:37.780Z"
   },
   {
    "duration": 15,
    "start_time": "2022-08-11T14:52:37.800Z"
   },
   {
    "duration": 12,
    "start_time": "2022-08-11T14:52:37.817Z"
   },
   {
    "duration": 4,
    "start_time": "2022-08-11T14:52:37.830Z"
   },
   {
    "duration": 297,
    "start_time": "2022-08-11T14:52:37.835Z"
   },
   {
    "duration": 5,
    "start_time": "2022-08-11T14:52:38.137Z"
   },
   {
    "duration": 27,
    "start_time": "2022-08-11T14:52:38.143Z"
   },
   {
    "duration": 12,
    "start_time": "2022-08-11T14:55:03.706Z"
   },
   {
    "duration": 23,
    "start_time": "2022-08-11T14:55:44.125Z"
   },
   {
    "duration": 24,
    "start_time": "2022-08-11T14:56:13.426Z"
   },
   {
    "duration": 748,
    "start_time": "2022-08-11T16:15:17.116Z"
   },
   {
    "duration": 34,
    "start_time": "2022-08-11T16:15:17.866Z"
   },
   {
    "duration": 21,
    "start_time": "2022-08-11T16:15:17.902Z"
   },
   {
    "duration": 2417,
    "start_time": "2022-08-11T16:15:17.925Z"
   },
   {
    "duration": 10,
    "start_time": "2022-08-11T16:15:20.345Z"
   },
   {
    "duration": 26,
    "start_time": "2022-08-11T16:15:20.356Z"
   },
   {
    "duration": 15,
    "start_time": "2022-08-11T16:15:20.384Z"
   },
   {
    "duration": 7,
    "start_time": "2022-08-11T16:15:20.401Z"
   },
   {
    "duration": 9,
    "start_time": "2022-08-11T16:15:20.410Z"
   },
   {
    "duration": 33,
    "start_time": "2022-08-11T16:15:20.420Z"
   },
   {
    "duration": 6,
    "start_time": "2022-08-11T16:15:20.454Z"
   },
   {
    "duration": 35,
    "start_time": "2022-08-11T16:15:20.462Z"
   },
   {
    "duration": 8,
    "start_time": "2022-08-11T16:15:20.499Z"
   },
   {
    "duration": 18,
    "start_time": "2022-08-11T16:15:20.510Z"
   },
   {
    "duration": 111,
    "start_time": "2022-08-11T16:15:20.530Z"
   },
   {
    "duration": 7,
    "start_time": "2022-08-11T16:15:20.643Z"
   },
   {
    "duration": 11,
    "start_time": "2022-08-11T16:15:20.652Z"
   },
   {
    "duration": 121,
    "start_time": "2022-08-11T16:15:20.665Z"
   },
   {
    "duration": 7,
    "start_time": "2022-08-11T16:15:20.788Z"
   },
   {
    "duration": 8,
    "start_time": "2022-08-11T16:15:20.797Z"
   },
   {
    "duration": 11,
    "start_time": "2022-08-11T16:15:20.806Z"
   },
   {
    "duration": 23,
    "start_time": "2022-08-11T16:15:20.819Z"
   },
   {
    "duration": 5,
    "start_time": "2022-08-11T16:15:20.845Z"
   },
   {
    "duration": 40,
    "start_time": "2022-08-11T16:15:20.851Z"
   },
   {
    "duration": 8,
    "start_time": "2022-08-11T16:15:20.893Z"
   },
   {
    "duration": 471,
    "start_time": "2022-08-11T16:15:20.903Z"
   },
   {
    "duration": 4,
    "start_time": "2022-08-11T16:15:21.376Z"
   },
   {
    "duration": 338,
    "start_time": "2022-08-11T16:15:21.381Z"
   },
   {
    "duration": 11,
    "start_time": "2022-08-11T16:15:21.721Z"
   },
   {
    "duration": 7,
    "start_time": "2022-08-11T16:15:21.734Z"
   },
   {
    "duration": 249,
    "start_time": "2022-08-11T16:15:21.743Z"
   },
   {
    "duration": 12,
    "start_time": "2022-08-11T16:15:21.994Z"
   },
   {
    "duration": 10,
    "start_time": "2022-08-11T16:15:22.007Z"
   },
   {
    "duration": 218,
    "start_time": "2022-08-11T16:15:22.018Z"
   },
   {
    "duration": 10,
    "start_time": "2022-08-11T16:15:22.238Z"
   },
   {
    "duration": 23,
    "start_time": "2022-08-11T16:15:22.249Z"
   },
   {
    "duration": 9,
    "start_time": "2022-08-11T16:15:22.287Z"
   },
   {
    "duration": 27,
    "start_time": "2022-08-11T16:15:22.298Z"
   },
   {
    "duration": 25,
    "start_time": "2022-08-11T16:15:22.327Z"
   },
   {
    "duration": 14,
    "start_time": "2022-08-11T16:15:22.353Z"
   },
   {
    "duration": 185,
    "start_time": "2022-08-11T16:15:22.371Z"
   },
   {
    "duration": 11,
    "start_time": "2022-08-11T16:15:22.557Z"
   },
   {
    "duration": 17,
    "start_time": "2022-08-11T16:15:22.569Z"
   },
   {
    "duration": 187,
    "start_time": "2022-08-11T16:15:22.588Z"
   },
   {
    "duration": 16,
    "start_time": "2022-08-11T16:15:22.777Z"
   },
   {
    "duration": 6,
    "start_time": "2022-08-11T16:15:22.794Z"
   },
   {
    "duration": 235,
    "start_time": "2022-08-11T16:15:22.802Z"
   },
   {
    "duration": 11,
    "start_time": "2022-08-11T16:15:23.040Z"
   },
   {
    "duration": 10,
    "start_time": "2022-08-11T16:15:23.053Z"
   },
   {
    "duration": 31,
    "start_time": "2022-08-11T16:15:23.064Z"
   },
   {
    "duration": 16,
    "start_time": "2022-08-11T16:15:23.096Z"
   },
   {
    "duration": 257,
    "start_time": "2022-08-11T16:15:23.114Z"
   },
   {
    "duration": 20,
    "start_time": "2022-08-11T16:15:23.373Z"
   },
   {
    "duration": 128,
    "start_time": "2022-08-11T16:15:23.395Z"
   },
   {
    "duration": 11,
    "start_time": "2022-08-11T16:15:23.526Z"
   },
   {
    "duration": 183,
    "start_time": "2022-08-11T16:15:23.538Z"
   },
   {
    "duration": 165,
    "start_time": "2022-08-11T16:15:23.723Z"
   },
   {
    "duration": 10,
    "start_time": "2022-08-11T16:15:23.890Z"
   },
   {
    "duration": 7,
    "start_time": "2022-08-11T16:15:23.901Z"
   },
   {
    "duration": 190,
    "start_time": "2022-08-11T16:15:23.909Z"
   },
   {
    "duration": 11,
    "start_time": "2022-08-11T16:15:24.101Z"
   },
   {
    "duration": 4,
    "start_time": "2022-08-11T16:15:24.113Z"
   },
   {
    "duration": 134,
    "start_time": "2022-08-11T16:15:24.118Z"
   },
   {
    "duration": 10,
    "start_time": "2022-08-11T16:15:24.253Z"
   },
   {
    "duration": 23,
    "start_time": "2022-08-11T16:15:24.264Z"
   },
   {
    "duration": 66,
    "start_time": "2022-08-11T16:15:24.289Z"
   },
   {
    "duration": 31,
    "start_time": "2022-08-11T16:15:24.357Z"
   },
   {
    "duration": 8,
    "start_time": "2022-08-11T16:15:24.390Z"
   },
   {
    "duration": 6,
    "start_time": "2022-08-11T16:15:24.399Z"
   },
   {
    "duration": 172,
    "start_time": "2022-08-11T16:15:24.407Z"
   },
   {
    "duration": 192,
    "start_time": "2022-08-11T16:15:24.581Z"
   },
   {
    "duration": 22,
    "start_time": "2022-08-11T16:15:24.775Z"
   },
   {
    "duration": 16,
    "start_time": "2022-08-11T16:15:24.799Z"
   },
   {
    "duration": 16,
    "start_time": "2022-08-11T16:15:24.817Z"
   },
   {
    "duration": 6240,
    "start_time": "2022-08-11T16:15:24.834Z"
   },
   {
    "duration": 13,
    "start_time": "2022-08-11T16:15:31.076Z"
   },
   {
    "duration": 31,
    "start_time": "2022-08-11T16:15:31.091Z"
   },
   {
    "duration": 43,
    "start_time": "2022-08-11T16:15:31.124Z"
   },
   {
    "duration": 39,
    "start_time": "2022-08-11T16:15:31.169Z"
   },
   {
    "duration": 4,
    "start_time": "2022-08-11T16:15:31.210Z"
   },
   {
    "duration": 306,
    "start_time": "2022-08-11T16:15:31.216Z"
   },
   {
    "duration": 6,
    "start_time": "2022-08-11T16:15:31.523Z"
   },
   {
    "duration": 46,
    "start_time": "2022-08-11T16:15:31.530Z"
   },
   {
    "duration": 8,
    "start_time": "2022-08-11T16:15:31.577Z"
   }
  ],
  "kernelspec": {
   "display_name": "Python 3",
   "language": "python",
   "name": "python3"
  },
  "language_info": {
   "codemirror_mode": {
    "name": "ipython",
    "version": 3
   },
   "file_extension": ".py",
   "mimetype": "text/x-python",
   "name": "python",
   "nbconvert_exporter": "python",
   "pygments_lexer": "ipython3",
   "version": "3.8.5"
  },
  "toc": {
   "base_numbering": 1,
   "nav_menu": {},
   "number_sections": true,
   "sideBar": true,
   "skip_h1_title": true,
   "title_cell": "Table of Contents",
   "title_sidebar": "Contents",
   "toc_cell": false,
   "toc_position": {
    "height": "calc(100% - 180px)",
    "left": "10px",
    "top": "150px",
    "width": "165px"
   },
   "toc_section_display": true,
   "toc_window_display": true
  }
 },
 "nbformat": 4,
 "nbformat_minor": 2
}
